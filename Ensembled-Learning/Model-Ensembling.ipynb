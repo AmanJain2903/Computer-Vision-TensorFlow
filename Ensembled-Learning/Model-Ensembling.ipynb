{
 "cells": [
  {
   "cell_type": "markdown",
   "metadata": {},
   "source": [
    "# ENSEMBLE OF RES-NET-34 & EFFICIENT NET MODELS"
   ]
  },
  {
   "cell_type": "code",
   "execution_count": 1,
   "metadata": {},
   "outputs": [],
   "source": [
    "import os\n",
    "import cv2\n",
    "import numpy as np \n",
    "import pandas as pd \n",
    "import matplotlib.pyplot as plt\n",
    "import seaborn as sns\n",
    "import tensorflow as tf\n",
    "from tensorflow.keras.layers import Input, Normalization, Conv2D, MaxPooling2D, Dense, Flatten, BatchNormalization, Dropout\n",
    "from tensorflow.keras.metrics import BinaryAccuracy, FalsePositives, FalseNegatives, TrueNegatives, TruePositives, Precision, Recall, F1Score, AUC\n",
    "from tensorflow.keras.regularizers import L2\n",
    "import sklearn"
   ]
  },
  {
   "cell_type": "code",
   "execution_count": 2,
   "metadata": {},
   "outputs": [
    {
     "name": "stdout",
     "output_type": "stream",
     "text": [
      "Found 6799 files belonging to 3 classes.\n",
      "Using 5440 files for training.\n",
      "Found 6799 files belonging to 3 classes.\n",
      "Using 1359 files for validation.\n"
     ]
    },
    {
     "name": "stderr",
     "output_type": "stream",
     "text": [
      "2025-01-31 11:38:59.398684: I metal_plugin/src/device/metal_device.cc:1154] Metal device set to: Apple M3 Pro\n",
      "2025-01-31 11:38:59.398719: I metal_plugin/src/device/metal_device.cc:296] systemMemory: 18.00 GB\n",
      "2025-01-31 11:38:59.398728: I metal_plugin/src/device/metal_device.cc:313] maxCacheSize: 6.00 GB\n",
      "2025-01-31 11:38:59.398745: I tensorflow/core/common_runtime/pluggable_device/pluggable_device_factory.cc:305] Could not identify NUMA node of platform GPU ID 0, defaulting to 0. Your kernel may not have been built with NUMA support.\n",
      "2025-01-31 11:38:59.398758: I tensorflow/core/common_runtime/pluggable_device/pluggable_device_factory.cc:271] Created TensorFlow device (/job:localhost/replica:0/task:0/device:GPU:0 with 0 MB memory) -> physical PluggableDevice (device: 0, name: METAL, pci bus id: <undefined>)\n"
     ]
    },
    {
     "name": "stdout",
     "output_type": "stream",
     "text": [
      "Found 2278 files belonging to 3 classes.\n"
     ]
    }
   ],
   "source": [
    "CONFIGURATION = {\n",
    "    \"CLASS_NAMES\" : ['angry', 'happy', 'sad'],\n",
    "    \"BATCH_SIZE\" : 32,\n",
    "    \"IMAGE_SIZE\" : 256,\n",
    "    \"LEARNING_RATE\" : 0.01,\n",
    "    \"N_EPOCHS\" : 60,\n",
    "    \"DROPOUT_RATE\": 0.0,\n",
    "    \"REGULARIZATION_RATE\" : 0.0,\n",
    "    \"N_FILTERS\" : 6,\n",
    "    \"KERNEL_SIZE\" : 3,\n",
    "    \"N_STRIDES\" : 1,\n",
    "    \"POOL_SIZE\" : 2,\n",
    "    \"N_DENSE_1\" : 128,\n",
    "    \"N_DENSE_2\" : 32,\n",
    "    \"NUM_CLASSES\" : 3\n",
    "}\n",
    "\n",
    "trainDirectory = \"/Users/aman/Documents/Work/Machine Learning/Computer-Vision-TensorFlow/Human-Emotions-Detection/Dataset/Emotions Dataset/Emotions Dataset/train\"\n",
    "testDirectory = \"/Users/aman/Documents/Work/Machine Learning/Computer-Vision-TensorFlow/Human-Emotions-Detection/Dataset/Emotions Dataset/Emotions Dataset/test\"\n",
    "\n",
    "trainDataset = tf.keras.utils.image_dataset_from_directory(\n",
    "    trainDirectory,\n",
    "    labels='inferred',\n",
    "    label_mode='categorical',\n",
    "    class_names=CONFIGURATION[\"CLASS_NAMES\"],\n",
    "    color_mode='rgb',\n",
    "    batch_size=CONFIGURATION[\"BATCH_SIZE\"],\n",
    "    image_size=(CONFIGURATION[\"IMAGE_SIZE\"], CONFIGURATION[\"IMAGE_SIZE\"]),\n",
    "    shuffle=True,\n",
    "    seed=99,\n",
    "    validation_split=0.2,\n",
    "    subset='training',\n",
    ")\n",
    "\n",
    "valDataset = tf.keras.utils.image_dataset_from_directory(\n",
    "    trainDirectory,\n",
    "    labels='inferred',\n",
    "    label_mode='categorical',\n",
    "    class_names=CONFIGURATION[\"CLASS_NAMES\"],\n",
    "    color_mode='rgb',\n",
    "    batch_size=CONFIGURATION[\"BATCH_SIZE\"],\n",
    "    image_size=(CONFIGURATION[\"IMAGE_SIZE\"], CONFIGURATION[\"IMAGE_SIZE\"]),\n",
    "    shuffle=True,\n",
    "    seed=99,\n",
    "    validation_split=0.2,\n",
    "    subset='validation',\n",
    ")\n",
    "\n",
    "testDataset = tf.keras.utils.image_dataset_from_directory(\n",
    "    testDirectory,\n",
    "    labels='inferred',\n",
    "    label_mode='categorical',\n",
    "    class_names=CONFIGURATION[\"CLASS_NAMES\"],\n",
    "    color_mode='rgb',\n",
    "    batch_size=CONFIGURATION[\"BATCH_SIZE\"],\n",
    "    image_size=(CONFIGURATION[\"IMAGE_SIZE\"], CONFIGURATION[\"IMAGE_SIZE\"]),\n",
    "    shuffle=True,\n",
    "    seed=99,\n",
    "    validation_split=None,\n",
    "    subset=None,\n",
    ")\n",
    "\n",
    "trainDataset = trainDataset.prefetch(tf.data.AUTOTUNE)\n",
    "testDataset = testDataset.prefetch(tf.data.AUTOTUNE)\n",
    "valDataset = valDataset.prefetch(tf.data.AUTOTUNE)"
   ]
  },
  {
   "cell_type": "markdown",
   "metadata": {},
   "source": [
    "## Training Res-Net-34 Model"
   ]
  },
  {
   "cell_type": "code",
   "execution_count": 3,
   "metadata": {},
   "outputs": [],
   "source": [
    "class CustomConv2D(tf.keras.layers.Layer):\n",
    "  def __init__(self, n_filters, kernel_size, n_strides, padding = 'valid'):\n",
    "    super(CustomConv2D, self).__init__(name = 'custom_conv2d')\n",
    "\n",
    "    self.conv = Conv2D(\n",
    "        filters = n_filters,\n",
    "        kernel_size = kernel_size,\n",
    "        activation = 'relu',\n",
    "        strides = n_strides,\n",
    "        padding = padding)\n",
    "\n",
    "    self.batch_norm = tf.keras.layers.BatchNormalization()\n",
    "\n",
    "  def call(self, x, training = True):\n",
    "\n",
    "    x = self.conv(x)\n",
    "    x = self.batch_norm(x, training=training)\n",
    "\n",
    "    return x\n",
    "  \n",
    "class ResidualBlock(tf.keras.layers.Layer):\n",
    "  def __init__(self, n_channels, n_strides = 1):\n",
    "    super(ResidualBlock, self).__init__(name = 'res_block')\n",
    "\n",
    "    self.sizeChanged = (n_strides != 1)\n",
    "\n",
    "    self.custom_conv_1 = CustomConv2D(n_channels, 3, n_strides, padding = \"same\")\n",
    "    self.custom_conv_2 = CustomConv2D(n_channels, 3, 1, padding = \"same\")\n",
    "\n",
    "    self.activation = tf.keras.layers.Activation('relu')\n",
    "\n",
    "    if self.sizeChanged:\n",
    "      self.custom_conv_3 = CustomConv2D(n_channels, 1, n_strides)\n",
    "\n",
    "  def call(self, input, training):\n",
    "\n",
    "    x = self.custom_conv_1(input, training=training)\n",
    "    x = self.custom_conv_2(x, training=training)\n",
    "\n",
    "    if self.sizeChanged:\n",
    "      input = self.custom_conv_3(input, training=training)\n",
    "      x_added = tf.keras.layers.Add()([x, input])\n",
    "    else:\n",
    "      x_added = tf.keras.layers.Add()([x, input])\n",
    "\n",
    "    return self.activation(x_added)\n"
   ]
  },
  {
   "cell_type": "code",
   "execution_count": 5,
   "metadata": {},
   "outputs": [
    {
     "data": {
      "text/html": [
       "<pre style=\"white-space:pre;overflow-x:auto;line-height:normal;font-family:Menlo,'DejaVu Sans Mono',consolas,'Courier New',monospace\"><span style=\"font-weight: bold\">Model: \"resnet_34\"</span>\n",
       "</pre>\n"
      ],
      "text/plain": [
       "\u001b[1mModel: \"resnet_34\"\u001b[0m\n"
      ]
     },
     "metadata": {},
     "output_type": "display_data"
    },
    {
     "data": {
      "text/html": [
       "<pre style=\"white-space:pre;overflow-x:auto;line-height:normal;font-family:Menlo,'DejaVu Sans Mono',consolas,'Courier New',monospace\">┏━━━━━━━━━━━━━━━━━━━━━━━━━━━━━━━━━┳━━━━━━━━━━━━━━━━━━━━━━━━┳━━━━━━━━━━━━━━━┓\n",
       "┃<span style=\"font-weight: bold\"> Layer (type)                    </span>┃<span style=\"font-weight: bold\"> Output Shape           </span>┃<span style=\"font-weight: bold\">       Param # </span>┃\n",
       "┡━━━━━━━━━━━━━━━━━━━━━━━━━━━━━━━━━╇━━━━━━━━━━━━━━━━━━━━━━━━╇━━━━━━━━━━━━━━━┩\n",
       "│ custom_conv2d (<span style=\"color: #0087ff; text-decoration-color: #0087ff\">CustomConv2D</span>)    │ ?                      │         <span style=\"color: #00af00; text-decoration-color: #00af00\">9,728</span> │\n",
       "├─────────────────────────────────┼────────────────────────┼───────────────┤\n",
       "│ max_pooling2d (<span style=\"color: #0087ff; text-decoration-color: #0087ff\">MaxPooling2D</span>)    │ ?                      │             <span style=\"color: #00af00; text-decoration-color: #00af00\">0</span> │\n",
       "├─────────────────────────────────┼────────────────────────┼───────────────┤\n",
       "│ res_block (<span style=\"color: #0087ff; text-decoration-color: #0087ff\">ResidualBlock</span>)       │ ?                      │        <span style=\"color: #00af00; text-decoration-color: #00af00\">74,368</span> │\n",
       "├─────────────────────────────────┼────────────────────────┼───────────────┤\n",
       "│ res_block (<span style=\"color: #0087ff; text-decoration-color: #0087ff\">ResidualBlock</span>)       │ ?                      │        <span style=\"color: #00af00; text-decoration-color: #00af00\">74,368</span> │\n",
       "├─────────────────────────────────┼────────────────────────┼───────────────┤\n",
       "│ res_block (<span style=\"color: #0087ff; text-decoration-color: #0087ff\">ResidualBlock</span>)       │ ?                      │        <span style=\"color: #00af00; text-decoration-color: #00af00\">74,368</span> │\n",
       "├─────────────────────────────────┼────────────────────────┼───────────────┤\n",
       "│ res_block (<span style=\"color: #0087ff; text-decoration-color: #0087ff\">ResidualBlock</span>)       │ ?                      │       <span style=\"color: #00af00; text-decoration-color: #00af00\">231,296</span> │\n",
       "├─────────────────────────────────┼────────────────────────┼───────────────┤\n",
       "│ res_block (<span style=\"color: #0087ff; text-decoration-color: #0087ff\">ResidualBlock</span>)       │ ?                      │       <span style=\"color: #00af00; text-decoration-color: #00af00\">296,192</span> │\n",
       "├─────────────────────────────────┼────────────────────────┼───────────────┤\n",
       "│ res_block (<span style=\"color: #0087ff; text-decoration-color: #0087ff\">ResidualBlock</span>)       │ ?                      │       <span style=\"color: #00af00; text-decoration-color: #00af00\">296,192</span> │\n",
       "├─────────────────────────────────┼────────────────────────┼───────────────┤\n",
       "│ res_block (<span style=\"color: #0087ff; text-decoration-color: #0087ff\">ResidualBlock</span>)       │ ?                      │       <span style=\"color: #00af00; text-decoration-color: #00af00\">296,192</span> │\n",
       "├─────────────────────────────────┼────────────────────────┼───────────────┤\n",
       "│ res_block (<span style=\"color: #0087ff; text-decoration-color: #0087ff\">ResidualBlock</span>)       │ ?                      │       <span style=\"color: #00af00; text-decoration-color: #00af00\">921,344</span> │\n",
       "├─────────────────────────────────┼────────────────────────┼───────────────┤\n",
       "│ res_block (<span style=\"color: #0087ff; text-decoration-color: #0087ff\">ResidualBlock</span>)       │ ?                      │     <span style=\"color: #00af00; text-decoration-color: #00af00\">1,182,208</span> │\n",
       "├─────────────────────────────────┼────────────────────────┼───────────────┤\n",
       "│ res_block (<span style=\"color: #0087ff; text-decoration-color: #0087ff\">ResidualBlock</span>)       │ ?                      │     <span style=\"color: #00af00; text-decoration-color: #00af00\">1,182,208</span> │\n",
       "├─────────────────────────────────┼────────────────────────┼───────────────┤\n",
       "│ res_block (<span style=\"color: #0087ff; text-decoration-color: #0087ff\">ResidualBlock</span>)       │ ?                      │     <span style=\"color: #00af00; text-decoration-color: #00af00\">1,182,208</span> │\n",
       "├─────────────────────────────────┼────────────────────────┼───────────────┤\n",
       "│ res_block (<span style=\"color: #0087ff; text-decoration-color: #0087ff\">ResidualBlock</span>)       │ ?                      │     <span style=\"color: #00af00; text-decoration-color: #00af00\">1,182,208</span> │\n",
       "├─────────────────────────────────┼────────────────────────┼───────────────┤\n",
       "│ res_block (<span style=\"color: #0087ff; text-decoration-color: #0087ff\">ResidualBlock</span>)       │ ?                      │     <span style=\"color: #00af00; text-decoration-color: #00af00\">1,182,208</span> │\n",
       "├─────────────────────────────────┼────────────────────────┼───────────────┤\n",
       "│ res_block (<span style=\"color: #0087ff; text-decoration-color: #0087ff\">ResidualBlock</span>)       │ ?                      │     <span style=\"color: #00af00; text-decoration-color: #00af00\">3,677,696</span> │\n",
       "├─────────────────────────────────┼────────────────────────┼───────────────┤\n",
       "│ res_block (<span style=\"color: #0087ff; text-decoration-color: #0087ff\">ResidualBlock</span>)       │ ?                      │     <span style=\"color: #00af00; text-decoration-color: #00af00\">4,723,712</span> │\n",
       "├─────────────────────────────────┼────────────────────────┼───────────────┤\n",
       "│ res_block (<span style=\"color: #0087ff; text-decoration-color: #0087ff\">ResidualBlock</span>)       │ ?                      │     <span style=\"color: #00af00; text-decoration-color: #00af00\">4,723,712</span> │\n",
       "├─────────────────────────────────┼────────────────────────┼───────────────┤\n",
       "│ global_average_pooling2d        │ ?                      │             <span style=\"color: #00af00; text-decoration-color: #00af00\">0</span> │\n",
       "│ (<span style=\"color: #0087ff; text-decoration-color: #0087ff\">GlobalAveragePooling2D</span>)        │                        │               │\n",
       "├─────────────────────────────────┼────────────────────────┼───────────────┤\n",
       "│ dense (<span style=\"color: #0087ff; text-decoration-color: #0087ff\">Dense</span>)                   │ (<span style=\"color: #00af00; text-decoration-color: #00af00\">1</span>, <span style=\"color: #00af00; text-decoration-color: #00af00\">3</span>)                 │         <span style=\"color: #00af00; text-decoration-color: #00af00\">1,539</span> │\n",
       "└─────────────────────────────────┴────────────────────────┴───────────────┘\n",
       "</pre>\n"
      ],
      "text/plain": [
       "┏━━━━━━━━━━━━━━━━━━━━━━━━━━━━━━━━━┳━━━━━━━━━━━━━━━━━━━━━━━━┳━━━━━━━━━━━━━━━┓\n",
       "┃\u001b[1m \u001b[0m\u001b[1mLayer (type)                   \u001b[0m\u001b[1m \u001b[0m┃\u001b[1m \u001b[0m\u001b[1mOutput Shape          \u001b[0m\u001b[1m \u001b[0m┃\u001b[1m \u001b[0m\u001b[1m      Param #\u001b[0m\u001b[1m \u001b[0m┃\n",
       "┡━━━━━━━━━━━━━━━━━━━━━━━━━━━━━━━━━╇━━━━━━━━━━━━━━━━━━━━━━━━╇━━━━━━━━━━━━━━━┩\n",
       "│ custom_conv2d (\u001b[38;5;33mCustomConv2D\u001b[0m)    │ ?                      │         \u001b[38;5;34m9,728\u001b[0m │\n",
       "├─────────────────────────────────┼────────────────────────┼───────────────┤\n",
       "│ max_pooling2d (\u001b[38;5;33mMaxPooling2D\u001b[0m)    │ ?                      │             \u001b[38;5;34m0\u001b[0m │\n",
       "├─────────────────────────────────┼────────────────────────┼───────────────┤\n",
       "│ res_block (\u001b[38;5;33mResidualBlock\u001b[0m)       │ ?                      │        \u001b[38;5;34m74,368\u001b[0m │\n",
       "├─────────────────────────────────┼────────────────────────┼───────────────┤\n",
       "│ res_block (\u001b[38;5;33mResidualBlock\u001b[0m)       │ ?                      │        \u001b[38;5;34m74,368\u001b[0m │\n",
       "├─────────────────────────────────┼────────────────────────┼───────────────┤\n",
       "│ res_block (\u001b[38;5;33mResidualBlock\u001b[0m)       │ ?                      │        \u001b[38;5;34m74,368\u001b[0m │\n",
       "├─────────────────────────────────┼────────────────────────┼───────────────┤\n",
       "│ res_block (\u001b[38;5;33mResidualBlock\u001b[0m)       │ ?                      │       \u001b[38;5;34m231,296\u001b[0m │\n",
       "├─────────────────────────────────┼────────────────────────┼───────────────┤\n",
       "│ res_block (\u001b[38;5;33mResidualBlock\u001b[0m)       │ ?                      │       \u001b[38;5;34m296,192\u001b[0m │\n",
       "├─────────────────────────────────┼────────────────────────┼───────────────┤\n",
       "│ res_block (\u001b[38;5;33mResidualBlock\u001b[0m)       │ ?                      │       \u001b[38;5;34m296,192\u001b[0m │\n",
       "├─────────────────────────────────┼────────────────────────┼───────────────┤\n",
       "│ res_block (\u001b[38;5;33mResidualBlock\u001b[0m)       │ ?                      │       \u001b[38;5;34m296,192\u001b[0m │\n",
       "├─────────────────────────────────┼────────────────────────┼───────────────┤\n",
       "│ res_block (\u001b[38;5;33mResidualBlock\u001b[0m)       │ ?                      │       \u001b[38;5;34m921,344\u001b[0m │\n",
       "├─────────────────────────────────┼────────────────────────┼───────────────┤\n",
       "│ res_block (\u001b[38;5;33mResidualBlock\u001b[0m)       │ ?                      │     \u001b[38;5;34m1,182,208\u001b[0m │\n",
       "├─────────────────────────────────┼────────────────────────┼───────────────┤\n",
       "│ res_block (\u001b[38;5;33mResidualBlock\u001b[0m)       │ ?                      │     \u001b[38;5;34m1,182,208\u001b[0m │\n",
       "├─────────────────────────────────┼────────────────────────┼───────────────┤\n",
       "│ res_block (\u001b[38;5;33mResidualBlock\u001b[0m)       │ ?                      │     \u001b[38;5;34m1,182,208\u001b[0m │\n",
       "├─────────────────────────────────┼────────────────────────┼───────────────┤\n",
       "│ res_block (\u001b[38;5;33mResidualBlock\u001b[0m)       │ ?                      │     \u001b[38;5;34m1,182,208\u001b[0m │\n",
       "├─────────────────────────────────┼────────────────────────┼───────────────┤\n",
       "│ res_block (\u001b[38;5;33mResidualBlock\u001b[0m)       │ ?                      │     \u001b[38;5;34m1,182,208\u001b[0m │\n",
       "├─────────────────────────────────┼────────────────────────┼───────────────┤\n",
       "│ res_block (\u001b[38;5;33mResidualBlock\u001b[0m)       │ ?                      │     \u001b[38;5;34m3,677,696\u001b[0m │\n",
       "├─────────────────────────────────┼────────────────────────┼───────────────┤\n",
       "│ res_block (\u001b[38;5;33mResidualBlock\u001b[0m)       │ ?                      │     \u001b[38;5;34m4,723,712\u001b[0m │\n",
       "├─────────────────────────────────┼────────────────────────┼───────────────┤\n",
       "│ res_block (\u001b[38;5;33mResidualBlock\u001b[0m)       │ ?                      │     \u001b[38;5;34m4,723,712\u001b[0m │\n",
       "├─────────────────────────────────┼────────────────────────┼───────────────┤\n",
       "│ global_average_pooling2d        │ ?                      │             \u001b[38;5;34m0\u001b[0m │\n",
       "│ (\u001b[38;5;33mGlobalAveragePooling2D\u001b[0m)        │                        │               │\n",
       "├─────────────────────────────────┼────────────────────────┼───────────────┤\n",
       "│ dense (\u001b[38;5;33mDense\u001b[0m)                   │ (\u001b[38;5;34m1\u001b[0m, \u001b[38;5;34m3\u001b[0m)                 │         \u001b[38;5;34m1,539\u001b[0m │\n",
       "└─────────────────────────────────┴────────────────────────┴───────────────┘\n"
      ]
     },
     "metadata": {},
     "output_type": "display_data"
    },
    {
     "data": {
      "text/html": [
       "<pre style=\"white-space:pre;overflow-x:auto;line-height:normal;font-family:Menlo,'DejaVu Sans Mono',consolas,'Courier New',monospace\"><span style=\"font-weight: bold\"> Total params: </span><span style=\"color: #00af00; text-decoration-color: #00af00\">21,311,747</span> (81.30 MB)\n",
       "</pre>\n"
      ],
      "text/plain": [
       "\u001b[1m Total params: \u001b[0m\u001b[38;5;34m21,311,747\u001b[0m (81.30 MB)\n"
      ]
     },
     "metadata": {},
     "output_type": "display_data"
    },
    {
     "data": {
      "text/html": [
       "<pre style=\"white-space:pre;overflow-x:auto;line-height:normal;font-family:Menlo,'DejaVu Sans Mono',consolas,'Courier New',monospace\"><span style=\"font-weight: bold\"> Trainable params: </span><span style=\"color: #00af00; text-decoration-color: #00af00\">21,294,723</span> (81.23 MB)\n",
       "</pre>\n"
      ],
      "text/plain": [
       "\u001b[1m Trainable params: \u001b[0m\u001b[38;5;34m21,294,723\u001b[0m (81.23 MB)\n"
      ]
     },
     "metadata": {},
     "output_type": "display_data"
    },
    {
     "data": {
      "text/html": [
       "<pre style=\"white-space:pre;overflow-x:auto;line-height:normal;font-family:Menlo,'DejaVu Sans Mono',consolas,'Courier New',monospace\"><span style=\"font-weight: bold\"> Non-trainable params: </span><span style=\"color: #00af00; text-decoration-color: #00af00\">17,024</span> (66.50 KB)\n",
       "</pre>\n"
      ],
      "text/plain": [
       "\u001b[1m Non-trainable params: \u001b[0m\u001b[38;5;34m17,024\u001b[0m (66.50 KB)\n"
      ]
     },
     "metadata": {},
     "output_type": "display_data"
    }
   ],
   "source": [
    "class ResNet34(tf.keras.models.Model):\n",
    "  def __init__(self,):\n",
    "    super(ResNet34, self).__init__(name = 'resnet_34')\n",
    "\n",
    "    self.conv_1 = CustomConv2D(64, 7, 2, padding = 'same')\n",
    "    self.max_pool = MaxPooling2D(3,2)\n",
    "\n",
    "    self.conv_2_1 = ResidualBlock(64)\n",
    "    self.conv_2_2 = ResidualBlock(64)\n",
    "    self.conv_2_3 = ResidualBlock(64)\n",
    "\n",
    "    self.conv_3_1 = ResidualBlock(128, 2)\n",
    "    self.conv_3_2 = ResidualBlock(128)\n",
    "    self.conv_3_3 = ResidualBlock(128)\n",
    "    self.conv_3_4 = ResidualBlock(128)\n",
    "\n",
    "    self.conv_4_1 = ResidualBlock(256, 2)\n",
    "    self.conv_4_2 = ResidualBlock(256)\n",
    "    self.conv_4_3 = ResidualBlock(256)\n",
    "    self.conv_4_4 = ResidualBlock(256)\n",
    "    self.conv_4_5 = ResidualBlock(256)\n",
    "    self.conv_4_6 = ResidualBlock(256)\n",
    "\n",
    "    self.conv_5_1 = ResidualBlock(512, 2)\n",
    "    self.conv_5_2 = ResidualBlock(512)\n",
    "    self.conv_5_3 = ResidualBlock(512)\n",
    "\n",
    "    self.global_pool = tf.keras.layers.GlobalAveragePooling2D()\n",
    "\n",
    "    self.fc_3 = tf.keras.layers.Dense(CONFIGURATION[\"NUM_CLASSES\"], activation = 'softmax')\n",
    "\n",
    "  def call(self, x, training = True):\n",
    "    x = self.conv_1(x)\n",
    "    x = self.max_pool(x)\n",
    "\n",
    "    x = self.conv_2_1(x, training=training)\n",
    "    x = self.conv_2_2(x, training=training)\n",
    "    x = self.conv_2_3(x, training=training)\n",
    "\n",
    "    x = self.conv_3_1(x, training=training)\n",
    "    x = self.conv_3_2(x, training=training)\n",
    "    x = self.conv_3_3(x, training=training)\n",
    "    x = self.conv_3_4(x, training=training)\n",
    "\n",
    "    x = self.conv_4_1(x, training=training)\n",
    "    x = self.conv_4_2(x, training=training)\n",
    "    x = self.conv_4_3(x, training=training)\n",
    "    x = self.conv_4_4(x, training=training)\n",
    "    x = self.conv_4_5(x, training=training)\n",
    "    x = self.conv_4_6(x, training=training)\n",
    "\n",
    "    x = self.conv_5_1(x, training=training)\n",
    "    x = self.conv_5_2(x, training=training)\n",
    "    x = self.conv_5_3(x, training=training)\n",
    "\n",
    "    x = self.global_pool(x)\n",
    "\n",
    "    return self.fc_3(x)\n",
    "\n",
    "resNet34Model = ResNet34()\n",
    "resNet34Model(tf.zeros([1, 256, 256, 3]), training=True)\n",
    "resNet34Model.summary()"
   ]
  },
  {
   "cell_type": "code",
   "execution_count": 6,
   "metadata": {},
   "outputs": [],
   "source": [
    "lossFunction = tf.keras.losses.CategoricalCrossentropy()\n",
    "METRICS = [tf.keras.metrics.CategoricalAccuracy(name=\"accuracy\"), tf.keras.metrics.TopKCategoricalAccuracy(k=2, name=\"top_k_accuracy\")]"
   ]
  },
  {
   "cell_type": "code",
   "execution_count": 7,
   "metadata": {},
   "outputs": [],
   "source": [
    "resNet34Model.compile(\n",
    "    optimizer = tf.keras.optimizers.Adam(learning_rate=CONFIGURATION[\"LEARNING_RATE\"]),\n",
    "    loss = lossFunction,\n",
    "    metrics=METRICS\n",
    ")"
   ]
  },
  {
   "cell_type": "code",
   "execution_count": 8,
   "metadata": {},
   "outputs": [
    {
     "name": "stdout",
     "output_type": "stream",
     "text": [
      "Epoch 1/60\n"
     ]
    },
    {
     "name": "stderr",
     "output_type": "stream",
     "text": [
      "2025-01-31 11:40:12.114561: I tensorflow/core/grappler/optimizers/custom_graph_optimizer_registry.cc:117] Plugin optimizer for device_type GPU is enabled.\n"
     ]
    },
    {
     "name": "stdout",
     "output_type": "stream",
     "text": [
      "\u001b[1m170/170\u001b[0m \u001b[32m━━━━━━━━━━━━━━━━━━━━\u001b[0m\u001b[37m\u001b[0m \u001b[1m109s\u001b[0m 520ms/step - accuracy: 0.3989 - loss: 2.3740 - top_k_accuracy: 0.7198 - val_accuracy: 0.3348 - val_loss: 154.0747 - val_top_k_accuracy: 0.7123\n",
      "Epoch 2/60\n",
      "\u001b[1m170/170\u001b[0m \u001b[32m━━━━━━━━━━━━━━━━━━━━\u001b[0m\u001b[37m\u001b[0m \u001b[1m85s\u001b[0m 498ms/step - accuracy: 0.4519 - loss: 1.2262 - top_k_accuracy: 0.7496 - val_accuracy: 0.5121 - val_loss: 1.1423 - val_top_k_accuracy: 0.7579\n",
      "Epoch 3/60\n",
      "\u001b[1m170/170\u001b[0m \u001b[32m━━━━━━━━━━━━━━━━━━━━\u001b[0m\u001b[37m\u001b[0m \u001b[1m85s\u001b[0m 498ms/step - accuracy: 0.4943 - loss: 1.0769 - top_k_accuracy: 0.7788 - val_accuracy: 0.5004 - val_loss: 1.3701 - val_top_k_accuracy: 0.7866\n",
      "Epoch 4/60\n",
      "\u001b[1m170/170\u001b[0m \u001b[32m━━━━━━━━━━━━━━━━━━━━\u001b[0m\u001b[37m\u001b[0m \u001b[1m86s\u001b[0m 506ms/step - accuracy: 0.5107 - loss: 1.0347 - top_k_accuracy: 0.8019 - val_accuracy: 0.5018 - val_loss: 1.1056 - val_top_k_accuracy: 0.7815\n",
      "Epoch 5/60\n",
      "\u001b[1m170/170\u001b[0m \u001b[32m━━━━━━━━━━━━━━━━━━━━\u001b[0m\u001b[37m\u001b[0m \u001b[1m90s\u001b[0m 530ms/step - accuracy: 0.5326 - loss: 0.9963 - top_k_accuracy: 0.8148 - val_accuracy: 0.5342 - val_loss: 1.0242 - val_top_k_accuracy: 0.8102\n",
      "Epoch 6/60\n",
      "\u001b[1m170/170\u001b[0m \u001b[32m━━━━━━━━━━━━━━━━━━━━\u001b[0m\u001b[37m\u001b[0m \u001b[1m87s\u001b[0m 508ms/step - accuracy: 0.5582 - loss: 0.9672 - top_k_accuracy: 0.8240 - val_accuracy: 0.4202 - val_loss: 1.1774 - val_top_k_accuracy: 0.7594\n",
      "Epoch 7/60\n",
      "\u001b[1m170/170\u001b[0m \u001b[32m━━━━━━━━━━━━━━━━━━━━\u001b[0m\u001b[37m\u001b[0m \u001b[1m90s\u001b[0m 526ms/step - accuracy: 0.5589 - loss: 0.9509 - top_k_accuracy: 0.8203 - val_accuracy: 0.5467 - val_loss: 0.9658 - val_top_k_accuracy: 0.8219\n",
      "Epoch 8/60\n",
      "\u001b[1m170/170\u001b[0m \u001b[32m━━━━━━━━━━━━━━━━━━━━\u001b[0m\u001b[37m\u001b[0m \u001b[1m94s\u001b[0m 552ms/step - accuracy: 0.5703 - loss: 0.9281 - top_k_accuracy: 0.8370 - val_accuracy: 0.4621 - val_loss: 2.1982 - val_top_k_accuracy: 0.7145\n",
      "Epoch 9/60\n",
      "\u001b[1m170/170\u001b[0m \u001b[32m━━━━━━━━━━━━━━━━━━━━\u001b[0m\u001b[37m\u001b[0m \u001b[1m92s\u001b[0m 543ms/step - accuracy: 0.5961 - loss: 0.8826 - top_k_accuracy: 0.8533 - val_accuracy: 0.5048 - val_loss: 1.6854 - val_top_k_accuracy: 0.7557\n",
      "Epoch 10/60\n",
      "\u001b[1m170/170\u001b[0m \u001b[32m━━━━━━━━━━━━━━━━━━━━\u001b[0m\u001b[37m\u001b[0m \u001b[1m87s\u001b[0m 513ms/step - accuracy: 0.6190 - loss: 0.8478 - top_k_accuracy: 0.8578 - val_accuracy: 0.5798 - val_loss: 1.1564 - val_top_k_accuracy: 0.8212\n",
      "Epoch 11/60\n",
      "\u001b[1m170/170\u001b[0m \u001b[32m━━━━━━━━━━━━━━━━━━━━\u001b[0m\u001b[37m\u001b[0m \u001b[1m87s\u001b[0m 507ms/step - accuracy: 0.6486 - loss: 0.7941 - top_k_accuracy: 0.8673 - val_accuracy: 0.5916 - val_loss: 0.9833 - val_top_k_accuracy: 0.8138\n",
      "Epoch 12/60\n",
      "\u001b[1m170/170\u001b[0m \u001b[32m━━━━━━━━━━━━━━━━━━━━\u001b[0m\u001b[37m\u001b[0m \u001b[1m87s\u001b[0m 514ms/step - accuracy: 0.6629 - loss: 0.7581 - top_k_accuracy: 0.8846 - val_accuracy: 0.6181 - val_loss: 0.9458 - val_top_k_accuracy: 0.8337\n",
      "Epoch 13/60\n",
      "\u001b[1m170/170\u001b[0m \u001b[32m━━━━━━━━━━━━━━━━━━━━\u001b[0m\u001b[37m\u001b[0m \u001b[1m86s\u001b[0m 504ms/step - accuracy: 0.6824 - loss: 0.7185 - top_k_accuracy: 0.8935 - val_accuracy: 0.6740 - val_loss: 0.7205 - val_top_k_accuracy: 0.8999\n",
      "Epoch 14/60\n",
      "\u001b[1m170/170\u001b[0m \u001b[32m━━━━━━━━━━━━━━━━━━━━\u001b[0m\u001b[37m\u001b[0m \u001b[1m87s\u001b[0m 507ms/step - accuracy: 0.7129 - loss: 0.6667 - top_k_accuracy: 0.9100 - val_accuracy: 0.6019 - val_loss: 0.8439 - val_top_k_accuracy: 0.8815\n",
      "Epoch 15/60\n",
      "\u001b[1m170/170\u001b[0m \u001b[32m━━━━━━━━━━━━━━━━━━━━\u001b[0m\u001b[37m\u001b[0m \u001b[1m86s\u001b[0m 504ms/step - accuracy: 0.7213 - loss: 0.6541 - top_k_accuracy: 0.9143 - val_accuracy: 0.4231 - val_loss: 1.3111 - val_top_k_accuracy: 0.6593\n",
      "Epoch 16/60\n",
      "\u001b[1m170/170\u001b[0m \u001b[32m━━━━━━━━━━━━━━━━━━━━\u001b[0m\u001b[37m\u001b[0m \u001b[1m88s\u001b[0m 516ms/step - accuracy: 0.7610 - loss: 0.5788 - top_k_accuracy: 0.9275 - val_accuracy: 0.6689 - val_loss: 0.8086 - val_top_k_accuracy: 0.8815\n",
      "Epoch 17/60\n",
      "\u001b[1m170/170\u001b[0m \u001b[32m━━━━━━━━━━━━━━━━━━━━\u001b[0m\u001b[37m\u001b[0m \u001b[1m84s\u001b[0m 493ms/step - accuracy: 0.7726 - loss: 0.5543 - top_k_accuracy: 0.9319 - val_accuracy: 0.5210 - val_loss: 1.7102 - val_top_k_accuracy: 0.8035\n",
      "Epoch 18/60\n",
      "\u001b[1m170/170\u001b[0m \u001b[32m━━━━━━━━━━━━━━━━━━━━\u001b[0m\u001b[37m\u001b[0m \u001b[1m86s\u001b[0m 504ms/step - accuracy: 0.7901 - loss: 0.5195 - top_k_accuracy: 0.9400 - val_accuracy: 0.4533 - val_loss: 2.0996 - val_top_k_accuracy: 0.7130\n",
      "Epoch 19/60\n",
      "\u001b[1m170/170\u001b[0m \u001b[32m━━━━━━━━━━━━━━━━━━━━\u001b[0m\u001b[37m\u001b[0m \u001b[1m84s\u001b[0m 496ms/step - accuracy: 0.8155 - loss: 0.4594 - top_k_accuracy: 0.9471 - val_accuracy: 0.5497 - val_loss: 1.2984 - val_top_k_accuracy: 0.7918\n",
      "Epoch 20/60\n",
      "\u001b[1m170/170\u001b[0m \u001b[32m━━━━━━━━━━━━━━━━━━━━\u001b[0m\u001b[37m\u001b[0m \u001b[1m83s\u001b[0m 491ms/step - accuracy: 0.8224 - loss: 0.4176 - top_k_accuracy: 0.9548 - val_accuracy: 0.6770 - val_loss: 1.5764 - val_top_k_accuracy: 0.8933\n",
      "Epoch 21/60\n",
      "\u001b[1m170/170\u001b[0m \u001b[32m━━━━━━━━━━━━━━━━━━━━\u001b[0m\u001b[37m\u001b[0m \u001b[1m83s\u001b[0m 491ms/step - accuracy: 0.8313 - loss: 0.4274 - top_k_accuracy: 0.9518 - val_accuracy: 0.6696 - val_loss: 1.2437 - val_top_k_accuracy: 0.8911\n",
      "Epoch 22/60\n",
      "\u001b[1m170/170\u001b[0m \u001b[32m━━━━━━━━━━━━━━━━━━━━\u001b[0m\u001b[37m\u001b[0m \u001b[1m85s\u001b[0m 499ms/step - accuracy: 0.8675 - loss: 0.3416 - top_k_accuracy: 0.9678 - val_accuracy: 0.6770 - val_loss: 0.8326 - val_top_k_accuracy: 0.8874\n",
      "Epoch 23/60\n",
      "\u001b[1m170/170\u001b[0m \u001b[32m━━━━━━━━━━━━━━━━━━━━\u001b[0m\u001b[37m\u001b[0m \u001b[1m84s\u001b[0m 496ms/step - accuracy: 0.8733 - loss: 0.3109 - top_k_accuracy: 0.9739 - val_accuracy: 0.7255 - val_loss: 1.0421 - val_top_k_accuracy: 0.8911\n",
      "Epoch 24/60\n",
      "\u001b[1m170/170\u001b[0m \u001b[32m━━━━━━━━━━━━━━━━━━━━\u001b[0m\u001b[37m\u001b[0m \u001b[1m87s\u001b[0m 510ms/step - accuracy: 0.8899 - loss: 0.2769 - top_k_accuracy: 0.9838 - val_accuracy: 0.5357 - val_loss: 1.6388 - val_top_k_accuracy: 0.8153\n",
      "Epoch 25/60\n",
      "\u001b[1m170/170\u001b[0m \u001b[32m━━━━━━━━━━━━━━━━━━━━\u001b[0m\u001b[37m\u001b[0m \u001b[1m85s\u001b[0m 500ms/step - accuracy: 0.8991 - loss: 0.2610 - top_k_accuracy: 0.9797 - val_accuracy: 0.3966 - val_loss: 2.3020 - val_top_k_accuracy: 0.6321\n",
      "Epoch 26/60\n",
      "\u001b[1m170/170\u001b[0m \u001b[32m━━━━━━━━━━━━━━━━━━━━\u001b[0m\u001b[37m\u001b[0m \u001b[1m84s\u001b[0m 494ms/step - accuracy: 0.9158 - loss: 0.2168 - top_k_accuracy: 0.9851 - val_accuracy: 0.6792 - val_loss: 1.1522 - val_top_k_accuracy: 0.8793\n",
      "Epoch 27/60\n",
      "\u001b[1m170/170\u001b[0m \u001b[32m━━━━━━━━━━━━━━━━━━━━\u001b[0m\u001b[37m\u001b[0m \u001b[1m84s\u001b[0m 496ms/step - accuracy: 0.9189 - loss: 0.2417 - top_k_accuracy: 0.9833 - val_accuracy: 0.6829 - val_loss: 1.1007 - val_top_k_accuracy: 0.8962\n",
      "Epoch 28/60\n",
      "\u001b[1m170/170\u001b[0m \u001b[32m━━━━━━━━━━━━━━━━━━━━\u001b[0m\u001b[37m\u001b[0m \u001b[1m85s\u001b[0m 503ms/step - accuracy: 0.9267 - loss: 0.1849 - top_k_accuracy: 0.9883 - val_accuracy: 0.7380 - val_loss: 0.8857 - val_top_k_accuracy: 0.9117\n",
      "Epoch 29/60\n",
      "\u001b[1m170/170\u001b[0m \u001b[32m━━━━━━━━━━━━━━━━━━━━\u001b[0m\u001b[37m\u001b[0m \u001b[1m84s\u001b[0m 497ms/step - accuracy: 0.9489 - loss: 0.1469 - top_k_accuracy: 0.9932 - val_accuracy: 0.6534 - val_loss: 1.2038 - val_top_k_accuracy: 0.8565\n",
      "Epoch 30/60\n",
      "\u001b[1m170/170\u001b[0m \u001b[32m━━━━━━━━━━━━━━━━━━━━\u001b[0m\u001b[37m\u001b[0m \u001b[1m85s\u001b[0m 502ms/step - accuracy: 0.9419 - loss: 0.1497 - top_k_accuracy: 0.9917 - val_accuracy: 0.6181 - val_loss: 1.1824 - val_top_k_accuracy: 0.8661\n",
      "Epoch 31/60\n",
      "\u001b[1m170/170\u001b[0m \u001b[32m━━━━━━━━━━━━━━━━━━━━\u001b[0m\u001b[37m\u001b[0m \u001b[1m92s\u001b[0m 542ms/step - accuracy: 0.9510 - loss: 0.1458 - top_k_accuracy: 0.9907 - val_accuracy: 0.7329 - val_loss: 0.9957 - val_top_k_accuracy: 0.9132\n",
      "Epoch 32/60\n",
      "\u001b[1m170/170\u001b[0m \u001b[32m━━━━━━━━━━━━━━━━━━━━\u001b[0m\u001b[37m\u001b[0m \u001b[1m91s\u001b[0m 533ms/step - accuracy: 0.9509 - loss: 0.1372 - top_k_accuracy: 0.9924 - val_accuracy: 0.5416 - val_loss: 2.6043 - val_top_k_accuracy: 0.8374\n",
      "Epoch 33/60\n",
      "\u001b[1m170/170\u001b[0m \u001b[32m━━━━━━━━━━━━━━━━━━━━\u001b[0m\u001b[37m\u001b[0m \u001b[1m86s\u001b[0m 507ms/step - accuracy: 0.9488 - loss: 0.1361 - top_k_accuracy: 0.9917 - val_accuracy: 0.6851 - val_loss: 1.9523 - val_top_k_accuracy: 0.8970\n",
      "Epoch 34/60\n",
      "\u001b[1m170/170\u001b[0m \u001b[32m━━━━━━━━━━━━━━━━━━━━\u001b[0m\u001b[37m\u001b[0m \u001b[1m86s\u001b[0m 505ms/step - accuracy: 0.9566 - loss: 0.1171 - top_k_accuracy: 0.9932 - val_accuracy: 0.7042 - val_loss: 1.3365 - val_top_k_accuracy: 0.8955\n",
      "Epoch 35/60\n",
      "\u001b[1m170/170\u001b[0m \u001b[32m━━━━━━━━━━━━━━━━━━━━\u001b[0m\u001b[37m\u001b[0m \u001b[1m90s\u001b[0m 530ms/step - accuracy: 0.9417 - loss: 0.1520 - top_k_accuracy: 0.9909 - val_accuracy: 0.6549 - val_loss: 1.3571 - val_top_k_accuracy: 0.8830\n",
      "Epoch 36/60\n",
      "\u001b[1m170/170\u001b[0m \u001b[32m━━━━━━━━━━━━━━━━━━━━\u001b[0m\u001b[37m\u001b[0m \u001b[1m93s\u001b[0m 548ms/step - accuracy: 0.9601 - loss: 0.1099 - top_k_accuracy: 0.9954 - val_accuracy: 0.7263 - val_loss: 1.2955 - val_top_k_accuracy: 0.9080\n",
      "Epoch 37/60\n",
      "\u001b[1m170/170\u001b[0m \u001b[32m━━━━━━━━━━━━━━━━━━━━\u001b[0m\u001b[37m\u001b[0m \u001b[1m98s\u001b[0m 574ms/step - accuracy: 0.9558 - loss: 0.1291 - top_k_accuracy: 0.9948 - val_accuracy: 0.7079 - val_loss: 1.0107 - val_top_k_accuracy: 0.8896\n",
      "Epoch 38/60\n",
      "\u001b[1m170/170\u001b[0m \u001b[32m━━━━━━━━━━━━━━━━━━━━\u001b[0m\u001b[37m\u001b[0m \u001b[1m97s\u001b[0m 570ms/step - accuracy: 0.9565 - loss: 0.1187 - top_k_accuracy: 0.9924 - val_accuracy: 0.6932 - val_loss: 1.0477 - val_top_k_accuracy: 0.9088\n",
      "Epoch 39/60\n",
      "\u001b[1m170/170\u001b[0m \u001b[32m━━━━━━━━━━━━━━━━━━━━\u001b[0m\u001b[37m\u001b[0m \u001b[1m98s\u001b[0m 575ms/step - accuracy: 0.9622 - loss: 0.1218 - top_k_accuracy: 0.9960 - val_accuracy: 0.7174 - val_loss: 1.7080 - val_top_k_accuracy: 0.8911\n",
      "Epoch 40/60\n",
      "\u001b[1m170/170\u001b[0m \u001b[32m━━━━━━━━━━━━━━━━━━━━\u001b[0m\u001b[37m\u001b[0m \u001b[1m97s\u001b[0m 572ms/step - accuracy: 0.9647 - loss: 0.0891 - top_k_accuracy: 0.9970 - val_accuracy: 0.5695 - val_loss: 1.4091 - val_top_k_accuracy: 0.8411\n",
      "Epoch 41/60\n",
      "\u001b[1m170/170\u001b[0m \u001b[32m━━━━━━━━━━━━━━━━━━━━\u001b[0m\u001b[37m\u001b[0m \u001b[1m95s\u001b[0m 559ms/step - accuracy: 0.9643 - loss: 0.0952 - top_k_accuracy: 0.9974 - val_accuracy: 0.7167 - val_loss: 1.1933 - val_top_k_accuracy: 0.9095\n",
      "Epoch 42/60\n",
      "\u001b[1m170/170\u001b[0m \u001b[32m━━━━━━━━━━━━━━━━━━━━\u001b[0m\u001b[37m\u001b[0m \u001b[1m86s\u001b[0m 507ms/step - accuracy: 0.9628 - loss: 0.0915 - top_k_accuracy: 0.9959 - val_accuracy: 0.6762 - val_loss: 0.9894 - val_top_k_accuracy: 0.8771\n",
      "Epoch 43/60\n",
      "\u001b[1m170/170\u001b[0m \u001b[32m━━━━━━━━━━━━━━━━━━━━\u001b[0m\u001b[37m\u001b[0m \u001b[1m97s\u001b[0m 572ms/step - accuracy: 0.9685 - loss: 0.0907 - top_k_accuracy: 0.9969 - val_accuracy: 0.7704 - val_loss: 0.7625 - val_top_k_accuracy: 0.9272\n",
      "Epoch 44/60\n",
      "\u001b[1m170/170\u001b[0m \u001b[32m━━━━━━━━━━━━━━━━━━━━\u001b[0m\u001b[37m\u001b[0m \u001b[1m97s\u001b[0m 573ms/step - accuracy: 0.9693 - loss: 0.0917 - top_k_accuracy: 0.9977 - val_accuracy: 0.7675 - val_loss: 0.8278 - val_top_k_accuracy: 0.9249\n",
      "Epoch 45/60\n",
      "\u001b[1m170/170\u001b[0m \u001b[32m━━━━━━━━━━━━━━━━━━━━\u001b[0m\u001b[37m\u001b[0m \u001b[1m86s\u001b[0m 508ms/step - accuracy: 0.9747 - loss: 0.0742 - top_k_accuracy: 0.9952 - val_accuracy: 0.7616 - val_loss: 1.1634 - val_top_k_accuracy: 0.9139\n",
      "Epoch 46/60\n",
      "\u001b[1m170/170\u001b[0m \u001b[32m━━━━━━━━━━━━━━━━━━━━\u001b[0m\u001b[37m\u001b[0m \u001b[1m87s\u001b[0m 510ms/step - accuracy: 0.9763 - loss: 0.0640 - top_k_accuracy: 0.9973 - val_accuracy: 0.6873 - val_loss: 1.7106 - val_top_k_accuracy: 0.8668\n",
      "Epoch 47/60\n",
      "\u001b[1m170/170\u001b[0m \u001b[32m━━━━━━━━━━━━━━━━━━━━\u001b[0m\u001b[37m\u001b[0m \u001b[1m85s\u001b[0m 502ms/step - accuracy: 0.9735 - loss: 0.0602 - top_k_accuracy: 0.9985 - val_accuracy: 0.7506 - val_loss: 1.3993 - val_top_k_accuracy: 0.9088\n",
      "Epoch 48/60\n",
      "\u001b[1m170/170\u001b[0m \u001b[32m━━━━━━━━━━━━━━━━━━━━\u001b[0m\u001b[37m\u001b[0m \u001b[1m87s\u001b[0m 513ms/step - accuracy: 0.9736 - loss: 0.0775 - top_k_accuracy: 0.9969 - val_accuracy: 0.7108 - val_loss: 1.2453 - val_top_k_accuracy: 0.9169\n",
      "Epoch 49/60\n",
      "\u001b[1m170/170\u001b[0m \u001b[32m━━━━━━━━━━━━━━━━━━━━\u001b[0m\u001b[37m\u001b[0m \u001b[1m92s\u001b[0m 539ms/step - accuracy: 0.9587 - loss: 0.1174 - top_k_accuracy: 0.9966 - val_accuracy: 0.6049 - val_loss: 25.2869 - val_top_k_accuracy: 0.8595\n",
      "Epoch 50/60\n",
      "\u001b[1m170/170\u001b[0m \u001b[32m━━━━━━━━━━━━━━━━━━━━\u001b[0m\u001b[37m\u001b[0m \u001b[1m86s\u001b[0m 506ms/step - accuracy: 0.9752 - loss: 0.0678 - top_k_accuracy: 0.9979 - val_accuracy: 0.7667 - val_loss: 1.1621 - val_top_k_accuracy: 0.9242\n",
      "Epoch 51/60\n",
      "\u001b[1m170/170\u001b[0m \u001b[32m━━━━━━━━━━━━━━━━━━━━\u001b[0m\u001b[37m\u001b[0m \u001b[1m87s\u001b[0m 514ms/step - accuracy: 0.9689 - loss: 0.0766 - top_k_accuracy: 0.9986 - val_accuracy: 0.6814 - val_loss: 1.1112 - val_top_k_accuracy: 0.8926\n",
      "Epoch 52/60\n",
      "\u001b[1m170/170\u001b[0m \u001b[32m━━━━━━━━━━━━━━━━━━━━\u001b[0m\u001b[37m\u001b[0m \u001b[1m88s\u001b[0m 513ms/step - accuracy: 0.9655 - loss: 0.0922 - top_k_accuracy: 0.9962 - val_accuracy: 0.6777 - val_loss: 1.3555 - val_top_k_accuracy: 0.8786\n",
      "Epoch 53/60\n",
      "\u001b[1m170/170\u001b[0m \u001b[32m━━━━━━━━━━━━━━━━━━━━\u001b[0m\u001b[37m\u001b[0m \u001b[1m86s\u001b[0m 506ms/step - accuracy: 0.9603 - loss: 0.1034 - top_k_accuracy: 0.9955 - val_accuracy: 0.6468 - val_loss: 3.5505 - val_top_k_accuracy: 0.8565\n",
      "Epoch 54/60\n",
      "\u001b[1m170/170\u001b[0m \u001b[32m━━━━━━━━━━━━━━━━━━━━\u001b[0m\u001b[37m\u001b[0m \u001b[1m88s\u001b[0m 514ms/step - accuracy: 0.9674 - loss: 0.0831 - top_k_accuracy: 0.9968 - val_accuracy: 0.7616 - val_loss: 1.3625 - val_top_k_accuracy: 0.9242\n",
      "Epoch 55/60\n",
      "\u001b[1m170/170\u001b[0m \u001b[32m━━━━━━━━━━━━━━━━━━━━\u001b[0m\u001b[37m\u001b[0m \u001b[1m91s\u001b[0m 536ms/step - accuracy: 0.9779 - loss: 0.0457 - top_k_accuracy: 0.9994 - val_accuracy: 0.7461 - val_loss: 0.9144 - val_top_k_accuracy: 0.9161\n",
      "Epoch 56/60\n",
      "\u001b[1m170/170\u001b[0m \u001b[32m━━━━━━━━━━━━━━━━━━━━\u001b[0m\u001b[37m\u001b[0m \u001b[1m89s\u001b[0m 524ms/step - accuracy: 0.9695 - loss: 0.0787 - top_k_accuracy: 0.9980 - val_accuracy: 0.7506 - val_loss: 0.9474 - val_top_k_accuracy: 0.9161\n",
      "Epoch 57/60\n",
      "\u001b[1m170/170\u001b[0m \u001b[32m━━━━━━━━━━━━━━━━━━━━\u001b[0m\u001b[37m\u001b[0m \u001b[1m87s\u001b[0m 512ms/step - accuracy: 0.9778 - loss: 0.0583 - top_k_accuracy: 0.9966 - val_accuracy: 0.7005 - val_loss: 1.3074 - val_top_k_accuracy: 0.9110\n",
      "Epoch 58/60\n",
      "\u001b[1m170/170\u001b[0m \u001b[32m━━━━━━━━━━━━━━━━━━━━\u001b[0m\u001b[37m\u001b[0m \u001b[1m85s\u001b[0m 500ms/step - accuracy: 0.9741 - loss: 0.0737 - top_k_accuracy: 0.9976 - val_accuracy: 0.6630 - val_loss: 1.3587 - val_top_k_accuracy: 0.8918\n",
      "Epoch 59/60\n",
      "\u001b[1m170/170\u001b[0m \u001b[32m━━━━━━━━━━━━━━━━━━━━\u001b[0m\u001b[37m\u001b[0m \u001b[1m86s\u001b[0m 507ms/step - accuracy: 0.9734 - loss: 0.0713 - top_k_accuracy: 0.9962 - val_accuracy: 0.7498 - val_loss: 1.2731 - val_top_k_accuracy: 0.9198\n",
      "Epoch 60/60\n",
      "\u001b[1m170/170\u001b[0m \u001b[32m━━━━━━━━━━━━━━━━━━━━\u001b[0m\u001b[37m\u001b[0m \u001b[1m86s\u001b[0m 508ms/step - accuracy: 0.9771 - loss: 0.0529 - top_k_accuracy: 0.9982 - val_accuracy: 0.7586 - val_loss: 0.9549 - val_top_k_accuracy: 0.9095\n"
     ]
    }
   ],
   "source": [
    "history = resNet34Model.fit(\n",
    "    trainDataset,\n",
    "    validation_data = valDataset,\n",
    "    epochs = CONFIGURATION['N_EPOCHS'],\n",
    "    verbose=1,\n",
    ")"
   ]
  },
  {
   "cell_type": "markdown",
   "metadata": {},
   "source": [
    "## Leveraging Efficient Net Pre-Trained Model"
   ]
  },
  {
   "cell_type": "code",
   "execution_count": 9,
   "metadata": {},
   "outputs": [],
   "source": [
    "# Loading Pre-Trained Efficient Net B4 Model trained on ImageNet Dataset\n",
    "backbone = tf.keras.applications.EfficientNetB4(\n",
    "    include_top = False, # Include Classifier or Not\n",
    "    weights = 'imagenet',\n",
    "    input_shape = (CONFIGURATION[\"IMAGE_SIZE\"], CONFIGURATION[\"IMAGE_SIZE\"], 3)\n",
    ")\n",
    "# Freezing The Model Weights so That They Do Not Update\n",
    "backbone.trainable = False"
   ]
  },
  {
   "cell_type": "code",
   "execution_count": 10,
   "metadata": {},
   "outputs": [
    {
     "data": {
      "text/html": [
       "<pre style=\"white-space:pre;overflow-x:auto;line-height:normal;font-family:Menlo,'DejaVu Sans Mono',consolas,'Courier New',monospace\"><span style=\"font-weight: bold\">Model: \"sequential\"</span>\n",
       "</pre>\n"
      ],
      "text/plain": [
       "\u001b[1mModel: \"sequential\"\u001b[0m\n"
      ]
     },
     "metadata": {},
     "output_type": "display_data"
    },
    {
     "data": {
      "text/html": [
       "<pre style=\"white-space:pre;overflow-x:auto;line-height:normal;font-family:Menlo,'DejaVu Sans Mono',consolas,'Courier New',monospace\">┏━━━━━━━━━━━━━━━━━━━━━━━━━━━━━━━━━┳━━━━━━━━━━━━━━━━━━━━━━━━┳━━━━━━━━━━━━━━━┓\n",
       "┃<span style=\"font-weight: bold\"> Layer (type)                    </span>┃<span style=\"font-weight: bold\"> Output Shape           </span>┃<span style=\"font-weight: bold\">       Param # </span>┃\n",
       "┡━━━━━━━━━━━━━━━━━━━━━━━━━━━━━━━━━╇━━━━━━━━━━━━━━━━━━━━━━━━╇━━━━━━━━━━━━━━━┩\n",
       "│ efficientnetb4 (<span style=\"color: #0087ff; text-decoration-color: #0087ff\">Functional</span>)     │ (<span style=\"color: #00d7ff; text-decoration-color: #00d7ff\">None</span>, <span style=\"color: #00d7ff; text-decoration-color: #00d7ff\">None</span>, <span style=\"color: #00d7ff; text-decoration-color: #00d7ff\">None</span>,     │    <span style=\"color: #00af00; text-decoration-color: #00af00\">17,673,823</span> │\n",
       "│                                 │ <span style=\"color: #00af00; text-decoration-color: #00af00\">1792</span>)                  │               │\n",
       "├─────────────────────────────────┼────────────────────────┼───────────────┤\n",
       "│ global_average_pooling2d_1      │ (<span style=\"color: #00d7ff; text-decoration-color: #00d7ff\">None</span>, <span style=\"color: #00af00; text-decoration-color: #00af00\">1792</span>)           │             <span style=\"color: #00af00; text-decoration-color: #00af00\">0</span> │\n",
       "│ (<span style=\"color: #0087ff; text-decoration-color: #0087ff\">GlobalAveragePooling2D</span>)        │                        │               │\n",
       "├─────────────────────────────────┼────────────────────────┼───────────────┤\n",
       "│ dense_1 (<span style=\"color: #0087ff; text-decoration-color: #0087ff\">Dense</span>)                 │ (<span style=\"color: #00d7ff; text-decoration-color: #00d7ff\">None</span>, <span style=\"color: #00af00; text-decoration-color: #00af00\">128</span>)            │       <span style=\"color: #00af00; text-decoration-color: #00af00\">229,504</span> │\n",
       "├─────────────────────────────────┼────────────────────────┼───────────────┤\n",
       "│ batch_normalization_36          │ (<span style=\"color: #00d7ff; text-decoration-color: #00d7ff\">None</span>, <span style=\"color: #00af00; text-decoration-color: #00af00\">128</span>)            │           <span style=\"color: #00af00; text-decoration-color: #00af00\">512</span> │\n",
       "│ (<span style=\"color: #0087ff; text-decoration-color: #0087ff\">BatchNormalization</span>)            │                        │               │\n",
       "├─────────────────────────────────┼────────────────────────┼───────────────┤\n",
       "│ dense_2 (<span style=\"color: #0087ff; text-decoration-color: #0087ff\">Dense</span>)                 │ (<span style=\"color: #00d7ff; text-decoration-color: #00d7ff\">None</span>, <span style=\"color: #00af00; text-decoration-color: #00af00\">32</span>)             │         <span style=\"color: #00af00; text-decoration-color: #00af00\">4,128</span> │\n",
       "├─────────────────────────────────┼────────────────────────┼───────────────┤\n",
       "│ dense_3 (<span style=\"color: #0087ff; text-decoration-color: #0087ff\">Dense</span>)                 │ (<span style=\"color: #00d7ff; text-decoration-color: #00d7ff\">None</span>, <span style=\"color: #00af00; text-decoration-color: #00af00\">3</span>)              │            <span style=\"color: #00af00; text-decoration-color: #00af00\">99</span> │\n",
       "└─────────────────────────────────┴────────────────────────┴───────────────┘\n",
       "</pre>\n"
      ],
      "text/plain": [
       "┏━━━━━━━━━━━━━━━━━━━━━━━━━━━━━━━━━┳━━━━━━━━━━━━━━━━━━━━━━━━┳━━━━━━━━━━━━━━━┓\n",
       "┃\u001b[1m \u001b[0m\u001b[1mLayer (type)                   \u001b[0m\u001b[1m \u001b[0m┃\u001b[1m \u001b[0m\u001b[1mOutput Shape          \u001b[0m\u001b[1m \u001b[0m┃\u001b[1m \u001b[0m\u001b[1m      Param #\u001b[0m\u001b[1m \u001b[0m┃\n",
       "┡━━━━━━━━━━━━━━━━━━━━━━━━━━━━━━━━━╇━━━━━━━━━━━━━━━━━━━━━━━━╇━━━━━━━━━━━━━━━┩\n",
       "│ efficientnetb4 (\u001b[38;5;33mFunctional\u001b[0m)     │ (\u001b[38;5;45mNone\u001b[0m, \u001b[38;5;45mNone\u001b[0m, \u001b[38;5;45mNone\u001b[0m,     │    \u001b[38;5;34m17,673,823\u001b[0m │\n",
       "│                                 │ \u001b[38;5;34m1792\u001b[0m)                  │               │\n",
       "├─────────────────────────────────┼────────────────────────┼───────────────┤\n",
       "│ global_average_pooling2d_1      │ (\u001b[38;5;45mNone\u001b[0m, \u001b[38;5;34m1792\u001b[0m)           │             \u001b[38;5;34m0\u001b[0m │\n",
       "│ (\u001b[38;5;33mGlobalAveragePooling2D\u001b[0m)        │                        │               │\n",
       "├─────────────────────────────────┼────────────────────────┼───────────────┤\n",
       "│ dense_1 (\u001b[38;5;33mDense\u001b[0m)                 │ (\u001b[38;5;45mNone\u001b[0m, \u001b[38;5;34m128\u001b[0m)            │       \u001b[38;5;34m229,504\u001b[0m │\n",
       "├─────────────────────────────────┼────────────────────────┼───────────────┤\n",
       "│ batch_normalization_36          │ (\u001b[38;5;45mNone\u001b[0m, \u001b[38;5;34m128\u001b[0m)            │           \u001b[38;5;34m512\u001b[0m │\n",
       "│ (\u001b[38;5;33mBatchNormalization\u001b[0m)            │                        │               │\n",
       "├─────────────────────────────────┼────────────────────────┼───────────────┤\n",
       "│ dense_2 (\u001b[38;5;33mDense\u001b[0m)                 │ (\u001b[38;5;45mNone\u001b[0m, \u001b[38;5;34m32\u001b[0m)             │         \u001b[38;5;34m4,128\u001b[0m │\n",
       "├─────────────────────────────────┼────────────────────────┼───────────────┤\n",
       "│ dense_3 (\u001b[38;5;33mDense\u001b[0m)                 │ (\u001b[38;5;45mNone\u001b[0m, \u001b[38;5;34m3\u001b[0m)              │            \u001b[38;5;34m99\u001b[0m │\n",
       "└─────────────────────────────────┴────────────────────────┴───────────────┘\n"
      ]
     },
     "metadata": {},
     "output_type": "display_data"
    },
    {
     "data": {
      "text/html": [
       "<pre style=\"white-space:pre;overflow-x:auto;line-height:normal;font-family:Menlo,'DejaVu Sans Mono',consolas,'Courier New',monospace\"><span style=\"font-weight: bold\"> Total params: </span><span style=\"color: #00af00; text-decoration-color: #00af00\">17,908,066</span> (68.31 MB)\n",
       "</pre>\n"
      ],
      "text/plain": [
       "\u001b[1m Total params: \u001b[0m\u001b[38;5;34m17,908,066\u001b[0m (68.31 MB)\n"
      ]
     },
     "metadata": {},
     "output_type": "display_data"
    },
    {
     "data": {
      "text/html": [
       "<pre style=\"white-space:pre;overflow-x:auto;line-height:normal;font-family:Menlo,'DejaVu Sans Mono',consolas,'Courier New',monospace\"><span style=\"font-weight: bold\"> Trainable params: </span><span style=\"color: #00af00; text-decoration-color: #00af00\">233,987</span> (914.01 KB)\n",
       "</pre>\n"
      ],
      "text/plain": [
       "\u001b[1m Trainable params: \u001b[0m\u001b[38;5;34m233,987\u001b[0m (914.01 KB)\n"
      ]
     },
     "metadata": {},
     "output_type": "display_data"
    },
    {
     "data": {
      "text/html": [
       "<pre style=\"white-space:pre;overflow-x:auto;line-height:normal;font-family:Menlo,'DejaVu Sans Mono',consolas,'Courier New',monospace\"><span style=\"font-weight: bold\"> Non-trainable params: </span><span style=\"color: #00af00; text-decoration-color: #00af00\">17,674,079</span> (67.42 MB)\n",
       "</pre>\n"
      ],
      "text/plain": [
       "\u001b[1m Non-trainable params: \u001b[0m\u001b[38;5;34m17,674,079\u001b[0m (67.42 MB)\n"
      ]
     },
     "metadata": {},
     "output_type": "display_data"
    }
   ],
   "source": [
    "# Resize-Rescale Layer will be added to Model itself for easy deployment\n",
    "efficientNetModel = tf.keras.Sequential([\n",
    "    tf.keras.layers.Input(shape=(None, None, 3)),\n",
    "    backbone, # Feature Extractor Part of Model\n",
    "    tf.keras.layers.GlobalAveragePooling2D(),\n",
    "    tf.keras.layers.Dense(CONFIGURATION['N_DENSE_1'], activation='relu'),\n",
    "    tf.keras.layers.BatchNormalization(),\n",
    "    tf.keras.layers.Dense(CONFIGURATION['N_DENSE_2'], activation='relu'),\n",
    "    tf.keras.layers.Dense(CONFIGURATION['NUM_CLASSES'], activation='softmax')\n",
    "])\n",
    "efficientNetModel.summary()"
   ]
  },
  {
   "cell_type": "code",
   "execution_count": 11,
   "metadata": {},
   "outputs": [],
   "source": [
    "efficientNetModel.compile(\n",
    "    optimizer = tf.keras.optimizers.Adam(learning_rate=CONFIGURATION[\"LEARNING_RATE\"]),\n",
    "    loss = lossFunction,\n",
    "    metrics=METRICS\n",
    ")"
   ]
  },
  {
   "cell_type": "code",
   "execution_count": 12,
   "metadata": {},
   "outputs": [
    {
     "name": "stdout",
     "output_type": "stream",
     "text": [
      "Epoch 1/60\n",
      "\u001b[1m170/170\u001b[0m \u001b[32m━━━━━━━━━━━━━━━━━━━━\u001b[0m\u001b[37m\u001b[0m \u001b[1m94s\u001b[0m 484ms/step - accuracy: 0.6761 - loss: 1.1505 - top_k_accuracy: 0.8830 - val_accuracy: 0.6483 - val_loss: 0.7990 - val_top_k_accuracy: 0.8683\n",
      "Epoch 2/60\n",
      "\u001b[1m170/170\u001b[0m \u001b[32m━━━━━━━━━━━━━━━━━━━━\u001b[0m\u001b[37m\u001b[0m \u001b[1m73s\u001b[0m 429ms/step - accuracy: 0.7074 - loss: 0.7082 - top_k_accuracy: 0.9071 - val_accuracy: 0.7042 - val_loss: 0.7210 - val_top_k_accuracy: 0.9124\n",
      "Epoch 3/60\n",
      "\u001b[1m170/170\u001b[0m \u001b[32m━━━━━━━━━━━━━━━━━━━━\u001b[0m\u001b[37m\u001b[0m \u001b[1m72s\u001b[0m 426ms/step - accuracy: 0.7109 - loss: 0.7242 - top_k_accuracy: 0.9149 - val_accuracy: 0.6431 - val_loss: 1.3089 - val_top_k_accuracy: 0.8801\n",
      "Epoch 4/60\n",
      "\u001b[1m170/170\u001b[0m \u001b[32m━━━━━━━━━━━━━━━━━━━━\u001b[0m\u001b[37m\u001b[0m \u001b[1m73s\u001b[0m 430ms/step - accuracy: 0.6979 - loss: 0.9460 - top_k_accuracy: 0.9120 - val_accuracy: 0.6071 - val_loss: 1.4983 - val_top_k_accuracy: 0.8344\n",
      "Epoch 5/60\n",
      "\u001b[1m170/170\u001b[0m \u001b[32m━━━━━━━━━━━━━━━━━━━━\u001b[0m\u001b[37m\u001b[0m \u001b[1m72s\u001b[0m 425ms/step - accuracy: 0.6992 - loss: 1.0046 - top_k_accuracy: 0.9027 - val_accuracy: 0.6512 - val_loss: 1.2222 - val_top_k_accuracy: 0.8904\n",
      "Epoch 6/60\n",
      "\u001b[1m170/170\u001b[0m \u001b[32m━━━━━━━━━━━━━━━━━━━━\u001b[0m\u001b[37m\u001b[0m \u001b[1m74s\u001b[0m 434ms/step - accuracy: 0.6946 - loss: 1.4616 - top_k_accuracy: 0.9077 - val_accuracy: 0.6556 - val_loss: 2.8146 - val_top_k_accuracy: 0.8882\n",
      "Epoch 7/60\n",
      "\u001b[1m170/170\u001b[0m \u001b[32m━━━━━━━━━━━━━━━━━━━━\u001b[0m\u001b[37m\u001b[0m \u001b[1m74s\u001b[0m 437ms/step - accuracy: 0.6722 - loss: 3.0895 - top_k_accuracy: 0.8922 - val_accuracy: 0.6821 - val_loss: 2.8856 - val_top_k_accuracy: 0.9043\n",
      "Epoch 8/60\n",
      "\u001b[1m170/170\u001b[0m \u001b[32m━━━━━━━━━━━━━━━━━━━━\u001b[0m\u001b[37m\u001b[0m \u001b[1m73s\u001b[0m 429ms/step - accuracy: 0.6651 - loss: 4.8736 - top_k_accuracy: 0.8929 - val_accuracy: 0.6630 - val_loss: 8.9681 - val_top_k_accuracy: 0.8948\n",
      "Epoch 9/60\n",
      "\u001b[1m170/170\u001b[0m \u001b[32m━━━━━━━━━━━━━━━━━━━━\u001b[0m\u001b[37m\u001b[0m \u001b[1m73s\u001b[0m 432ms/step - accuracy: 0.6717 - loss: 7.6980 - top_k_accuracy: 0.8874 - val_accuracy: 0.5622 - val_loss: 10.0855 - val_top_k_accuracy: 0.8786\n",
      "Epoch 10/60\n",
      "\u001b[1m170/170\u001b[0m \u001b[32m━━━━━━━━━━━━━━━━━━━━\u001b[0m\u001b[37m\u001b[0m \u001b[1m72s\u001b[0m 425ms/step - accuracy: 0.6711 - loss: 8.3910 - top_k_accuracy: 0.8879 - val_accuracy: 0.6902 - val_loss: 11.0897 - val_top_k_accuracy: 0.8683\n",
      "Epoch 11/60\n",
      "\u001b[1m170/170\u001b[0m \u001b[32m━━━━━━━━━━━━━━━━━━━━\u001b[0m\u001b[37m\u001b[0m \u001b[1m72s\u001b[0m 424ms/step - accuracy: 0.6520 - loss: 13.0812 - top_k_accuracy: 0.8958 - val_accuracy: 0.6652 - val_loss: 19.3063 - val_top_k_accuracy: 0.8889\n",
      "Epoch 12/60\n",
      "\u001b[1m170/170\u001b[0m \u001b[32m━━━━━━━━━━━━━━━━━━━━\u001b[0m\u001b[37m\u001b[0m \u001b[1m73s\u001b[0m 428ms/step - accuracy: 0.6668 - loss: 20.9068 - top_k_accuracy: 0.9119 - val_accuracy: 0.7086 - val_loss: 20.2679 - val_top_k_accuracy: 0.9294\n",
      "Epoch 13/60\n",
      "\u001b[1m170/170\u001b[0m \u001b[32m━━━━━━━━━━━━━━━━━━━━\u001b[0m\u001b[37m\u001b[0m \u001b[1m75s\u001b[0m 439ms/step - accuracy: 0.6981 - loss: 15.6772 - top_k_accuracy: 0.9188 - val_accuracy: 0.5843 - val_loss: 38.2003 - val_top_k_accuracy: 0.8948\n",
      "Epoch 14/60\n",
      "\u001b[1m170/170\u001b[0m \u001b[32m━━━━━━━━━━━━━━━━━━━━\u001b[0m\u001b[37m\u001b[0m \u001b[1m73s\u001b[0m 429ms/step - accuracy: 0.6665 - loss: 30.3585 - top_k_accuracy: 0.9184 - val_accuracy: 0.6968 - val_loss: 37.4320 - val_top_k_accuracy: 0.9603\n",
      "Epoch 15/60\n",
      "\u001b[1m170/170\u001b[0m \u001b[32m━━━━━━━━━━━━━━━━━━━━\u001b[0m\u001b[37m\u001b[0m \u001b[1m74s\u001b[0m 437ms/step - accuracy: 0.6714 - loss: 43.6619 - top_k_accuracy: 0.9454 - val_accuracy: 0.7079 - val_loss: 26.2426 - val_top_k_accuracy: 0.9500\n",
      "Epoch 16/60\n",
      "\u001b[1m170/170\u001b[0m \u001b[32m━━━━━━━━━━━━━━━━━━━━\u001b[0m\u001b[37m\u001b[0m \u001b[1m74s\u001b[0m 434ms/step - accuracy: 0.7121 - loss: 35.4727 - top_k_accuracy: 0.9491 - val_accuracy: 0.6424 - val_loss: 82.5267 - val_top_k_accuracy: 0.9625\n",
      "Epoch 17/60\n",
      "\u001b[1m170/170\u001b[0m \u001b[32m━━━━━━━━━━━━━━━━━━━━\u001b[0m\u001b[37m\u001b[0m \u001b[1m72s\u001b[0m 422ms/step - accuracy: 0.6816 - loss: 62.7470 - top_k_accuracy: 0.9561 - val_accuracy: 0.5710 - val_loss: 105.1539 - val_top_k_accuracy: 0.9323\n",
      "Epoch 18/60\n",
      "\u001b[1m170/170\u001b[0m \u001b[32m━━━━━━━━━━━━━━━━━━━━\u001b[0m\u001b[37m\u001b[0m \u001b[1m74s\u001b[0m 434ms/step - accuracy: 0.7156 - loss: 51.9114 - top_k_accuracy: 0.9662 - val_accuracy: 0.7057 - val_loss: 47.5589 - val_top_k_accuracy: 0.9632\n",
      "Epoch 19/60\n",
      "\u001b[1m170/170\u001b[0m \u001b[32m━━━━━━━━━━━━━━━━━━━━\u001b[0m\u001b[37m\u001b[0m \u001b[1m73s\u001b[0m 429ms/step - accuracy: 0.7243 - loss: 51.5215 - top_k_accuracy: 0.9599 - val_accuracy: 0.7410 - val_loss: 55.0121 - val_top_k_accuracy: 0.9669\n",
      "Epoch 20/60\n",
      "\u001b[1m170/170\u001b[0m \u001b[32m━━━━━━━━━━━━━━━━━━━━\u001b[0m\u001b[37m\u001b[0m \u001b[1m73s\u001b[0m 427ms/step - accuracy: 0.7308 - loss: 55.4346 - top_k_accuracy: 0.9768 - val_accuracy: 0.5195 - val_loss: 264.7945 - val_top_k_accuracy: 0.9823\n",
      "Epoch 21/60\n",
      "\u001b[1m170/170\u001b[0m \u001b[32m━━━━━━━━━━━━━━━━━━━━\u001b[0m\u001b[37m\u001b[0m \u001b[1m73s\u001b[0m 431ms/step - accuracy: 0.7084 - loss: 92.0599 - top_k_accuracy: 0.9716 - val_accuracy: 0.6777 - val_loss: 100.5283 - val_top_k_accuracy: 0.9691\n",
      "Epoch 22/60\n",
      "\u001b[1m170/170\u001b[0m \u001b[32m━━━━━━━━━━━━━━━━━━━━\u001b[0m\u001b[37m\u001b[0m \u001b[1m71s\u001b[0m 418ms/step - accuracy: 0.7081 - loss: 100.4555 - top_k_accuracy: 0.9787 - val_accuracy: 0.6439 - val_loss: 139.4705 - val_top_k_accuracy: 0.9779\n",
      "Epoch 23/60\n",
      "\u001b[1m170/170\u001b[0m \u001b[32m━━━━━━━━━━━━━━━━━━━━\u001b[0m\u001b[37m\u001b[0m \u001b[1m71s\u001b[0m 415ms/step - accuracy: 0.6884 - loss: 139.6806 - top_k_accuracy: 0.9783 - val_accuracy: 0.6726 - val_loss: 146.4291 - val_top_k_accuracy: 0.9801\n",
      "Epoch 24/60\n",
      "\u001b[1m170/170\u001b[0m \u001b[32m━━━━━━━━━━━━━━━━━━━━\u001b[0m\u001b[37m\u001b[0m \u001b[1m71s\u001b[0m 419ms/step - accuracy: 0.6882 - loss: 150.4512 - top_k_accuracy: 0.9852 - val_accuracy: 0.6284 - val_loss: 147.7389 - val_top_k_accuracy: 0.9639\n",
      "Epoch 25/60\n",
      "\u001b[1m170/170\u001b[0m \u001b[32m━━━━━━━━━━━━━━━━━━━━\u001b[0m\u001b[37m\u001b[0m \u001b[1m73s\u001b[0m 431ms/step - accuracy: 0.7263 - loss: 104.5997 - top_k_accuracy: 0.9822 - val_accuracy: 0.7182 - val_loss: 111.2597 - val_top_k_accuracy: 0.9868\n",
      "Epoch 26/60\n",
      "\u001b[1m170/170\u001b[0m \u001b[32m━━━━━━━━━━━━━━━━━━━━\u001b[0m\u001b[37m\u001b[0m \u001b[1m76s\u001b[0m 444ms/step - accuracy: 0.7217 - loss: 124.6396 - top_k_accuracy: 0.9891 - val_accuracy: 0.7079 - val_loss: 151.8995 - val_top_k_accuracy: 0.9838\n",
      "Epoch 27/60\n",
      "\u001b[1m170/170\u001b[0m \u001b[32m━━━━━━━━━━━━━━━━━━━━\u001b[0m\u001b[37m\u001b[0m \u001b[1m72s\u001b[0m 424ms/step - accuracy: 0.7256 - loss: 127.6122 - top_k_accuracy: 0.9834 - val_accuracy: 0.6851 - val_loss: 161.2441 - val_top_k_accuracy: 0.9831\n",
      "Epoch 28/60\n",
      "\u001b[1m170/170\u001b[0m \u001b[32m━━━━━━━━━━━━━━━━━━━━\u001b[0m\u001b[37m\u001b[0m \u001b[1m72s\u001b[0m 426ms/step - accuracy: 0.7115 - loss: 181.2100 - top_k_accuracy: 0.9901 - val_accuracy: 0.7373 - val_loss: 132.7717 - val_top_k_accuracy: 0.9882\n",
      "Epoch 29/60\n",
      "\u001b[1m170/170\u001b[0m \u001b[32m━━━━━━━━━━━━━━━━━━━━\u001b[0m\u001b[37m\u001b[0m \u001b[1m74s\u001b[0m 433ms/step - accuracy: 0.6998 - loss: 222.6669 - top_k_accuracy: 0.9930 - val_accuracy: 0.7277 - val_loss: 181.9955 - val_top_k_accuracy: 0.9912\n",
      "Epoch 30/60\n",
      "\u001b[1m170/170\u001b[0m \u001b[32m━━━━━━━━━━━━━━━━━━━━\u001b[0m\u001b[37m\u001b[0m \u001b[1m75s\u001b[0m 444ms/step - accuracy: 0.7303 - loss: 192.5352 - top_k_accuracy: 0.9894 - val_accuracy: 0.7101 - val_loss: 231.3137 - val_top_k_accuracy: 0.9897\n",
      "Epoch 31/60\n",
      "\u001b[1m170/170\u001b[0m \u001b[32m━━━━━━━━━━━━━━━━━━━━\u001b[0m\u001b[37m\u001b[0m \u001b[1m76s\u001b[0m 444ms/step - accuracy: 0.7254 - loss: 234.2604 - top_k_accuracy: 0.9940 - val_accuracy: 0.7579 - val_loss: 185.2027 - val_top_k_accuracy: 0.9934\n",
      "Epoch 32/60\n",
      "\u001b[1m170/170\u001b[0m \u001b[32m━━━━━━━━━━━━━━━━━━━━\u001b[0m\u001b[37m\u001b[0m \u001b[1m75s\u001b[0m 442ms/step - accuracy: 0.7263 - loss: 227.2663 - top_k_accuracy: 0.9936 - val_accuracy: 0.7248 - val_loss: 301.1368 - val_top_k_accuracy: 0.9948\n",
      "Epoch 33/60\n",
      "\u001b[1m170/170\u001b[0m \u001b[32m━━━━━━━━━━━━━━━━━━━━\u001b[0m\u001b[37m\u001b[0m \u001b[1m74s\u001b[0m 437ms/step - accuracy: 0.7029 - loss: 297.9348 - top_k_accuracy: 0.9956 - val_accuracy: 0.6932 - val_loss: 322.1831 - val_top_k_accuracy: 0.9934\n",
      "Epoch 34/60\n",
      "\u001b[1m170/170\u001b[0m \u001b[32m━━━━━━━━━━━━━━━━━━━━\u001b[0m\u001b[37m\u001b[0m \u001b[1m74s\u001b[0m 438ms/step - accuracy: 0.7612 - loss: 204.0889 - top_k_accuracy: 0.9920 - val_accuracy: 0.6799 - val_loss: 604.7930 - val_top_k_accuracy: 0.9956\n",
      "Epoch 35/60\n",
      "\u001b[1m170/170\u001b[0m \u001b[32m━━━━━━━━━━━━━━━━━━━━\u001b[0m\u001b[37m\u001b[0m \u001b[1m74s\u001b[0m 438ms/step - accuracy: 0.7172 - loss: 301.9748 - top_k_accuracy: 0.9919 - val_accuracy: 0.7219 - val_loss: 338.4537 - val_top_k_accuracy: 0.9919\n",
      "Epoch 36/60\n",
      "\u001b[1m170/170\u001b[0m \u001b[32m━━━━━━━━━━━━━━━━━━━━\u001b[0m\u001b[37m\u001b[0m \u001b[1m74s\u001b[0m 437ms/step - accuracy: 0.7465 - loss: 267.0240 - top_k_accuracy: 0.9948 - val_accuracy: 0.7395 - val_loss: 231.9428 - val_top_k_accuracy: 0.9941\n",
      "Epoch 37/60\n",
      "\u001b[1m170/170\u001b[0m \u001b[32m━━━━━━━━━━━━━━━━━━━━\u001b[0m\u001b[37m\u001b[0m \u001b[1m74s\u001b[0m 434ms/step - accuracy: 0.7488 - loss: 241.8989 - top_k_accuracy: 0.9937 - val_accuracy: 0.7035 - val_loss: 628.8042 - val_top_k_accuracy: 0.9971\n",
      "Epoch 38/60\n",
      "\u001b[1m170/170\u001b[0m \u001b[32m━━━━━━━━━━━━━━━━━━━━\u001b[0m\u001b[37m\u001b[0m \u001b[1m73s\u001b[0m 431ms/step - accuracy: 0.7370 - loss: 345.0908 - top_k_accuracy: 0.9951 - val_accuracy: 0.7697 - val_loss: 262.3462 - val_top_k_accuracy: 0.9963\n",
      "Epoch 39/60\n",
      "\u001b[1m170/170\u001b[0m \u001b[32m━━━━━━━━━━━━━━━━━━━━\u001b[0m\u001b[37m\u001b[0m \u001b[1m75s\u001b[0m 439ms/step - accuracy: 0.7598 - loss: 271.5377 - top_k_accuracy: 0.9965 - val_accuracy: 0.6932 - val_loss: 502.4681 - val_top_k_accuracy: 0.9971\n",
      "Epoch 40/60\n",
      "\u001b[1m170/170\u001b[0m \u001b[32m━━━━━━━━━━━━━━━━━━━━\u001b[0m\u001b[37m\u001b[0m \u001b[1m74s\u001b[0m 432ms/step - accuracy: 0.7213 - loss: 393.1010 - top_k_accuracy: 0.9965 - val_accuracy: 0.7167 - val_loss: 375.9567 - val_top_k_accuracy: 0.9912\n",
      "Epoch 41/60\n",
      "\u001b[1m170/170\u001b[0m \u001b[32m━━━━━━━━━━━━━━━━━━━━\u001b[0m\u001b[37m\u001b[0m \u001b[1m73s\u001b[0m 428ms/step - accuracy: 0.7258 - loss: 358.0570 - top_k_accuracy: 0.9958 - val_accuracy: 0.7064 - val_loss: 507.5882 - val_top_k_accuracy: 0.9956\n",
      "Epoch 42/60\n",
      "\u001b[1m170/170\u001b[0m \u001b[32m━━━━━━━━━━━━━━━━━━━━\u001b[0m\u001b[37m\u001b[0m \u001b[1m73s\u001b[0m 428ms/step - accuracy: 0.7219 - loss: 454.3408 - top_k_accuracy: 0.9985 - val_accuracy: 0.7101 - val_loss: 648.9814 - val_top_k_accuracy: 0.9971\n",
      "Epoch 43/60\n",
      "\u001b[1m170/170\u001b[0m \u001b[32m━━━━━━━━━━━━━━━━━━━━\u001b[0m\u001b[37m\u001b[0m \u001b[1m75s\u001b[0m 439ms/step - accuracy: 0.7496 - loss: 381.6792 - top_k_accuracy: 0.9967 - val_accuracy: 0.7285 - val_loss: 358.2087 - val_top_k_accuracy: 0.9963\n",
      "Epoch 44/60\n",
      "\u001b[1m170/170\u001b[0m \u001b[32m━━━━━━━━━━━━━━━━━━━━\u001b[0m\u001b[37m\u001b[0m \u001b[1m74s\u001b[0m 434ms/step - accuracy: 0.7654 - loss: 330.2978 - top_k_accuracy: 0.9951 - val_accuracy: 0.6792 - val_loss: 544.5962 - val_top_k_accuracy: 0.9934\n",
      "Epoch 45/60\n",
      "\u001b[1m170/170\u001b[0m \u001b[32m━━━━━━━━━━━━━━━━━━━━\u001b[0m\u001b[37m\u001b[0m \u001b[1m71s\u001b[0m 417ms/step - accuracy: 0.7531 - loss: 396.9799 - top_k_accuracy: 0.9958 - val_accuracy: 0.7616 - val_loss: 405.8875 - val_top_k_accuracy: 0.9956\n",
      "Epoch 46/60\n",
      "\u001b[1m170/170\u001b[0m \u001b[32m━━━━━━━━━━━━━━━━━━━━\u001b[0m\u001b[37m\u001b[0m \u001b[1m72s\u001b[0m 422ms/step - accuracy: 0.7276 - loss: 461.3884 - top_k_accuracy: 0.9965 - val_accuracy: 0.7042 - val_loss: 599.3077 - val_top_k_accuracy: 0.9985\n",
      "Epoch 47/60\n",
      "\u001b[1m170/170\u001b[0m \u001b[32m━━━━━━━━━━━━━━━━━━━━\u001b[0m\u001b[37m\u001b[0m \u001b[1m73s\u001b[0m 431ms/step - accuracy: 0.7522 - loss: 469.1947 - top_k_accuracy: 0.9972 - val_accuracy: 0.7461 - val_loss: 433.1386 - val_top_k_accuracy: 0.9971\n",
      "Epoch 48/60\n",
      "\u001b[1m170/170\u001b[0m \u001b[32m━━━━━━━━━━━━━━━━━━━━\u001b[0m\u001b[37m\u001b[0m \u001b[1m71s\u001b[0m 417ms/step - accuracy: 0.7487 - loss: 494.9132 - top_k_accuracy: 0.9967 - val_accuracy: 0.6667 - val_loss: 1010.4437 - val_top_k_accuracy: 0.9963\n",
      "Epoch 49/60\n",
      "\u001b[1m170/170\u001b[0m \u001b[32m━━━━━━━━━━━━━━━━━━━━\u001b[0m\u001b[37m\u001b[0m \u001b[1m71s\u001b[0m 417ms/step - accuracy: 0.7034 - loss: 763.2285 - top_k_accuracy: 0.9967 - val_accuracy: 0.7086 - val_loss: 844.2623 - val_top_k_accuracy: 0.9971\n",
      "Epoch 50/60\n",
      "\u001b[1m170/170\u001b[0m \u001b[32m━━━━━━━━━━━━━━━━━━━━\u001b[0m\u001b[37m\u001b[0m \u001b[1m71s\u001b[0m 417ms/step - accuracy: 0.7538 - loss: 532.6636 - top_k_accuracy: 0.9975 - val_accuracy: 0.7667 - val_loss: 487.8552 - val_top_k_accuracy: 0.9985\n",
      "Epoch 51/60\n",
      "\u001b[1m170/170\u001b[0m \u001b[32m━━━━━━━━━━━━━━━━━━━━\u001b[0m\u001b[37m\u001b[0m \u001b[1m71s\u001b[0m 418ms/step - accuracy: 0.7709 - loss: 500.3051 - top_k_accuracy: 0.9976 - val_accuracy: 0.7299 - val_loss: 540.5508 - val_top_k_accuracy: 0.9978\n",
      "Epoch 52/60\n",
      "\u001b[1m170/170\u001b[0m \u001b[32m━━━━━━━━━━━━━━━━━━━━\u001b[0m\u001b[37m\u001b[0m \u001b[1m71s\u001b[0m 417ms/step - accuracy: 0.7620 - loss: 513.8873 - top_k_accuracy: 0.9984 - val_accuracy: 0.7079 - val_loss: 914.7012 - val_top_k_accuracy: 0.9956\n",
      "Epoch 53/60\n",
      "\u001b[1m170/170\u001b[0m \u001b[32m━━━━━━━━━━━━━━━━━━━━\u001b[0m\u001b[37m\u001b[0m \u001b[1m75s\u001b[0m 442ms/step - accuracy: 0.7207 - loss: 752.7726 - top_k_accuracy: 0.9980 - val_accuracy: 0.7167 - val_loss: 817.1575 - val_top_k_accuracy: 0.9978\n",
      "Epoch 54/60\n",
      "\u001b[1m170/170\u001b[0m \u001b[32m━━━━━━━━━━━━━━━━━━━━\u001b[0m\u001b[37m\u001b[0m \u001b[1m73s\u001b[0m 427ms/step - accuracy: 0.7272 - loss: 789.1631 - top_k_accuracy: 0.9979 - val_accuracy: 0.6851 - val_loss: 1161.1940 - val_top_k_accuracy: 0.9963\n",
      "Epoch 55/60\n",
      "\u001b[1m170/170\u001b[0m \u001b[32m━━━━━━━━━━━━━━━━━━━━\u001b[0m\u001b[37m\u001b[0m \u001b[1m74s\u001b[0m 436ms/step - accuracy: 0.7506 - loss: 611.5084 - top_k_accuracy: 0.9978 - val_accuracy: 0.7027 - val_loss: 895.5258 - val_top_k_accuracy: 0.9963\n",
      "Epoch 56/60\n",
      "\u001b[1m170/170\u001b[0m \u001b[32m━━━━━━━━━━━━━━━━━━━━\u001b[0m\u001b[37m\u001b[0m \u001b[1m74s\u001b[0m 436ms/step - accuracy: 0.7431 - loss: 687.9341 - top_k_accuracy: 0.9992 - val_accuracy: 0.7719 - val_loss: 581.7112 - val_top_k_accuracy: 0.9978\n",
      "Epoch 57/60\n",
      "\u001b[1m170/170\u001b[0m \u001b[32m━━━━━━━━━━━━━━━━━━━━\u001b[0m\u001b[37m\u001b[0m \u001b[1m73s\u001b[0m 429ms/step - accuracy: 0.7305 - loss: 852.9457 - top_k_accuracy: 0.9978 - val_accuracy: 0.6571 - val_loss: 1628.7736 - val_top_k_accuracy: 0.9956\n",
      "Epoch 58/60\n",
      "\u001b[1m170/170\u001b[0m \u001b[32m━━━━━━━━━━━━━━━━━━━━\u001b[0m\u001b[37m\u001b[0m \u001b[1m74s\u001b[0m 435ms/step - accuracy: 0.7337 - loss: 863.2692 - top_k_accuracy: 0.9981 - val_accuracy: 0.7329 - val_loss: 1086.1632 - val_top_k_accuracy: 0.9993\n",
      "Epoch 59/60\n",
      "\u001b[1m170/170\u001b[0m \u001b[32m━━━━━━━━━━━━━━━━━━━━\u001b[0m\u001b[37m\u001b[0m \u001b[1m75s\u001b[0m 440ms/step - accuracy: 0.7433 - loss: 827.8282 - top_k_accuracy: 0.9972 - val_accuracy: 0.6696 - val_loss: 1968.9122 - val_top_k_accuracy: 1.0000\n",
      "Epoch 60/60\n",
      "\u001b[1m170/170\u001b[0m \u001b[32m━━━━━━━━━━━━━━━━━━━━\u001b[0m\u001b[37m\u001b[0m \u001b[1m72s\u001b[0m 424ms/step - accuracy: 0.7196 - loss: 1040.9969 - top_k_accuracy: 0.9977 - val_accuracy: 0.6983 - val_loss: 1513.4130 - val_top_k_accuracy: 0.9993\n"
     ]
    }
   ],
   "source": [
    "history2 = efficientNetModel.fit(\n",
    "    trainDataset,\n",
    "    validation_data = valDataset,\n",
    "    epochs = CONFIGURATION['N_EPOCHS'],\n",
    "    verbose=1,\n",
    ")"
   ]
  },
  {
   "cell_type": "markdown",
   "metadata": {},
   "source": [
    "## Evaluating Separate Models"
   ]
  },
  {
   "cell_type": "code",
   "execution_count": 15,
   "metadata": {},
   "outputs": [
    {
     "name": "stdout",
     "output_type": "stream",
     "text": [
      "\u001b[1m72/72\u001b[0m \u001b[32m━━━━━━━━━━━━━━━━━━━━\u001b[0m\u001b[37m\u001b[0m \u001b[1m6s\u001b[0m 86ms/step - accuracy: 0.7454 - loss: 1.1462 - top_k_accuracy: 0.9077\n"
     ]
    },
    {
     "data": {
      "text/plain": [
       "[1.169859528541565, 0.749780535697937, 0.9126426577568054]"
      ]
     },
     "execution_count": 15,
     "metadata": {},
     "output_type": "execute_result"
    }
   ],
   "source": [
    "resNet34Model.evaluate(testDataset)"
   ]
  },
  {
   "cell_type": "code",
   "execution_count": 16,
   "metadata": {},
   "outputs": [
    {
     "name": "stdout",
     "output_type": "stream",
     "text": [
      "\u001b[1m72/72\u001b[0m \u001b[32m━━━━━━━━━━━━━━━━━━━━\u001b[0m\u001b[37m\u001b[0m \u001b[1m24s\u001b[0m 322ms/step - accuracy: 0.7105 - loss: 1600.7487 - top_k_accuracy: 0.9979\n"
     ]
    },
    {
     "data": {
      "text/plain": [
       "[1505.709228515625, 0.724319577217102, 0.998244047164917]"
      ]
     },
     "execution_count": 16,
     "metadata": {},
     "output_type": "execute_result"
    }
   ],
   "source": [
    "efficientNetModel.evaluate(testDataset)"
   ]
  },
  {
   "cell_type": "markdown",
   "metadata": {},
   "source": [
    "## Ensembling Both Models"
   ]
  },
  {
   "cell_type": "code",
   "execution_count": 19,
   "metadata": {},
   "outputs": [],
   "source": [
    "input = tf.keras.layers.Input(shape=(CONFIGURATION[\"IMAGE_SIZE\"], CONFIGURATION[\"IMAGE_SIZE\"], 3))\n",
    "\n",
    "y1 = resNet34Model(input)\n",
    "y2 = efficientNetModel(input)\n",
    "\n",
    "output = 0.5*y1 + 0.5*y2\n",
    "ensembleModel = tf.keras.Model(inputs=input, outputs=output)"
   ]
  },
  {
   "cell_type": "code",
   "execution_count": 20,
   "metadata": {},
   "outputs": [],
   "source": [
    "ensembleModel.compile(\n",
    "    optimizer = tf.keras.optimizers.Adam(learning_rate=CONFIGURATION[\"LEARNING_RATE\"]),\n",
    "    loss = lossFunction,\n",
    "    metrics=METRICS\n",
    ")"
   ]
  },
  {
   "cell_type": "code",
   "execution_count": 21,
   "metadata": {},
   "outputs": [
    {
     "name": "stdout",
     "output_type": "stream",
     "text": [
      "\u001b[1m72/72\u001b[0m \u001b[32m━━━━━━━━━━━━━━━━━━━━\u001b[0m\u001b[37m\u001b[0m \u001b[1m37s\u001b[0m 435ms/step - accuracy: 0.7237 - loss: 0.8546 - top_k_accuracy: 0.9729\n"
     ]
    },
    {
     "data": {
      "text/plain": [
       "[0.8374080061912537, 0.724319577217102, 0.9582967758178711]"
      ]
     },
     "execution_count": 21,
     "metadata": {},
     "output_type": "execute_result"
    }
   ],
   "source": [
    "ensembleModel.evaluate(testDataset)"
   ]
  }
 ],
 "metadata": {
  "kernelspec": {
   "display_name": "ComputerVision",
   "language": "python",
   "name": "python3"
  },
  "language_info": {
   "codemirror_mode": {
    "name": "ipython",
    "version": 3
   },
   "file_extension": ".py",
   "mimetype": "text/x-python",
   "name": "python",
   "nbconvert_exporter": "python",
   "pygments_lexer": "ipython3",
   "version": "3.11.11"
  }
 },
 "nbformat": 4,
 "nbformat_minor": 2
}
