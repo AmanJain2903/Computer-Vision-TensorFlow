{
 "cells": [
  {
   "cell_type": "markdown",
   "metadata": {},
   "source": [
    "# EXPERIMENT TRACKING USING WandB"
   ]
  },
  {
   "cell_type": "markdown",
   "metadata": {},
   "source": [
    "## https://wandb.ai/site/"
   ]
  },
  {
   "cell_type": "code",
   "execution_count": 1,
   "metadata": {},
   "outputs": [],
   "source": [
    "# ! pip install wandb"
   ]
  },
  {
   "cell_type": "code",
   "execution_count": 2,
   "metadata": {},
   "outputs": [
    {
     "name": "stdout",
     "output_type": "stream",
     "text": [
      "\u001b[34m\u001b[1mwandb\u001b[0m: Currently logged in as: \u001b[33mamanjn2003\u001b[0m (\u001b[33mamanjn2003-santa-clara-university\u001b[0m). Use \u001b[1m`wandb login --relogin`\u001b[0m to force relogin\n"
     ]
    }
   ],
   "source": [
    "! wandb login"
   ]
  },
  {
   "cell_type": "code",
   "execution_count": 3,
   "metadata": {},
   "outputs": [],
   "source": [
    "# Import Depedencies\n",
    "import tensorflow as tf\n",
    "import numpy as np\n",
    "import matplotlib.pyplot as plt\n",
    "import cv2\n",
    "import datetime\n",
    "import tensorflow_datasets as tfds\n",
    "from tensorflow.keras.layers import Input, Normalization, Conv2D, MaxPooling2D, Dense, Flatten, BatchNormalization, Dropout\n",
    "from tensorflow.keras.metrics import BinaryAccuracy, FalsePositives, FalseNegatives, TrueNegatives, TruePositives, Precision, Recall, F1Score, AUC\n",
    "from tensorflow.keras.regularizers import L2\n",
    "import wandb\n",
    "from wandb.integration.keras import WandbMetricsLogger, WandbModelCheckpoint, WandbEvalCallback, WandbCallback"
   ]
  },
  {
   "cell_type": "markdown",
   "metadata": {},
   "source": [
    "## Initializing a WandB run"
   ]
  },
  {
   "cell_type": "code",
   "execution_count": 4,
   "metadata": {},
   "outputs": [
    {
     "name": "stderr",
     "output_type": "stream",
     "text": [
      "\u001b[34m\u001b[1mwandb\u001b[0m: Currently logged in as: \u001b[33mamanjn2003\u001b[0m (\u001b[33mamanjn2003-santa-clara-university\u001b[0m). Use \u001b[1m`wandb login --relogin`\u001b[0m to force relogin\n",
      "\u001b[34m\u001b[1mwandb\u001b[0m: Using wandb-core as the SDK backend.  Please refer to https://wandb.me/wandb-core for more information.\n"
     ]
    },
    {
     "data": {
      "text/html": [
       "Tracking run with wandb version 0.19.4"
      ],
      "text/plain": [
       "<IPython.core.display.HTML object>"
      ]
     },
     "metadata": {},
     "output_type": "display_data"
    },
    {
     "data": {
      "text/html": [
       "Run data is saved locally in <code>/Users/aman/Documents/Work/Machine Learning/Computer-Vision-TensorFlow/Weights&Biases-Integration/wandb/run-20250127_114637-q09xmavb</code>"
      ],
      "text/plain": [
       "<IPython.core.display.HTML object>"
      ]
     },
     "metadata": {},
     "output_type": "display_data"
    },
    {
     "data": {
      "text/html": [
       "Syncing run <strong><a href='https://wandb.ai/amanjn2003-santa-clara-university/Malaria-Detection/runs/q09xmavb' target=\"_blank\">Run 1 - Inbuilt Callback</a></strong> to <a href='https://wandb.ai/amanjn2003-santa-clara-university/Malaria-Detection' target=\"_blank\">Weights & Biases</a> (<a href='https://wandb.me/developer-guide' target=\"_blank\">docs</a>)<br>"
      ],
      "text/plain": [
       "<IPython.core.display.HTML object>"
      ]
     },
     "metadata": {},
     "output_type": "display_data"
    },
    {
     "data": {
      "text/html": [
       " View project at <a href='https://wandb.ai/amanjn2003-santa-clara-university/Malaria-Detection' target=\"_blank\">https://wandb.ai/amanjn2003-santa-clara-university/Malaria-Detection</a>"
      ],
      "text/plain": [
       "<IPython.core.display.HTML object>"
      ]
     },
     "metadata": {},
     "output_type": "display_data"
    },
    {
     "data": {
      "text/html": [
       " View run at <a href='https://wandb.ai/amanjn2003-santa-clara-university/Malaria-Detection/runs/q09xmavb' target=\"_blank\">https://wandb.ai/amanjn2003-santa-clara-university/Malaria-Detection/runs/q09xmavb</a>"
      ],
      "text/plain": [
       "<IPython.core.display.HTML object>"
      ]
     },
     "metadata": {},
     "output_type": "display_data"
    },
    {
     "data": {
      "text/html": [
       "<button onClick=\"this.nextSibling.style.display='block';this.style.display='none';\">Display W&B run</button><iframe src='https://wandb.ai/amanjn2003-santa-clara-university/Malaria-Detection/runs/q09xmavb?jupyter=true' style='border:none;width:100%;height:420px;display:none;'></iframe>"
      ],
      "text/plain": [
       "<wandb.sdk.wandb_run.Run at 0x337216750>"
      ]
     },
     "execution_count": 4,
     "metadata": {},
     "output_type": "execute_result"
    }
   ],
   "source": [
    "wandb.init(name = \"Run 1 - Inbuilt Callback\", project=\"Malaria-Detection\", entity=\"amanjn2003-santa-clara-university\", settings=wandb.Settings(init_timeout=300))"
   ]
  },
  {
   "cell_type": "code",
   "execution_count": 5,
   "metadata": {},
   "outputs": [
    {
     "name": "stderr",
     "output_type": "stream",
     "text": [
      "2025-01-27 11:46:38.138529: I metal_plugin/src/device/metal_device.cc:1154] Metal device set to: Apple M3 Pro\n",
      "2025-01-27 11:46:38.138557: I metal_plugin/src/device/metal_device.cc:296] systemMemory: 18.00 GB\n",
      "2025-01-27 11:46:38.138560: I metal_plugin/src/device/metal_device.cc:313] maxCacheSize: 6.00 GB\n",
      "2025-01-27 11:46:38.138576: I tensorflow/core/common_runtime/pluggable_device/pluggable_device_factory.cc:305] Could not identify NUMA node of platform GPU ID 0, defaulting to 0. Your kernel may not have been built with NUMA support.\n",
      "2025-01-27 11:46:38.138588: I tensorflow/core/common_runtime/pluggable_device/pluggable_device_factory.cc:271] Created TensorFlow device (/job:localhost/replica:0/task:0/device:GPU:0 with 0 MB memory) -> physical PluggableDevice (device: 0, name: METAL, pci bus id: <undefined>)\n"
     ]
    }
   ],
   "source": [
    "# Load Malaria Dataset From Tensorflow Datasets\n",
    "dataset, datasetInfo = tfds.load(\"malaria\", \n",
    "                                 with_info=True, \n",
    "                                 shuffle_files=True) # -----------++++++    ->    ---+++-++--+++-\n",
    "\n",
    "# Dataset Split Function\n",
    "def split(dataset, TRAIN_RATIO, VAL_RATIO, TEST_RATIO):\n",
    "    trainDataset = dataset.take(int(TRAIN_RATIO*len(dataset)))\n",
    "    leftDataset = dataset.skip(int(TRAIN_RATIO*len(dataset)))\n",
    "    valDataset = leftDataset.take(int(VAL_RATIO*len(dataset)))\n",
    "    testDataset = leftDataset.skip(int(VAL_RATIO*len(dataset)))\n",
    "    return trainDataset, valDataset, testDataset\n",
    "\n",
    "# Split Dataset As 80/10/10 \n",
    "TRAIN_RATIO = 0.8\n",
    "VAL_RATIO = 0.1\n",
    "TEST_RATIO = 0.1\n",
    "trainDataset, valDataset, testDataset = split(dataset['train'], TRAIN_RATIO, VAL_RATIO, TEST_RATIO)\n",
    "\n",
    "IMAGE_SIZE = 224\n",
    "def resizeRescale(inputs):\n",
    "    return tf.image.resize(inputs['image'], (IMAGE_SIZE, IMAGE_SIZE))/255., inputs['label']\n",
    "trainDataset = trainDataset.map(resizeRescale)\n",
    "valDataset = valDataset.map(resizeRescale)\n",
    "testDataset = testDataset.map(resizeRescale)\n",
    "\n",
    "# Dataset Batching\n",
    "BATCH_SIZE=32\n",
    "BUFFER_SIZE = 8\n",
    "trainDataset = trainDataset.shuffle(buffer_size=BUFFER_SIZE, reshuffle_each_iteration=True).batch(BATCH_SIZE).prefetch(tf.data.AUTOTUNE)\n",
    "valDataset = valDataset.shuffle(buffer_size=BUFFER_SIZE, reshuffle_each_iteration=True).batch(BATCH_SIZE).prefetch(tf.data.AUTOTUNE)\n",
    "testDataset = testDataset.shuffle(buffer_size=BUFFER_SIZE, reshuffle_each_iteration=True).batch(BATCH_SIZE).prefetch(tf.data.AUTOTUNE)"
   ]
  },
  {
   "cell_type": "markdown",
   "metadata": {},
   "source": [
    "## WandB Configurations"
   ]
  },
  {
   "cell_type": "code",
   "execution_count": 6,
   "metadata": {},
   "outputs": [],
   "source": [
    "wandb.config = {\n",
    "    \"LEARNING_RATE\" : 0.001,\n",
    "    \"N_EPOCHS\" : 20,\n",
    "    \"BATCH_SIZE\" : 128,\n",
    "    \"DROPOUT_RATE\": 0.0,\n",
    "    \"IM_SIZE\" : 224,\n",
    "    \"REGULARIZATION_RATE\" : 0.0,\n",
    "    \"N_FILTERS\" : 6,\n",
    "    \"KERNEL_SIZE\" : 3,\n",
    "    \"N_STRIDES\" : 1,\n",
    "    \"POOL_SIZE\" : 2,\n",
    "    \"N_DENSE_1\" : 128,\n",
    "    \"N_DENSE_2\" : 32\n",
    "}"
   ]
  },
  {
   "cell_type": "code",
   "execution_count": 7,
   "metadata": {},
   "outputs": [
    {
     "data": {
      "text/html": [
       "<pre style=\"white-space:pre;overflow-x:auto;line-height:normal;font-family:Menlo,'DejaVu Sans Mono',consolas,'Courier New',monospace\"><span style=\"font-weight: bold\">Model: \"sequential\"</span>\n",
       "</pre>\n"
      ],
      "text/plain": [
       "\u001b[1mModel: \"sequential\"\u001b[0m\n"
      ]
     },
     "metadata": {},
     "output_type": "display_data"
    },
    {
     "data": {
      "text/html": [
       "<pre style=\"white-space:pre;overflow-x:auto;line-height:normal;font-family:Menlo,'DejaVu Sans Mono',consolas,'Courier New',monospace\">┏━━━━━━━━━━━━━━━━━━━━━━━━━━━━━━━━━┳━━━━━━━━━━━━━━━━━━━━━━━━┳━━━━━━━━━━━━━━━┓\n",
       "┃<span style=\"font-weight: bold\"> Layer (type)                    </span>┃<span style=\"font-weight: bold\"> Output Shape           </span>┃<span style=\"font-weight: bold\">       Param # </span>┃\n",
       "┡━━━━━━━━━━━━━━━━━━━━━━━━━━━━━━━━━╇━━━━━━━━━━━━━━━━━━━━━━━━╇━━━━━━━━━━━━━━━┩\n",
       "│ conv2d (<span style=\"color: #0087ff; text-decoration-color: #0087ff\">Conv2D</span>)                 │ (<span style=\"color: #00d7ff; text-decoration-color: #00d7ff\">None</span>, <span style=\"color: #00af00; text-decoration-color: #00af00\">222</span>, <span style=\"color: #00af00; text-decoration-color: #00af00\">222</span>, <span style=\"color: #00af00; text-decoration-color: #00af00\">6</span>)    │           <span style=\"color: #00af00; text-decoration-color: #00af00\">168</span> │\n",
       "├─────────────────────────────────┼────────────────────────┼───────────────┤\n",
       "│ batch_normalization             │ (<span style=\"color: #00d7ff; text-decoration-color: #00d7ff\">None</span>, <span style=\"color: #00af00; text-decoration-color: #00af00\">222</span>, <span style=\"color: #00af00; text-decoration-color: #00af00\">222</span>, <span style=\"color: #00af00; text-decoration-color: #00af00\">6</span>)    │            <span style=\"color: #00af00; text-decoration-color: #00af00\">24</span> │\n",
       "│ (<span style=\"color: #0087ff; text-decoration-color: #0087ff\">BatchNormalization</span>)            │                        │               │\n",
       "├─────────────────────────────────┼────────────────────────┼───────────────┤\n",
       "│ max_pooling2d (<span style=\"color: #0087ff; text-decoration-color: #0087ff\">MaxPooling2D</span>)    │ (<span style=\"color: #00d7ff; text-decoration-color: #00d7ff\">None</span>, <span style=\"color: #00af00; text-decoration-color: #00af00\">221</span>, <span style=\"color: #00af00; text-decoration-color: #00af00\">221</span>, <span style=\"color: #00af00; text-decoration-color: #00af00\">6</span>)    │             <span style=\"color: #00af00; text-decoration-color: #00af00\">0</span> │\n",
       "├─────────────────────────────────┼────────────────────────┼───────────────┤\n",
       "│ dropout (<span style=\"color: #0087ff; text-decoration-color: #0087ff\">Dropout</span>)               │ (<span style=\"color: #00d7ff; text-decoration-color: #00d7ff\">None</span>, <span style=\"color: #00af00; text-decoration-color: #00af00\">221</span>, <span style=\"color: #00af00; text-decoration-color: #00af00\">221</span>, <span style=\"color: #00af00; text-decoration-color: #00af00\">6</span>)    │             <span style=\"color: #00af00; text-decoration-color: #00af00\">0</span> │\n",
       "├─────────────────────────────────┼────────────────────────┼───────────────┤\n",
       "│ conv2d_1 (<span style=\"color: #0087ff; text-decoration-color: #0087ff\">Conv2D</span>)               │ (<span style=\"color: #00d7ff; text-decoration-color: #00d7ff\">None</span>, <span style=\"color: #00af00; text-decoration-color: #00af00\">219</span>, <span style=\"color: #00af00; text-decoration-color: #00af00\">219</span>, <span style=\"color: #00af00; text-decoration-color: #00af00\">6</span>)    │           <span style=\"color: #00af00; text-decoration-color: #00af00\">330</span> │\n",
       "├─────────────────────────────────┼────────────────────────┼───────────────┤\n",
       "│ batch_normalization_1           │ (<span style=\"color: #00d7ff; text-decoration-color: #00d7ff\">None</span>, <span style=\"color: #00af00; text-decoration-color: #00af00\">219</span>, <span style=\"color: #00af00; text-decoration-color: #00af00\">219</span>, <span style=\"color: #00af00; text-decoration-color: #00af00\">6</span>)    │            <span style=\"color: #00af00; text-decoration-color: #00af00\">24</span> │\n",
       "│ (<span style=\"color: #0087ff; text-decoration-color: #0087ff\">BatchNormalization</span>)            │                        │               │\n",
       "├─────────────────────────────────┼────────────────────────┼───────────────┤\n",
       "│ max_pooling2d_1 (<span style=\"color: #0087ff; text-decoration-color: #0087ff\">MaxPooling2D</span>)  │ (<span style=\"color: #00d7ff; text-decoration-color: #00d7ff\">None</span>, <span style=\"color: #00af00; text-decoration-color: #00af00\">218</span>, <span style=\"color: #00af00; text-decoration-color: #00af00\">218</span>, <span style=\"color: #00af00; text-decoration-color: #00af00\">6</span>)    │             <span style=\"color: #00af00; text-decoration-color: #00af00\">0</span> │\n",
       "├─────────────────────────────────┼────────────────────────┼───────────────┤\n",
       "│ flatten (<span style=\"color: #0087ff; text-decoration-color: #0087ff\">Flatten</span>)               │ (<span style=\"color: #00d7ff; text-decoration-color: #00d7ff\">None</span>, <span style=\"color: #00af00; text-decoration-color: #00af00\">285144</span>)         │             <span style=\"color: #00af00; text-decoration-color: #00af00\">0</span> │\n",
       "├─────────────────────────────────┼────────────────────────┼───────────────┤\n",
       "│ dense (<span style=\"color: #0087ff; text-decoration-color: #0087ff\">Dense</span>)                   │ (<span style=\"color: #00d7ff; text-decoration-color: #00d7ff\">None</span>, <span style=\"color: #00af00; text-decoration-color: #00af00\">128</span>)            │    <span style=\"color: #00af00; text-decoration-color: #00af00\">36,498,560</span> │\n",
       "├─────────────────────────────────┼────────────────────────┼───────────────┤\n",
       "│ batch_normalization_2           │ (<span style=\"color: #00d7ff; text-decoration-color: #00d7ff\">None</span>, <span style=\"color: #00af00; text-decoration-color: #00af00\">128</span>)            │           <span style=\"color: #00af00; text-decoration-color: #00af00\">512</span> │\n",
       "│ (<span style=\"color: #0087ff; text-decoration-color: #0087ff\">BatchNormalization</span>)            │                        │               │\n",
       "├─────────────────────────────────┼────────────────────────┼───────────────┤\n",
       "│ dropout_1 (<span style=\"color: #0087ff; text-decoration-color: #0087ff\">Dropout</span>)             │ (<span style=\"color: #00d7ff; text-decoration-color: #00d7ff\">None</span>, <span style=\"color: #00af00; text-decoration-color: #00af00\">128</span>)            │             <span style=\"color: #00af00; text-decoration-color: #00af00\">0</span> │\n",
       "├─────────────────────────────────┼────────────────────────┼───────────────┤\n",
       "│ dense_1 (<span style=\"color: #0087ff; text-decoration-color: #0087ff\">Dense</span>)                 │ (<span style=\"color: #00d7ff; text-decoration-color: #00d7ff\">None</span>, <span style=\"color: #00af00; text-decoration-color: #00af00\">32</span>)             │         <span style=\"color: #00af00; text-decoration-color: #00af00\">4,128</span> │\n",
       "├─────────────────────────────────┼────────────────────────┼───────────────┤\n",
       "│ batch_normalization_3           │ (<span style=\"color: #00d7ff; text-decoration-color: #00d7ff\">None</span>, <span style=\"color: #00af00; text-decoration-color: #00af00\">32</span>)             │           <span style=\"color: #00af00; text-decoration-color: #00af00\">128</span> │\n",
       "│ (<span style=\"color: #0087ff; text-decoration-color: #0087ff\">BatchNormalization</span>)            │                        │               │\n",
       "├─────────────────────────────────┼────────────────────────┼───────────────┤\n",
       "│ dense_2 (<span style=\"color: #0087ff; text-decoration-color: #0087ff\">Dense</span>)                 │ (<span style=\"color: #00d7ff; text-decoration-color: #00d7ff\">None</span>, <span style=\"color: #00af00; text-decoration-color: #00af00\">1</span>)              │            <span style=\"color: #00af00; text-decoration-color: #00af00\">33</span> │\n",
       "└─────────────────────────────────┴────────────────────────┴───────────────┘\n",
       "</pre>\n"
      ],
      "text/plain": [
       "┏━━━━━━━━━━━━━━━━━━━━━━━━━━━━━━━━━┳━━━━━━━━━━━━━━━━━━━━━━━━┳━━━━━━━━━━━━━━━┓\n",
       "┃\u001b[1m \u001b[0m\u001b[1mLayer (type)                   \u001b[0m\u001b[1m \u001b[0m┃\u001b[1m \u001b[0m\u001b[1mOutput Shape          \u001b[0m\u001b[1m \u001b[0m┃\u001b[1m \u001b[0m\u001b[1m      Param #\u001b[0m\u001b[1m \u001b[0m┃\n",
       "┡━━━━━━━━━━━━━━━━━━━━━━━━━━━━━━━━━╇━━━━━━━━━━━━━━━━━━━━━━━━╇━━━━━━━━━━━━━━━┩\n",
       "│ conv2d (\u001b[38;5;33mConv2D\u001b[0m)                 │ (\u001b[38;5;45mNone\u001b[0m, \u001b[38;5;34m222\u001b[0m, \u001b[38;5;34m222\u001b[0m, \u001b[38;5;34m6\u001b[0m)    │           \u001b[38;5;34m168\u001b[0m │\n",
       "├─────────────────────────────────┼────────────────────────┼───────────────┤\n",
       "│ batch_normalization             │ (\u001b[38;5;45mNone\u001b[0m, \u001b[38;5;34m222\u001b[0m, \u001b[38;5;34m222\u001b[0m, \u001b[38;5;34m6\u001b[0m)    │            \u001b[38;5;34m24\u001b[0m │\n",
       "│ (\u001b[38;5;33mBatchNormalization\u001b[0m)            │                        │               │\n",
       "├─────────────────────────────────┼────────────────────────┼───────────────┤\n",
       "│ max_pooling2d (\u001b[38;5;33mMaxPooling2D\u001b[0m)    │ (\u001b[38;5;45mNone\u001b[0m, \u001b[38;5;34m221\u001b[0m, \u001b[38;5;34m221\u001b[0m, \u001b[38;5;34m6\u001b[0m)    │             \u001b[38;5;34m0\u001b[0m │\n",
       "├─────────────────────────────────┼────────────────────────┼───────────────┤\n",
       "│ dropout (\u001b[38;5;33mDropout\u001b[0m)               │ (\u001b[38;5;45mNone\u001b[0m, \u001b[38;5;34m221\u001b[0m, \u001b[38;5;34m221\u001b[0m, \u001b[38;5;34m6\u001b[0m)    │             \u001b[38;5;34m0\u001b[0m │\n",
       "├─────────────────────────────────┼────────────────────────┼───────────────┤\n",
       "│ conv2d_1 (\u001b[38;5;33mConv2D\u001b[0m)               │ (\u001b[38;5;45mNone\u001b[0m, \u001b[38;5;34m219\u001b[0m, \u001b[38;5;34m219\u001b[0m, \u001b[38;5;34m6\u001b[0m)    │           \u001b[38;5;34m330\u001b[0m │\n",
       "├─────────────────────────────────┼────────────────────────┼───────────────┤\n",
       "│ batch_normalization_1           │ (\u001b[38;5;45mNone\u001b[0m, \u001b[38;5;34m219\u001b[0m, \u001b[38;5;34m219\u001b[0m, \u001b[38;5;34m6\u001b[0m)    │            \u001b[38;5;34m24\u001b[0m │\n",
       "│ (\u001b[38;5;33mBatchNormalization\u001b[0m)            │                        │               │\n",
       "├─────────────────────────────────┼────────────────────────┼───────────────┤\n",
       "│ max_pooling2d_1 (\u001b[38;5;33mMaxPooling2D\u001b[0m)  │ (\u001b[38;5;45mNone\u001b[0m, \u001b[38;5;34m218\u001b[0m, \u001b[38;5;34m218\u001b[0m, \u001b[38;5;34m6\u001b[0m)    │             \u001b[38;5;34m0\u001b[0m │\n",
       "├─────────────────────────────────┼────────────────────────┼───────────────┤\n",
       "│ flatten (\u001b[38;5;33mFlatten\u001b[0m)               │ (\u001b[38;5;45mNone\u001b[0m, \u001b[38;5;34m285144\u001b[0m)         │             \u001b[38;5;34m0\u001b[0m │\n",
       "├─────────────────────────────────┼────────────────────────┼───────────────┤\n",
       "│ dense (\u001b[38;5;33mDense\u001b[0m)                   │ (\u001b[38;5;45mNone\u001b[0m, \u001b[38;5;34m128\u001b[0m)            │    \u001b[38;5;34m36,498,560\u001b[0m │\n",
       "├─────────────────────────────────┼────────────────────────┼───────────────┤\n",
       "│ batch_normalization_2           │ (\u001b[38;5;45mNone\u001b[0m, \u001b[38;5;34m128\u001b[0m)            │           \u001b[38;5;34m512\u001b[0m │\n",
       "│ (\u001b[38;5;33mBatchNormalization\u001b[0m)            │                        │               │\n",
       "├─────────────────────────────────┼────────────────────────┼───────────────┤\n",
       "│ dropout_1 (\u001b[38;5;33mDropout\u001b[0m)             │ (\u001b[38;5;45mNone\u001b[0m, \u001b[38;5;34m128\u001b[0m)            │             \u001b[38;5;34m0\u001b[0m │\n",
       "├─────────────────────────────────┼────────────────────────┼───────────────┤\n",
       "│ dense_1 (\u001b[38;5;33mDense\u001b[0m)                 │ (\u001b[38;5;45mNone\u001b[0m, \u001b[38;5;34m32\u001b[0m)             │         \u001b[38;5;34m4,128\u001b[0m │\n",
       "├─────────────────────────────────┼────────────────────────┼───────────────┤\n",
       "│ batch_normalization_3           │ (\u001b[38;5;45mNone\u001b[0m, \u001b[38;5;34m32\u001b[0m)             │           \u001b[38;5;34m128\u001b[0m │\n",
       "│ (\u001b[38;5;33mBatchNormalization\u001b[0m)            │                        │               │\n",
       "├─────────────────────────────────┼────────────────────────┼───────────────┤\n",
       "│ dense_2 (\u001b[38;5;33mDense\u001b[0m)                 │ (\u001b[38;5;45mNone\u001b[0m, \u001b[38;5;34m1\u001b[0m)              │            \u001b[38;5;34m33\u001b[0m │\n",
       "└─────────────────────────────────┴────────────────────────┴───────────────┘\n"
      ]
     },
     "metadata": {},
     "output_type": "display_data"
    },
    {
     "data": {
      "text/html": [
       "<pre style=\"white-space:pre;overflow-x:auto;line-height:normal;font-family:Menlo,'DejaVu Sans Mono',consolas,'Courier New',monospace\"><span style=\"font-weight: bold\"> Total params: </span><span style=\"color: #00af00; text-decoration-color: #00af00\">36,503,907</span> (139.25 MB)\n",
       "</pre>\n"
      ],
      "text/plain": [
       "\u001b[1m Total params: \u001b[0m\u001b[38;5;34m36,503,907\u001b[0m (139.25 MB)\n"
      ]
     },
     "metadata": {},
     "output_type": "display_data"
    },
    {
     "data": {
      "text/html": [
       "<pre style=\"white-space:pre;overflow-x:auto;line-height:normal;font-family:Menlo,'DejaVu Sans Mono',consolas,'Courier New',monospace\"><span style=\"font-weight: bold\"> Trainable params: </span><span style=\"color: #00af00; text-decoration-color: #00af00\">36,503,563</span> (139.25 MB)\n",
       "</pre>\n"
      ],
      "text/plain": [
       "\u001b[1m Trainable params: \u001b[0m\u001b[38;5;34m36,503,563\u001b[0m (139.25 MB)\n"
      ]
     },
     "metadata": {},
     "output_type": "display_data"
    },
    {
     "data": {
      "text/html": [
       "<pre style=\"white-space:pre;overflow-x:auto;line-height:normal;font-family:Menlo,'DejaVu Sans Mono',consolas,'Courier New',monospace\"><span style=\"font-weight: bold\"> Non-trainable params: </span><span style=\"color: #00af00; text-decoration-color: #00af00\">344</span> (1.34 KB)\n",
       "</pre>\n"
      ],
      "text/plain": [
       "\u001b[1m Non-trainable params: \u001b[0m\u001b[38;5;34m344\u001b[0m (1.34 KB)\n"
      ]
     },
     "metadata": {},
     "output_type": "display_data"
    }
   ],
   "source": [
    "# Using Sequential API\n",
    "CONFIGURATION = wandb.config\n",
    "IMAGE_SIZE = CONFIGURATION['IM_SIZE']\n",
    "model = tf.keras.Sequential([\n",
    "    Input(shape=(IMAGE_SIZE, IMAGE_SIZE, 3)),\n",
    "\n",
    "    Conv2D(filters=CONFIGURATION[\"N_FILTERS\"], kernel_size=CONFIGURATION[\"KERNEL_SIZE\"], strides=CONFIGURATION[\"N_STRIDES\"], padding='valid', activation='relu'),\n",
    "    BatchNormalization(),\n",
    "    MaxPooling2D(pool_size=CONFIGURATION[\"POOL_SIZE\"], strides=CONFIGURATION[\"N_STRIDES\"]),\n",
    "    Dropout(rate = CONFIGURATION[\"DROPOUT_RATE\"]),\n",
    "\n",
    "    Conv2D(filters=CONFIGURATION[\"N_FILTERS\"], kernel_size=CONFIGURATION[\"KERNEL_SIZE\"], strides=CONFIGURATION[\"N_STRIDES\"], padding='valid', activation='relu'),\n",
    "    BatchNormalization(),\n",
    "    MaxPooling2D(pool_size=CONFIGURATION[\"POOL_SIZE\"], strides=CONFIGURATION[\"N_STRIDES\"]),\n",
    "\n",
    "    Flatten(),\n",
    "\n",
    "    Dense(CONFIGURATION[\"N_DENSE_1\"], activation='relu'),\n",
    "    BatchNormalization(),\n",
    "    Dropout(rate = CONFIGURATION[\"DROPOUT_RATE\"]),\n",
    "\n",
    "    Dense(CONFIGURATION[\"N_DENSE_2\"], activation='relu'),\n",
    "    BatchNormalization(),\n",
    "    Dense(1, activation='sigmoid'),\n",
    "])\n",
    "model.summary()\n",
    "\n",
    "# Model Metrics\n",
    "Metrics = [BinaryAccuracy(), FalsePositives(), FalseNegatives(), TrueNegatives(), TruePositives(), Precision(), Recall(), AUC()]\n",
    "\n",
    "model.compile(\n",
    "    optimizer=tf.keras.optimizers.Adam(learning_rate=CONFIGURATION[\"LEARNING_RATE\"]),\n",
    "    loss=tf.keras.losses.BinaryCrossentropy(),\n",
    "    metrics=Metrics\n",
    ")"
   ]
  },
  {
   "cell_type": "markdown",
   "metadata": {},
   "source": [
    "## WandB Inbuilt Callbacks"
   ]
  },
  {
   "cell_type": "code",
   "execution_count": 8,
   "metadata": {},
   "outputs": [
    {
     "name": "stdout",
     "output_type": "stream",
     "text": [
      "Epoch 1/20\n"
     ]
    },
    {
     "name": "stderr",
     "output_type": "stream",
     "text": [
      "2025-01-27 11:46:39.127023: I tensorflow/core/grappler/optimizers/custom_graph_optimizer_registry.cc:117] Plugin optimizer for device_type GPU is enabled.\n"
     ]
    },
    {
     "name": "stdout",
     "output_type": "stream",
     "text": [
      "\u001b[1m689/689\u001b[0m \u001b[32m━━━━━━━━━━━━━━━━━━━━\u001b[0m\u001b[37m\u001b[0m \u001b[1m77s\u001b[0m 108ms/step - auc: 0.7200 - binary_accuracy: 0.6706 - false_negatives: 1415.7478 - false_positives: 2092.4827 - loss: 0.6392 - precision: 0.6568 - recall: 0.7231 - true_negatives: 3426.2449 - true_positives: 4121.4727 - val_auc: 0.7921 - val_binary_accuracy: 0.6759 - val_false_negatives: 93.0000 - val_false_positives: 800.0000 - val_loss: 0.6017 - val_precision: 0.6180 - val_recall: 0.9329 - val_true_negatives: 568.0000 - val_true_positives: 1294.0000\n",
      "Epoch 2/20\n",
      "\u001b[1m689/689\u001b[0m \u001b[32m━━━━━━━━━━━━━━━━━━━━\u001b[0m\u001b[37m\u001b[0m \u001b[1m73s\u001b[0m 106ms/step - auc: 0.7933 - binary_accuracy: 0.7267 - false_negatives: 1127.3710 - false_positives: 1892.9072 - loss: 0.5752 - precision: 0.7016 - recall: 0.7960 - true_negatives: 3625.8752 - true_positives: 4409.7944 - val_auc: 0.7737 - val_binary_accuracy: 0.6537 - val_false_negatives: 67.0000 - val_false_positives: 887.0000 - val_loss: 0.6438 - val_precision: 0.5990 - val_recall: 0.9519 - val_true_negatives: 476.0000 - val_true_positives: 1325.0000\n",
      "Epoch 3/20\n",
      "\u001b[1m689/689\u001b[0m \u001b[32m━━━━━━━━━━━━━━━━━━━━\u001b[0m\u001b[37m\u001b[0m \u001b[1m75s\u001b[0m 108ms/step - auc: 0.8342 - binary_accuracy: 0.7750 - false_negatives: 820.0536 - false_positives: 1633.4812 - loss: 0.5312 - precision: 0.7427 - recall: 0.8463 - true_negatives: 3885.2581 - true_positives: 4717.1553 - val_auc: 0.8378 - val_binary_accuracy: 0.7002 - val_false_negatives: 767.0000 - val_false_positives: 59.0000 - val_loss: 1.1014 - val_precision: 0.9134 - val_recall: 0.4478 - val_true_negatives: 1307.0000 - val_true_positives: 622.0000\n",
      "Epoch 4/20\n",
      "\u001b[1m689/689\u001b[0m \u001b[32m━━━━━━━━━━━━━━━━━━━━\u001b[0m\u001b[37m\u001b[0m \u001b[1m75s\u001b[0m 109ms/step - auc: 0.9145 - binary_accuracy: 0.8499 - false_negatives: 411.3623 - false_positives: 1210.6536 - loss: 0.4133 - precision: 0.8077 - recall: 0.9214 - true_negatives: 4308.0825 - true_positives: 5125.8491 - val_auc: 0.8286 - val_binary_accuracy: 0.6265 - val_false_negatives: 1024.0000 - val_false_positives: 5.0000 - val_loss: 3.2031 - val_precision: 0.9864 - val_recall: 0.2622 - val_true_negatives: 1362.0000 - val_true_positives: 364.0000\n",
      "Epoch 5/20\n",
      "\u001b[1m689/689\u001b[0m \u001b[32m━━━━━━━━━━━━━━━━━━━━\u001b[0m\u001b[37m\u001b[0m \u001b[1m74s\u001b[0m 107ms/step - auc: 0.9460 - binary_accuracy: 0.8886 - false_negatives: 316.3565 - false_positives: 912.2348 - loss: 0.3283 - precision: 0.8509 - recall: 0.9443 - true_negatives: 4606.5508 - true_positives: 5220.8057 - val_auc: 0.8410 - val_binary_accuracy: 0.5873 - val_false_negatives: 1129.0000 - val_false_positives: 8.0000 - val_loss: 2.8588 - val_precision: 0.9708 - val_recall: 0.1907 - val_true_negatives: 1352.0000 - val_true_positives: 266.0000\n",
      "Epoch 6/20\n",
      "\u001b[1m689/689\u001b[0m \u001b[32m━━━━━━━━━━━━━━━━━━━━\u001b[0m\u001b[37m\u001b[0m \u001b[1m73s\u001b[0m 106ms/step - auc: 0.9599 - binary_accuracy: 0.9112 - false_negatives: 262.0159 - false_positives: 751.8362 - loss: 0.2749 - precision: 0.8785 - recall: 0.9556 - true_negatives: 4766.9375 - true_positives: 5275.1582 - val_auc: 0.7798 - val_binary_accuracy: 0.5401 - val_false_negatives: 1262.0000 - val_false_positives: 5.0000 - val_loss: 4.8851 - val_precision: 0.9643 - val_recall: 0.0966 - val_true_negatives: 1353.0000 - val_true_positives: 135.0000\n",
      "Epoch 7/20\n",
      "\u001b[1m689/689\u001b[0m \u001b[32m━━━━━━━━━━━━━━━━━━━━\u001b[0m\u001b[37m\u001b[0m \u001b[1m73s\u001b[0m 106ms/step - auc: 0.9704 - binary_accuracy: 0.9268 - false_negatives: 213.1855 - false_positives: 626.5522 - loss: 0.2332 - precision: 0.8977 - recall: 0.9643 - true_negatives: 4892.1855 - true_positives: 5324.0244 - val_auc: 0.9113 - val_binary_accuracy: 0.8258 - val_false_negatives: 452.0000 - val_false_positives: 28.0000 - val_loss: 1.5441 - val_precision: 0.9712 - val_recall: 0.6760 - val_true_negatives: 1332.0000 - val_true_positives: 943.0000\n",
      "Epoch 8/20\n",
      "\u001b[1m689/689\u001b[0m \u001b[32m━━━━━━━━━━━━━━━━━━━━\u001b[0m\u001b[37m\u001b[0m \u001b[1m74s\u001b[0m 107ms/step - auc: 0.9752 - binary_accuracy: 0.9312 - false_negatives: 224.5116 - false_positives: 564.6710 - loss: 0.2167 - precision: 0.9069 - recall: 0.9620 - true_negatives: 4954.0205 - true_positives: 5312.7451 - val_auc: 0.5757 - val_binary_accuracy: 0.5013 - val_false_negatives: 1373.0000 - val_false_positives: 1.0000 - val_loss: 10.0394 - val_precision: 0.9375 - val_recall: 0.0108 - val_true_negatives: 1366.0000 - val_true_positives: 15.0000\n",
      "Epoch 9/20\n",
      "\u001b[1m689/689\u001b[0m \u001b[32m━━━━━━━━━━━━━━━━━━━━\u001b[0m\u001b[37m\u001b[0m \u001b[1m74s\u001b[0m 107ms/step - auc: 0.9774 - binary_accuracy: 0.9357 - false_negatives: 206.2928 - false_positives: 508.6464 - loss: 0.2061 - precision: 0.9134 - recall: 0.9636 - true_negatives: 5009.9985 - true_positives: 5331.0103 - val_auc: 0.9508 - val_binary_accuracy: 0.9172 - val_false_negatives: 133.0000 - val_false_positives: 95.0000 - val_loss: 0.4297 - val_precision: 0.9296 - val_recall: 0.9041 - val_true_negatives: 1273.0000 - val_true_positives: 1254.0000\n",
      "Epoch 10/20\n",
      "\u001b[1m689/689\u001b[0m \u001b[32m━━━━━━━━━━━━━━━━━━━━\u001b[0m\u001b[37m\u001b[0m \u001b[1m73s\u001b[0m 106ms/step - auc: 0.9803 - binary_accuracy: 0.9394 - false_negatives: 212.9826 - false_positives: 477.2058 - loss: 0.1937 - precision: 0.9199 - recall: 0.9635 - true_negatives: 5041.6465 - true_positives: 5324.1133 - val_auc: 0.9645 - val_binary_accuracy: 0.9176 - val_false_negatives: 67.0000 - val_false_positives: 160.0000 - val_loss: 0.2521 - val_precision: 0.8925 - val_recall: 0.9520 - val_true_negatives: 1199.0000 - val_true_positives: 1329.0000\n",
      "Epoch 11/20\n",
      "\u001b[1m689/689\u001b[0m \u001b[32m━━━━━━━━━━━━━━━━━━━━\u001b[0m\u001b[37m\u001b[0m \u001b[1m74s\u001b[0m 108ms/step - auc: 0.9845 - binary_accuracy: 0.9504 - false_negatives: 175.0913 - false_positives: 397.9507 - loss: 0.1712 - precision: 0.9334 - recall: 0.9708 - true_negatives: 5120.9780 - true_positives: 5361.9277 - val_auc: 0.9530 - val_binary_accuracy: 0.8508 - val_false_negatives: 30.0000 - val_false_positives: 381.0000 - val_loss: 0.3540 - val_precision: 0.7819 - val_recall: 0.9785 - val_true_negatives: 978.0000 - val_true_positives: 1366.0000\n",
      "Epoch 12/20\n",
      "\u001b[1m689/689\u001b[0m \u001b[32m━━━━━━━━━━━━━━━━━━━━\u001b[0m\u001b[37m\u001b[0m \u001b[1m75s\u001b[0m 108ms/step - auc: 0.9868 - binary_accuracy: 0.9546 - false_negatives: 162.0072 - false_positives: 358.2072 - loss: 0.1595 - precision: 0.9386 - recall: 0.9734 - true_negatives: 5160.5684 - true_positives: 5375.1650 - val_auc: 0.9518 - val_binary_accuracy: 0.8414 - val_false_negatives: 29.0000 - val_false_positives: 408.0000 - val_loss: 0.3617 - val_precision: 0.7700 - val_recall: 0.9792 - val_true_negatives: 952.0000 - val_true_positives: 1366.0000\n",
      "Epoch 13/20\n",
      "\u001b[1m689/689\u001b[0m \u001b[32m━━━━━━━━━━━━━━━━━━━━\u001b[0m\u001b[37m\u001b[0m \u001b[1m74s\u001b[0m 107ms/step - auc: 0.9879 - binary_accuracy: 0.9585 - false_negatives: 151.5362 - false_positives: 333.1116 - loss: 0.1525 - precision: 0.9451 - recall: 0.9741 - true_negatives: 5185.6465 - true_positives: 5385.6538 - val_auc: 0.9571 - val_binary_accuracy: 0.9176 - val_false_negatives: 124.0000 - val_false_positives: 103.0000 - val_loss: 0.3376 - val_precision: 0.9249 - val_recall: 0.9109 - val_true_negatives: 1260.0000 - val_true_positives: 1268.0000\n",
      "Epoch 14/20\n",
      "\u001b[1m689/689\u001b[0m \u001b[32m━━━━━━━━━━━━━━━━━━━━\u001b[0m\u001b[37m\u001b[0m \u001b[1m75s\u001b[0m 109ms/step - auc: 0.9896 - binary_accuracy: 0.9648 - false_negatives: 131.1000 - false_positives: 285.5217 - loss: 0.1407 - precision: 0.9531 - recall: 0.9781 - true_negatives: 5233.2651 - true_positives: 5406.0610 - val_auc: 0.9541 - val_binary_accuracy: 0.9129 - val_false_negatives: 122.0000 - val_false_positives: 118.0000 - val_loss: 0.3455 - val_precision: 0.9150 - val_recall: 0.9124 - val_true_negatives: 1245.0000 - val_true_positives: 1270.0000\n",
      "Epoch 15/20\n",
      "\u001b[1m689/689\u001b[0m \u001b[32m━━━━━━━━━━━━━━━━━━━━\u001b[0m\u001b[37m\u001b[0m \u001b[1m75s\u001b[0m 109ms/step - auc: 0.9897 - binary_accuracy: 0.9598 - false_negatives: 159.5014 - false_positives: 285.6217 - loss: 0.1420 - precision: 0.9508 - recall: 0.9703 - true_negatives: 5233.1943 - true_positives: 5377.6304 - val_auc: 0.9478 - val_binary_accuracy: 0.9125 - val_false_negatives: 117.0000 - val_false_positives: 124.0000 - val_loss: 0.4122 - val_precision: 0.9110 - val_recall: 0.9156 - val_true_negatives: 1244.0000 - val_true_positives: 1270.0000\n",
      "Epoch 16/20\n",
      "\u001b[1m689/689\u001b[0m \u001b[32m━━━━━━━━━━━━━━━━━━━━\u001b[0m\u001b[37m\u001b[0m \u001b[1m76s\u001b[0m 110ms/step - auc: 0.9909 - binary_accuracy: 0.9648 - false_negatives: 140.8667 - false_positives: 259.5696 - loss: 0.1326 - precision: 0.9556 - recall: 0.9755 - true_negatives: 5259.1582 - true_positives: 5396.3535 - val_auc: 0.7820 - val_binary_accuracy: 0.6054 - val_false_negatives: 1079.0000 - val_false_positives: 8.0000 - val_loss: 5.5397 - val_precision: 0.9751 - val_recall: 0.2249 - val_true_negatives: 1355.0000 - val_true_positives: 313.0000\n",
      "Epoch 17/20\n",
      "\u001b[1m689/689\u001b[0m \u001b[32m━━━━━━━━━━━━━━━━━━━━\u001b[0m\u001b[37m\u001b[0m \u001b[1m74s\u001b[0m 107ms/step - auc: 0.9932 - binary_accuracy: 0.9698 - false_negatives: 125.9870 - false_positives: 222.9072 - loss: 0.1216 - precision: 0.9627 - recall: 0.9779 - true_negatives: 5295.9292 - true_positives: 5411.1245 - val_auc: 0.9556 - val_binary_accuracy: 0.8980 - val_false_negatives: 66.0000 - val_false_positives: 215.0000 - val_loss: 0.3036 - val_precision: 0.8605 - val_recall: 0.9526 - val_true_negatives: 1148.0000 - val_true_positives: 1326.0000\n",
      "Epoch 18/20\n",
      "\u001b[1m689/689\u001b[0m \u001b[32m━━━━━━━━━━━━━━━━━━━━\u001b[0m\u001b[37m\u001b[0m \u001b[1m73s\u001b[0m 107ms/step - auc: 0.9944 - binary_accuracy: 0.9715 - false_negatives: 117.9015 - false_positives: 209.1435 - loss: 0.1129 - precision: 0.9641 - recall: 0.9799 - true_negatives: 5309.5884 - true_positives: 5419.3145 - val_auc: 0.9194 - val_binary_accuracy: 0.8334 - val_false_negatives: 428.0000 - val_false_positives: 31.0000 - val_loss: 1.3293 - val_precision: 0.9690 - val_recall: 0.6934 - val_true_negatives: 1328.0000 - val_true_positives: 968.0000\n",
      "Epoch 19/20\n",
      "\u001b[1m689/689\u001b[0m \u001b[32m━━━━━━━━━━━━━━━━━━━━\u001b[0m\u001b[37m\u001b[0m \u001b[1m73s\u001b[0m 107ms/step - auc: 0.9935 - binary_accuracy: 0.9711 - false_negatives: 111.9145 - false_positives: 208.7246 - loss: 0.1162 - precision: 0.9626 - recall: 0.9806 - true_negatives: 5309.9756 - true_positives: 5425.3335 - val_auc: 0.9543 - val_binary_accuracy: 0.9027 - val_false_negatives: 87.0000 - val_false_positives: 181.0000 - val_loss: 0.3050 - val_precision: 0.8779 - val_recall: 0.9373 - val_true_negatives: 1186.0000 - val_true_positives: 1301.0000\n",
      "Epoch 20/20\n",
      "\u001b[1m689/689\u001b[0m \u001b[32m━━━━━━━━━━━━━━━━━━━━\u001b[0m\u001b[37m\u001b[0m \u001b[1m73s\u001b[0m 106ms/step - auc: 0.9945 - binary_accuracy: 0.9749 - false_negatives: 105.8290 - false_positives: 183.1290 - loss: 0.1081 - precision: 0.9689 - recall: 0.9817 - true_negatives: 5335.6509 - true_positives: 5431.3394 - val_auc: 0.9372 - val_binary_accuracy: 0.8878 - val_false_negatives: 239.0000 - val_false_positives: 70.0000 - val_loss: 0.7232 - val_precision: 0.9426 - val_recall: 0.8278 - val_true_negatives: 1297.0000 - val_true_positives: 1149.0000\n"
     ]
    },
    {
     "data": {
      "text/plain": [
       "<keras.src.callbacks.history.History at 0x336e9a590>"
      ]
     },
     "execution_count": 8,
     "metadata": {},
     "output_type": "execute_result"
    }
   ],
   "source": [
    "model.fit(trainDataset, validation_data=valDataset, epochs=CONFIGURATION[\"N_EPOCHS\"], verbose=1, callbacks=[WandbMetricsLogger(), WandbModelCheckpoint(\"Models/Model.keras\")])"
   ]
  },
  {
   "cell_type": "code",
   "execution_count": 9,
   "metadata": {},
   "outputs": [
    {
     "data": {
      "text/html": [
       "<button onClick=\"this.nextSibling.style.display='block';this.style.display='none';\">Display W&B run</button><iframe src='https://wandb.ai/amanjn2003-santa-clara-university/Malaria-Detection/runs/q09xmavb?jupyter=true' style='border:none;width:100%;height:420px;display:none;'></iframe>"
      ],
      "text/plain": [
       "<wandb.sdk.wandb_run.Run at 0x337216750>"
      ]
     },
     "execution_count": 9,
     "metadata": {},
     "output_type": "execute_result"
    }
   ],
   "source": [
    "wandb.run"
   ]
  },
  {
   "cell_type": "markdown",
   "metadata": {},
   "source": [
    "## Check Dashboard Here\n",
    "### https://wandb.ai/amanjn2003-santa-clara-university/Malaria-Detection?nw=nwuseramanjn2003"
   ]
  },
  {
   "cell_type": "code",
   "execution_count": 10,
   "metadata": {},
   "outputs": [
    {
     "data": {
      "text/html": [],
      "text/plain": [
       "<IPython.core.display.HTML object>"
      ]
     },
     "metadata": {},
     "output_type": "display_data"
    },
    {
     "data": {
      "text/html": [
       "<br>    <style><br>        .wandb-row {<br>            display: flex;<br>            flex-direction: row;<br>            flex-wrap: wrap;<br>            justify-content: flex-start;<br>            width: 100%;<br>        }<br>        .wandb-col {<br>            display: flex;<br>            flex-direction: column;<br>            flex-basis: 100%;<br>            flex: 1;<br>            padding: 10px;<br>        }<br>    </style><br><div class=\"wandb-row\"><div class=\"wandb-col\"><h3>Run history:</h3><br/><table class=\"wandb\"><tr><td>epoch/auc</td><td>▁▂▄▆▇▇▇▇████████████</td></tr><tr><td>epoch/binary_accuracy</td><td>▁▂▃▅▆▆▇▇▇▇▇▇████████</td></tr><tr><td>epoch/epoch</td><td>▁▁▂▂▂▃▃▄▄▄▅▅▅▆▆▇▇▇██</td></tr><tr><td>epoch/false_negatives</td><td>█▇▅▃▂▂▂▂▂▂▁▁▁▁▁▁▁▁▁▁</td></tr><tr><td>epoch/false_positives</td><td>█▇▆▅▄▃▃▂▂▂▂▂▂▁▁▁▁▁▁▁</td></tr><tr><td>epoch/learning_rate</td><td>▁▁▁▁▁▁▁▁▁▁▁▁▁▁▁▁▁▁▁▁</td></tr><tr><td>epoch/loss</td><td>██▇▅▄▃▃▃▂▂▂▂▂▂▁▁▁▁▁▁</td></tr><tr><td>epoch/precision</td><td>▁▂▃▄▅▆▆▇▇▇▇▇▇███████</td></tr><tr><td>epoch/recall</td><td>▁▂▄▆▇▇▇▇▇▇██████████</td></tr><tr><td>epoch/true_negatives</td><td>▁▂▃▄▅▆▆▇▇▇▇▇▇███████</td></tr><tr><td>epoch/true_positives</td><td>▁▂▄▆▇▇▇▇▇▇██████████</td></tr><tr><td>epoch/val_auc</td><td>▅▅▆▆▆▅▇▁███████▅█▇██</td></tr><tr><td>epoch/val_binary_accuracy</td><td>▄▄▄▃▂▂▆▁██▇▇███▃█▇█▇</td></tr><tr><td>epoch/val_false_negatives</td><td>▁▁▅▆▇▇▃█▂▁▁▁▁▁▁▆▁▃▁▂</td></tr><tr><td>epoch/val_false_positives</td><td>▇█▁▁▁▁▁▁▂▂▄▄▂▂▂▁▃▁▂▂</td></tr><tr><td>epoch/val_loss</td><td>▁▁▂▃▃▄▂█▁▁▁▁▁▁▁▅▁▂▁▁</td></tr><tr><td>epoch/val_precision</td><td>▁▁▇████▇▇▆▄▄▇▇▇█▆█▆▇</td></tr><tr><td>epoch/val_recall</td><td>██▄▃▂▂▆▁▇██████▃█▆█▇</td></tr><tr><td>epoch/val_true_negatives</td><td>▂▁██████▇▇▅▅▇▇▇█▆█▇▇</td></tr><tr><td>epoch/val_true_positives</td><td>██▄▃▂▂▆▁▇███▇██▃█▆█▇</td></tr></table><br/></div><div class=\"wandb-col\"><h3>Run summary:</h3><br/><table class=\"wandb\"><tr><td>epoch/auc</td><td>0.99392</td></tr><tr><td>epoch/binary_accuracy</td><td>0.97229</td></tr><tr><td>epoch/epoch</td><td>19</td></tr><tr><td>epoch/false_negatives</td><td>230</td></tr><tr><td>epoch/false_positives</td><td>381</td></tr><tr><td>epoch/learning_rate</td><td>0.001</td></tr><tr><td>epoch/loss</td><td>0.11082</td></tr><tr><td>epoch/precision</td><td>0.96591</td></tr><tr><td>epoch/recall</td><td>0.97914</td></tr><tr><td>epoch/true_negatives</td><td>10640</td></tr><tr><td>epoch/true_positives</td><td>10795</td></tr><tr><td>epoch/val_auc</td><td>0.93723</td></tr><tr><td>epoch/val_binary_accuracy</td><td>0.88784</td></tr><tr><td>epoch/val_false_negatives</td><td>239</td></tr><tr><td>epoch/val_false_positives</td><td>70</td></tr><tr><td>epoch/val_loss</td><td>0.72325</td></tr><tr><td>epoch/val_precision</td><td>0.94258</td></tr><tr><td>epoch/val_recall</td><td>0.82781</td></tr><tr><td>epoch/val_true_negatives</td><td>1297</td></tr><tr><td>epoch/val_true_positives</td><td>1149</td></tr></table><br/></div></div>"
      ],
      "text/plain": [
       "<IPython.core.display.HTML object>"
      ]
     },
     "metadata": {},
     "output_type": "display_data"
    },
    {
     "data": {
      "text/html": [
       " View run <strong style=\"color:#cdcd00\">Run 1 - Inbuilt Callback</strong> at: <a href='https://wandb.ai/amanjn2003-santa-clara-university/Malaria-Detection/runs/q09xmavb' target=\"_blank\">https://wandb.ai/amanjn2003-santa-clara-university/Malaria-Detection/runs/q09xmavb</a><br> View project at: <a href='https://wandb.ai/amanjn2003-santa-clara-university/Malaria-Detection' target=\"_blank\">https://wandb.ai/amanjn2003-santa-clara-university/Malaria-Detection</a><br>Synced 5 W&B file(s), 0 media file(s), 40 artifact file(s) and 0 other file(s)"
      ],
      "text/plain": [
       "<IPython.core.display.HTML object>"
      ]
     },
     "metadata": {},
     "output_type": "display_data"
    },
    {
     "data": {
      "text/html": [
       "Find logs at: <code>./wandb/run-20250127_114637-q09xmavb/logs</code>"
      ],
      "text/plain": [
       "<IPython.core.display.HTML object>"
      ]
     },
     "metadata": {},
     "output_type": "display_data"
    }
   ],
   "source": [
    "wandb.finish()"
   ]
  },
  {
   "cell_type": "markdown",
   "metadata": {},
   "source": [
    "## Custom Callbacks With WandB"
   ]
  },
  {
   "cell_type": "code",
   "execution_count": 11,
   "metadata": {},
   "outputs": [
    {
     "data": {
      "text/html": [
       "Tracking run with wandb version 0.19.4"
      ],
      "text/plain": [
       "<IPython.core.display.HTML object>"
      ]
     },
     "metadata": {},
     "output_type": "display_data"
    },
    {
     "data": {
      "text/html": [
       "Run data is saved locally in <code>/Users/aman/Documents/Work/Machine Learning/Computer-Vision-TensorFlow/Weights&Biases-Integration/wandb/run-20250127_121145-g6ggpk6j</code>"
      ],
      "text/plain": [
       "<IPython.core.display.HTML object>"
      ]
     },
     "metadata": {},
     "output_type": "display_data"
    },
    {
     "data": {
      "text/html": [
       "Syncing run <strong><a href='https://wandb.ai/amanjn2003-santa-clara-university/Malaria-Detection/runs/g6ggpk6j' target=\"_blank\">Run 2 - Custom Callbacks</a></strong> to <a href='https://wandb.ai/amanjn2003-santa-clara-university/Malaria-Detection' target=\"_blank\">Weights & Biases</a> (<a href='https://wandb.me/developer-guide' target=\"_blank\">docs</a>)<br>"
      ],
      "text/plain": [
       "<IPython.core.display.HTML object>"
      ]
     },
     "metadata": {},
     "output_type": "display_data"
    },
    {
     "data": {
      "text/html": [
       " View project at <a href='https://wandb.ai/amanjn2003-santa-clara-university/Malaria-Detection' target=\"_blank\">https://wandb.ai/amanjn2003-santa-clara-university/Malaria-Detection</a>"
      ],
      "text/plain": [
       "<IPython.core.display.HTML object>"
      ]
     },
     "metadata": {},
     "output_type": "display_data"
    },
    {
     "data": {
      "text/html": [
       " View run at <a href='https://wandb.ai/amanjn2003-santa-clara-university/Malaria-Detection/runs/g6ggpk6j' target=\"_blank\">https://wandb.ai/amanjn2003-santa-clara-university/Malaria-Detection/runs/g6ggpk6j</a>"
      ],
      "text/plain": [
       "<IPython.core.display.HTML object>"
      ]
     },
     "metadata": {},
     "output_type": "display_data"
    },
    {
     "data": {
      "text/html": [
       "<button onClick=\"this.nextSibling.style.display='block';this.style.display='none';\">Display W&B run</button><iframe src='https://wandb.ai/amanjn2003-santa-clara-university/Malaria-Detection/runs/g6ggpk6j?jupyter=true' style='border:none;width:100%;height:420px;display:none;'></iframe>"
      ],
      "text/plain": [
       "<wandb.sdk.wandb_run.Run at 0x3a6ce66d0>"
      ]
     },
     "execution_count": 11,
     "metadata": {},
     "output_type": "execute_result"
    }
   ],
   "source": [
    "wandb.init(name=\"Run 2 - Custom Callbacks\", project=\"Malaria-Detection\", entity=\"amanjn2003-santa-clara-university\", settings=wandb.Settings(init_timeout=300))"
   ]
  },
  {
   "cell_type": "code",
   "execution_count": 12,
   "metadata": {},
   "outputs": [],
   "source": [
    "def getLabel(label):\n",
    "    if label==0 or label==False:\n",
    "        return \"Parasitized\"\n",
    "    return \"Unparasitized\"\n",
    "\n",
    "class ImageLoggingCallback(tf.keras.callbacks.Callback):\n",
    "    def on_epoch_end(self, epoch, logs=None):\n",
    "        # Get model predictions\n",
    "        val_images, val_labels = next(iter(valDataset))  # Get a batch of images and labels\n",
    "        predictions = self.model.predict(val_images)\n",
    "        \n",
    "        # Convert predictions to class labels\n",
    "        predicted_labels = np.array(predictions>=0.5)[:, 0]\n",
    "        predicted_probabilities = [\n",
    "            [1, 0] if predicted_labels[i] == 0 else [0, 1]\n",
    "            for i in range(len(predicted_labels))\n",
    "        ]        \n",
    "        # Log images to Wandb with the predictions\n",
    "        wandb.log({\n",
    "            \"epoch\": epoch,\n",
    "            \"examples\": [\n",
    "                wandb.Image(val_images[i], caption=f\"True: {getLabel(val_labels[i])}, Pred: {getLabel(predicted_labels[i])}\")\n",
    "                for i in range(min(5, len(val_images)))  # Log up to 5 images\n",
    "            ],\n",
    "            \"ConfusionMatrix\" : wandb.plot.confusion_matrix(probs=None, y_true=np.array(val_labels), preds=predicted_labels, class_names=[\"Parasitized\", \"Uninfected\"]),\n",
    "            \"ROC-Curve\" : wandb.plot.roc_curve(y_true=np.array(val_labels), y_probas=predicted_probabilities, labels=[\"Parasitized\", \"Uninfected\"])\n",
    "        })"
   ]
  },
  {
   "cell_type": "code",
   "execution_count": 13,
   "metadata": {},
   "outputs": [
    {
     "name": "stdout",
     "output_type": "stream",
     "text": [
      "Epoch 1/20\n",
      "\u001b[1m1/1\u001b[0m \u001b[32m━━━━━━━━━━━━━━━━━━━━\u001b[0m\u001b[37m\u001b[0m \u001b[1m0s\u001b[0m 287ms/stepstep - auc: 0.9951 - binary_accuracy: 0.9752 - false_negatives: 98.8433 - false_positives: 184.5820 - loss: 0.1054 - precision: 0.9674 - recall: 0.9839 - true_negatives: 5326.2310 - true_positives: 5430.34\n",
      "\u001b[1m689/689\u001b[0m \u001b[32m━━━━━━━━━━━━━━━━━━━━\u001b[0m\u001b[37m\u001b[0m \u001b[1m76s\u001b[0m 110ms/step - auc: 0.9951 - binary_accuracy: 0.9752 - false_negatives: 98.9942 - false_positives: 184.8420 - loss: 0.1054 - precision: 0.9674 - recall: 0.9839 - true_negatives: 5333.9595 - true_positives: 5438.1523 - val_auc: 0.9350 - val_binary_accuracy: 0.8915 - val_false_negatives: 232.0000 - val_false_positives: 67.0000 - val_loss: 0.9280 - val_precision: 0.9454 - val_recall: 0.8333 - val_true_negatives: 1296.0000 - val_true_positives: 1160.0000\n",
      "Epoch 2/20\n",
      "\u001b[1m1/1\u001b[0m \u001b[32m━━━━━━━━━━━━━━━━━━━━\u001b[0m\u001b[37m\u001b[0m \u001b[1m0s\u001b[0m 41ms/step/step - auc: 0.9958 - binary_accuracy: 0.9787 - false_negatives: 93.9013 - false_positives: 150.6401 - loss: 0.0987 - precision: 0.9745 - recall: 0.9833 - true_negatives: 5360.2046 - true_positives: 5435.251\n",
      "\u001b[1m689/689\u001b[0m \u001b[32m━━━━━━━━━━━━━━━━━━━━\u001b[0m\u001b[37m\u001b[0m \u001b[1m75s\u001b[0m 108ms/step - auc: 0.9958 - binary_accuracy: 0.9787 - false_negatives: 94.0406 - false_positives: 150.8783 - loss: 0.0987 - precision: 0.9745 - recall: 0.9833 - true_negatives: 5367.9565 - true_positives: 5443.0723 - val_auc: 0.9214 - val_binary_accuracy: 0.8730 - val_false_negatives: 297.0000 - val_false_positives: 53.0000 - val_loss: 1.5187 - val_precision: 0.9538 - val_recall: 0.7866 - val_true_negatives: 1310.0000 - val_true_positives: 1095.0000\n",
      "Epoch 3/20\n",
      "\u001b[1m1/1\u001b[0m \u001b[32m━━━━━━━━━━━━━━━━━━━━\u001b[0m\u001b[37m\u001b[0m \u001b[1m0s\u001b[0m 32ms/step/step - auc: 0.9959 - binary_accuracy: 0.9778 - false_negatives: 103.7663 - false_positives: 151.5196 - loss: 0.0967 - precision: 0.9744 - recall: 0.9816 - true_negatives: 5359.2524 - true_positives: 5425.458\n",
      "\u001b[1m689/689\u001b[0m \u001b[32m━━━━━━━━━━━━━━━━━━━━\u001b[0m\u001b[37m\u001b[0m \u001b[1m75s\u001b[0m 108ms/step - auc: 0.9959 - binary_accuracy: 0.9778 - false_negatives: 103.9029 - false_positives: 151.7565 - loss: 0.0967 - precision: 0.9744 - recall: 0.9816 - true_negatives: 5367.0059 - true_positives: 5433.2827 - val_auc: 0.9516 - val_binary_accuracy: 0.9042 - val_false_negatives: 123.0000 - val_false_positives: 141.0000 - val_loss: 0.3510 - val_precision: 0.9000 - val_recall: 0.9116 - val_true_negatives: 1222.0000 - val_true_positives: 1269.0000\n",
      "Epoch 4/20\n",
      "\u001b[1m1/1\u001b[0m \u001b[32m━━━━━━━━━━━━━━━━━━━━\u001b[0m\u001b[37m\u001b[0m \u001b[1m0s\u001b[0m 33ms/step/step - auc: 0.9955 - binary_accuracy: 0.9777 - false_negatives: 94.1567 - false_positives: 148.7112 - loss: 0.0963 - precision: 0.9727 - recall: 0.9833 - true_negatives: 5362.0957 - true_positives: 5435.033\n",
      "\u001b[1m689/689\u001b[0m \u001b[32m━━━━━━━━━━━━━━━━━━━━\u001b[0m\u001b[37m\u001b[0m \u001b[1m75s\u001b[0m 109ms/step - auc: 0.9955 - binary_accuracy: 0.9777 - false_negatives: 94.2739 - false_positives: 148.8956 - loss: 0.0963 - precision: 0.9727 - recall: 0.9833 - true_negatives: 5369.8999 - true_positives: 5442.8784 - val_auc: 0.9570 - val_binary_accuracy: 0.8926 - val_false_negatives: 48.0000 - val_false_positives: 248.0000 - val_loss: 0.3135 - val_precision: 0.8446 - val_recall: 0.9656 - val_true_negatives: 1111.0000 - val_true_positives: 1348.0000\n",
      "Epoch 5/20\n",
      "\u001b[1m1/1\u001b[0m \u001b[32m━━━━━━━━━━━━━━━━━━━━\u001b[0m\u001b[37m\u001b[0m \u001b[1m0s\u001b[0m 35ms/step/step - auc: 0.9954 - binary_accuracy: 0.9787 - false_negatives: 106.1872 - false_positives: 141.1756 - loss: 0.0964 - precision: 0.9765 - recall: 0.9812 - true_negatives: 5369.6387 - true_positives: 5422.995\n",
      "\u001b[1m689/689\u001b[0m \u001b[32m━━━━━━━━━━━━━━━━━━━━\u001b[0m\u001b[37m\u001b[0m \u001b[1m75s\u001b[0m 108ms/step - auc: 0.9954 - binary_accuracy: 0.9787 - false_negatives: 106.3333 - false_positives: 141.3812 - loss: 0.0964 - precision: 0.9765 - recall: 0.9812 - true_negatives: 5377.4189 - true_positives: 5430.8145 - val_auc: 0.8575 - val_binary_accuracy: 0.7456 - val_false_negatives: 687.0000 - val_false_positives: 14.0000 - val_loss: 4.0904 - val_precision: 0.9805 - val_recall: 0.5065 - val_true_negatives: 1349.0000 - val_true_positives: 705.0000\n",
      "Epoch 6/20\n",
      "\u001b[1m1/1\u001b[0m \u001b[32m━━━━━━━━━━━━━━━━━━━━\u001b[0m\u001b[37m\u001b[0m \u001b[1m0s\u001b[0m 41ms/step/step - auc: 0.9972 - binary_accuracy: 0.9816 - false_negatives: 84.5747 - false_positives: 123.9419 - loss: 0.0836 - precision: 0.9788 - recall: 0.9848 - true_negatives: 5386.8823 - true_positives: 5444.598\n",
      "\u001b[1m689/689\u001b[0m \u001b[32m━━━━━━━━━━━━━━━━━━━━\u001b[0m\u001b[37m\u001b[0m \u001b[1m75s\u001b[0m 108ms/step - auc: 0.9972 - binary_accuracy: 0.9816 - false_negatives: 84.7043 - false_positives: 124.1203 - loss: 0.0836 - precision: 0.9788 - recall: 0.9848 - true_negatives: 5394.6899 - true_positives: 5452.4331 - val_auc: 0.9493 - val_binary_accuracy: 0.9016 - val_false_negatives: 107.0000 - val_false_positives: 164.0000 - val_loss: 0.4065 - val_precision: 0.8871 - val_recall: 0.9233 - val_true_negatives: 1196.0000 - val_true_positives: 1288.0000\n",
      "Epoch 7/20\n",
      "\u001b[1m1/1\u001b[0m \u001b[32m━━━━━━━━━━━━━━━━━━━━\u001b[0m\u001b[37m\u001b[0m \u001b[1m0s\u001b[0m 36ms/step/step - auc: 0.9976 - binary_accuracy: 0.9827 - false_negatives: 75.8665 - false_positives: 124.4993 - loss: 0.0799 - precision: 0.9784 - recall: 0.9874 - true_negatives: 5386.3613 - true_positives: 5453.270\n",
      "\u001b[1m689/689\u001b[0m \u001b[32m━━━━━━━━━━━━━━━━━━━━\u001b[0m\u001b[37m\u001b[0m \u001b[1m74s\u001b[0m 108ms/step - auc: 0.9976 - binary_accuracy: 0.9827 - false_negatives: 75.9841 - false_positives: 124.6768 - loss: 0.0799 - precision: 0.9784 - recall: 0.9874 - true_negatives: 5394.1724 - true_positives: 5461.1143 - val_auc: 0.9526 - val_binary_accuracy: 0.9031 - val_false_negatives: 103.0000 - val_false_positives: 164.0000 - val_loss: 0.3443 - val_precision: 0.8867 - val_recall: 0.9257 - val_true_negatives: 1204.0000 - val_true_positives: 1284.0000\n",
      "Epoch 8/20\n",
      "\u001b[1m1/1\u001b[0m \u001b[32m━━━━━━━━━━━━━━━━━━━━\u001b[0m\u001b[37m\u001b[0m \u001b[1m0s\u001b[0m 39ms/step/step - auc: 0.9972 - binary_accuracy: 0.9833 - false_negatives: 77.4223 - false_positives: 124.9681 - loss: 0.0793 - precision: 0.9793 - recall: 0.9877 - true_negatives: 5385.8491 - true_positives: 5451.757\n",
      "\u001b[1m689/689\u001b[0m \u001b[32m━━━━━━━━━━━━━━━━━━━━\u001b[0m\u001b[37m\u001b[0m \u001b[1m75s\u001b[0m 109ms/step - auc: 0.9972 - binary_accuracy: 0.9833 - false_negatives: 77.5580 - false_positives: 125.1739 - loss: 0.0793 - precision: 0.9793 - recall: 0.9877 - true_negatives: 5393.6333 - true_positives: 5459.5825 - val_auc: 0.9458 - val_binary_accuracy: 0.9005 - val_false_negatives: 174.0000 - val_false_positives: 100.0000 - val_loss: 0.5485 - val_precision: 0.9238 - val_recall: 0.8745 - val_true_negatives: 1268.0000 - val_true_positives: 1213.0000\n",
      "Epoch 9/20\n",
      "\u001b[1m1/1\u001b[0m \u001b[32m━━━━━━━━━━━━━━━━━━━━\u001b[0m\u001b[37m\u001b[0m \u001b[1m0s\u001b[0m 94ms/step/step - auc: 0.9976 - binary_accuracy: 0.9835 - false_negatives: 68.0203 - false_positives: 121.3962 - loss: 0.0769 - precision: 0.9786 - recall: 0.9888 - true_negatives: 5389.3467 - true_positives: 5461.233\n",
      "\u001b[1m689/689\u001b[0m \u001b[32m━━━━━━━━━━━━━━━━━━━━\u001b[0m\u001b[37m\u001b[0m \u001b[1m77s\u001b[0m 111ms/step - auc: 0.9976 - binary_accuracy: 0.9835 - false_negatives: 68.1391 - false_positives: 121.5754 - loss: 0.0769 - precision: 0.9786 - recall: 0.9888 - true_negatives: 5397.1538 - true_positives: 5469.0796 - val_auc: 0.9567 - val_binary_accuracy: 0.9034 - val_false_negatives: 112.0000 - val_false_positives: 154.0000 - val_loss: 0.3078 - val_precision: 0.8929 - val_recall: 0.9198 - val_true_negatives: 1205.0000 - val_true_positives: 1284.0000\n",
      "Epoch 10/20\n",
      "\u001b[1m1/1\u001b[0m \u001b[32m━━━━━━━━━━━━━━━━━━━━\u001b[0m\u001b[37m\u001b[0m \u001b[1m0s\u001b[0m 38ms/step/step - auc: 0.9974 - binary_accuracy: 0.9853 - false_negatives: 70.0319 - false_positives: 93.9361 - loss: 0.0766 - precision: 0.9837 - recall: 0.9872 - true_negatives: 5416.8721 - true_positives: 5459.156\n",
      "\u001b[1m689/689\u001b[0m \u001b[32m━━━━━━━━━━━━━━━━━━━━\u001b[0m\u001b[37m\u001b[0m \u001b[1m76s\u001b[0m 110ms/step - auc: 0.9974 - binary_accuracy: 0.9853 - false_negatives: 70.1232 - false_positives: 94.0768 - loss: 0.0766 - precision: 0.9837 - recall: 0.9872 - true_negatives: 5424.7158 - true_positives: 5467.0317 - val_auc: 0.8121 - val_binary_accuracy: 0.6505 - val_false_negatives: 952.0000 - val_false_positives: 11.0000 - val_loss: 5.6190 - val_precision: 0.9753 - val_recall: 0.3136 - val_true_negatives: 1357.0000 - val_true_positives: 435.0000\n",
      "Epoch 11/20\n",
      "\u001b[1m1/1\u001b[0m \u001b[32m━━━━━━━━━━━━━━━━━━━━\u001b[0m\u001b[37m\u001b[0m \u001b[1m0s\u001b[0m 34ms/step/step - auc: 0.9973 - binary_accuracy: 0.9826 - false_negatives: 81.7141 - false_positives: 115.1118 - loss: 0.0789 - precision: 0.9797 - recall: 0.9859 - true_negatives: 5395.7461 - true_positives: 5447.425\n",
      "\u001b[1m689/689\u001b[0m \u001b[32m━━━━━━━━━━━━━━━━━━━━\u001b[0m\u001b[37m\u001b[0m \u001b[1m75s\u001b[0m 109ms/step - auc: 0.9973 - binary_accuracy: 0.9826 - false_negatives: 81.8290 - false_positives: 115.3029 - loss: 0.0789 - precision: 0.9797 - recall: 0.9859 - true_negatives: 5403.5435 - true_positives: 5455.2725 - val_auc: 0.9584 - val_binary_accuracy: 0.9082 - val_false_negatives: 81.0000 - val_false_positives: 172.0000 - val_loss: 0.2944 - val_precision: 0.8838 - val_recall: 0.9417 - val_true_negatives: 1194.0000 - val_true_positives: 1308.0000\n",
      "Epoch 12/20\n",
      "\u001b[1m1/1\u001b[0m \u001b[32m━━━━━━━━━━━━━━━━━━━━\u001b[0m\u001b[37m\u001b[0m \u001b[1m0s\u001b[0m 44ms/step/step - auc: 0.9979 - binary_accuracy: 0.9872 - false_negatives: 65.6430 - false_positives: 84.1466 - loss: 0.0709 - precision: 0.9858 - recall: 0.9889 - true_negatives: 5426.6646 - true_positives: 5463.543\n",
      "\u001b[1m689/689\u001b[0m \u001b[32m━━━━━━━━━━━━━━━━━━━━\u001b[0m\u001b[37m\u001b[0m \u001b[1m76s\u001b[0m 110ms/step - auc: 0.9979 - binary_accuracy: 0.9872 - false_negatives: 65.7333 - false_positives: 84.2696 - loss: 0.0709 - precision: 0.9858 - recall: 0.9889 - true_negatives: 5434.5317 - true_positives: 5471.4131 - val_auc: 0.9060 - val_binary_accuracy: 0.8305 - val_false_negatives: 427.0000 - val_false_positives: 40.0000 - val_loss: 1.8203 - val_precision: 0.9600 - val_recall: 0.6921 - val_true_negatives: 1328.0000 - val_true_positives: 960.0000\n",
      "Epoch 13/20\n",
      "\u001b[1m1/1\u001b[0m \u001b[32m━━━━━━━━━━━━━━━━━━━━\u001b[0m\u001b[37m\u001b[0m \u001b[1m0s\u001b[0m 33ms/step/step - auc: 0.9979 - binary_accuracy: 0.9866 - false_negatives: 66.2946 - false_positives: 86.4644 - loss: 0.0687 - precision: 0.9850 - recall: 0.9884 - true_negatives: 5424.3208 - true_positives: 5462.917\n",
      "\u001b[1m689/689\u001b[0m \u001b[32m━━━━━━━━━━━━━━━━━━━━\u001b[0m\u001b[37m\u001b[0m \u001b[1m74s\u001b[0m 108ms/step - auc: 0.9979 - binary_accuracy: 0.9866 - false_negatives: 66.3971 - false_positives: 86.6029 - loss: 0.0687 - precision: 0.9850 - recall: 0.9884 - true_negatives: 5432.1665 - true_positives: 5470.7812 - val_auc: 0.9520 - val_binary_accuracy: 0.8777 - val_false_negatives: 60.0000 - val_false_positives: 277.0000 - val_loss: 0.3444 - val_precision: 0.8273 - val_recall: 0.9567 - val_true_negatives: 1091.0000 - val_true_positives: 1327.0000\n",
      "Epoch 14/20\n",
      "\u001b[1m1/1\u001b[0m \u001b[32m━━━━━━━━━━━━━━━━━━━━\u001b[0m\u001b[37m\u001b[0m \u001b[1m0s\u001b[0m 46ms/step/step - auc: 0.9977 - binary_accuracy: 0.9861 - false_negatives: 76.0856 - false_positives: 87.3716 - loss: 0.0706 - precision: 0.9855 - recall: 0.9869 - true_negatives: 5423.4341 - true_positives: 5453.106\n",
      "\u001b[1m689/689\u001b[0m \u001b[32m━━━━━━━━━━━━━━━━━━━━\u001b[0m\u001b[37m\u001b[0m \u001b[1m95s\u001b[0m 138ms/step - auc: 0.9977 - binary_accuracy: 0.9861 - false_negatives: 76.1870 - false_positives: 87.5000 - loss: 0.0706 - precision: 0.9854 - recall: 0.9869 - true_negatives: 5431.2915 - true_positives: 5460.9697 - val_auc: 0.9523 - val_binary_accuracy: 0.9042 - val_false_negatives: 155.0000 - val_false_positives: 109.0000 - val_loss: 0.3637 - val_precision: 0.9191 - val_recall: 0.8888 - val_true_negatives: 1252.0000 - val_true_positives: 1239.0000\n",
      "Epoch 15/20\n",
      "\u001b[1m1/1\u001b[0m \u001b[32m━━━━━━━━━━━━━━━━━━━━\u001b[0m\u001b[37m\u001b[0m \u001b[1m0s\u001b[0m 106ms/stepstep - auc: 0.9983 - binary_accuracy: 0.9871 - false_negatives: 64.3048 - false_positives: 83.2366 - loss: 0.0654 - precision: 0.9857 - recall: 0.9888 - true_negatives: 5427.5415 - true_positives: 5464.914\n",
      "\u001b[1m689/689\u001b[0m \u001b[32m━━━━━━━━━━━━━━━━━━━━\u001b[0m\u001b[37m\u001b[0m \u001b[1m96s\u001b[0m 138ms/step - auc: 0.9983 - binary_accuracy: 0.9871 - false_negatives: 64.3870 - false_positives: 83.3478 - loss: 0.0654 - precision: 0.9857 - recall: 0.9888 - true_negatives: 5435.4204 - true_positives: 5472.7930 - val_auc: 0.8969 - val_binary_accuracy: 0.8229 - val_false_negatives: 442.0000 - val_false_positives: 46.0000 - val_loss: 2.2420 - val_precision: 0.9540 - val_recall: 0.6832 - val_true_negatives: 1314.0000 - val_true_positives: 953.0000\n",
      "Epoch 16/20\n",
      "\u001b[1m1/1\u001b[0m \u001b[32m━━━━━━━━━━━━━━━━━━━━\u001b[0m\u001b[37m\u001b[0m \u001b[1m0s\u001b[0m 35ms/step/step - auc: 0.9980 - binary_accuracy: 0.9875 - false_negatives: 56.8723 - false_positives: 90.0145 - loss: 0.0658 - precision: 0.9847 - recall: 0.9906 - true_negatives: 5420.8506 - true_positives: 5472.259\n",
      "\u001b[1m689/689\u001b[0m \u001b[32m━━━━━━━━━━━━━━━━━━━━\u001b[0m\u001b[37m\u001b[0m \u001b[1m86s\u001b[0m 125ms/step - auc: 0.9980 - binary_accuracy: 0.9875 - false_negatives: 56.9681 - false_positives: 90.1464 - loss: 0.0658 - precision: 0.9847 - recall: 0.9906 - true_negatives: 5428.7046 - true_positives: 5480.1289 - val_auc: 0.9170 - val_binary_accuracy: 0.8672 - val_false_negatives: 297.0000 - val_false_positives: 69.0000 - val_loss: 1.2246 - val_precision: 0.9409 - val_recall: 0.7872 - val_true_negatives: 1290.0000 - val_true_positives: 1099.0000\n",
      "Epoch 17/20\n",
      "\u001b[1m1/1\u001b[0m \u001b[32m━━━━━━━━━━━━━━━━━━━━\u001b[0m\u001b[37m\u001b[0m \u001b[1m0s\u001b[0m 50ms/step/step - auc: 0.9986 - binary_accuracy: 0.9888 - false_negatives: 51.4499 - false_positives: 75.2134 - loss: 0.0637 - precision: 0.9868 - recall: 0.9911 - true_negatives: 5435.6660 - true_positives: 5477.667\n",
      "\u001b[1m689/689\u001b[0m \u001b[32m━━━━━━━━━━━━━━━━━━━━\u001b[0m\u001b[37m\u001b[0m \u001b[1m78s\u001b[0m 114ms/step - auc: 0.9986 - binary_accuracy: 0.9888 - false_negatives: 51.5319 - false_positives: 75.3377 - loss: 0.0637 - precision: 0.9868 - recall: 0.9911 - true_negatives: 5443.5303 - true_positives: 5485.5479 - val_auc: 0.9544 - val_binary_accuracy: 0.9067 - val_false_negatives: 124.0000 - val_false_positives: 133.0000 - val_loss: 0.3276 - val_precision: 0.9051 - val_recall: 0.9109 - val_true_negatives: 1230.0000 - val_true_positives: 1268.0000\n",
      "Epoch 18/20\n",
      "\u001b[1m1/1\u001b[0m \u001b[32m━━━━━━━━━━━━━━━━━━━━\u001b[0m\u001b[37m\u001b[0m \u001b[1m0s\u001b[0m 93ms/step/step - auc: 0.9982 - binary_accuracy: 0.9888 - false_negatives: 55.1089 - false_positives: 77.3614 - loss: 0.0624 - precision: 0.9869 - recall: 0.9908 - true_negatives: 5433.3569 - true_positives: 5474.169\n",
      "\u001b[1m689/689\u001b[0m \u001b[32m━━━━━━━━━━━━━━━━━━━━\u001b[0m\u001b[37m\u001b[0m \u001b[1m91s\u001b[0m 132ms/step - auc: 0.9982 - binary_accuracy: 0.9887 - false_negatives: 55.1928 - false_positives: 77.4623 - loss: 0.0624 - precision: 0.9869 - recall: 0.9908 - true_negatives: 5441.2407 - true_positives: 5482.0522 - val_auc: 0.6508 - val_binary_accuracy: 0.5539 - val_false_negatives: 1224.0000 - val_false_positives: 5.0000 - val_loss: 13.0628 - val_precision: 0.9702 - val_recall: 0.1175 - val_true_negatives: 1363.0000 - val_true_positives: 163.0000\n",
      "Epoch 19/20\n",
      "\u001b[1m1/1\u001b[0m \u001b[32m━━━━━━━━━━━━━━━━━━━━\u001b[0m\u001b[37m\u001b[0m \u001b[1m0s\u001b[0m 67ms/step/step - auc: 0.9987 - binary_accuracy: 0.9892 - false_negatives: 52.8447 - false_positives: 70.9536 - loss: 0.0583 - precision: 0.9879 - recall: 0.9907 - true_negatives: 5439.9160 - true_positives: 5476.283\n",
      "\u001b[1m689/689\u001b[0m \u001b[32m━━━━━━━━━━━━━━━━━━━━\u001b[0m\u001b[37m\u001b[0m \u001b[1m104s\u001b[0m 150ms/step - auc: 0.9987 - binary_accuracy: 0.9892 - false_negatives: 52.9232 - false_positives: 71.0522 - loss: 0.0583 - precision: 0.9879 - recall: 0.9907 - true_negatives: 5447.8057 - true_positives: 5484.1665 - val_auc: 0.9422 - val_binary_accuracy: 0.8864 - val_false_negatives: 228.0000 - val_false_positives: 85.0000 - val_loss: 0.5657 - val_precision: 0.9317 - val_recall: 0.8356 - val_true_negatives: 1283.0000 - val_true_positives: 1159.0000\n",
      "Epoch 20/20\n",
      "\u001b[1m1/1\u001b[0m \u001b[32m━━━━━━━━━━━━━━━━━━━━\u001b[0m\u001b[37m\u001b[0m \u001b[1m0s\u001b[0m 48ms/step/step - auc: 0.9987 - binary_accuracy: 0.9871 - false_negatives: 62.1597 - false_positives: 82.8389 - loss: 0.0589 - precision: 0.9853 - recall: 0.9890 - true_negatives: 5427.8984 - true_positives: 5467.100\n",
      "\u001b[1m689/689\u001b[0m \u001b[32m━━━━━━━━━━━━━━━━━━━━\u001b[0m\u001b[37m\u001b[0m \u001b[1m111s\u001b[0m 161ms/step - auc: 0.9987 - binary_accuracy: 0.9871 - false_negatives: 62.2594 - false_positives: 82.9681 - loss: 0.0589 - precision: 0.9853 - recall: 0.9890 - true_negatives: 5435.7578 - true_positives: 5474.9624 - val_auc: 0.6223 - val_binary_accuracy: 0.5401 - val_false_negatives: 1263.0000 - val_false_positives: 4.0000 - val_loss: 13.3583 - val_precision: 0.9688 - val_recall: 0.0894 - val_true_negatives: 1364.0000 - val_true_positives: 124.0000\n"
     ]
    },
    {
     "data": {
      "text/plain": [
       "<keras.src.callbacks.history.History at 0x44af44350>"
      ]
     },
     "execution_count": 13,
     "metadata": {},
     "output_type": "execute_result"
    }
   ],
   "source": [
    "model.fit(trainDataset, validation_data=valDataset, epochs=CONFIGURATION[\"N_EPOCHS\"], verbose=1, callbacks=[WandbMetricsLogger(), WandbModelCheckpoint(\"Models/Model.keras\"), ImageLoggingCallback()])"
   ]
  },
  {
   "cell_type": "markdown",
   "metadata": {},
   "source": [
    "## Check Dashboard Here\n",
    "### https://wandb.ai/amanjn2003-santa-clara-university/Malaria-Detection?nw=nwuseramanjn2003"
   ]
  },
  {
   "cell_type": "code",
   "execution_count": 14,
   "metadata": {},
   "outputs": [
    {
     "data": {
      "text/html": [
       "<button onClick=\"this.nextSibling.style.display='block';this.style.display='none';\">Display W&B run</button><iframe src='https://wandb.ai/amanjn2003-santa-clara-university/Malaria-Detection/runs/g6ggpk6j?jupyter=true' style='border:none;width:100%;height:420px;display:none;'></iframe>"
      ],
      "text/plain": [
       "<wandb.sdk.wandb_run.Run at 0x3a6ce66d0>"
      ]
     },
     "execution_count": 14,
     "metadata": {},
     "output_type": "execute_result"
    }
   ],
   "source": [
    "wandb.run"
   ]
  },
  {
   "cell_type": "code",
   "execution_count": 15,
   "metadata": {},
   "outputs": [
    {
     "data": {
      "text/html": [],
      "text/plain": [
       "<IPython.core.display.HTML object>"
      ]
     },
     "metadata": {},
     "output_type": "display_data"
    },
    {
     "data": {
      "text/html": [
       "<br>    <style><br>        .wandb-row {<br>            display: flex;<br>            flex-direction: row;<br>            flex-wrap: wrap;<br>            justify-content: flex-start;<br>            width: 100%;<br>        }<br>        .wandb-col {<br>            display: flex;<br>            flex-direction: column;<br>            flex-basis: 100%;<br>            flex: 1;<br>            padding: 10px;<br>        }<br>    </style><br><div class=\"wandb-row\"><div class=\"wandb-col\"><h3>Run history:</h3><br/><table class=\"wandb\"><tr><td>epoch</td><td>▁▁▂▂▂▃▃▄▄▄▅▅▅▆▆▇▇▇██</td></tr><tr><td>epoch/auc</td><td>▁▂▃▃▂▅▆▄▆▆▅▇▇▇█▇█▇▇█</td></tr><tr><td>epoch/binary_accuracy</td><td>▁▂▂▄▃▄▅▄▅▆▄▇▆▆▇▇▇██▇</td></tr><tr><td>epoch/epoch</td><td>▁▁▂▂▂▃▃▄▄▄▅▅▅▆▆▇▇▇██</td></tr><tr><td>epoch/false_negatives</td><td>█▇▇▆█▆▅▅▄▃▅▂▃▄▂▂▁▁▁▃</td></tr><tr><td>epoch/false_positives</td><td>█▆▆▅▅▄▄▅▄▃▄▂▂▂▂▂▂▁▁▂</td></tr><tr><td>epoch/learning_rate</td><td>▁▁▁▁▁▁▁▁▁▁▁▁▁▁▁▁▁▁▁▁</td></tr><tr><td>epoch/loss</td><td>█▇▇▆▇▅▄▅▄▄▄▃▂▃▂▂▁▁▁▁</td></tr><tr><td>epoch/precision</td><td>▁▃▂▄▃▅▅▄▅▆▅▇▇▇▇▇▇██▇</td></tr><tr><td>epoch/recall</td><td>▁▂▂▃▁▃▄▄▅▆▄▇▆▅▇▇███▆</td></tr><tr><td>epoch/true_negatives</td><td>▁▃▃▄▃▅▅▄▅▆▅▇▇▇▇▇▇██▇</td></tr><tr><td>epoch/true_positives</td><td>▁▂▁▃▁▃▄▃▅▆▄▆▆▅▇▇███▆</td></tr><tr><td>epoch/val_auc</td><td>█▇██▆████▅█▇██▇▇█▂█▁</td></tr><tr><td>epoch/val_binary_accuracy</td><td>█▇██▅████▃█▇▇█▆▇█▁█▁</td></tr><tr><td>epoch/val_false_negatives</td><td>▂▂▁▁▅▁▁▂▁▆▁▃▁▂▃▂▁█▂█</td></tr><tr><td>epoch/val_false_positives</td><td>▃▂▅▇▁▅▅▃▅▁▅▂█▄▂▃▄▁▃▁</td></tr><tr><td>epoch/val_loss</td><td>▁▂▁▁▃▁▁▁▁▄▁▂▁▁▂▁▁█▁█</td></tr><tr><td>epoch/val_precision</td><td>▆▇▄▂█▄▄▅▄█▄▇▁▅▇▆▅█▆▇</td></tr><tr><td>epoch/val_recall</td><td>▇▇██▄██▇█▃█▆█▇▆▇█▁▇▁</td></tr><tr><td>epoch/val_true_negatives</td><td>▆▇▄▂█▄▄▆▄█▄▇▁▅▇▆▅█▆█</td></tr><tr><td>epoch/val_true_positives</td><td>▇▇██▄██▇█▃█▆█▇▆▇█▁▇▁</td></tr></table><br/></div><div class=\"wandb-col\"><h3>Run summary:</h3><br/><table class=\"wandb\"><tr><td>epoch</td><td>19</td></tr><tr><td>epoch/auc</td><td>0.99822</td></tr><tr><td>epoch/binary_accuracy</td><td>0.98626</td></tr><tr><td>epoch/epoch</td><td>19</td></tr><tr><td>epoch/false_negatives</td><td>131</td></tr><tr><td>epoch/false_positives</td><td>172</td></tr><tr><td>epoch/learning_rate</td><td>0.001</td></tr><tr><td>epoch/loss</td><td>0.06187</td></tr><tr><td>epoch/precision</td><td>0.98445</td></tr><tr><td>epoch/recall</td><td>0.98812</td></tr><tr><td>epoch/true_negatives</td><td>10851</td></tr><tr><td>epoch/true_positives</td><td>10892</td></tr><tr><td>epoch/val_auc</td><td>0.62232</td></tr><tr><td>epoch/val_binary_accuracy</td><td>0.54011</td></tr><tr><td>epoch/val_false_negatives</td><td>1263</td></tr><tr><td>epoch/val_false_positives</td><td>4</td></tr><tr><td>epoch/val_loss</td><td>13.3583</td></tr><tr><td>epoch/val_precision</td><td>0.96875</td></tr><tr><td>epoch/val_recall</td><td>0.0894</td></tr><tr><td>epoch/val_true_negatives</td><td>1364</td></tr><tr><td>epoch/val_true_positives</td><td>124</td></tr></table><br/></div></div>"
      ],
      "text/plain": [
       "<IPython.core.display.HTML object>"
      ]
     },
     "metadata": {},
     "output_type": "display_data"
    },
    {
     "data": {
      "text/html": [
       " View run <strong style=\"color:#cdcd00\">Run 2 - Custom Callbacks</strong> at: <a href='https://wandb.ai/amanjn2003-santa-clara-university/Malaria-Detection/runs/g6ggpk6j' target=\"_blank\">https://wandb.ai/amanjn2003-santa-clara-university/Malaria-Detection/runs/g6ggpk6j</a><br> View project at: <a href='https://wandb.ai/amanjn2003-santa-clara-university/Malaria-Detection' target=\"_blank\">https://wandb.ai/amanjn2003-santa-clara-university/Malaria-Detection</a><br>Synced 5 W&B file(s), 140 media file(s), 116 artifact file(s) and 0 other file(s)"
      ],
      "text/plain": [
       "<IPython.core.display.HTML object>"
      ]
     },
     "metadata": {},
     "output_type": "display_data"
    },
    {
     "data": {
      "text/html": [
       "Find logs at: <code>./wandb/run-20250127_121145-g6ggpk6j/logs</code>"
      ],
      "text/plain": [
       "<IPython.core.display.HTML object>"
      ]
     },
     "metadata": {},
     "output_type": "display_data"
    }
   ],
   "source": [
    "wandb.finish()"
   ]
  }
 ],
 "metadata": {
  "kernelspec": {
   "display_name": "ComputerVision",
   "language": "python",
   "name": "python3"
  },
  "language_info": {
   "codemirror_mode": {
    "name": "ipython",
    "version": 3
   },
   "file_extension": ".py",
   "mimetype": "text/x-python",
   "name": "python",
   "nbconvert_exporter": "python",
   "pygments_lexer": "ipython3",
   "version": "3.11.11"
  }
 },
 "nbformat": 4,
 "nbformat_minor": 2
}
