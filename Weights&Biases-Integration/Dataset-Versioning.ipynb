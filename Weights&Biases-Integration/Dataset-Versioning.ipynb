{
 "cells": [
  {
   "cell_type": "markdown",
   "metadata": {},
   "source": [
    "# DATASET VERSIONING WITH WandB"
   ]
  },
  {
   "cell_type": "code",
   "execution_count": 1,
   "metadata": {},
   "outputs": [],
   "source": [
    "# Import Depedencies\n",
    "import tensorflow as tf\n",
    "import numpy as np\n",
    "import matplotlib.pyplot as plt\n",
    "import cv2\n",
    "import os\n",
    "import datetime\n",
    "import tensorflow_datasets as tfds\n",
    "from tensorflow.keras.layers import Input, Normalization, Conv2D, MaxPooling2D, Dense, Flatten, BatchNormalization, Dropout\n",
    "from tensorflow.keras.metrics import BinaryAccuracy, FalsePositives, FalseNegatives, TrueNegatives, TruePositives, Precision, Recall, F1Score, AUC\n",
    "from tensorflow.keras.regularizers import L2\n",
    "import wandb\n",
    "from wandb.integration.keras import WandbMetricsLogger, WandbModelCheckpoint, WandbEvalCallback, WandbCallback"
   ]
  },
  {
   "cell_type": "markdown",
   "metadata": {},
   "source": [
    "## Data Loader -> Original Dataset -> Train/Test/Val Datasets -> Peprocessed Datasets -> Augmented Datasets -> Final Dataset"
   ]
  },
  {
   "cell_type": "markdown",
   "metadata": {},
   "source": [
    "### Loading Data as Numpy Arrays Into Directory"
   ]
  },
  {
   "cell_type": "code",
   "execution_count": 2,
   "metadata": {},
   "outputs": [
    {
     "name": "stdout",
     "output_type": "stream",
     "text": [
      "[<_PrefetchDataset element_spec=(TensorSpec(shape=(None, None, 3), dtype=tf.uint8, name=None), TensorSpec(shape=(), dtype=tf.int64, name=None))>]\n"
     ]
    },
    {
     "name": "stderr",
     "output_type": "stream",
     "text": [
      "2025-01-27 15:26:39.096226: I metal_plugin/src/device/metal_device.cc:1154] Metal device set to: Apple M3 Pro\n",
      "2025-01-27 15:26:39.096257: I metal_plugin/src/device/metal_device.cc:296] systemMemory: 18.00 GB\n",
      "2025-01-27 15:26:39.096260: I metal_plugin/src/device/metal_device.cc:313] maxCacheSize: 6.00 GB\n",
      "2025-01-27 15:26:39.096274: I tensorflow/core/common_runtime/pluggable_device/pluggable_device_factory.cc:305] Could not identify NUMA node of platform GPU ID 0, defaulting to 0. Your kernel may not have been built with NUMA support.\n",
      "2025-01-27 15:26:39.096287: I tensorflow/core/common_runtime/pluggable_device/pluggable_device_factory.cc:271] Created TensorFlow device (/job:localhost/replica:0/task:0/device:GPU:0 with 0 MB memory) -> physical PluggableDevice (device: 0, name: METAL, pci bus id: <undefined>)\n"
     ]
    }
   ],
   "source": [
    "dataset, datasetInfo = tfds.load('malaria', with_info=True, as_supervised=True, shuffle_files=True, split=['train'])\n",
    "print(dataset)"
   ]
  },
  {
   "cell_type": "code",
   "execution_count": 3,
   "metadata": {},
   "outputs": [
    {
     "name": "stdout",
     "output_type": "stream",
     "text": [
      "27558\n"
     ]
    },
    {
     "name": "stderr",
     "output_type": "stream",
     "text": [
      "2025-01-27 15:26:46.187786: W tensorflow/core/framework/local_rendezvous.cc:404] Local rendezvous is aborting with status: OUT_OF_RANGE: End of sequence\n"
     ]
    }
   ],
   "source": [
    "k=0\n",
    "for image, label in dataset[0]:\n",
    "    with open('Dataset/MalariaDataset' + str(k) + '.npz', mode='wb') as file:\n",
    "        np.savez(file, image=image, label=label)\n",
    "    k+=1\n",
    "print(k)"
   ]
  },
  {
   "cell_type": "markdown",
   "metadata": {},
   "source": [
    "## Run 1 : Original Data Loader"
   ]
  },
  {
   "cell_type": "code",
   "execution_count": 4,
   "metadata": {},
   "outputs": [],
   "source": [
    "def loadOriginalData():\n",
    "    with wandb.init(name=\"Original Data Loader\", project=\"Malaria-Detection-Dataset-Model-Versioning\", entity=\"amanjn2003-santa-clara-university\") as run:\n",
    "        originalData = wandb.Artifact(name=\"NewDataset\", \n",
    "                                        type=\"rawData\", \n",
    "                                        description=\"Tensorflow Malaria Dataset\")\n",
    "        originalData.add_dir('Dataset/')\n",
    "        run.log_artifact(originalData)"
   ]
  },
  {
   "cell_type": "code",
   "execution_count": 5,
   "metadata": {},
   "outputs": [
    {
     "name": "stderr",
     "output_type": "stream",
     "text": [
      "\u001b[34m\u001b[1mwandb\u001b[0m: Currently logged in as: \u001b[33mamanjn2003\u001b[0m (\u001b[33mamanjn2003-santa-clara-university\u001b[0m). Use \u001b[1m`wandb login --relogin`\u001b[0m to force relogin\n",
      "\u001b[34m\u001b[1mwandb\u001b[0m: Using wandb-core as the SDK backend.  Please refer to https://wandb.me/wandb-core for more information.\n"
     ]
    },
    {
     "data": {
      "text/html": [
       "Tracking run with wandb version 0.19.4"
      ],
      "text/plain": [
       "<IPython.core.display.HTML object>"
      ]
     },
     "metadata": {},
     "output_type": "display_data"
    },
    {
     "data": {
      "text/html": [
       "Run data is saved locally in <code>/Users/aman/Documents/Work/Machine Learning/Computer-Vision-TensorFlow/Weights&Biases-Integration/wandb/run-20250127_152750-c2meix9e</code>"
      ],
      "text/plain": [
       "<IPython.core.display.HTML object>"
      ]
     },
     "metadata": {},
     "output_type": "display_data"
    },
    {
     "data": {
      "text/html": [
       "Syncing run <strong><a href='https://wandb.ai/amanjn2003-santa-clara-university/Malaria-Detection-Dataset-Versioning/runs/c2meix9e' target=\"_blank\">Original Data Loader</a></strong> to <a href='https://wandb.ai/amanjn2003-santa-clara-university/Malaria-Detection-Dataset-Versioning' target=\"_blank\">Weights & Biases</a> (<a href='https://wandb.me/developer-guide' target=\"_blank\">docs</a>)<br>"
      ],
      "text/plain": [
       "<IPython.core.display.HTML object>"
      ]
     },
     "metadata": {},
     "output_type": "display_data"
    },
    {
     "data": {
      "text/html": [
       " View project at <a href='https://wandb.ai/amanjn2003-santa-clara-university/Malaria-Detection-Dataset-Versioning' target=\"_blank\">https://wandb.ai/amanjn2003-santa-clara-university/Malaria-Detection-Dataset-Versioning</a>"
      ],
      "text/plain": [
       "<IPython.core.display.HTML object>"
      ]
     },
     "metadata": {},
     "output_type": "display_data"
    },
    {
     "data": {
      "text/html": [
       " View run at <a href='https://wandb.ai/amanjn2003-santa-clara-university/Malaria-Detection-Dataset-Versioning/runs/c2meix9e' target=\"_blank\">https://wandb.ai/amanjn2003-santa-clara-university/Malaria-Detection-Dataset-Versioning/runs/c2meix9e</a>"
      ],
      "text/plain": [
       "<IPython.core.display.HTML object>"
      ]
     },
     "metadata": {},
     "output_type": "display_data"
    },
    {
     "name": "stderr",
     "output_type": "stream",
     "text": [
      "\u001b[34m\u001b[1mwandb\u001b[0m: Adding directory to artifact (./Dataset)... Done. 123.3s\n"
     ]
    },
    {
     "data": {
      "text/html": [],
      "text/plain": [
       "<IPython.core.display.HTML object>"
      ]
     },
     "metadata": {},
     "output_type": "display_data"
    },
    {
     "data": {
      "text/html": [
       " View run <strong style=\"color:#cdcd00\">Original Data Loader</strong> at: <a href='https://wandb.ai/amanjn2003-santa-clara-university/Malaria-Detection-Dataset-Versioning/runs/c2meix9e' target=\"_blank\">https://wandb.ai/amanjn2003-santa-clara-university/Malaria-Detection-Dataset-Versioning/runs/c2meix9e</a><br> View project at: <a href='https://wandb.ai/amanjn2003-santa-clara-university/Malaria-Detection-Dataset-Versioning' target=\"_blank\">https://wandb.ai/amanjn2003-santa-clara-university/Malaria-Detection-Dataset-Versioning</a><br>Synced 5 W&B file(s), 0 media file(s), 27559 artifact file(s) and 0 other file(s)"
      ],
      "text/plain": [
       "<IPython.core.display.HTML object>"
      ]
     },
     "metadata": {},
     "output_type": "display_data"
    },
    {
     "data": {
      "text/html": [
       "Find logs at: <code>./wandb/run-20250127_152750-c2meix9e/logs</code>"
      ],
      "text/plain": [
       "<IPython.core.display.HTML object>"
      ]
     },
     "metadata": {},
     "output_type": "display_data"
    }
   ],
   "source": [
    "loadOriginalData()"
   ]
  },
  {
   "cell_type": "markdown",
   "metadata": {},
   "source": [
    "## Using the Artifact"
   ]
  },
  {
   "cell_type": "code",
   "execution_count": 6,
   "metadata": {},
   "outputs": [
    {
     "data": {
      "text/html": [
       "Tracking run with wandb version 0.19.4"
      ],
      "text/plain": [
       "<IPython.core.display.HTML object>"
      ]
     },
     "metadata": {},
     "output_type": "display_data"
    },
    {
     "data": {
      "text/html": [
       "Run data is saved locally in <code>/Users/aman/Documents/Work/Machine Learning/Computer-Vision-TensorFlow/Weights&Biases-Integration/wandb/run-20250127_153500-20crc6q9</code>"
      ],
      "text/plain": [
       "<IPython.core.display.HTML object>"
      ]
     },
     "metadata": {},
     "output_type": "display_data"
    },
    {
     "data": {
      "text/html": [
       "Syncing run <strong><a href='https://wandb.ai/amanjn2003-santa-clara-university/Computer-Vision-TensorFlow-Weights%26Biases-Integration/runs/20crc6q9' target=\"_blank\">devout-totem-1</a></strong> to <a href='https://wandb.ai/amanjn2003-santa-clara-university/Computer-Vision-TensorFlow-Weights%26Biases-Integration' target=\"_blank\">Weights & Biases</a> (<a href='https://wandb.me/developer-guide' target=\"_blank\">docs</a>)<br>"
      ],
      "text/plain": [
       "<IPython.core.display.HTML object>"
      ]
     },
     "metadata": {},
     "output_type": "display_data"
    },
    {
     "data": {
      "text/html": [
       " View project at <a href='https://wandb.ai/amanjn2003-santa-clara-university/Computer-Vision-TensorFlow-Weights%26Biases-Integration' target=\"_blank\">https://wandb.ai/amanjn2003-santa-clara-university/Computer-Vision-TensorFlow-Weights%26Biases-Integration</a>"
      ],
      "text/plain": [
       "<IPython.core.display.HTML object>"
      ]
     },
     "metadata": {},
     "output_type": "display_data"
    },
    {
     "data": {
      "text/html": [
       " View run at <a href='https://wandb.ai/amanjn2003-santa-clara-university/Computer-Vision-TensorFlow-Weights%26Biases-Integration/runs/20crc6q9' target=\"_blank\">https://wandb.ai/amanjn2003-santa-clara-university/Computer-Vision-TensorFlow-Weights%26Biases-Integration/runs/20crc6q9</a>"
      ],
      "text/plain": [
       "<IPython.core.display.HTML object>"
      ]
     },
     "metadata": {},
     "output_type": "display_data"
    },
    {
     "name": "stderr",
     "output_type": "stream",
     "text": [
      "\u001b[34m\u001b[1mwandb\u001b[0m: Downloading large artifact NewDataset:v0, 1419.75MB. 27558 files... \n",
      "\u001b[34m\u001b[1mwandb\u001b[0m:   27558 of 27558 files downloaded.  \n",
      "Done. 0:0:57.7\n"
     ]
    }
   ],
   "source": [
    "run = wandb.init()\n",
    "artifact = run.use_artifact('amanjn2003-santa-clara-university/Malaria-Detection-Dataset-Model-Versioning/NewDataset:v0', type='rawData')\n",
    "artifact_dir = artifact.download()"
   ]
  },
  {
   "cell_type": "markdown",
   "metadata": {},
   "source": [
    "## Run 2 : Pre-Processing Data"
   ]
  },
  {
   "cell_type": "code",
   "execution_count": 2,
   "metadata": {},
   "outputs": [],
   "source": [
    "IM_SIZE = 224\n",
    "def resizeRescale(image):\n",
    "    return tf.image.resize(image, (IM_SIZE, IM_SIZE))/255.0"
   ]
  },
  {
   "cell_type": "code",
   "execution_count": 3,
   "metadata": {},
   "outputs": [],
   "source": [
    "def dataPreprocessor():\n",
    "    with wandb.init(name=\"Data Preprocessor\", project=\"Malaria-Detection-Dataset-Model-Versioning\", entity=\"amanjn2003-santa-clara-university\") as run:\n",
    "        \n",
    "        artifact = run.use_artifact('amanjn2003-santa-clara-university/Malaria-Detection-Dataset-Model-Versioning/NewDataset:v0', type='rawData')\n",
    "        artifact_dir = artifact.download()\n",
    "\n",
    "        preProcessedData = wandb.Artifact(name=\"PreprocessedDataset\", \n",
    "                                        type=\"preprocessedData\", \n",
    "                                        description=\"Tensorflow Malaria Dataset - Preprocessed\")\n",
    "        artifactDir = \"artifacts/NewDataset:v0/\"\n",
    "        datasetX = []\n",
    "        datasetY = []\n",
    "        for f in os.listdir(artifactDir)[:1000]: # To save memory\n",
    "            with open(artifactDir + f, 'rb') as file:\n",
    "                npzArray = np.load(file, allow_pickle=True)\n",
    "                x, y = npzArray['image'], npzArray['label']\n",
    "                datasetX.append(resizeRescale(x))\n",
    "                datasetY.append(y)\n",
    "\n",
    "        with preProcessedData.new_file(\"PreprocessedDataset.npz\", mode='wb') as file:\n",
    "            np.savez(file, image=datasetX, label=datasetY)\n",
    "        \n",
    "        run.log_artifact(preProcessedData)"
   ]
  },
  {
   "cell_type": "code",
   "execution_count": 4,
   "metadata": {},
   "outputs": [
    {
     "name": "stderr",
     "output_type": "stream",
     "text": [
      "\u001b[34m\u001b[1mwandb\u001b[0m: Currently logged in as: \u001b[33mamanjn2003\u001b[0m (\u001b[33mamanjn2003-santa-clara-university\u001b[0m). Use \u001b[1m`wandb login --relogin`\u001b[0m to force relogin\n",
      "\u001b[34m\u001b[1mwandb\u001b[0m: Using wandb-core as the SDK backend.  Please refer to https://wandb.me/wandb-core for more information.\n"
     ]
    },
    {
     "data": {
      "text/html": [
       "Tracking run with wandb version 0.19.4"
      ],
      "text/plain": [
       "<IPython.core.display.HTML object>"
      ]
     },
     "metadata": {},
     "output_type": "display_data"
    },
    {
     "data": {
      "text/html": [
       "Run data is saved locally in <code>/Users/aman/Documents/Work/Machine Learning/Computer-Vision-TensorFlow/Weights&Biases-Integration/wandb/run-20250127_161421-xiewx2ej</code>"
      ],
      "text/plain": [
       "<IPython.core.display.HTML object>"
      ]
     },
     "metadata": {},
     "output_type": "display_data"
    },
    {
     "data": {
      "text/html": [
       "Syncing run <strong><a href='https://wandb.ai/amanjn2003-santa-clara-university/Malaria-Detection-Dataset-Versioning/runs/xiewx2ej' target=\"_blank\">Data Preprocessor</a></strong> to <a href='https://wandb.ai/amanjn2003-santa-clara-university/Malaria-Detection-Dataset-Versioning' target=\"_blank\">Weights & Biases</a> (<a href='https://wandb.me/developer-guide' target=\"_blank\">docs</a>)<br>"
      ],
      "text/plain": [
       "<IPython.core.display.HTML object>"
      ]
     },
     "metadata": {},
     "output_type": "display_data"
    },
    {
     "data": {
      "text/html": [
       " View project at <a href='https://wandb.ai/amanjn2003-santa-clara-university/Malaria-Detection-Dataset-Versioning' target=\"_blank\">https://wandb.ai/amanjn2003-santa-clara-university/Malaria-Detection-Dataset-Versioning</a>"
      ],
      "text/plain": [
       "<IPython.core.display.HTML object>"
      ]
     },
     "metadata": {},
     "output_type": "display_data"
    },
    {
     "data": {
      "text/html": [
       " View run at <a href='https://wandb.ai/amanjn2003-santa-clara-university/Malaria-Detection-Dataset-Versioning/runs/xiewx2ej' target=\"_blank\">https://wandb.ai/amanjn2003-santa-clara-university/Malaria-Detection-Dataset-Versioning/runs/xiewx2ej</a>"
      ],
      "text/plain": [
       "<IPython.core.display.HTML object>"
      ]
     },
     "metadata": {},
     "output_type": "display_data"
    },
    {
     "name": "stderr",
     "output_type": "stream",
     "text": [
      "\u001b[34m\u001b[1mwandb\u001b[0m: Downloading large artifact NewDataset:v0, 1419.75MB. 27558 files... \n",
      "\u001b[34m\u001b[1mwandb\u001b[0m:   27558 of 27558 files downloaded.  \n",
      "Done. 0:1:1.3\n",
      "2025-01-27 16:15:24.613062: I metal_plugin/src/device/metal_device.cc:1154] Metal device set to: Apple M3 Pro\n",
      "2025-01-27 16:15:24.613083: I metal_plugin/src/device/metal_device.cc:296] systemMemory: 18.00 GB\n",
      "2025-01-27 16:15:24.613085: I metal_plugin/src/device/metal_device.cc:313] maxCacheSize: 6.00 GB\n",
      "2025-01-27 16:15:24.613305: I tensorflow/core/common_runtime/pluggable_device/pluggable_device_factory.cc:305] Could not identify NUMA node of platform GPU ID 0, defaulting to 0. Your kernel may not have been built with NUMA support.\n",
      "2025-01-27 16:15:24.613319: I tensorflow/core/common_runtime/pluggable_device/pluggable_device_factory.cc:271] Created TensorFlow device (/job:localhost/replica:0/task:0/device:GPU:0 with 0 MB memory) -> physical PluggableDevice (device: 0, name: METAL, pci bus id: <undefined>)\n"
     ]
    },
    {
     "data": {
      "text/html": [],
      "text/plain": [
       "<IPython.core.display.HTML object>"
      ]
     },
     "metadata": {},
     "output_type": "display_data"
    },
    {
     "data": {
      "text/html": [
       " View run <strong style=\"color:#cdcd00\">Data Preprocessor</strong> at: <a href='https://wandb.ai/amanjn2003-santa-clara-university/Malaria-Detection-Dataset-Versioning/runs/xiewx2ej' target=\"_blank\">https://wandb.ai/amanjn2003-santa-clara-university/Malaria-Detection-Dataset-Versioning/runs/xiewx2ej</a><br> View project at: <a href='https://wandb.ai/amanjn2003-santa-clara-university/Malaria-Detection-Dataset-Versioning' target=\"_blank\">https://wandb.ai/amanjn2003-santa-clara-university/Malaria-Detection-Dataset-Versioning</a><br>Synced 5 W&B file(s), 0 media file(s), 2 artifact file(s) and 0 other file(s)"
      ],
      "text/plain": [
       "<IPython.core.display.HTML object>"
      ]
     },
     "metadata": {},
     "output_type": "display_data"
    },
    {
     "data": {
      "text/html": [
       "Find logs at: <code>./wandb/run-20250127_161421-xiewx2ej/logs</code>"
      ],
      "text/plain": [
       "<IPython.core.display.HTML object>"
      ]
     },
     "metadata": {},
     "output_type": "display_data"
    }
   ],
   "source": [
    "dataPreprocessor()"
   ]
  },
  {
   "cell_type": "markdown",
   "metadata": {},
   "source": [
    "## Run 3 : Dataset Splitting"
   ]
  },
  {
   "cell_type": "code",
   "execution_count": 7,
   "metadata": {},
   "outputs": [],
   "source": [
    "def dataSplitter():\n",
    "    with wandb.init(name=\"Data Splitting\", project=\"Malaria-Detection-Dataset-Model-Versioning\", entity=\"amanjn2003-santa-clara-university\") as run:\n",
    "        \n",
    "        artifact = run.use_artifact('amanjn2003-santa-clara-university/Malaria-Detection-Dataset-Model-Versioning/PreprocessedDataset:v0', type='preprocessedData')\n",
    "        artifact_dir = artifact.download()\n",
    "\n",
    "        trainData = wandb.Artifact(name=\"TrainDataset\", \n",
    "                                        type=\"DatasetSplits\", \n",
    "                                        description=\"Training Dataset\")\n",
    "        testData = wandb.Artifact(name=\"TestDataset\", \n",
    "                                        type=\"DatasetSplits\", \n",
    "                                        description=\"Testing Dataset\")\n",
    "        valData = wandb.Artifact(name=\"ValDataset\", \n",
    "                                        type=\"DatasetSplits\", \n",
    "                                        description=\"Validation Dataset\")\n",
    "        \n",
    "        artifactFile = \"artifacts/PreprocessedDataset:v0/PreprocessedDataset.npz\"\n",
    "\n",
    "        with open(artifactFile, 'rb') as file:\n",
    "            npzArr = np.load(file, allow_pickle=True)\n",
    "            images, labels = npzArr['image'], npzArr['label']\n",
    "        \n",
    "        trainSplit = 0.8\n",
    "        testSplit = 0.1\n",
    "        valSplit = 0.1\n",
    "\n",
    "        dataLen = len(labels)\n",
    "        trainArr = [images[0:int(trainSplit*dataLen)], labels[0:int(trainSplit*dataLen)]]\n",
    "        testArr = [images[int(trainSplit*dataLen):int((trainSplit+testSplit)*dataLen)], labels[int(trainSplit*dataLen):int((trainSplit+testSplit)*dataLen)]]\n",
    "        valArr = [images[int((trainSplit+testSplit)*dataLen):], labels[int((trainSplit+testSplit)*dataLen):]]\n",
    "\n",
    "        with trainData.new_file(\"TrainDataset.npz\", 'wb') as file:\n",
    "            np.savez(file, image=trainArr[0], label=trainArr[1])\n",
    "        with testData.new_file(\"TestDataset.npz\", 'wb') as file:\n",
    "            np.savez(file, image=testArr[0], label=testArr[1])\n",
    "        with valData.new_file(\"ValDataset.npz\", 'wb') as file:\n",
    "            np.savez(file, image=valArr[0], label=valArr[1])\n",
    "        \n",
    "        run.log_artifact(trainData)\n",
    "        run.log_artifact(testData)\n",
    "        run.log_artifact(valData)"
   ]
  },
  {
   "cell_type": "code",
   "execution_count": 8,
   "metadata": {},
   "outputs": [
    {
     "data": {
      "text/html": [
       "Tracking run with wandb version 0.19.4"
      ],
      "text/plain": [
       "<IPython.core.display.HTML object>"
      ]
     },
     "metadata": {},
     "output_type": "display_data"
    },
    {
     "data": {
      "text/html": [
       "Run data is saved locally in <code>/Users/aman/Documents/Work/Machine Learning/Computer-Vision-TensorFlow/Weights&Biases-Integration/wandb/run-20250127_163326-jq9oly2j</code>"
      ],
      "text/plain": [
       "<IPython.core.display.HTML object>"
      ]
     },
     "metadata": {},
     "output_type": "display_data"
    },
    {
     "data": {
      "text/html": [
       "Syncing run <strong><a href='https://wandb.ai/amanjn2003-santa-clara-university/Malaria-Detection-Dataset-Versioning/runs/jq9oly2j' target=\"_blank\">Data Splitting</a></strong> to <a href='https://wandb.ai/amanjn2003-santa-clara-university/Malaria-Detection-Dataset-Versioning' target=\"_blank\">Weights & Biases</a> (<a href='https://wandb.me/developer-guide' target=\"_blank\">docs</a>)<br>"
      ],
      "text/plain": [
       "<IPython.core.display.HTML object>"
      ]
     },
     "metadata": {},
     "output_type": "display_data"
    },
    {
     "data": {
      "text/html": [
       " View project at <a href='https://wandb.ai/amanjn2003-santa-clara-university/Malaria-Detection-Dataset-Versioning' target=\"_blank\">https://wandb.ai/amanjn2003-santa-clara-university/Malaria-Detection-Dataset-Versioning</a>"
      ],
      "text/plain": [
       "<IPython.core.display.HTML object>"
      ]
     },
     "metadata": {},
     "output_type": "display_data"
    },
    {
     "data": {
      "text/html": [
       " View run at <a href='https://wandb.ai/amanjn2003-santa-clara-university/Malaria-Detection-Dataset-Versioning/runs/jq9oly2j' target=\"_blank\">https://wandb.ai/amanjn2003-santa-clara-university/Malaria-Detection-Dataset-Versioning/runs/jq9oly2j</a>"
      ],
      "text/plain": [
       "<IPython.core.display.HTML object>"
      ]
     },
     "metadata": {},
     "output_type": "display_data"
    },
    {
     "name": "stderr",
     "output_type": "stream",
     "text": [
      "\u001b[34m\u001b[1mwandb\u001b[0m: Downloading large artifact PreprocessedDataset:v0, 574.23MB. 1 files... \n",
      "\u001b[34m\u001b[1mwandb\u001b[0m:   1 of 1 files downloaded.  \n",
      "Done. 0:0:1.8\n"
     ]
    },
    {
     "data": {
      "text/html": [],
      "text/plain": [
       "<IPython.core.display.HTML object>"
      ]
     },
     "metadata": {},
     "output_type": "display_data"
    },
    {
     "data": {
      "text/html": [
       " View run <strong style=\"color:#cdcd00\">Data Splitting</strong> at: <a href='https://wandb.ai/amanjn2003-santa-clara-university/Malaria-Detection-Dataset-Versioning/runs/jq9oly2j' target=\"_blank\">https://wandb.ai/amanjn2003-santa-clara-university/Malaria-Detection-Dataset-Versioning/runs/jq9oly2j</a><br> View project at: <a href='https://wandb.ai/amanjn2003-santa-clara-university/Malaria-Detection-Dataset-Versioning' target=\"_blank\">https://wandb.ai/amanjn2003-santa-clara-university/Malaria-Detection-Dataset-Versioning</a><br>Synced 5 W&B file(s), 0 media file(s), 6 artifact file(s) and 0 other file(s)"
      ],
      "text/plain": [
       "<IPython.core.display.HTML object>"
      ]
     },
     "metadata": {},
     "output_type": "display_data"
    },
    {
     "data": {
      "text/html": [
       "Find logs at: <code>./wandb/run-20250127_163326-jq9oly2j/logs</code>"
      ],
      "text/plain": [
       "<IPython.core.display.HTML object>"
      ]
     },
     "metadata": {},
     "output_type": "display_data"
    }
   ],
   "source": [
    "dataSplitter()"
   ]
  },
  {
   "cell_type": "markdown",
   "metadata": {},
   "source": [
    "## Run 4 : Dataset Augmentation"
   ]
  },
  {
   "cell_type": "code",
   "execution_count": 11,
   "metadata": {},
   "outputs": [],
   "source": [
    "import albumentations as A\n",
    "\n",
    "transforms = A.Compose([\n",
    "    A.Resize(224, 224),\n",
    "    A.OneOf([A.HorizontalFlip(), A.VerticalFlip()], p=0.3),\n",
    "    A.RandomRotate90(),\n",
    "    A.RandomBrightnessContrast(brightness_limit=0.2, contrast_limit=0.2, brightness_by_max=True, p=0.5)\n",
    "])\n",
    "\n",
    "def augment(image):\n",
    "    data = {\"image\":image}\n",
    "    image = transforms(**data)\n",
    "    image = image[\"image\"]\n",
    "    return image"
   ]
  },
  {
   "cell_type": "code",
   "execution_count": 12,
   "metadata": {},
   "outputs": [],
   "source": [
    "def dataAugmentation():\n",
    "    with wandb.init(name=\"Data Augmentation\", project=\"Malaria-Detection-Dataset-Model-Versioning\", entity=\"amanjn2003-santa-clara-university\") as run:\n",
    "        \n",
    "        artifact = run.use_artifact('amanjn2003-santa-clara-university/Malaria-Detection-Dataset-Model-Versioning/TrainDataset:v0', type='DatasetSplits')\n",
    "        artifact_dir = artifact.download()\n",
    "\n",
    "        augmentedData = wandb.Artifact(name=\"AugmentedDataset\", \n",
    "                                        type=\"augmentedData\", \n",
    "                                        description=\"Augmented Train Dataset\")\n",
    "        \n",
    "        artifactFile = \"artifacts/TrainDataset:v0/TrainDataset.npz\"\n",
    "\n",
    "        datasetX = []\n",
    "        with open(artifactFile, 'rb') as file:\n",
    "            npzArr = np.load(file, allow_pickle=True)\n",
    "            images, labels = npzArr['image'], npzArr['label']\n",
    "            for img in images:\n",
    "                datasetX.append(augment(img))\n",
    "        \n",
    "\n",
    "        with augmentedData.new_file(\"AugmentedTrainDataset.npz\", 'wb') as file:\n",
    "            np.savez(file, image=datasetX, label=labels)\n",
    "        \n",
    "        run.log_artifact(augmentedData)"
   ]
  },
  {
   "cell_type": "code",
   "execution_count": 13,
   "metadata": {},
   "outputs": [
    {
     "data": {
      "text/html": [
       "Tracking run with wandb version 0.19.4"
      ],
      "text/plain": [
       "<IPython.core.display.HTML object>"
      ]
     },
     "metadata": {},
     "output_type": "display_data"
    },
    {
     "data": {
      "text/html": [
       "Run data is saved locally in <code>/Users/aman/Documents/Work/Machine Learning/Computer-Vision-TensorFlow/Weights&Biases-Integration/wandb/run-20250127_164521-9jsf2doo</code>"
      ],
      "text/plain": [
       "<IPython.core.display.HTML object>"
      ]
     },
     "metadata": {},
     "output_type": "display_data"
    },
    {
     "data": {
      "text/html": [
       "Syncing run <strong><a href='https://wandb.ai/amanjn2003-santa-clara-university/Malaria-Detection-Dataset-Versioning/runs/9jsf2doo' target=\"_blank\">Data Augmentation</a></strong> to <a href='https://wandb.ai/amanjn2003-santa-clara-university/Malaria-Detection-Dataset-Versioning' target=\"_blank\">Weights & Biases</a> (<a href='https://wandb.me/developer-guide' target=\"_blank\">docs</a>)<br>"
      ],
      "text/plain": [
       "<IPython.core.display.HTML object>"
      ]
     },
     "metadata": {},
     "output_type": "display_data"
    },
    {
     "data": {
      "text/html": [
       " View project at <a href='https://wandb.ai/amanjn2003-santa-clara-university/Malaria-Detection-Dataset-Versioning' target=\"_blank\">https://wandb.ai/amanjn2003-santa-clara-university/Malaria-Detection-Dataset-Versioning</a>"
      ],
      "text/plain": [
       "<IPython.core.display.HTML object>"
      ]
     },
     "metadata": {},
     "output_type": "display_data"
    },
    {
     "data": {
      "text/html": [
       " View run at <a href='https://wandb.ai/amanjn2003-santa-clara-university/Malaria-Detection-Dataset-Versioning/runs/9jsf2doo' target=\"_blank\">https://wandb.ai/amanjn2003-santa-clara-university/Malaria-Detection-Dataset-Versioning/runs/9jsf2doo</a>"
      ],
      "text/plain": [
       "<IPython.core.display.HTML object>"
      ]
     },
     "metadata": {},
     "output_type": "display_data"
    },
    {
     "name": "stderr",
     "output_type": "stream",
     "text": [
      "\u001b[34m\u001b[1mwandb\u001b[0m: Downloading large artifact TrainDataset:v0, 459.38MB. 1 files... \n",
      "\u001b[34m\u001b[1mwandb\u001b[0m:   1 of 1 files downloaded.  \n",
      "Done. 0:0:8.8\n"
     ]
    },
    {
     "data": {
      "text/html": [],
      "text/plain": [
       "<IPython.core.display.HTML object>"
      ]
     },
     "metadata": {},
     "output_type": "display_data"
    },
    {
     "data": {
      "text/html": [
       " View run <strong style=\"color:#cdcd00\">Data Augmentation</strong> at: <a href='https://wandb.ai/amanjn2003-santa-clara-university/Malaria-Detection-Dataset-Versioning/runs/9jsf2doo' target=\"_blank\">https://wandb.ai/amanjn2003-santa-clara-university/Malaria-Detection-Dataset-Versioning/runs/9jsf2doo</a><br> View project at: <a href='https://wandb.ai/amanjn2003-santa-clara-university/Malaria-Detection-Dataset-Versioning' target=\"_blank\">https://wandb.ai/amanjn2003-santa-clara-university/Malaria-Detection-Dataset-Versioning</a><br>Synced 5 W&B file(s), 0 media file(s), 2 artifact file(s) and 0 other file(s)"
      ],
      "text/plain": [
       "<IPython.core.display.HTML object>"
      ]
     },
     "metadata": {},
     "output_type": "display_data"
    },
    {
     "data": {
      "text/html": [
       "Find logs at: <code>./wandb/run-20250127_164521-9jsf2doo/logs</code>"
      ],
      "text/plain": [
       "<IPython.core.display.HTML object>"
      ]
     },
     "metadata": {},
     "output_type": "display_data"
    }
   ],
   "source": [
    "dataAugmentation()"
   ]
  }
 ],
 "metadata": {
  "kernelspec": {
   "display_name": "ComputerVision",
   "language": "python",
   "name": "python3"
  },
  "language_info": {
   "codemirror_mode": {
    "name": "ipython",
    "version": 3
   },
   "file_extension": ".py",
   "mimetype": "text/x-python",
   "name": "python",
   "nbconvert_exporter": "python",
   "pygments_lexer": "ipython3",
   "version": "3.11.11"
  }
 },
 "nbformat": 4,
 "nbformat_minor": 2
}
