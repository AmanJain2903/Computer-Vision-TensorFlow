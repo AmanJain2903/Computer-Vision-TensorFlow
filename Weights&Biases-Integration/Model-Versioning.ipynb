{
 "cells": [
  {
   "cell_type": "markdown",
   "metadata": {},
   "source": [
    "# MODEL VERSIONING WITH WandB"
   ]
  },
  {
   "cell_type": "code",
   "execution_count": 1,
   "metadata": {},
   "outputs": [],
   "source": [
    "# Import Depedencies\n",
    "import tensorflow as tf\n",
    "import numpy as np\n",
    "import matplotlib.pyplot as plt\n",
    "import cv2\n",
    "import os\n",
    "import datetime\n",
    "import tensorflow_datasets as tfds\n",
    "from tensorflow.keras.layers import Input, Normalization, Conv2D, MaxPooling2D, Dense, Flatten, BatchNormalization, Dropout\n",
    "from tensorflow.keras.metrics import BinaryAccuracy, FalsePositives, FalseNegatives, TrueNegatives, TruePositives, Precision, Recall, F1Score, AUC\n",
    "from tensorflow.keras.regularizers import L2\n",
    "import wandb\n",
    "from wandb.integration.keras import WandbMetricsLogger, WandbModelCheckpoint, WandbEvalCallback, WandbCallback"
   ]
  },
  {
   "cell_type": "markdown",
   "metadata": {},
   "source": [
    "## Model Definition"
   ]
  },
  {
   "cell_type": "code",
   "execution_count": 2,
   "metadata": {},
   "outputs": [],
   "source": [
    "wandb.config = {\n",
    "    \"LEARNING_RATE\" : 0.001,\n",
    "    \"N_EPOCHS\" : 20,\n",
    "    \"BATCH_SIZE\" : 128,\n",
    "    \"DROPOUT_RATE\": 0.0,\n",
    "    \"IM_SIZE\" : 224,\n",
    "    \"REGULARIZATION_RATE\" : 0.0,\n",
    "    \"N_FILTERS\" : 6,\n",
    "    \"KERNEL_SIZE\" : 3,\n",
    "    \"N_STRIDES\" : 1,\n",
    "    \"POOL_SIZE\" : 2,\n",
    "    \"N_DENSE_1\" : 128,\n",
    "    \"N_DENSE_2\" : 32\n",
    "}"
   ]
  },
  {
   "cell_type": "code",
   "execution_count": 3,
   "metadata": {},
   "outputs": [
    {
     "name": "stderr",
     "output_type": "stream",
     "text": [
      "2025-01-27 18:31:18.271407: I metal_plugin/src/device/metal_device.cc:1154] Metal device set to: Apple M3 Pro\n",
      "2025-01-27 18:31:18.271452: I metal_plugin/src/device/metal_device.cc:296] systemMemory: 18.00 GB\n",
      "2025-01-27 18:31:18.271456: I metal_plugin/src/device/metal_device.cc:313] maxCacheSize: 6.00 GB\n",
      "2025-01-27 18:31:18.271679: I tensorflow/core/common_runtime/pluggable_device/pluggable_device_factory.cc:305] Could not identify NUMA node of platform GPU ID 0, defaulting to 0. Your kernel may not have been built with NUMA support.\n",
      "2025-01-27 18:31:18.271700: I tensorflow/core/common_runtime/pluggable_device/pluggable_device_factory.cc:271] Created TensorFlow device (/job:localhost/replica:0/task:0/device:GPU:0 with 0 MB memory) -> physical PluggableDevice (device: 0, name: METAL, pci bus id: <undefined>)\n"
     ]
    },
    {
     "data": {
      "text/html": [
       "<pre style=\"white-space:pre;overflow-x:auto;line-height:normal;font-family:Menlo,'DejaVu Sans Mono',consolas,'Courier New',monospace\"><span style=\"font-weight: bold\">Model: \"sequential\"</span>\n",
       "</pre>\n"
      ],
      "text/plain": [
       "\u001b[1mModel: \"sequential\"\u001b[0m\n"
      ]
     },
     "metadata": {},
     "output_type": "display_data"
    },
    {
     "data": {
      "text/html": [
       "<pre style=\"white-space:pre;overflow-x:auto;line-height:normal;font-family:Menlo,'DejaVu Sans Mono',consolas,'Courier New',monospace\">┏━━━━━━━━━━━━━━━━━━━━━━━━━━━━━━━━━┳━━━━━━━━━━━━━━━━━━━━━━━━┳━━━━━━━━━━━━━━━┓\n",
       "┃<span style=\"font-weight: bold\"> Layer (type)                    </span>┃<span style=\"font-weight: bold\"> Output Shape           </span>┃<span style=\"font-weight: bold\">       Param # </span>┃\n",
       "┡━━━━━━━━━━━━━━━━━━━━━━━━━━━━━━━━━╇━━━━━━━━━━━━━━━━━━━━━━━━╇━━━━━━━━━━━━━━━┩\n",
       "│ conv2d (<span style=\"color: #0087ff; text-decoration-color: #0087ff\">Conv2D</span>)                 │ (<span style=\"color: #00d7ff; text-decoration-color: #00d7ff\">None</span>, <span style=\"color: #00af00; text-decoration-color: #00af00\">222</span>, <span style=\"color: #00af00; text-decoration-color: #00af00\">222</span>, <span style=\"color: #00af00; text-decoration-color: #00af00\">6</span>)    │           <span style=\"color: #00af00; text-decoration-color: #00af00\">168</span> │\n",
       "├─────────────────────────────────┼────────────────────────┼───────────────┤\n",
       "│ batch_normalization             │ (<span style=\"color: #00d7ff; text-decoration-color: #00d7ff\">None</span>, <span style=\"color: #00af00; text-decoration-color: #00af00\">222</span>, <span style=\"color: #00af00; text-decoration-color: #00af00\">222</span>, <span style=\"color: #00af00; text-decoration-color: #00af00\">6</span>)    │            <span style=\"color: #00af00; text-decoration-color: #00af00\">24</span> │\n",
       "│ (<span style=\"color: #0087ff; text-decoration-color: #0087ff\">BatchNormalization</span>)            │                        │               │\n",
       "├─────────────────────────────────┼────────────────────────┼───────────────┤\n",
       "│ max_pooling2d (<span style=\"color: #0087ff; text-decoration-color: #0087ff\">MaxPooling2D</span>)    │ (<span style=\"color: #00d7ff; text-decoration-color: #00d7ff\">None</span>, <span style=\"color: #00af00; text-decoration-color: #00af00\">221</span>, <span style=\"color: #00af00; text-decoration-color: #00af00\">221</span>, <span style=\"color: #00af00; text-decoration-color: #00af00\">6</span>)    │             <span style=\"color: #00af00; text-decoration-color: #00af00\">0</span> │\n",
       "├─────────────────────────────────┼────────────────────────┼───────────────┤\n",
       "│ dropout (<span style=\"color: #0087ff; text-decoration-color: #0087ff\">Dropout</span>)               │ (<span style=\"color: #00d7ff; text-decoration-color: #00d7ff\">None</span>, <span style=\"color: #00af00; text-decoration-color: #00af00\">221</span>, <span style=\"color: #00af00; text-decoration-color: #00af00\">221</span>, <span style=\"color: #00af00; text-decoration-color: #00af00\">6</span>)    │             <span style=\"color: #00af00; text-decoration-color: #00af00\">0</span> │\n",
       "├─────────────────────────────────┼────────────────────────┼───────────────┤\n",
       "│ conv2d_1 (<span style=\"color: #0087ff; text-decoration-color: #0087ff\">Conv2D</span>)               │ (<span style=\"color: #00d7ff; text-decoration-color: #00d7ff\">None</span>, <span style=\"color: #00af00; text-decoration-color: #00af00\">219</span>, <span style=\"color: #00af00; text-decoration-color: #00af00\">219</span>, <span style=\"color: #00af00; text-decoration-color: #00af00\">6</span>)    │           <span style=\"color: #00af00; text-decoration-color: #00af00\">330</span> │\n",
       "├─────────────────────────────────┼────────────────────────┼───────────────┤\n",
       "│ batch_normalization_1           │ (<span style=\"color: #00d7ff; text-decoration-color: #00d7ff\">None</span>, <span style=\"color: #00af00; text-decoration-color: #00af00\">219</span>, <span style=\"color: #00af00; text-decoration-color: #00af00\">219</span>, <span style=\"color: #00af00; text-decoration-color: #00af00\">6</span>)    │            <span style=\"color: #00af00; text-decoration-color: #00af00\">24</span> │\n",
       "│ (<span style=\"color: #0087ff; text-decoration-color: #0087ff\">BatchNormalization</span>)            │                        │               │\n",
       "├─────────────────────────────────┼────────────────────────┼───────────────┤\n",
       "│ max_pooling2d_1 (<span style=\"color: #0087ff; text-decoration-color: #0087ff\">MaxPooling2D</span>)  │ (<span style=\"color: #00d7ff; text-decoration-color: #00d7ff\">None</span>, <span style=\"color: #00af00; text-decoration-color: #00af00\">218</span>, <span style=\"color: #00af00; text-decoration-color: #00af00\">218</span>, <span style=\"color: #00af00; text-decoration-color: #00af00\">6</span>)    │             <span style=\"color: #00af00; text-decoration-color: #00af00\">0</span> │\n",
       "├─────────────────────────────────┼────────────────────────┼───────────────┤\n",
       "│ flatten (<span style=\"color: #0087ff; text-decoration-color: #0087ff\">Flatten</span>)               │ (<span style=\"color: #00d7ff; text-decoration-color: #00d7ff\">None</span>, <span style=\"color: #00af00; text-decoration-color: #00af00\">285144</span>)         │             <span style=\"color: #00af00; text-decoration-color: #00af00\">0</span> │\n",
       "├─────────────────────────────────┼────────────────────────┼───────────────┤\n",
       "│ dense (<span style=\"color: #0087ff; text-decoration-color: #0087ff\">Dense</span>)                   │ (<span style=\"color: #00d7ff; text-decoration-color: #00d7ff\">None</span>, <span style=\"color: #00af00; text-decoration-color: #00af00\">128</span>)            │    <span style=\"color: #00af00; text-decoration-color: #00af00\">36,498,560</span> │\n",
       "├─────────────────────────────────┼────────────────────────┼───────────────┤\n",
       "│ batch_normalization_2           │ (<span style=\"color: #00d7ff; text-decoration-color: #00d7ff\">None</span>, <span style=\"color: #00af00; text-decoration-color: #00af00\">128</span>)            │           <span style=\"color: #00af00; text-decoration-color: #00af00\">512</span> │\n",
       "│ (<span style=\"color: #0087ff; text-decoration-color: #0087ff\">BatchNormalization</span>)            │                        │               │\n",
       "├─────────────────────────────────┼────────────────────────┼───────────────┤\n",
       "│ dropout_1 (<span style=\"color: #0087ff; text-decoration-color: #0087ff\">Dropout</span>)             │ (<span style=\"color: #00d7ff; text-decoration-color: #00d7ff\">None</span>, <span style=\"color: #00af00; text-decoration-color: #00af00\">128</span>)            │             <span style=\"color: #00af00; text-decoration-color: #00af00\">0</span> │\n",
       "├─────────────────────────────────┼────────────────────────┼───────────────┤\n",
       "│ dense_1 (<span style=\"color: #0087ff; text-decoration-color: #0087ff\">Dense</span>)                 │ (<span style=\"color: #00d7ff; text-decoration-color: #00d7ff\">None</span>, <span style=\"color: #00af00; text-decoration-color: #00af00\">32</span>)             │         <span style=\"color: #00af00; text-decoration-color: #00af00\">4,128</span> │\n",
       "├─────────────────────────────────┼────────────────────────┼───────────────┤\n",
       "│ batch_normalization_3           │ (<span style=\"color: #00d7ff; text-decoration-color: #00d7ff\">None</span>, <span style=\"color: #00af00; text-decoration-color: #00af00\">32</span>)             │           <span style=\"color: #00af00; text-decoration-color: #00af00\">128</span> │\n",
       "│ (<span style=\"color: #0087ff; text-decoration-color: #0087ff\">BatchNormalization</span>)            │                        │               │\n",
       "├─────────────────────────────────┼────────────────────────┼───────────────┤\n",
       "│ dense_2 (<span style=\"color: #0087ff; text-decoration-color: #0087ff\">Dense</span>)                 │ (<span style=\"color: #00d7ff; text-decoration-color: #00d7ff\">None</span>, <span style=\"color: #00af00; text-decoration-color: #00af00\">1</span>)              │            <span style=\"color: #00af00; text-decoration-color: #00af00\">33</span> │\n",
       "└─────────────────────────────────┴────────────────────────┴───────────────┘\n",
       "</pre>\n"
      ],
      "text/plain": [
       "┏━━━━━━━━━━━━━━━━━━━━━━━━━━━━━━━━━┳━━━━━━━━━━━━━━━━━━━━━━━━┳━━━━━━━━━━━━━━━┓\n",
       "┃\u001b[1m \u001b[0m\u001b[1mLayer (type)                   \u001b[0m\u001b[1m \u001b[0m┃\u001b[1m \u001b[0m\u001b[1mOutput Shape          \u001b[0m\u001b[1m \u001b[0m┃\u001b[1m \u001b[0m\u001b[1m      Param #\u001b[0m\u001b[1m \u001b[0m┃\n",
       "┡━━━━━━━━━━━━━━━━━━━━━━━━━━━━━━━━━╇━━━━━━━━━━━━━━━━━━━━━━━━╇━━━━━━━━━━━━━━━┩\n",
       "│ conv2d (\u001b[38;5;33mConv2D\u001b[0m)                 │ (\u001b[38;5;45mNone\u001b[0m, \u001b[38;5;34m222\u001b[0m, \u001b[38;5;34m222\u001b[0m, \u001b[38;5;34m6\u001b[0m)    │           \u001b[38;5;34m168\u001b[0m │\n",
       "├─────────────────────────────────┼────────────────────────┼───────────────┤\n",
       "│ batch_normalization             │ (\u001b[38;5;45mNone\u001b[0m, \u001b[38;5;34m222\u001b[0m, \u001b[38;5;34m222\u001b[0m, \u001b[38;5;34m6\u001b[0m)    │            \u001b[38;5;34m24\u001b[0m │\n",
       "│ (\u001b[38;5;33mBatchNormalization\u001b[0m)            │                        │               │\n",
       "├─────────────────────────────────┼────────────────────────┼───────────────┤\n",
       "│ max_pooling2d (\u001b[38;5;33mMaxPooling2D\u001b[0m)    │ (\u001b[38;5;45mNone\u001b[0m, \u001b[38;5;34m221\u001b[0m, \u001b[38;5;34m221\u001b[0m, \u001b[38;5;34m6\u001b[0m)    │             \u001b[38;5;34m0\u001b[0m │\n",
       "├─────────────────────────────────┼────────────────────────┼───────────────┤\n",
       "│ dropout (\u001b[38;5;33mDropout\u001b[0m)               │ (\u001b[38;5;45mNone\u001b[0m, \u001b[38;5;34m221\u001b[0m, \u001b[38;5;34m221\u001b[0m, \u001b[38;5;34m6\u001b[0m)    │             \u001b[38;5;34m0\u001b[0m │\n",
       "├─────────────────────────────────┼────────────────────────┼───────────────┤\n",
       "│ conv2d_1 (\u001b[38;5;33mConv2D\u001b[0m)               │ (\u001b[38;5;45mNone\u001b[0m, \u001b[38;5;34m219\u001b[0m, \u001b[38;5;34m219\u001b[0m, \u001b[38;5;34m6\u001b[0m)    │           \u001b[38;5;34m330\u001b[0m │\n",
       "├─────────────────────────────────┼────────────────────────┼───────────────┤\n",
       "│ batch_normalization_1           │ (\u001b[38;5;45mNone\u001b[0m, \u001b[38;5;34m219\u001b[0m, \u001b[38;5;34m219\u001b[0m, \u001b[38;5;34m6\u001b[0m)    │            \u001b[38;5;34m24\u001b[0m │\n",
       "│ (\u001b[38;5;33mBatchNormalization\u001b[0m)            │                        │               │\n",
       "├─────────────────────────────────┼────────────────────────┼───────────────┤\n",
       "│ max_pooling2d_1 (\u001b[38;5;33mMaxPooling2D\u001b[0m)  │ (\u001b[38;5;45mNone\u001b[0m, \u001b[38;5;34m218\u001b[0m, \u001b[38;5;34m218\u001b[0m, \u001b[38;5;34m6\u001b[0m)    │             \u001b[38;5;34m0\u001b[0m │\n",
       "├─────────────────────────────────┼────────────────────────┼───────────────┤\n",
       "│ flatten (\u001b[38;5;33mFlatten\u001b[0m)               │ (\u001b[38;5;45mNone\u001b[0m, \u001b[38;5;34m285144\u001b[0m)         │             \u001b[38;5;34m0\u001b[0m │\n",
       "├─────────────────────────────────┼────────────────────────┼───────────────┤\n",
       "│ dense (\u001b[38;5;33mDense\u001b[0m)                   │ (\u001b[38;5;45mNone\u001b[0m, \u001b[38;5;34m128\u001b[0m)            │    \u001b[38;5;34m36,498,560\u001b[0m │\n",
       "├─────────────────────────────────┼────────────────────────┼───────────────┤\n",
       "│ batch_normalization_2           │ (\u001b[38;5;45mNone\u001b[0m, \u001b[38;5;34m128\u001b[0m)            │           \u001b[38;5;34m512\u001b[0m │\n",
       "│ (\u001b[38;5;33mBatchNormalization\u001b[0m)            │                        │               │\n",
       "├─────────────────────────────────┼────────────────────────┼───────────────┤\n",
       "│ dropout_1 (\u001b[38;5;33mDropout\u001b[0m)             │ (\u001b[38;5;45mNone\u001b[0m, \u001b[38;5;34m128\u001b[0m)            │             \u001b[38;5;34m0\u001b[0m │\n",
       "├─────────────────────────────────┼────────────────────────┼───────────────┤\n",
       "│ dense_1 (\u001b[38;5;33mDense\u001b[0m)                 │ (\u001b[38;5;45mNone\u001b[0m, \u001b[38;5;34m32\u001b[0m)             │         \u001b[38;5;34m4,128\u001b[0m │\n",
       "├─────────────────────────────────┼────────────────────────┼───────────────┤\n",
       "│ batch_normalization_3           │ (\u001b[38;5;45mNone\u001b[0m, \u001b[38;5;34m32\u001b[0m)             │           \u001b[38;5;34m128\u001b[0m │\n",
       "│ (\u001b[38;5;33mBatchNormalization\u001b[0m)            │                        │               │\n",
       "├─────────────────────────────────┼────────────────────────┼───────────────┤\n",
       "│ dense_2 (\u001b[38;5;33mDense\u001b[0m)                 │ (\u001b[38;5;45mNone\u001b[0m, \u001b[38;5;34m1\u001b[0m)              │            \u001b[38;5;34m33\u001b[0m │\n",
       "└─────────────────────────────────┴────────────────────────┴───────────────┘\n"
      ]
     },
     "metadata": {},
     "output_type": "display_data"
    },
    {
     "data": {
      "text/html": [
       "<pre style=\"white-space:pre;overflow-x:auto;line-height:normal;font-family:Menlo,'DejaVu Sans Mono',consolas,'Courier New',monospace\"><span style=\"font-weight: bold\"> Total params: </span><span style=\"color: #00af00; text-decoration-color: #00af00\">36,503,907</span> (139.25 MB)\n",
       "</pre>\n"
      ],
      "text/plain": [
       "\u001b[1m Total params: \u001b[0m\u001b[38;5;34m36,503,907\u001b[0m (139.25 MB)\n"
      ]
     },
     "metadata": {},
     "output_type": "display_data"
    },
    {
     "data": {
      "text/html": [
       "<pre style=\"white-space:pre;overflow-x:auto;line-height:normal;font-family:Menlo,'DejaVu Sans Mono',consolas,'Courier New',monospace\"><span style=\"font-weight: bold\"> Trainable params: </span><span style=\"color: #00af00; text-decoration-color: #00af00\">36,503,563</span> (139.25 MB)\n",
       "</pre>\n"
      ],
      "text/plain": [
       "\u001b[1m Trainable params: \u001b[0m\u001b[38;5;34m36,503,563\u001b[0m (139.25 MB)\n"
      ]
     },
     "metadata": {},
     "output_type": "display_data"
    },
    {
     "data": {
      "text/html": [
       "<pre style=\"white-space:pre;overflow-x:auto;line-height:normal;font-family:Menlo,'DejaVu Sans Mono',consolas,'Courier New',monospace\"><span style=\"font-weight: bold\"> Non-trainable params: </span><span style=\"color: #00af00; text-decoration-color: #00af00\">344</span> (1.34 KB)\n",
       "</pre>\n"
      ],
      "text/plain": [
       "\u001b[1m Non-trainable params: \u001b[0m\u001b[38;5;34m344\u001b[0m (1.34 KB)\n"
      ]
     },
     "metadata": {},
     "output_type": "display_data"
    }
   ],
   "source": [
    "# Using Sequential API\n",
    "CONFIGURATION = wandb.config\n",
    "IMAGE_SIZE = CONFIGURATION['IM_SIZE']\n",
    "lenetModel = tf.keras.Sequential([\n",
    "    Input(shape=(IMAGE_SIZE, IMAGE_SIZE, 3)),\n",
    "\n",
    "    Conv2D(filters=CONFIGURATION[\"N_FILTERS\"], kernel_size=CONFIGURATION[\"KERNEL_SIZE\"], strides=CONFIGURATION[\"N_STRIDES\"], padding='valid', activation='relu'),\n",
    "    BatchNormalization(),\n",
    "    MaxPooling2D(pool_size=CONFIGURATION[\"POOL_SIZE\"], strides=CONFIGURATION[\"N_STRIDES\"]),\n",
    "    Dropout(rate = CONFIGURATION[\"DROPOUT_RATE\"]),\n",
    "\n",
    "    Conv2D(filters=CONFIGURATION[\"N_FILTERS\"], kernel_size=CONFIGURATION[\"KERNEL_SIZE\"], strides=CONFIGURATION[\"N_STRIDES\"], padding='valid', activation='relu'),\n",
    "    BatchNormalization(),\n",
    "    MaxPooling2D(pool_size=CONFIGURATION[\"POOL_SIZE\"], strides=CONFIGURATION[\"N_STRIDES\"]),\n",
    "\n",
    "    Flatten(),\n",
    "\n",
    "    Dense(CONFIGURATION[\"N_DENSE_1\"], activation='relu'),\n",
    "    BatchNormalization(),\n",
    "    Dropout(rate = CONFIGURATION[\"DROPOUT_RATE\"]),\n",
    "\n",
    "    Dense(CONFIGURATION[\"N_DENSE_2\"], activation='relu'),\n",
    "    BatchNormalization(),\n",
    "    Dense(1, activation='sigmoid'),\n",
    "])\n",
    "lenetModel.summary()"
   ]
  },
  {
   "cell_type": "markdown",
   "metadata": {},
   "source": [
    "## Logging Untrained Model"
   ]
  },
  {
   "cell_type": "code",
   "execution_count": 6,
   "metadata": {},
   "outputs": [],
   "source": [
    "def logModel():\n",
    "    with wandb.init(name=\"Log Model\", project=\"Malaria-Detection-Dataset-Model-Versioning\", entity=\"amanjn2003-santa-clara-university\") as run:\n",
    "\n",
    "        untrainedModel = wandb.Artifact(name=\"UntrainedModel\", \n",
    "                                        type=\"Model\", \n",
    "                                        description=\"Untrained Version of LeNet Model\",\n",
    "                                        metadata = CONFIGURATION)\n",
    "        \n",
    "        filename = \"Models/LeNet.keras\"\n",
    "        lenetModel.save(filename)\n",
    "\n",
    "        untrainedModel.add_file(filename)\n",
    "\n",
    "        wandb.save(filename)\n",
    "\n",
    "        run.log_artifact(untrainedModel)"
   ]
  },
  {
   "cell_type": "code",
   "execution_count": 7,
   "metadata": {},
   "outputs": [
    {
     "data": {
      "text/html": [
       "Tracking run with wandb version 0.19.4"
      ],
      "text/plain": [
       "<IPython.core.display.HTML object>"
      ]
     },
     "metadata": {},
     "output_type": "display_data"
    },
    {
     "data": {
      "text/html": [
       "Run data is saved locally in <code>/Users/aman/Documents/Work/Machine Learning/Computer-Vision-TensorFlow/Weights&Biases-Integration/wandb/run-20250127_183703-n2bhm86o</code>"
      ],
      "text/plain": [
       "<IPython.core.display.HTML object>"
      ]
     },
     "metadata": {},
     "output_type": "display_data"
    },
    {
     "data": {
      "text/html": [
       "Syncing run <strong><a href='https://wandb.ai/amanjn2003-santa-clara-university/Malaria-Detection-Dataset-Model-Versioning/runs/n2bhm86o' target=\"_blank\">Log Model</a></strong> to <a href='https://wandb.ai/amanjn2003-santa-clara-university/Malaria-Detection-Dataset-Model-Versioning' target=\"_blank\">Weights & Biases</a> (<a href='https://wandb.me/developer-guide' target=\"_blank\">docs</a>)<br>"
      ],
      "text/plain": [
       "<IPython.core.display.HTML object>"
      ]
     },
     "metadata": {},
     "output_type": "display_data"
    },
    {
     "data": {
      "text/html": [
       " View project at <a href='https://wandb.ai/amanjn2003-santa-clara-university/Malaria-Detection-Dataset-Model-Versioning' target=\"_blank\">https://wandb.ai/amanjn2003-santa-clara-university/Malaria-Detection-Dataset-Model-Versioning</a>"
      ],
      "text/plain": [
       "<IPython.core.display.HTML object>"
      ]
     },
     "metadata": {},
     "output_type": "display_data"
    },
    {
     "data": {
      "text/html": [
       " View run at <a href='https://wandb.ai/amanjn2003-santa-clara-university/Malaria-Detection-Dataset-Model-Versioning/runs/n2bhm86o' target=\"_blank\">https://wandb.ai/amanjn2003-santa-clara-university/Malaria-Detection-Dataset-Model-Versioning/runs/n2bhm86o</a>"
      ],
      "text/plain": [
       "<IPython.core.display.HTML object>"
      ]
     },
     "metadata": {},
     "output_type": "display_data"
    },
    {
     "data": {
      "text/html": [],
      "text/plain": [
       "<IPython.core.display.HTML object>"
      ]
     },
     "metadata": {},
     "output_type": "display_data"
    },
    {
     "data": {
      "text/html": [
       " View run <strong style=\"color:#cdcd00\">Log Model</strong> at: <a href='https://wandb.ai/amanjn2003-santa-clara-university/Malaria-Detection-Dataset-Model-Versioning/runs/n2bhm86o' target=\"_blank\">https://wandb.ai/amanjn2003-santa-clara-university/Malaria-Detection-Dataset-Model-Versioning/runs/n2bhm86o</a><br> View project at: <a href='https://wandb.ai/amanjn2003-santa-clara-university/Malaria-Detection-Dataset-Model-Versioning' target=\"_blank\">https://wandb.ai/amanjn2003-santa-clara-university/Malaria-Detection-Dataset-Model-Versioning</a><br>Synced 5 W&B file(s), 0 media file(s), 2 artifact file(s) and 1 other file(s)"
      ],
      "text/plain": [
       "<IPython.core.display.HTML object>"
      ]
     },
     "metadata": {},
     "output_type": "display_data"
    },
    {
     "data": {
      "text/html": [
       "Find logs at: <code>./wandb/run-20250127_183703-n2bhm86o/logs</code>"
      ],
      "text/plain": [
       "<IPython.core.display.HTML object>"
      ]
     },
     "metadata": {},
     "output_type": "display_data"
    }
   ],
   "source": [
    "logModel()"
   ]
  },
  {
   "cell_type": "markdown",
   "metadata": {},
   "source": [
    "## Trained Model Versioning"
   ]
  },
  {
   "cell_type": "code",
   "execution_count": 9,
   "metadata": {},
   "outputs": [],
   "source": [
    "def trainedModelLog():\n",
    "    with wandb.init(name=\"Trained Model Log\", project=\"Malaria-Detection-Dataset-Model-Versioning\", entity=\"amanjn2003-santa-clara-university\") as run:\n",
    "        \n",
    "        trainedModel = wandb.Artifact(name=\"TrainedModel\", \n",
    "                                        type=\"Model\", \n",
    "                                        description=\"Trained Version of LeNet Model\",\n",
    "                                        metadata = CONFIGURATION)\n",
    "        \n",
    "        # Loading the Train Dataset\n",
    "        artifact = run.use_artifact('amanjn2003-santa-clara-university/Malaria-Detection-Dataset-Model-Versioning/AugmentedDataset:v0', type='augmentedData')\n",
    "        artifact_dir = artifact.download()\n",
    "        \n",
    "        artifactFile = \"artifacts/AugmentedDataset:v0/AugmentedTrainDataset.npz\"\n",
    "        \n",
    "        with open(artifactFile, 'rb') as file:\n",
    "            npzArr = np.load(file, allow_pickle=True)\n",
    "            images, labels = npzArr['image'], npzArr['label']\n",
    "        \n",
    "        dx = tf.convert_to_tensor(images, dtype=tf.float32)\n",
    "        dy = tf.convert_to_tensor(labels, dtype=tf.float32)\n",
    "\n",
    "        d = tf.data.Dataset.from_tensor_slices((dx, dy))\n",
    "\n",
    "        trainDataset = (\n",
    "            d.shuffle(buffer_size=1024, reshuffle_each_iteration=True)\n",
    "            .batch(batch_size=32)\n",
    "            .prefetch(tf.data.AUTOTUNE)\n",
    "        )\n",
    "\n",
    "        # Loading the Validation Dataset\n",
    "        artifact = run.use_artifact('amanjn2003-santa-clara-university/Malaria-Detection-Dataset-Model-Versioning/ValDataset:v0', type='DatasetSplits')\n",
    "        artifact_dir = artifact.download()\n",
    "        \n",
    "        artifactFile = \"artifacts/ValDataset:v0/ValDataset.npz\"\n",
    "        \n",
    "        with open(artifactFile, 'rb') as file:\n",
    "            npzArr = np.load(file, allow_pickle=True)\n",
    "            images, labels = npzArr['image'], npzArr['label']\n",
    "        \n",
    "        dx = tf.convert_to_tensor(images, dtype=tf.float32)\n",
    "        dy = tf.convert_to_tensor(labels, dtype=tf.float32)\n",
    "\n",
    "        d = tf.data.Dataset.from_tensor_slices((dx, dy))\n",
    "\n",
    "        valDataset = (\n",
    "            d.shuffle(buffer_size=1024, reshuffle_each_iteration=True)\n",
    "            .batch(batch_size=32)\n",
    "            .prefetch(tf.data.AUTOTUNE)\n",
    "        )\n",
    "\n",
    "        # Loading Previous Untrained Version of Model From WandB\n",
    "        artifact = run.use_artifact('amanjn2003-santa-clara-university/Malaria-Detection-Dataset-Model-Versioning/UntrainedModel:v0', type='Model')\n",
    "        artifact_dir = artifact.download()\n",
    "\n",
    "        artifactFile = \"artifacts/UntrainedModel:v0/LeNet.keras\"\n",
    "\n",
    "        lenetModel = tf.keras.models.load_model(artifactFile)\n",
    "\n",
    "        # Compiling & Training The Model\n",
    "        Metrics = [BinaryAccuracy(), FalsePositives(), FalseNegatives(), TrueNegatives(), TruePositives(), Precision(), Recall(), AUC()]\n",
    "\n",
    "        lenetModel.compile(\n",
    "                optimizer=tf.keras.optimizers.Adam(learning_rate=CONFIGURATION[\"LEARNING_RATE\"]),\n",
    "                loss=tf.keras.losses.BinaryCrossentropy(),\n",
    "                metrics=Metrics\n",
    "            )\n",
    "        \n",
    "        history = lenetModel.fit(\n",
    "            trainDataset,\n",
    "            validation_data=valDataset,\n",
    "            epochs=10,\n",
    "            verbose=1,\n",
    "            callbacks = [WandbMetricsLogger(), WandbModelCheckpoint(\"Models/LeNetModel.keras\")]\n",
    "        )\n",
    "\n",
    "        # Logging the Model\n",
    "        filename = \"Models/LeNetTrained.keras\"\n",
    "        lenetModel.save(filename)\n",
    "\n",
    "        trainedModel.add_file(filename)\n",
    "\n",
    "        wandb.save(filename)\n",
    "\n",
    "        run.log_artifact(trainedModel)"
   ]
  },
  {
   "cell_type": "code",
   "execution_count": 10,
   "metadata": {},
   "outputs": [
    {
     "data": {
      "text/html": [
       "Tracking run with wandb version 0.19.4"
      ],
      "text/plain": [
       "<IPython.core.display.HTML object>"
      ]
     },
     "metadata": {},
     "output_type": "display_data"
    },
    {
     "data": {
      "text/html": [
       "Run data is saved locally in <code>/Users/aman/Documents/Work/Machine Learning/Computer-Vision-TensorFlow/Weights&Biases-Integration/wandb/run-20250127_185948-53xswlty</code>"
      ],
      "text/plain": [
       "<IPython.core.display.HTML object>"
      ]
     },
     "metadata": {},
     "output_type": "display_data"
    },
    {
     "data": {
      "text/html": [
       "Syncing run <strong><a href='https://wandb.ai/amanjn2003-santa-clara-university/Malaria-Detection-Dataset-Model-Versioning/runs/53xswlty' target=\"_blank\">Trained Model Log</a></strong> to <a href='https://wandb.ai/amanjn2003-santa-clara-university/Malaria-Detection-Dataset-Model-Versioning' target=\"_blank\">Weights & Biases</a> (<a href='https://wandb.me/developer-guide' target=\"_blank\">docs</a>)<br>"
      ],
      "text/plain": [
       "<IPython.core.display.HTML object>"
      ]
     },
     "metadata": {},
     "output_type": "display_data"
    },
    {
     "data": {
      "text/html": [
       " View project at <a href='https://wandb.ai/amanjn2003-santa-clara-university/Malaria-Detection-Dataset-Model-Versioning' target=\"_blank\">https://wandb.ai/amanjn2003-santa-clara-university/Malaria-Detection-Dataset-Model-Versioning</a>"
      ],
      "text/plain": [
       "<IPython.core.display.HTML object>"
      ]
     },
     "metadata": {},
     "output_type": "display_data"
    },
    {
     "data": {
      "text/html": [
       " View run at <a href='https://wandb.ai/amanjn2003-santa-clara-university/Malaria-Detection-Dataset-Model-Versioning/runs/53xswlty' target=\"_blank\">https://wandb.ai/amanjn2003-santa-clara-university/Malaria-Detection-Dataset-Model-Versioning/runs/53xswlty</a>"
      ],
      "text/plain": [
       "<IPython.core.display.HTML object>"
      ]
     },
     "metadata": {},
     "output_type": "display_data"
    },
    {
     "name": "stderr",
     "output_type": "stream",
     "text": [
      "\u001b[34m\u001b[1mwandb\u001b[0m: Downloading large artifact AugmentedDataset:v0, 459.38MB. 1 files... \n",
      "\u001b[34m\u001b[1mwandb\u001b[0m:   1 of 1 files downloaded.  \n",
      "Done. 0:0:8.8\n",
      "\u001b[34m\u001b[1mwandb\u001b[0m: Downloading large artifact ValDataset:v0, 57.42MB. 1 files... \n",
      "\u001b[34m\u001b[1mwandb\u001b[0m:   1 of 1 files downloaded.  \n",
      "Done. 0:0:1.9\n",
      "\u001b[34m\u001b[1mwandb\u001b[0m: Downloading large artifact UntrainedModel:v0, 139.30MB. 1 files... \n",
      "\u001b[34m\u001b[1mwandb\u001b[0m:   1 of 1 files downloaded.  \n",
      "Done. 0:0:0.2\n"
     ]
    },
    {
     "name": "stdout",
     "output_type": "stream",
     "text": [
      "Epoch 1/10\n"
     ]
    },
    {
     "name": "stderr",
     "output_type": "stream",
     "text": [
      "2025-01-27 19:00:04.100325: I tensorflow/core/grappler/optimizers/custom_graph_optimizer_registry.cc:117] Plugin optimizer for device_type GPU is enabled.\n"
     ]
    },
    {
     "name": "stdout",
     "output_type": "stream",
     "text": [
      "\u001b[1m25/25\u001b[0m \u001b[32m━━━━━━━━━━━━━━━━━━━━\u001b[0m\u001b[37m\u001b[0m \u001b[1m7s\u001b[0m 190ms/step - auc: 0.6256 - binary_accuracy: 0.5901 - false_negatives: 72.9231 - false_positives: 104.4231 - loss: 0.7978 - precision: 0.5669 - recall: 0.6550 - true_negatives: 118.7308 - true_positives: 134.6923 - val_auc: 0.6360 - val_binary_accuracy: 0.4100 - val_false_negatives: 59.0000 - val_false_positives: 0.0000e+00 - val_loss: 1.1483 - val_precision: 0.0000e+00 - val_recall: 0.0000e+00 - val_true_negatives: 41.0000 - val_true_positives: 0.0000e+00\n",
      "Epoch 2/10\n",
      "\u001b[1m25/25\u001b[0m \u001b[32m━━━━━━━━━━━━━━━━━━━━\u001b[0m\u001b[37m\u001b[0m \u001b[1m4s\u001b[0m 149ms/step - auc: 0.6859 - binary_accuracy: 0.6342 - false_negatives: 74.8462 - false_positives: 84.1923 - loss: 0.6360 - precision: 0.6087 - recall: 0.6419 - true_negatives: 141.4615 - true_positives: 130.2692 - val_auc: 0.6265 - val_binary_accuracy: 0.4100 - val_false_negatives: 59.0000 - val_false_positives: 0.0000e+00 - val_loss: 0.9959 - val_precision: 0.0000e+00 - val_recall: 0.0000e+00 - val_true_negatives: 41.0000 - val_true_positives: 0.0000e+00\n",
      "Epoch 3/10\n",
      "\u001b[1m25/25\u001b[0m \u001b[32m━━━━━━━━━━━━━━━━━━━━\u001b[0m\u001b[37m\u001b[0m \u001b[1m4s\u001b[0m 152ms/step - auc: 0.7132 - binary_accuracy: 0.6468 - false_negatives: 69.9231 - false_positives: 79.9231 - loss: 0.6227 - precision: 0.6362 - recall: 0.6587 - true_negatives: 140.3462 - true_positives: 140.5769 - val_auc: 0.6302 - val_binary_accuracy: 0.4100 - val_false_negatives: 59.0000 - val_false_positives: 0.0000e+00 - val_loss: 0.8191 - val_precision: 0.0000e+00 - val_recall: 0.0000e+00 - val_true_negatives: 41.0000 - val_true_positives: 0.0000e+00\n",
      "Epoch 4/10\n",
      "\u001b[1m25/25\u001b[0m \u001b[32m━━━━━━━━━━━━━━━━━━━━\u001b[0m\u001b[37m\u001b[0m \u001b[1m4s\u001b[0m 157ms/step - auc: 0.7281 - binary_accuracy: 0.6603 - false_negatives: 65.7308 - false_positives: 77.2308 - loss: 0.6130 - precision: 0.6214 - recall: 0.6855 - true_negatives: 150.5385 - true_positives: 137.2692 - val_auc: 0.5310 - val_binary_accuracy: 0.4100 - val_false_negatives: 59.0000 - val_false_positives: 0.0000e+00 - val_loss: 1.0635 - val_precision: 0.0000e+00 - val_recall: 0.0000e+00 - val_true_negatives: 41.0000 - val_true_positives: 0.0000e+00\n",
      "Epoch 5/10\n",
      "\u001b[1m25/25\u001b[0m \u001b[32m━━━━━━━━━━━━━━━━━━━━\u001b[0m\u001b[37m\u001b[0m \u001b[1m4s\u001b[0m 152ms/step - auc: 0.7956 - binary_accuracy: 0.7371 - false_negatives: 54.3462 - false_positives: 63.5385 - loss: 0.5576 - precision: 0.7130 - recall: 0.7498 - true_negatives: 161.5385 - true_positives: 151.3462 - val_auc: 0.5291 - val_binary_accuracy: 0.4100 - val_false_negatives: 59.0000 - val_false_positives: 0.0000e+00 - val_loss: 1.0748 - val_precision: 0.0000e+00 - val_recall: 0.0000e+00 - val_true_negatives: 41.0000 - val_true_positives: 0.0000e+00\n",
      "Epoch 6/10\n",
      "\u001b[1m25/25\u001b[0m \u001b[32m━━━━━━━━━━━━━━━━━━━━\u001b[0m\u001b[37m\u001b[0m \u001b[1m4s\u001b[0m 152ms/step - auc: 0.8296 - binary_accuracy: 0.7482 - false_negatives: 46.7692 - false_positives: 56.8462 - loss: 0.5229 - precision: 0.7429 - recall: 0.7652 - true_negatives: 160.8462 - true_positives: 166.3077 - val_auc: 0.5539 - val_binary_accuracy: 0.4100 - val_false_negatives: 59.0000 - val_false_positives: 0.0000e+00 - val_loss: 1.5068 - val_precision: 0.0000e+00 - val_recall: 0.0000e+00 - val_true_negatives: 41.0000 - val_true_positives: 0.0000e+00\n",
      "Epoch 7/10\n",
      "\u001b[1m25/25\u001b[0m \u001b[32m━━━━━━━━━━━━━━━━━━━━\u001b[0m\u001b[37m\u001b[0m \u001b[1m4s\u001b[0m 146ms/step - auc: 0.8952 - binary_accuracy: 0.7920 - false_negatives: 42.2692 - false_positives: 45.9615 - loss: 0.4433 - precision: 0.7905 - recall: 0.7934 - true_negatives: 175.1154 - true_positives: 167.4231 - val_auc: 0.4855 - val_binary_accuracy: 0.4100 - val_false_negatives: 59.0000 - val_false_positives: 0.0000e+00 - val_loss: 1.8495 - val_precision: 0.0000e+00 - val_recall: 0.0000e+00 - val_true_negatives: 41.0000 - val_true_positives: 0.0000e+00\n",
      "Epoch 8/10\n",
      "\u001b[1m25/25\u001b[0m \u001b[32m━━━━━━━━━━━━━━━━━━━━\u001b[0m\u001b[37m\u001b[0m \u001b[1m4s\u001b[0m 153ms/step - auc: 0.9217 - binary_accuracy: 0.8390 - false_negatives: 33.0769 - false_positives: 35.3077 - loss: 0.3993 - precision: 0.8329 - recall: 0.8415 - true_negatives: 185.9615 - true_positives: 176.4231 - val_auc: 0.5254 - val_binary_accuracy: 0.4100 - val_false_negatives: 59.0000 - val_false_positives: 0.0000e+00 - val_loss: 2.2722 - val_precision: 0.0000e+00 - val_recall: 0.0000e+00 - val_true_negatives: 41.0000 - val_true_positives: 0.0000e+00\n",
      "Epoch 9/10\n",
      "\u001b[1m25/25\u001b[0m \u001b[32m━━━━━━━━━━━━━━━━━━━━\u001b[0m\u001b[37m\u001b[0m \u001b[1m4s\u001b[0m 153ms/step - auc: 0.9766 - binary_accuracy: 0.9341 - false_negatives: 15.2308 - false_positives: 17.5769 - loss: 0.2819 - precision: 0.9231 - recall: 0.9399 - true_negatives: 206.6154 - true_positives: 191.3462 - val_auc: 0.5674 - val_binary_accuracy: 0.4100 - val_false_negatives: 59.0000 - val_false_positives: 0.0000e+00 - val_loss: 2.5593 - val_precision: 0.0000e+00 - val_recall: 0.0000e+00 - val_true_negatives: 41.0000 - val_true_positives: 0.0000e+00\n",
      "Epoch 10/10\n",
      "\u001b[1m25/25\u001b[0m \u001b[32m━━━━━━━━━━━━━━━━━━━━\u001b[0m\u001b[37m\u001b[0m \u001b[1m4s\u001b[0m 149ms/step - auc: 0.9809 - binary_accuracy: 0.9318 - false_negatives: 14.1923 - false_positives: 15.0385 - loss: 0.2439 - precision: 0.9260 - recall: 0.9324 - true_negatives: 210.5000 - true_positives: 191.0385 - val_auc: 0.5099 - val_binary_accuracy: 0.4100 - val_false_negatives: 59.0000 - val_false_positives: 0.0000e+00 - val_loss: 3.1142 - val_precision: 0.0000e+00 - val_recall: 0.0000e+00 - val_true_negatives: 41.0000 - val_true_positives: 0.0000e+00\n"
     ]
    },
    {
     "data": {
      "text/html": [],
      "text/plain": [
       "<IPython.core.display.HTML object>"
      ]
     },
     "metadata": {},
     "output_type": "display_data"
    },
    {
     "data": {
      "text/html": [
       "<br>    <style><br>        .wandb-row {<br>            display: flex;<br>            flex-direction: row;<br>            flex-wrap: wrap;<br>            justify-content: flex-start;<br>            width: 100%;<br>        }<br>        .wandb-col {<br>            display: flex;<br>            flex-direction: column;<br>            flex-basis: 100%;<br>            flex: 1;<br>            padding: 10px;<br>        }<br>    </style><br><div class=\"wandb-row\"><div class=\"wandb-col\"><h3>Run history:</h3><br/><table class=\"wandb\"><tr><td>epoch/auc</td><td>▁▂▃▃▄▅▆▇██</td></tr><tr><td>epoch/binary_accuracy</td><td>▁▂▃▃▄▅▅▆██</td></tr><tr><td>epoch/epoch</td><td>▁▂▃▃▄▅▆▆▇█</td></tr><tr><td>epoch/false_negatives</td><td>██▇▇▆▄▄▃▂▁</td></tr><tr><td>epoch/false_positives</td><td>█▆▆▆▅▄▄▂▁▁</td></tr><tr><td>epoch/learning_rate</td><td>▁▁▁▁▁▁▁▁▁▁</td></tr><tr><td>epoch/loss</td><td>█▆▆▆▆▅▄▃▂▁</td></tr><tr><td>epoch/precision</td><td>▁▂▃▃▄▄▅▆██</td></tr><tr><td>epoch/recall</td><td>▁▁▂▂▃▅▅▆▇█</td></tr><tr><td>epoch/true_negatives</td><td>▁▃▃▃▄▅▅▇██</td></tr><tr><td>epoch/true_positives</td><td>▁▁▂▂▃▅▅▆▇█</td></tr><tr><td>epoch/val_auc</td><td>███▃▃▄▁▃▅▂</td></tr><tr><td>epoch/val_binary_accuracy</td><td>▁▁▁▁▁▁▁▁▁▁</td></tr><tr><td>epoch/val_false_negatives</td><td>▁▁▁▁▁▁▁▁▁▁</td></tr><tr><td>epoch/val_false_positives</td><td>▁▁▁▁▁▁▁▁▁▁</td></tr><tr><td>epoch/val_loss</td><td>▂▂▁▂▂▃▄▅▆█</td></tr><tr><td>epoch/val_precision</td><td>▁▁▁▁▁▁▁▁▁▁</td></tr><tr><td>epoch/val_recall</td><td>▁▁▁▁▁▁▁▁▁▁</td></tr><tr><td>epoch/val_true_negatives</td><td>▁▁▁▁▁▁▁▁▁▁</td></tr><tr><td>epoch/val_true_positives</td><td>▁▁▁▁▁▁▁▁▁▁</td></tr></table><br/></div><div class=\"wandb-col\"><h3>Run summary:</h3><br/><table class=\"wandb\"><tr><td>epoch/auc</td><td>0.98585</td></tr><tr><td>epoch/binary_accuracy</td><td>0.935</td></tr><tr><td>epoch/epoch</td><td>9</td></tr><tr><td>epoch/false_negatives</td><td>26</td></tr><tr><td>epoch/false_positives</td><td>26</td></tr><tr><td>epoch/learning_rate</td><td>0.001</td></tr><tr><td>epoch/loss</td><td>0.22451</td></tr><tr><td>epoch/precision</td><td>0.93229</td></tr><tr><td>epoch/recall</td><td>0.93229</td></tr><tr><td>epoch/true_negatives</td><td>390</td></tr><tr><td>epoch/true_positives</td><td>358</td></tr><tr><td>epoch/val_auc</td><td>0.50992</td></tr><tr><td>epoch/val_binary_accuracy</td><td>0.41</td></tr><tr><td>epoch/val_false_negatives</td><td>59</td></tr><tr><td>epoch/val_false_positives</td><td>0</td></tr><tr><td>epoch/val_loss</td><td>3.11416</td></tr><tr><td>epoch/val_precision</td><td>0</td></tr><tr><td>epoch/val_recall</td><td>0</td></tr><tr><td>epoch/val_true_negatives</td><td>41</td></tr><tr><td>epoch/val_true_positives</td><td>0</td></tr></table><br/></div></div>"
      ],
      "text/plain": [
       "<IPython.core.display.HTML object>"
      ]
     },
     "metadata": {},
     "output_type": "display_data"
    },
    {
     "data": {
      "text/html": [
       " View run <strong style=\"color:#cdcd00\">Trained Model Log</strong> at: <a href='https://wandb.ai/amanjn2003-santa-clara-university/Malaria-Detection-Dataset-Model-Versioning/runs/53xswlty' target=\"_blank\">https://wandb.ai/amanjn2003-santa-clara-university/Malaria-Detection-Dataset-Model-Versioning/runs/53xswlty</a><br> View project at: <a href='https://wandb.ai/amanjn2003-santa-clara-university/Malaria-Detection-Dataset-Model-Versioning' target=\"_blank\">https://wandb.ai/amanjn2003-santa-clara-university/Malaria-Detection-Dataset-Model-Versioning</a><br>Synced 5 W&B file(s), 0 media file(s), 22 artifact file(s) and 1 other file(s)"
      ],
      "text/plain": [
       "<IPython.core.display.HTML object>"
      ]
     },
     "metadata": {},
     "output_type": "display_data"
    },
    {
     "data": {
      "text/html": [
       "Find logs at: <code>./wandb/run-20250127_185948-53xswlty/logs</code>"
      ],
      "text/plain": [
       "<IPython.core.display.HTML object>"
      ]
     },
     "metadata": {},
     "output_type": "display_data"
    }
   ],
   "source": [
    "trainedModelLog()"
   ]
  }
 ],
 "metadata": {
  "kernelspec": {
   "display_name": "ComputerVision",
   "language": "python",
   "name": "python3"
  },
  "language_info": {
   "codemirror_mode": {
    "name": "ipython",
    "version": 3
   },
   "file_extension": ".py",
   "mimetype": "text/x-python",
   "name": "python",
   "nbconvert_exporter": "python",
   "pygments_lexer": "ipython3",
   "version": "3.11.11"
  }
 },
 "nbformat": 4,
 "nbformat_minor": 2
}
