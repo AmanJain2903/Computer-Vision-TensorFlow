{
 "cells": [
  {
   "cell_type": "markdown",
   "metadata": {},
   "source": [
    "# HYPERPARAMETER TUNING WITH WandB\n",
    "## Uses WandB Sweeps"
   ]
  },
  {
   "cell_type": "code",
   "execution_count": 1,
   "metadata": {},
   "outputs": [],
   "source": [
    "# Import Depedencies\n",
    "import tensorflow as tf\n",
    "import numpy as np\n",
    "import matplotlib.pyplot as plt\n",
    "import cv2\n",
    "import datetime\n",
    "import tensorflow_datasets as tfds\n",
    "from tensorflow.keras.layers import Input, Normalization, Conv2D, MaxPooling2D, Dense, Flatten, BatchNormalization, Dropout\n",
    "from tensorflow.keras.metrics import BinaryAccuracy, FalsePositives, FalseNegatives, TrueNegatives, TruePositives, Precision, Recall, F1Score, AUC\n",
    "from tensorflow.keras.regularizers import L2\n",
    "import wandb\n",
    "from wandb.integration.keras import WandbMetricsLogger, WandbModelCheckpoint, WandbEvalCallback, WandbCallback"
   ]
  },
  {
   "cell_type": "code",
   "execution_count": 2,
   "metadata": {},
   "outputs": [
    {
     "name": "stderr",
     "output_type": "stream",
     "text": [
      "2025-01-27 13:45:13.171791: I metal_plugin/src/device/metal_device.cc:1154] Metal device set to: Apple M3 Pro\n",
      "2025-01-27 13:45:13.171821: I metal_plugin/src/device/metal_device.cc:296] systemMemory: 18.00 GB\n",
      "2025-01-27 13:45:13.171824: I metal_plugin/src/device/metal_device.cc:313] maxCacheSize: 6.00 GB\n",
      "2025-01-27 13:45:13.171836: I tensorflow/core/common_runtime/pluggable_device/pluggable_device_factory.cc:305] Could not identify NUMA node of platform GPU ID 0, defaulting to 0. Your kernel may not have been built with NUMA support.\n",
      "2025-01-27 13:45:13.171846: I tensorflow/core/common_runtime/pluggable_device/pluggable_device_factory.cc:271] Created TensorFlow device (/job:localhost/replica:0/task:0/device:GPU:0 with 0 MB memory) -> physical PluggableDevice (device: 0, name: METAL, pci bus id: <undefined>)\n"
     ]
    }
   ],
   "source": [
    "# Load Malaria Dataset From Tensorflow Datasets\n",
    "dataset, datasetInfo = tfds.load(\"malaria\", \n",
    "                                 with_info=True, \n",
    "                                 shuffle_files=True) # -----------++++++    ->    ---+++-++--+++-\n",
    "\n",
    "# Dataset Split Function\n",
    "def split(dataset, TRAIN_RATIO, VAL_RATIO, TEST_RATIO):\n",
    "    trainDataset = dataset.take(int(TRAIN_RATIO*len(dataset)))\n",
    "    leftDataset = dataset.skip(int(TRAIN_RATIO*len(dataset)))\n",
    "    valDataset = leftDataset.take(int(VAL_RATIO*len(dataset)))\n",
    "    testDataset = leftDataset.skip(int(VAL_RATIO*len(dataset)))\n",
    "    return trainDataset, valDataset, testDataset\n",
    "\n",
    "# Split Dataset As 80/10/10 \n",
    "TRAIN_RATIO = 0.8\n",
    "VAL_RATIO = 0.1\n",
    "TEST_RATIO = 0.1\n",
    "trainDataset, valDataset, testDataset = split(dataset['train'], TRAIN_RATIO, VAL_RATIO, TEST_RATIO)\n",
    "\n",
    "IMAGE_SIZE = 224\n",
    "def resizeRescale(inputs):\n",
    "    return tf.image.resize(inputs['image'], (IMAGE_SIZE, IMAGE_SIZE))/255., inputs['label']\n",
    "trainDataset = trainDataset.map(resizeRescale)\n",
    "valDataset = valDataset.map(resizeRescale)\n",
    "testDataset = testDataset.map(resizeRescale)\n",
    "\n",
    "# Dataset Batching\n",
    "BATCH_SIZE=32\n",
    "BUFFER_SIZE = 8\n",
    "trainDataset = trainDataset.shuffle(buffer_size=BUFFER_SIZE, reshuffle_each_iteration=True).batch(BATCH_SIZE).prefetch(tf.data.AUTOTUNE)\n",
    "valDataset = valDataset.shuffle(buffer_size=BUFFER_SIZE, reshuffle_each_iteration=True).batch(BATCH_SIZE).prefetch(tf.data.AUTOTUNE)\n",
    "testDataset = testDataset.shuffle(buffer_size=BUFFER_SIZE, reshuffle_each_iteration=True).batch(BATCH_SIZE).prefetch(tf.data.AUTOTUNE)"
   ]
  },
  {
   "cell_type": "markdown",
   "metadata": {},
   "source": [
    "## Initialize Sweep Configurations"
   ]
  },
  {
   "cell_type": "code",
   "execution_count": 3,
   "metadata": {},
   "outputs": [
    {
     "name": "stdout",
     "output_type": "stream",
     "text": [
      "Create sweep with ID: sisjf06a\n",
      "Sweep URL: https://wandb.ai/amanjn2003-santa-clara-university/Malaria-Detection-HP-Tune/sweeps/sisjf06a\n"
     ]
    }
   ],
   "source": [
    "sweepConfig = {\n",
    "    \"name\" : \"Model Tune\",\n",
    "    \"method\" : \"random\", # random, grid or bayes\n",
    "    \"metric\" : {'name': 'val_binary_accuracy', 'goal': 'maximize'},\n",
    "    \"parameters\" : {\n",
    "        \"N_DENSE_1\" : {\"values\" : [16, 32, 64, 128]},\n",
    "        \"N_DENSE_2\" : {\"values\" : [16, 32, 64, 128]},\n",
    "        \"LEARNING_RATE\" : {\"distribution\":\"uniform\", \"min\" : 0.0001, \"max\" : 0.1},\n",
    "        \"DROPOUT_RATE\" : {\"distribution\":\"uniform\", \"min\" : 0.1, \"max\" : 0.4},\n",
    "        \"REGULARIZATION_RATE\" : {\"distribution\":\"uniform\", \"min\" : 0.001, \"max\" : 0.1},\n",
    "    },\n",
    "}\n",
    "\n",
    "sweepID = wandb.sweep(sweepConfig, project=\"Malaria-Detection-HP-Tune\")"
   ]
  },
  {
   "cell_type": "markdown",
   "metadata": {},
   "source": [
    "## Model Definition"
   ]
  },
  {
   "cell_type": "code",
   "execution_count": 4,
   "metadata": {},
   "outputs": [],
   "source": [
    "CONFIGURATION = {\n",
    "    \"LEARNING_RATE\" : 0.001,\n",
    "    \"N_EPOCHS\" : 10,\n",
    "    \"BATCH_SIZE\" : 128,\n",
    "    \"DROPOUT_RATE\": 0.0,\n",
    "    \"IM_SIZE\" : 224,\n",
    "    \"REGULARIZATION_RATE\" : 0.0,\n",
    "    \"N_FILTERS\" : 6,\n",
    "    \"KERNEL_SIZE\" : 3,\n",
    "    \"N_STRIDES\" : 1,\n",
    "    \"POOL_SIZE\" : 2,\n",
    "    \"N_DENSE_1\" : 128,\n",
    "    \"N_DENSE_2\" : 32\n",
    "}\n",
    "\n",
    "def makeModel(config):\n",
    "    # Using Sequential API with Hyperparamters\n",
    "    IMAGE_SIZE = 224\n",
    "    model = tf.keras.Sequential([\n",
    "        Input(shape=(config.IM_SIZE, config.IM_SIZE, 3)),\n",
    "\n",
    "        Conv2D(filters=config.N_FILTERS, kernel_size=config.KERNEL_SIZE, strides=config.N_STRIDES, padding='valid', activation='relu', kernel_regularizer=L2(config.REGULARIZATION_RATE)),\n",
    "        BatchNormalization(),\n",
    "        MaxPooling2D(pool_size=2, strides=2),\n",
    "        Dropout(rate = config.DROPOUT_RATE),\n",
    "\n",
    "        Conv2D(filters=config.N_FILTERS, kernel_size=config.KERNEL_SIZE, strides=config.N_STRIDES, padding='valid', activation='relu', kernel_regularizer=L2(config.REGULARIZATION_RATE)),\n",
    "        BatchNormalization(),\n",
    "        MaxPooling2D(pool_size=2, strides=2),\n",
    "\n",
    "        Flatten(),\n",
    "\n",
    "        Dense(config.N_DENSE_1, activation='relu', kernel_regularizer=L2(config.REGULARIZATION_RATE)),\n",
    "        BatchNormalization(),\n",
    "        Dropout(rate = config.DROPOUT_RATE),\n",
    "\n",
    "        Dense(config.N_DENSE_2, activation='relu', kernel_regularizer=L2(config.REGULARIZATION_RATE)),\n",
    "        BatchNormalization(),\n",
    "        Dropout(rate = config.DROPOUT_RATE),\n",
    "\n",
    "        Dense(1, activation='sigmoid'),\n",
    "    ])\n",
    "\n",
    "    return model\n",
    "\n",
    "Metrics = [BinaryAccuracy(), FalsePositives(), FalseNegatives(), TrueNegatives(), TruePositives(), Precision(), Recall(), AUC()]"
   ]
  },
  {
   "cell_type": "markdown",
   "metadata": {},
   "source": [
    "## Run An Agent"
   ]
  },
  {
   "cell_type": "markdown",
   "metadata": {},
   "source": [
    "### 1. Define a function to run taining based on hyperparamters in sweep configuration"
   ]
  },
  {
   "cell_type": "code",
   "execution_count": 5,
   "metadata": {},
   "outputs": [],
   "source": [
    "def train(config=None):\n",
    "    with wandb.init(name=\"Run-HP-Tune\", project=\"Malaria-Detection\", entity=\"amanjn2003-santa-clara-university\", config=CONFIGURATION) as run:\n",
    "        config = wandb.config\n",
    "        model = makeModel(config)\n",
    "        model.compile(\n",
    "            optimizer = tf.keras.optimizers.Adam(learning_rate = config.LEARNING_RATE),\n",
    "            loss = tf.keras.losses.BinaryCrossentropy(),\n",
    "            metrics = Metrics,\n",
    "        )\n",
    "        history = model.fit(trainDataset, validation_data=valDataset, epochs=config.N_EPOCHS, callbacks=[WandbMetricsLogger(), WandbModelCheckpoint(\"Models/TunedModel.keras\")])\n",
    "        wandb.log({\"val_binary_accuracy\": history.history[\"val_binary_accuracy\"][-1]})"
   ]
  },
  {
   "cell_type": "markdown",
   "metadata": {},
   "source": [
    "### 2. Pass that function, plus the sweepID to wandb.agent"
   ]
  },
  {
   "cell_type": "code",
   "execution_count": null,
   "metadata": {},
   "outputs": [
    {
     "name": "stderr",
     "output_type": "stream",
     "text": [
      "\u001b[34m\u001b[1mwandb\u001b[0m: Agent Starting Run: w2jiu27v with config:\n",
      "\u001b[34m\u001b[1mwandb\u001b[0m: \tDROPOUT_RATE: 0.1971202749052973\n",
      "\u001b[34m\u001b[1mwandb\u001b[0m: \tLEARNING_RATE: 0.03884835560459322\n",
      "\u001b[34m\u001b[1mwandb\u001b[0m: \tN_DENSE_1: 32\n",
      "\u001b[34m\u001b[1mwandb\u001b[0m: \tN_DENSE_2: 16\n",
      "\u001b[34m\u001b[1mwandb\u001b[0m: \tREGULARIZATION_RATE: 0.07302866225235208\n",
      "\u001b[34m\u001b[1mwandb\u001b[0m: Currently logged in as: \u001b[33mamanjn2003\u001b[0m (\u001b[33mamanjn2003-santa-clara-university\u001b[0m). Use \u001b[1m`wandb login --relogin`\u001b[0m to force relogin\n"
     ]
    },
    {
     "data": {
      "text/html": [
       "Ignoring project 'Malaria-Detection' when running a sweep."
      ],
      "text/plain": [
       "<IPython.core.display.HTML object>"
      ]
     },
     "metadata": {},
     "output_type": "display_data"
    },
    {
     "data": {
      "text/html": [
       "Ignoring entity 'amanjn2003-santa-clara-university' when running a sweep."
      ],
      "text/plain": [
       "<IPython.core.display.HTML object>"
      ]
     },
     "metadata": {},
     "output_type": "display_data"
    },
    {
     "name": "stderr",
     "output_type": "stream",
     "text": [
      "\u001b[34m\u001b[1mwandb\u001b[0m: Using wandb-core as the SDK backend.  Please refer to https://wandb.me/wandb-core for more information.\n"
     ]
    },
    {
     "data": {
      "text/html": [
       "Tracking run with wandb version 0.19.4"
      ],
      "text/plain": [
       "<IPython.core.display.HTML object>"
      ]
     },
     "metadata": {},
     "output_type": "display_data"
    },
    {
     "data": {
      "text/html": [
       "Run data is saved locally in <code>/Users/aman/Documents/Work/Machine Learning/Computer-Vision-TensorFlow/Weights&Biases-Integration/wandb/run-20250127_134515-w2jiu27v</code>"
      ],
      "text/plain": [
       "<IPython.core.display.HTML object>"
      ]
     },
     "metadata": {},
     "output_type": "display_data"
    },
    {
     "data": {
      "text/html": [
       "Syncing run <strong><a href='https://wandb.ai/amanjn2003-santa-clara-university/Malaria-Detection-HP-Tune/runs/w2jiu27v' target=\"_blank\">Run-HP-Tune</a></strong> to <a href='https://wandb.ai/amanjn2003-santa-clara-university/Malaria-Detection-HP-Tune' target=\"_blank\">Weights & Biases</a> (<a href='https://wandb.me/developer-guide' target=\"_blank\">docs</a>)<br>Sweep page: <a href='https://wandb.ai/amanjn2003-santa-clara-university/Malaria-Detection-HP-Tune/sweeps/sisjf06a' target=\"_blank\">https://wandb.ai/amanjn2003-santa-clara-university/Malaria-Detection-HP-Tune/sweeps/sisjf06a</a>"
      ],
      "text/plain": [
       "<IPython.core.display.HTML object>"
      ]
     },
     "metadata": {},
     "output_type": "display_data"
    },
    {
     "data": {
      "text/html": [
       " View project at <a href='https://wandb.ai/amanjn2003-santa-clara-university/Malaria-Detection-HP-Tune' target=\"_blank\">https://wandb.ai/amanjn2003-santa-clara-university/Malaria-Detection-HP-Tune</a>"
      ],
      "text/plain": [
       "<IPython.core.display.HTML object>"
      ]
     },
     "metadata": {},
     "output_type": "display_data"
    },
    {
     "data": {
      "text/html": [
       " View sweep at <a href='https://wandb.ai/amanjn2003-santa-clara-university/Malaria-Detection-HP-Tune/sweeps/sisjf06a' target=\"_blank\">https://wandb.ai/amanjn2003-santa-clara-university/Malaria-Detection-HP-Tune/sweeps/sisjf06a</a>"
      ],
      "text/plain": [
       "<IPython.core.display.HTML object>"
      ]
     },
     "metadata": {},
     "output_type": "display_data"
    },
    {
     "data": {
      "text/html": [
       " View run at <a href='https://wandb.ai/amanjn2003-santa-clara-university/Malaria-Detection-HP-Tune/runs/w2jiu27v' target=\"_blank\">https://wandb.ai/amanjn2003-santa-clara-university/Malaria-Detection-HP-Tune/runs/w2jiu27v</a>"
      ],
      "text/plain": [
       "<IPython.core.display.HTML object>"
      ]
     },
     "metadata": {},
     "output_type": "display_data"
    },
    {
     "name": "stdout",
     "output_type": "stream",
     "text": [
      "Epoch 1/10\n"
     ]
    },
    {
     "name": "stderr",
     "output_type": "stream",
     "text": [
      "2025-01-27 13:45:16.484538: I tensorflow/core/grappler/optimizers/custom_graph_optimizer_registry.cc:117] Plugin optimizer for device_type GPU is enabled.\n"
     ]
    },
    {
     "name": "stdout",
     "output_type": "stream",
     "text": [
      "\u001b[1m689/689\u001b[0m \u001b[32m━━━━━━━━━━━━━━━━━━━━\u001b[0m\u001b[37m\u001b[0m \u001b[1m36s\u001b[0m 49ms/step - auc: 0.5376 - binary_accuracy: 0.5249 - false_negatives: 2643.4856 - false_positives: 2656.6204 - loss: 4.0146 - precision: 0.5270 - recall: 0.5399 - true_negatives: 2862.1072 - true_positives: 2893.7349 - val_auc: 0.5000 - val_binary_accuracy: 0.4947 - val_false_negatives: 1392.0000 - val_false_positives: 0.0000e+00 - val_loss: 0.6943 - val_precision: 0.0000e+00 - val_recall: 0.0000e+00 - val_true_negatives: 1363.0000 - val_true_positives: 0.0000e+00\n",
      "Epoch 2/10\n",
      "\u001b[1m689/689\u001b[0m \u001b[32m━━━━━━━━━━━━━━━━━━━━\u001b[0m\u001b[37m\u001b[0m \u001b[1m32s\u001b[0m 46ms/step - auc: 0.4904 - binary_accuracy: 0.4989 - false_negatives: 2491.9912 - false_positives: 3075.4841 - loss: 0.6947 - precision: 0.5010 - recall: 0.5935 - true_negatives: 2443.2087 - true_positives: 3045.2637 - val_auc: 0.5000 - val_binary_accuracy: 0.5053 - val_false_negatives: 0.0000e+00 - val_false_positives: 1363.0000 - val_loss: 0.6947 - val_precision: 0.5053 - val_recall: 1.0000 - val_true_negatives: 0.0000e+00 - val_true_positives: 1392.0000\n",
      "Epoch 3/10\n",
      "\u001b[1m689/689\u001b[0m \u001b[32m━━━━━━━━━━━━━━━━━━━━\u001b[0m\u001b[37m\u001b[0m \u001b[1m31s\u001b[0m 45ms/step - auc: 0.4928 - binary_accuracy: 0.4989 - false_negatives: 2492.0115 - false_positives: 3051.5593 - loss: 0.6973 - precision: 0.5003 - recall: 0.5896 - true_negatives: 2467.2117 - true_positives: 3045.1653 - val_auc: 0.5000 - val_binary_accuracy: 0.5053 - val_false_negatives: 0.0000e+00 - val_false_positives: 1363.0000 - val_loss: 0.7062 - val_precision: 0.5053 - val_recall: 1.0000 - val_true_negatives: 0.0000e+00 - val_true_positives: 1392.0000\n",
      "Epoch 4/10\n",
      "\u001b[1m689/689\u001b[0m \u001b[32m━━━━━━━━━━━━━━━━━━━━\u001b[0m\u001b[37m\u001b[0m \u001b[1m31s\u001b[0m 45ms/step - auc: 0.4940 - binary_accuracy: 0.4936 - false_negatives: 2881.3855 - false_positives: 2709.1812 - loss: 0.7144 - precision: 0.4962 - recall: 0.5045 - true_negatives: 2809.4956 - true_positives: 2655.8855 - val_auc: 0.5000 - val_binary_accuracy: 0.4947 - val_false_negatives: 1392.0000 - val_false_positives: 0.0000e+00 - val_loss: 0.7332 - val_precision: 0.0000e+00 - val_recall: 0.0000e+00 - val_true_negatives: 1363.0000 - val_true_positives: 0.0000e+00\n",
      "Epoch 5/10\n",
      "\u001b[1m689/689\u001b[0m \u001b[32m━━━━━━━━━━━━━━━━━━━━\u001b[0m\u001b[37m\u001b[0m \u001b[1m31s\u001b[0m 45ms/step - auc: 0.4918 - binary_accuracy: 0.4921 - false_negatives: 2882.0261 - false_positives: 2725.6233 - loss: 0.7282 - precision: 0.4942 - recall: 0.4732 - true_negatives: 2793.1101 - true_positives: 2655.1885 - val_auc: 0.5000 - val_binary_accuracy: 0.5053 - val_false_negatives: 0.0000e+00 - val_false_positives: 1363.0000 - val_loss: 0.7530 - val_precision: 0.5053 - val_recall: 1.0000 - val_true_negatives: 0.0000e+00 - val_true_positives: 1392.0000\n",
      "Epoch 6/10\n",
      "\u001b[1m689/689\u001b[0m \u001b[32m━━━━━━━━━━━━━━━━━━━━\u001b[0m\u001b[37m\u001b[0m \u001b[1m31s\u001b[0m 46ms/step - auc: 0.4908 - binary_accuracy: 0.4937 - false_negatives: 2816.6116 - false_positives: 2792.5479 - loss: 0.7299 - precision: 0.4964 - recall: 0.5098 - true_negatives: 2726.2131 - true_positives: 2720.5754 - val_auc: 0.5000 - val_binary_accuracy: 0.4947 - val_false_negatives: 1392.0000 - val_false_positives: 0.0000e+00 - val_loss: 0.7316 - val_precision: 0.0000e+00 - val_recall: 0.0000e+00 - val_true_negatives: 1363.0000 - val_true_positives: 0.0000e+00\n",
      "Epoch 7/10\n",
      "\u001b[1m689/689\u001b[0m \u001b[32m━━━━━━━━━━━━━━━━━━━━\u001b[0m\u001b[37m\u001b[0m \u001b[1m31s\u001b[0m 45ms/step - auc: 0.4969 - binary_accuracy: 0.4981 - false_negatives: 2699.5840 - false_positives: 2868.3899 - loss: 0.7327 - precision: 0.4973 - recall: 0.5253 - true_negatives: 2650.3958 - true_positives: 2837.5784 - val_auc: 0.5000 - val_binary_accuracy: 0.4929 - val_false_negatives: 1397.0000 - val_false_positives: 0.0000e+00 - val_loss: 0.7303 - val_precision: 0.0000e+00 - val_recall: 0.0000e+00 - val_true_negatives: 1358.0000 - val_true_positives: 0.0000e+00\n",
      "Epoch 8/10\n",
      "\u001b[1m689/689\u001b[0m \u001b[32m━━━━━━━━━━━━━━━━━━━━\u001b[0m\u001b[37m\u001b[0m \u001b[1m31s\u001b[0m 45ms/step - auc: 0.4973 - binary_accuracy: 0.4983 - false_negatives: 3114.6304 - false_positives: 2454.6189 - loss: 0.7319 - precision: 0.5004 - recall: 0.4516 - true_negatives: 3064.2507 - true_positives: 2422.4478 - val_auc: 0.5000 - val_binary_accuracy: 0.5053 - val_false_negatives: 0.0000e+00 - val_false_positives: 1363.0000 - val_loss: 0.7793 - val_precision: 0.5053 - val_recall: 1.0000 - val_true_negatives: 0.0000e+00 - val_true_positives: 1392.0000\n",
      "Epoch 9/10\n",
      "\u001b[1m689/689\u001b[0m \u001b[32m━━━━━━━━━━━━━━━━━━━━\u001b[0m\u001b[37m\u001b[0m \u001b[1m31s\u001b[0m 46ms/step - auc: 0.4917 - binary_accuracy: 0.4979 - false_negatives: 2595.2463 - false_positives: 2980.0334 - loss: 0.7330 - precision: 0.5007 - recall: 0.5485 - true_negatives: 2538.8101 - true_positives: 2941.8579 - val_auc: 0.5000 - val_binary_accuracy: 0.4947 - val_false_negatives: 1392.0000 - val_false_positives: 0.0000e+00 - val_loss: 0.7351 - val_precision: 0.0000e+00 - val_recall: 0.0000e+00 - val_true_negatives: 1363.0000 - val_true_positives: 0.0000e+00\n",
      "Epoch 10/10\n",
      "\u001b[1m689/689\u001b[0m \u001b[32m━━━━━━━━━━━━━━━━━━━━\u001b[0m\u001b[37m\u001b[0m \u001b[1m31s\u001b[0m 46ms/step - auc: 0.4934 - binary_accuracy: 0.4956 - false_negatives: 3126.3726 - false_positives: 2469.6421 - loss: 0.7317 - precision: 0.4984 - recall: 0.4512 - true_negatives: 3049.0928 - true_positives: 2410.8406 - val_auc: 0.5000 - val_binary_accuracy: 0.5038 - val_false_negatives: 0.0000e+00 - val_false_positives: 1367.0000 - val_loss: 0.7283 - val_precision: 0.5038 - val_recall: 1.0000 - val_true_negatives: 0.0000e+00 - val_true_positives: 1388.0000\n"
     ]
    },
    {
     "data": {
      "text/html": [],
      "text/plain": [
       "<IPython.core.display.HTML object>"
      ]
     },
     "metadata": {},
     "output_type": "display_data"
    },
    {
     "data": {
      "text/html": [
       "<br>    <style><br>        .wandb-row {<br>            display: flex;<br>            flex-direction: row;<br>            flex-wrap: wrap;<br>            justify-content: flex-start;<br>            width: 100%;<br>        }<br>        .wandb-col {<br>            display: flex;<br>            flex-direction: column;<br>            flex-basis: 100%;<br>            flex: 1;<br>            padding: 10px;<br>        }<br>    </style><br><div class=\"wandb-row\"><div class=\"wandb-col\"><h3>Run history:</h3><br/><table class=\"wandb\"><tr><td>epoch/auc</td><td>█▂▂▂▁▁▂▂▁▁</td></tr><tr><td>epoch/binary_accuracy</td><td>█▂▂▁▁▁▂▁▁▁</td></tr><tr><td>epoch/epoch</td><td>▁▂▃▃▄▅▆▆▇█</td></tr><tr><td>epoch/false_negatives</td><td>▂▁▁▆▄▅▃▇▁█</td></tr><tr><td>epoch/false_positives</td><td>▄█▇▃▅▄▆▂█▁</td></tr><tr><td>epoch/learning_rate</td><td>▁▁▁▁▁▁▁▁▁▁</td></tr><tr><td>epoch/loss</td><td>█▁▁▁▁▁▁▁▁▁</td></tr><tr><td>epoch/precision</td><td>█▂▃▁▁▁▂▁▂▁</td></tr><tr><td>epoch/recall</td><td>▇██▃▅▄▆▂█▁</td></tr><tr><td>epoch/true_negatives</td><td>▅▁▂▆▄▅▃▇▁█</td></tr><tr><td>epoch/true_positives</td><td>▇██▃▅▄▆▂█▁</td></tr><tr><td>epoch/val_auc</td><td>▁▁▁▁▁▁▁▁▁▁</td></tr><tr><td>epoch/val_binary_accuracy</td><td>▂██▂█▂▁█▂▇</td></tr><tr><td>epoch/val_false_negatives</td><td>█▁▁█▁██▁█▁</td></tr><tr><td>epoch/val_false_positives</td><td>▁██▁█▁▁█▁█</td></tr><tr><td>epoch/val_loss</td><td>▁▁▂▄▆▄▄█▄▄</td></tr><tr><td>epoch/val_precision</td><td>▁██▁█▁▁█▁█</td></tr><tr><td>epoch/val_recall</td><td>▁██▁█▁▁█▁█</td></tr><tr><td>epoch/val_true_negatives</td><td>█▁▁█▁██▁█▁</td></tr><tr><td>epoch/val_true_positives</td><td>▁██▁█▁▁█▁█</td></tr><tr><td>val_binary_accuracy</td><td>▁</td></tr></table><br/></div><div class=\"wandb-col\"><h3>Run summary:</h3><br/><table class=\"wandb\"><tr><td>epoch/auc</td><td>0.49307</td></tr><tr><td>epoch/binary_accuracy</td><td>0.49397</td></tr><tr><td>epoch/epoch</td><td>9</td></tr><tr><td>epoch/false_negatives</td><td>6141</td></tr><tr><td>epoch/false_positives</td><td>5015</td></tr><tr><td>epoch/learning_rate</td><td>0.03885</td></tr><tr><td>epoch/loss</td><td>0.73147</td></tr><tr><td>epoch/precision</td><td>0.49328</td></tr><tr><td>epoch/recall</td><td>0.44289</td></tr><tr><td>epoch/true_negatives</td><td>6008</td></tr><tr><td>epoch/true_positives</td><td>4882</td></tr><tr><td>epoch/val_auc</td><td>0.5</td></tr><tr><td>epoch/val_binary_accuracy</td><td>0.50381</td></tr><tr><td>epoch/val_false_negatives</td><td>0</td></tr><tr><td>epoch/val_false_positives</td><td>1367</td></tr><tr><td>epoch/val_loss</td><td>0.72826</td></tr><tr><td>epoch/val_precision</td><td>0.50381</td></tr><tr><td>epoch/val_recall</td><td>1</td></tr><tr><td>epoch/val_true_negatives</td><td>0</td></tr><tr><td>epoch/val_true_positives</td><td>1388</td></tr><tr><td>val_binary_accuracy</td><td>0.50381</td></tr></table><br/></div></div>"
      ],
      "text/plain": [
       "<IPython.core.display.HTML object>"
      ]
     },
     "metadata": {},
     "output_type": "display_data"
    },
    {
     "data": {
      "text/html": [
       " View run <strong style=\"color:#cdcd00\">Run-HP-Tune</strong> at: <a href='https://wandb.ai/amanjn2003-santa-clara-university/Malaria-Detection-HP-Tune/runs/w2jiu27v' target=\"_blank\">https://wandb.ai/amanjn2003-santa-clara-university/Malaria-Detection-HP-Tune/runs/w2jiu27v</a><br> View project at: <a href='https://wandb.ai/amanjn2003-santa-clara-university/Malaria-Detection-HP-Tune' target=\"_blank\">https://wandb.ai/amanjn2003-santa-clara-university/Malaria-Detection-HP-Tune</a><br>Synced 5 W&B file(s), 0 media file(s), 20 artifact file(s) and 0 other file(s)"
      ],
      "text/plain": [
       "<IPython.core.display.HTML object>"
      ]
     },
     "metadata": {},
     "output_type": "display_data"
    },
    {
     "data": {
      "text/html": [
       "Find logs at: <code>./wandb/run-20250127_134515-w2jiu27v/logs</code>"
      ],
      "text/plain": [
       "<IPython.core.display.HTML object>"
      ]
     },
     "metadata": {},
     "output_type": "display_data"
    },
    {
     "name": "stderr",
     "output_type": "stream",
     "text": [
      "\u001b[34m\u001b[1mwandb\u001b[0m: Agent Starting Run: rz5eokcn with config:\n",
      "\u001b[34m\u001b[1mwandb\u001b[0m: \tDROPOUT_RATE: 0.12595727281769883\n",
      "\u001b[34m\u001b[1mwandb\u001b[0m: \tLEARNING_RATE: 0.04959108733809744\n",
      "\u001b[34m\u001b[1mwandb\u001b[0m: \tN_DENSE_1: 16\n",
      "\u001b[34m\u001b[1mwandb\u001b[0m: \tN_DENSE_2: 16\n",
      "\u001b[34m\u001b[1mwandb\u001b[0m: \tREGULARIZATION_RATE: 0.0757468374064368\n"
     ]
    },
    {
     "data": {
      "text/html": [
       "Ignoring project 'Malaria-Detection' when running a sweep."
      ],
      "text/plain": [
       "<IPython.core.display.HTML object>"
      ]
     },
     "metadata": {},
     "output_type": "display_data"
    },
    {
     "data": {
      "text/html": [
       "Ignoring entity 'amanjn2003-santa-clara-university' when running a sweep."
      ],
      "text/plain": [
       "<IPython.core.display.HTML object>"
      ]
     },
     "metadata": {},
     "output_type": "display_data"
    },
    {
     "data": {
      "text/html": [
       "Tracking run with wandb version 0.19.4"
      ],
      "text/plain": [
       "<IPython.core.display.HTML object>"
      ]
     },
     "metadata": {},
     "output_type": "display_data"
    },
    {
     "data": {
      "text/html": [
       "Run data is saved locally in <code>/Users/aman/Documents/Work/Machine Learning/Computer-Vision-TensorFlow/Weights&Biases-Integration/wandb/run-20250127_135040-rz5eokcn</code>"
      ],
      "text/plain": [
       "<IPython.core.display.HTML object>"
      ]
     },
     "metadata": {},
     "output_type": "display_data"
    },
    {
     "data": {
      "text/html": [
       "Syncing run <strong><a href='https://wandb.ai/amanjn2003-santa-clara-university/Malaria-Detection-HP-Tune/runs/rz5eokcn' target=\"_blank\">Run-HP-Tune</a></strong> to <a href='https://wandb.ai/amanjn2003-santa-clara-university/Malaria-Detection-HP-Tune' target=\"_blank\">Weights & Biases</a> (<a href='https://wandb.me/developer-guide' target=\"_blank\">docs</a>)<br>Sweep page: <a href='https://wandb.ai/amanjn2003-santa-clara-university/Malaria-Detection-HP-Tune/sweeps/sisjf06a' target=\"_blank\">https://wandb.ai/amanjn2003-santa-clara-university/Malaria-Detection-HP-Tune/sweeps/sisjf06a</a>"
      ],
      "text/plain": [
       "<IPython.core.display.HTML object>"
      ]
     },
     "metadata": {},
     "output_type": "display_data"
    },
    {
     "data": {
      "text/html": [
       " View project at <a href='https://wandb.ai/amanjn2003-santa-clara-university/Malaria-Detection-HP-Tune' target=\"_blank\">https://wandb.ai/amanjn2003-santa-clara-university/Malaria-Detection-HP-Tune</a>"
      ],
      "text/plain": [
       "<IPython.core.display.HTML object>"
      ]
     },
     "metadata": {},
     "output_type": "display_data"
    },
    {
     "data": {
      "text/html": [
       " View sweep at <a href='https://wandb.ai/amanjn2003-santa-clara-university/Malaria-Detection-HP-Tune/sweeps/sisjf06a' target=\"_blank\">https://wandb.ai/amanjn2003-santa-clara-university/Malaria-Detection-HP-Tune/sweeps/sisjf06a</a>"
      ],
      "text/plain": [
       "<IPython.core.display.HTML object>"
      ]
     },
     "metadata": {},
     "output_type": "display_data"
    },
    {
     "data": {
      "text/html": [
       " View run at <a href='https://wandb.ai/amanjn2003-santa-clara-university/Malaria-Detection-HP-Tune/runs/rz5eokcn' target=\"_blank\">https://wandb.ai/amanjn2003-santa-clara-university/Malaria-Detection-HP-Tune/runs/rz5eokcn</a>"
      ],
      "text/plain": [
       "<IPython.core.display.HTML object>"
      ]
     },
     "metadata": {},
     "output_type": "display_data"
    },
    {
     "name": "stdout",
     "output_type": "stream",
     "text": [
      "Epoch 1/10\n",
      "\u001b[1m689/689\u001b[0m \u001b[32m━━━━━━━━━━━━━━━━━━━━\u001b[0m\u001b[37m\u001b[0m \u001b[1m34s\u001b[0m 46ms/step - auc: 0.5258 - binary_accuracy: 0.5176 - false_negatives: 2580.8899 - false_positives: 4077.3914 - loss: 3.5341 - precision: 0.5157 - recall: 0.6626 - true_negatives: 2808.5464 - true_positives: 4344.1201 - val_auc: 0.5000 - val_binary_accuracy: 0.4947 - val_false_negatives: 1392.0000 - val_false_positives: 0.0000e+00 - val_loss: 0.7586 - val_precision: 0.0000e+00 - val_recall: 0.0000e+00 - val_true_negatives: 1363.0000 - val_true_positives: 0.0000e+00\n",
      "Epoch 2/10\n",
      "\u001b[1m689/689\u001b[0m \u001b[32m━━━━━━━━━━━━━━━━━━━━\u001b[0m\u001b[37m\u001b[0m \u001b[1m31s\u001b[0m 45ms/step - auc: 0.4979 - binary_accuracy: 0.4969 - false_negatives: 2645.0508 - false_positives: 2880.5696 - loss: 0.8234 - precision: 0.4999 - recall: 0.5426 - true_negatives: 2638.1667 - true_positives: 2892.1609 - val_auc: 0.5115 - val_binary_accuracy: 0.5053 - val_false_negatives: 0.0000e+00 - val_false_positives: 1363.0000 - val_loss: 0.8092 - val_precision: 0.5053 - val_recall: 1.0000 - val_true_negatives: 0.0000e+00 - val_true_positives: 1392.0000\n",
      "Epoch 3/10\n",
      "\u001b[1m689/689\u001b[0m \u001b[32m━━━━━━━━━━━━━━━━━━━━\u001b[0m\u001b[37m\u001b[0m \u001b[1m31s\u001b[0m 45ms/step - auc: 0.5060 - binary_accuracy: 0.5055 - false_negatives: 2879.9146 - false_positives: 2624.0217 - loss: 0.9600 - precision: 0.5084 - recall: 0.4970 - true_negatives: 2894.7217 - true_positives: 2657.2898 - val_auc: 0.5237 - val_binary_accuracy: 0.5053 - val_false_negatives: 0.0000e+00 - val_false_positives: 1363.0000 - val_loss: 0.7568 - val_precision: 0.5053 - val_recall: 1.0000 - val_true_negatives: 0.0000e+00 - val_true_positives: 1392.0000\n",
      "Epoch 4/10\n",
      "\u001b[1m689/689\u001b[0m \u001b[32m━━━━━━━━━━━━━━━━━━━━\u001b[0m\u001b[37m\u001b[0m \u001b[1m31s\u001b[0m 45ms/step - auc: 0.5088 - binary_accuracy: 0.5026 - false_negatives: 2442.1738 - false_positives: 3056.6550 - loss: 0.9278 - precision: 0.5035 - recall: 0.5447 - true_negatives: 2462.0784 - true_positives: 3095.0405 - val_auc: 0.6013 - val_binary_accuracy: 0.5067 - val_false_negatives: 0.0000e+00 - val_false_positives: 1359.0000 - val_loss: 0.7704 - val_precision: 0.5067 - val_recall: 1.0000 - val_true_negatives: 0.0000e+00 - val_true_positives: 1396.0000\n",
      "Epoch 5/10\n",
      "\u001b[1m689/689\u001b[0m \u001b[32m━━━━━━━━━━━━━━━━━━━━\u001b[0m\u001b[37m\u001b[0m \u001b[1m31s\u001b[0m 45ms/step - auc: 0.4975 - binary_accuracy: 0.5041 - false_negatives: 2657.4639 - false_positives: 2840.5825 - loss: 0.8254 - precision: 0.5083 - recall: 0.5326 - true_negatives: 2678.1492 - true_positives: 2879.7522 - val_auc: 0.5076 - val_binary_accuracy: 0.4947 - val_false_negatives: 1392.0000 - val_false_positives: 0.0000e+00 - val_loss: 0.9716 - val_precision: 0.0000e+00 - val_recall: 0.0000e+00 - val_true_negatives: 1363.0000 - val_true_positives: 0.0000e+00\n",
      "Epoch 6/10\n",
      "\u001b[1m689/689\u001b[0m \u001b[32m━━━━━━━━━━━━━━━━━━━━\u001b[0m\u001b[37m\u001b[0m \u001b[1m31s\u001b[0m 45ms/step - auc: 0.5053 - binary_accuracy: 0.5019 - false_negatives: 2637.4912 - false_positives: 2885.4783 - loss: 0.9536 - precision: 0.5041 - recall: 0.5396 - true_negatives: 2633.2522 - true_positives: 2899.7261 - val_auc: 0.5386 - val_binary_accuracy: 0.5053 - val_false_negatives: 0.0000e+00 - val_false_positives: 1363.0000 - val_loss: 0.8768 - val_precision: 0.5053 - val_recall: 1.0000 - val_true_negatives: 0.0000e+00 - val_true_positives: 1392.0000\n",
      "Epoch 7/10\n",
      "\u001b[1m689/689\u001b[0m \u001b[32m━━━━━━━━━━━━━━━━━━━━\u001b[0m\u001b[37m\u001b[0m \u001b[1m31s\u001b[0m 45ms/step - auc: 0.5140 - binary_accuracy: 0.5133 - false_negatives: 2925.6362 - false_positives: 2487.9551 - loss: 0.9336 - precision: 0.5181 - recall: 0.4820 - true_negatives: 3030.7986 - true_positives: 2611.5579 - val_auc: 0.5000 - val_binary_accuracy: 0.4947 - val_false_negatives: 1392.0000 - val_false_positives: 0.0000e+00 - val_loss: 0.7239 - val_precision: 0.0000e+00 - val_recall: 0.0000e+00 - val_true_negatives: 1363.0000 - val_true_positives: 0.0000e+00\n",
      "Epoch 8/10\n",
      "\u001b[1m689/689\u001b[0m \u001b[32m━━━━━━━━━━━━━━━━━━━━\u001b[0m\u001b[37m\u001b[0m \u001b[1m31s\u001b[0m 45ms/step - auc: 0.4981 - binary_accuracy: 0.4993 - false_negatives: 2999.6289 - false_positives: 2525.1260 - loss: 0.9338 - precision: 0.4991 - recall: 0.4774 - true_negatives: 2993.5508 - true_positives: 2537.6421 - val_auc: 0.5000 - val_binary_accuracy: 0.4933 - val_false_negatives: 1396.0000 - val_false_positives: 0.0000e+00 - val_loss: 0.7667 - val_precision: 0.0000e+00 - val_recall: 0.0000e+00 - val_true_negatives: 1359.0000 - val_true_positives: 0.0000e+00\n",
      "Epoch 9/10\n",
      "\u001b[1m689/689\u001b[0m \u001b[32m━━━━━━━━━━━━━━━━━━━━\u001b[0m\u001b[37m\u001b[0m \u001b[1m31s\u001b[0m 45ms/step - auc: 0.5018 - binary_accuracy: 0.4965 - false_negatives: 2971.7551 - false_positives: 2578.3464 - loss: 1.1548 - precision: 0.4948 - recall: 0.4554 - true_negatives: 2940.3958 - true_positives: 2565.4507 - val_auc: 0.5000 - val_binary_accuracy: 0.4962 - val_false_negatives: 1388.0000 - val_false_positives: 0.0000e+00 - val_loss: 0.7685 - val_precision: 0.0000e+00 - val_recall: 0.0000e+00 - val_true_negatives: 1367.0000 - val_true_positives: 0.0000e+00\n",
      "Epoch 10/10\n",
      "\u001b[1m689/689\u001b[0m \u001b[32m━━━━━━━━━━━━━━━━━━━━\u001b[0m\u001b[37m\u001b[0m \u001b[1m31s\u001b[0m 45ms/step - auc: 0.5048 - binary_accuracy: 0.5034 - false_negatives: 2798.2434 - false_positives: 2676.7681 - loss: 0.9069 - precision: 0.5068 - recall: 0.4995 - true_negatives: 2842.0203 - true_positives: 2738.9160 - val_auc: 0.5000 - val_binary_accuracy: 0.5038 - val_false_negatives: 0.0000e+00 - val_false_positives: 1367.0000 - val_loss: 0.7946 - val_precision: 0.5038 - val_recall: 1.0000 - val_true_negatives: 0.0000e+00 - val_true_positives: 1388.0000\n"
     ]
    },
    {
     "data": {
      "text/html": [],
      "text/plain": [
       "<IPython.core.display.HTML object>"
      ]
     },
     "metadata": {},
     "output_type": "display_data"
    },
    {
     "data": {
      "text/html": [
       "<br>    <style><br>        .wandb-row {<br>            display: flex;<br>            flex-direction: row;<br>            flex-wrap: wrap;<br>            justify-content: flex-start;<br>            width: 100%;<br>        }<br>        .wandb-col {<br>            display: flex;<br>            flex-direction: column;<br>            flex-basis: 100%;<br>            flex: 1;<br>            padding: 10px;<br>        }<br>    </style><br><div class=\"wandb-row\"><div class=\"wandb-col\"><h3>Run history:</h3><br/><table class=\"wandb\"><tr><td>epoch/auc</td><td>█▂▁▂▂▂▃▂▂▃</td></tr><tr><td>epoch/binary_accuracy</td><td>█▃▁▂▄▂▄▂▁▄</td></tr><tr><td>epoch/epoch</td><td>▁▂▃▃▄▅▆▆▇█</td></tr><tr><td>epoch/false_negatives</td><td>▃▄▆▁▃▃██▇▅</td></tr><tr><td>epoch/false_positives</td><td>█▃▂▅▄▄▁▁▂▃</td></tr><tr><td>epoch/learning_rate</td><td>▁▁▁▁▁▁▁▁▁▁</td></tr><tr><td>epoch/loss</td><td>█▁▂▁▂▂▂▂▃▂</td></tr><tr><td>epoch/precision</td><td>█▃▁▂▄▂▅▂▁▄</td></tr><tr><td>epoch/recall</td><td>█▄▂▇▅▅▁▁▂▄</td></tr><tr><td>epoch/true_negatives</td><td>▅▄▆▁▄▃██▆▅</td></tr><tr><td>epoch/true_positives</td><td>█▃▂▅▃▄▁▁▂▃</td></tr><tr><td>epoch/val_auc</td><td>▁▂▃█▂▄▁▁▁▁</td></tr><tr><td>epoch/val_binary_accuracy</td><td>▂▇▇█▂▇▂▁▃▆</td></tr><tr><td>epoch/val_false_negatives</td><td>█▁▁▁█▁███▁</td></tr><tr><td>epoch/val_false_positives</td><td>▁███▁█▁▁▁█</td></tr><tr><td>epoch/val_loss</td><td>▂▃▂▂█▅▁▂▂▃</td></tr><tr><td>epoch/val_precision</td><td>▁███▁█▁▁▁█</td></tr><tr><td>epoch/val_recall</td><td>▁███▁█▁▁▁█</td></tr><tr><td>epoch/val_true_negatives</td><td>█▁▁▁█▁███▁</td></tr><tr><td>epoch/val_true_positives</td><td>▁███▁█▁▁▁█</td></tr><tr><td>val_binary_accuracy</td><td>▁</td></tr></table><br/></div><div class=\"wandb-col\"><h3>Run summary:</h3><br/><table class=\"wandb\"><tr><td>epoch/auc</td><td>0.50613</td></tr><tr><td>epoch/binary_accuracy</td><td>0.50544</td></tr><tr><td>epoch/epoch</td><td>9</td></tr><tr><td>epoch/false_negatives</td><td>5450</td></tr><tr><td>epoch/false_positives</td><td>5453</td></tr><tr><td>epoch/learning_rate</td><td>0.04959</td></tr><tr><td>epoch/loss</td><td>0.95135</td></tr><tr><td>epoch/precision</td><td>0.50558</td></tr><tr><td>epoch/recall</td><td>0.50571</td></tr><tr><td>epoch/true_negatives</td><td>5567</td></tr><tr><td>epoch/true_positives</td><td>5576</td></tr><tr><td>epoch/val_auc</td><td>0.5</td></tr><tr><td>epoch/val_binary_accuracy</td><td>0.50381</td></tr><tr><td>epoch/val_false_negatives</td><td>0</td></tr><tr><td>epoch/val_false_positives</td><td>1367</td></tr><tr><td>epoch/val_loss</td><td>0.79458</td></tr><tr><td>epoch/val_precision</td><td>0.50381</td></tr><tr><td>epoch/val_recall</td><td>1</td></tr><tr><td>epoch/val_true_negatives</td><td>0</td></tr><tr><td>epoch/val_true_positives</td><td>1388</td></tr><tr><td>val_binary_accuracy</td><td>0.50381</td></tr></table><br/></div></div>"
      ],
      "text/plain": [
       "<IPython.core.display.HTML object>"
      ]
     },
     "metadata": {},
     "output_type": "display_data"
    },
    {
     "data": {
      "text/html": [
       " View run <strong style=\"color:#cdcd00\">Run-HP-Tune</strong> at: <a href='https://wandb.ai/amanjn2003-santa-clara-university/Malaria-Detection-HP-Tune/runs/rz5eokcn' target=\"_blank\">https://wandb.ai/amanjn2003-santa-clara-university/Malaria-Detection-HP-Tune/runs/rz5eokcn</a><br> View project at: <a href='https://wandb.ai/amanjn2003-santa-clara-university/Malaria-Detection-HP-Tune' target=\"_blank\">https://wandb.ai/amanjn2003-santa-clara-university/Malaria-Detection-HP-Tune</a><br>Synced 5 W&B file(s), 0 media file(s), 20 artifact file(s) and 0 other file(s)"
      ],
      "text/plain": [
       "<IPython.core.display.HTML object>"
      ]
     },
     "metadata": {},
     "output_type": "display_data"
    },
    {
     "data": {
      "text/html": [
       "Find logs at: <code>./wandb/run-20250127_135040-rz5eokcn/logs</code>"
      ],
      "text/plain": [
       "<IPython.core.display.HTML object>"
      ]
     },
     "metadata": {},
     "output_type": "display_data"
    },
    {
     "name": "stderr",
     "output_type": "stream",
     "text": [
      "\u001b[34m\u001b[1mwandb\u001b[0m: Agent Starting Run: dxn4sxs9 with config:\n",
      "\u001b[34m\u001b[1mwandb\u001b[0m: \tDROPOUT_RATE: 0.13925216019850828\n",
      "\u001b[34m\u001b[1mwandb\u001b[0m: \tLEARNING_RATE: 0.0020501502254748932\n",
      "\u001b[34m\u001b[1mwandb\u001b[0m: \tN_DENSE_1: 32\n",
      "\u001b[34m\u001b[1mwandb\u001b[0m: \tN_DENSE_2: 32\n",
      "\u001b[34m\u001b[1mwandb\u001b[0m: \tREGULARIZATION_RATE: 0.005155576758093151\n"
     ]
    },
    {
     "data": {
      "text/html": [
       "Ignoring project 'Malaria-Detection' when running a sweep."
      ],
      "text/plain": [
       "<IPython.core.display.HTML object>"
      ]
     },
     "metadata": {},
     "output_type": "display_data"
    },
    {
     "data": {
      "text/html": [
       "Ignoring entity 'amanjn2003-santa-clara-university' when running a sweep."
      ],
      "text/plain": [
       "<IPython.core.display.HTML object>"
      ]
     },
     "metadata": {},
     "output_type": "display_data"
    },
    {
     "data": {
      "text/html": [
       "Tracking run with wandb version 0.19.4"
      ],
      "text/plain": [
       "<IPython.core.display.HTML object>"
      ]
     },
     "metadata": {},
     "output_type": "display_data"
    },
    {
     "data": {
      "text/html": [
       "Run data is saved locally in <code>/Users/aman/Documents/Work/Machine Learning/Computer-Vision-TensorFlow/Weights&Biases-Integration/wandb/run-20250127_135601-dxn4sxs9</code>"
      ],
      "text/plain": [
       "<IPython.core.display.HTML object>"
      ]
     },
     "metadata": {},
     "output_type": "display_data"
    },
    {
     "data": {
      "text/html": [
       "Syncing run <strong><a href='https://wandb.ai/amanjn2003-santa-clara-university/Malaria-Detection-HP-Tune/runs/dxn4sxs9' target=\"_blank\">Run-HP-Tune</a></strong> to <a href='https://wandb.ai/amanjn2003-santa-clara-university/Malaria-Detection-HP-Tune' target=\"_blank\">Weights & Biases</a> (<a href='https://wandb.me/developer-guide' target=\"_blank\">docs</a>)<br>Sweep page: <a href='https://wandb.ai/amanjn2003-santa-clara-university/Malaria-Detection-HP-Tune/sweeps/sisjf06a' target=\"_blank\">https://wandb.ai/amanjn2003-santa-clara-university/Malaria-Detection-HP-Tune/sweeps/sisjf06a</a>"
      ],
      "text/plain": [
       "<IPython.core.display.HTML object>"
      ]
     },
     "metadata": {},
     "output_type": "display_data"
    },
    {
     "data": {
      "text/html": [
       " View project at <a href='https://wandb.ai/amanjn2003-santa-clara-university/Malaria-Detection-HP-Tune' target=\"_blank\">https://wandb.ai/amanjn2003-santa-clara-university/Malaria-Detection-HP-Tune</a>"
      ],
      "text/plain": [
       "<IPython.core.display.HTML object>"
      ]
     },
     "metadata": {},
     "output_type": "display_data"
    },
    {
     "data": {
      "text/html": [
       " View sweep at <a href='https://wandb.ai/amanjn2003-santa-clara-university/Malaria-Detection-HP-Tune/sweeps/sisjf06a' target=\"_blank\">https://wandb.ai/amanjn2003-santa-clara-university/Malaria-Detection-HP-Tune/sweeps/sisjf06a</a>"
      ],
      "text/plain": [
       "<IPython.core.display.HTML object>"
      ]
     },
     "metadata": {},
     "output_type": "display_data"
    },
    {
     "data": {
      "text/html": [
       " View run at <a href='https://wandb.ai/amanjn2003-santa-clara-university/Malaria-Detection-HP-Tune/runs/dxn4sxs9' target=\"_blank\">https://wandb.ai/amanjn2003-santa-clara-university/Malaria-Detection-HP-Tune/runs/dxn4sxs9</a>"
      ],
      "text/plain": [
       "<IPython.core.display.HTML object>"
      ]
     },
     "metadata": {},
     "output_type": "display_data"
    },
    {
     "name": "stdout",
     "output_type": "stream",
     "text": [
      "Epoch 1/10\n",
      "\u001b[1m689/689\u001b[0m \u001b[32m━━━━━━━━━━━━━━━━━━━━\u001b[0m\u001b[37m\u001b[0m \u001b[1m36s\u001b[0m 47ms/step - auc: 0.6679 - binary_accuracy: 0.6190 - false_negatives: 1397.5449 - false_positives: 3591.8752 - loss: 0.9832 - precision: 0.5919 - recall: 0.8029 - true_negatives: 3293.9421 - true_positives: 5527.5854 - val_auc: 0.8924 - val_binary_accuracy: 0.5158 - val_false_negatives: 1.0000 - val_false_positives: 1333.0000 - val_loss: 0.9388 - val_precision: 0.5114 - val_recall: 0.9993 - val_true_negatives: 26.0000 - val_true_positives: 1395.0000\n",
      "Epoch 2/10\n",
      "\u001b[1m689/689\u001b[0m \u001b[32m━━━━━━━━━━━━━━━━━━━━\u001b[0m\u001b[37m\u001b[0m \u001b[1m31s\u001b[0m 46ms/step - auc: 0.8472 - binary_accuracy: 0.7691 - false_negatives: 497.9768 - false_positives: 2107.6001 - loss: 0.8361 - precision: 0.7102 - recall: 0.9141 - true_negatives: 3411.2622 - true_positives: 5039.1089 - val_auc: 0.9160 - val_binary_accuracy: 0.6777 - val_false_negatives: 79.0000 - val_false_positives: 809.0000 - val_loss: 0.8404 - val_precision: 0.6179 - val_recall: 0.9430 - val_true_negatives: 559.0000 - val_true_positives: 1308.0000\n",
      "Epoch 3/10\n",
      "\u001b[1m689/689\u001b[0m \u001b[32m━━━━━━━━━━━━━━━━━━━━\u001b[0m\u001b[37m\u001b[0m \u001b[1m31s\u001b[0m 46ms/step - auc: 0.8598 - binary_accuracy: 0.7725 - false_negatives: 463.4913 - false_positives: 2065.6101 - loss: 0.8251 - precision: 0.7137 - recall: 0.9155 - true_negatives: 3453.1101 - true_positives: 5073.7363 - val_auc: 0.9102 - val_binary_accuracy: 0.6483 - val_false_negatives: 101.0000 - val_false_positives: 868.0000 - val_loss: 0.8214 - val_precision: 0.5970 - val_recall: 0.9272 - val_true_negatives: 500.0000 - val_true_positives: 1286.0000\n",
      "Epoch 4/10\n",
      "\u001b[1m689/689\u001b[0m \u001b[32m━━━━━━━━━━━━━━━━━━━━\u001b[0m\u001b[37m\u001b[0m \u001b[1m34s\u001b[0m 49ms/step - auc: 0.8659 - binary_accuracy: 0.7708 - false_negatives: 443.3986 - false_positives: 2185.8652 - loss: 0.7977 - precision: 0.7096 - recall: 0.9228 - true_negatives: 3332.8752 - true_positives: 5093.8086 - val_auc: 0.9344 - val_binary_accuracy: 0.5695 - val_false_negatives: 35.0000 - val_false_positives: 1151.0000 - val_loss: 0.8140 - val_precision: 0.5411 - val_recall: 0.9749 - val_true_negatives: 212.0000 - val_true_positives: 1357.0000\n",
      "Epoch 5/10\n",
      "\u001b[1m689/689\u001b[0m \u001b[32m━━━━━━━━━━━━━━━━━━━━\u001b[0m\u001b[37m\u001b[0m \u001b[1m36s\u001b[0m 52ms/step - auc: 0.8841 - binary_accuracy: 0.7893 - false_negatives: 367.8246 - false_positives: 1998.3218 - loss: 0.7718 - precision: 0.7250 - recall: 0.9372 - true_negatives: 3520.4333 - true_positives: 5169.3682 - val_auc: 0.9517 - val_binary_accuracy: 0.5172 - val_false_negatives: 2.0000 - val_false_positives: 1328.0000 - val_loss: 0.8262 - val_precision: 0.5114 - val_recall: 0.9986 - val_true_negatives: 35.0000 - val_true_positives: 1390.0000\n",
      "Epoch 6/10\n",
      "\u001b[1m689/689\u001b[0m \u001b[32m━━━━━━━━━━━━━━━━━━━━\u001b[0m\u001b[37m\u001b[0m \u001b[1m32s\u001b[0m 47ms/step - auc: 0.8799 - binary_accuracy: 0.7775 - false_negatives: 382.7275 - false_positives: 2107.8840 - loss: 0.7603 - precision: 0.7132 - recall: 0.9336 - true_negatives: 3410.8943 - true_positives: 5154.4419 - val_auc: 0.9559 - val_binary_accuracy: 0.5358 - val_false_negatives: 3.0000 - val_false_positives: 1276.0000 - val_loss: 0.8144 - val_precision: 0.5217 - val_recall: 0.9978 - val_true_negatives: 84.0000 - val_true_positives: 1392.0000\n",
      "Epoch 7/10\n",
      "\u001b[1m689/689\u001b[0m \u001b[32m━━━━━━━━━━━━━━━━━━━━\u001b[0m\u001b[37m\u001b[0m \u001b[1m32s\u001b[0m 46ms/step - auc: 0.8822 - binary_accuracy: 0.7846 - false_negatives: 428.7348 - false_positives: 2049.9072 - loss: 0.7420 - precision: 0.7236 - recall: 0.9264 - true_negatives: 3468.9551 - true_positives: 5108.3506 - val_auc: 0.9440 - val_binary_accuracy: 0.5459 - val_false_negatives: 8.0000 - val_false_positives: 1243.0000 - val_loss: 0.8084 - val_precision: 0.5274 - val_recall: 0.9943 - val_true_negatives: 117.0000 - val_true_positives: 1387.0000\n",
      "Epoch 8/10\n",
      "\u001b[1m689/689\u001b[0m \u001b[32m━━━━━━━━━━━━━━━━━━━━\u001b[0m\u001b[37m\u001b[0m \u001b[1m32s\u001b[0m 46ms/step - auc: 0.8803 - binary_accuracy: 0.7862 - false_negatives: 408.3551 - false_positives: 2036.8536 - loss: 0.7414 - precision: 0.7247 - recall: 0.9286 - true_negatives: 3481.9507 - true_positives: 5128.7886 - val_auc: 0.9504 - val_binary_accuracy: 0.5401 - val_false_negatives: 8.0000 - val_false_positives: 1259.0000 - val_loss: 0.7753 - val_precision: 0.5236 - val_recall: 0.9943 - val_true_negatives: 104.0000 - val_true_positives: 1384.0000\n",
      "Epoch 9/10\n",
      "\u001b[1m689/689\u001b[0m \u001b[32m━━━━━━━━━━━━━━━━━━━━\u001b[0m\u001b[37m\u001b[0m \u001b[1m32s\u001b[0m 46ms/step - auc: 0.8665 - binary_accuracy: 0.7710 - false_negatives: 441.7507 - false_positives: 2169.5103 - loss: 0.7234 - precision: 0.7090 - recall: 0.9245 - true_negatives: 3349.3420 - true_positives: 5095.3447 - val_auc: 0.8329 - val_binary_accuracy: 0.7713 - val_false_negatives: 319.0000 - val_false_positives: 311.0000 - val_loss: 0.7936 - val_precision: 0.7758 - val_recall: 0.7713 - val_true_negatives: 1049.0000 - val_true_positives: 1076.0000\n",
      "Epoch 10/10\n",
      "\u001b[1m689/689\u001b[0m \u001b[32m━━━━━━━━━━━━━━━━━━━━\u001b[0m\u001b[37m\u001b[0m \u001b[1m32s\u001b[0m 46ms/step - auc: 0.8631 - binary_accuracy: 0.7641 - false_negatives: 419.3536 - false_positives: 2185.8276 - loss: 0.7389 - precision: 0.7027 - recall: 0.9214 - true_negatives: 3332.8782 - true_positives: 5117.8882 - val_auc: 0.9438 - val_binary_accuracy: 0.5111 - val_false_negatives: 0.0000e+00 - val_false_positives: 1347.0000 - val_loss: 0.8232 - val_precision: 0.5082 - val_recall: 1.0000 - val_true_negatives: 16.0000 - val_true_positives: 1392.0000\n"
     ]
    },
    {
     "data": {
      "text/html": [],
      "text/plain": [
       "<IPython.core.display.HTML object>"
      ]
     },
     "metadata": {},
     "output_type": "display_data"
    },
    {
     "data": {
      "text/html": [
       "<br>    <style><br>        .wandb-row {<br>            display: flex;<br>            flex-direction: row;<br>            flex-wrap: wrap;<br>            justify-content: flex-start;<br>            width: 100%;<br>        }<br>        .wandb-col {<br>            display: flex;<br>            flex-direction: column;<br>            flex-basis: 100%;<br>            flex: 1;<br>            padding: 10px;<br>        }<br>    </style><br><div class=\"wandb-row\"><div class=\"wandb-col\"><h3>Run history:</h3><br/><table class=\"wandb\"><tr><td>epoch/auc</td><td>▁▆▇▇████▇▇</td></tr><tr><td>epoch/binary_accuracy</td><td>▁▇▇▆████▇▇</td></tr><tr><td>epoch/epoch</td><td>▁▂▃▃▄▅▆▆▇█</td></tr><tr><td>epoch/false_negatives</td><td>█▂▂▂▁▁▁▁▂▁</td></tr><tr><td>epoch/false_positives</td><td>█▁▁▃▁▁▁▁▂▂</td></tr><tr><td>epoch/learning_rate</td><td>▁▁▁▁▁▁▁▁▁▁</td></tr><tr><td>epoch/loss</td><td>█▆▅▄▃▂▂▂▁▁</td></tr><tr><td>epoch/precision</td><td>▁▇▇▆████▇▇</td></tr><tr><td>epoch/recall</td><td>▁▇▇▇██▇█▇█</td></tr><tr><td>epoch/true_negatives</td><td>▁▆▆▁█▇▇▇▅▃</td></tr><tr><td>epoch/true_positives</td><td>▆▁▃▃▆█▅▆▄▆</td></tr><tr><td>epoch/val_auc</td><td>▄▆▅▇██▇█▁▇</td></tr><tr><td>epoch/val_binary_accuracy</td><td>▁▅▅▃▁▂▂▂█▁</td></tr><tr><td>epoch/val_false_negatives</td><td>▁▃▃▂▁▁▁▁█▁</td></tr><tr><td>epoch/val_false_positives</td><td>█▄▅▇██▇▇▁█</td></tr><tr><td>epoch/val_loss</td><td>█▄▃▃▃▃▂▁▂▃</td></tr><tr><td>epoch/val_precision</td><td>▁▄▃▂▁▁▂▁█▁</td></tr><tr><td>epoch/val_recall</td><td>█▆▆▇████▁█</td></tr><tr><td>epoch/val_true_negatives</td><td>▁▅▄▂▁▁▂▂█▁</td></tr><tr><td>epoch/val_true_positives</td><td>█▆▆▇████▁█</td></tr><tr><td>val_binary_accuracy</td><td>▁</td></tr></table><br/></div><div class=\"wandb-col\"><h3>Run summary:</h3><br/><table class=\"wandb\"><tr><td>epoch/auc</td><td>0.86206</td></tr><tr><td>epoch/binary_accuracy</td><td>0.76508</td></tr><tr><td>epoch/epoch</td><td>9</td></tr><tr><td>epoch/false_negatives</td><td>807</td></tr><tr><td>epoch/false_positives</td><td>4372</td></tr><tr><td>epoch/learning_rate</td><td>0.00205</td></tr><tr><td>epoch/loss</td><td>0.73923</td></tr><tr><td>epoch/precision</td><td>0.70034</td></tr><tr><td>epoch/recall</td><td>0.9268</td></tr><tr><td>epoch/true_negatives</td><td>6649</td></tr><tr><td>epoch/true_positives</td><td>10218</td></tr><tr><td>epoch/val_auc</td><td>0.94376</td></tr><tr><td>epoch/val_binary_accuracy</td><td>0.51107</td></tr><tr><td>epoch/val_false_negatives</td><td>0</td></tr><tr><td>epoch/val_false_positives</td><td>1347</td></tr><tr><td>epoch/val_loss</td><td>0.82318</td></tr><tr><td>epoch/val_precision</td><td>0.50821</td></tr><tr><td>epoch/val_recall</td><td>1</td></tr><tr><td>epoch/val_true_negatives</td><td>16</td></tr><tr><td>epoch/val_true_positives</td><td>1392</td></tr><tr><td>val_binary_accuracy</td><td>0.51107</td></tr></table><br/></div></div>"
      ],
      "text/plain": [
       "<IPython.core.display.HTML object>"
      ]
     },
     "metadata": {},
     "output_type": "display_data"
    },
    {
     "data": {
      "text/html": [
       " View run <strong style=\"color:#cdcd00\">Run-HP-Tune</strong> at: <a href='https://wandb.ai/amanjn2003-santa-clara-university/Malaria-Detection-HP-Tune/runs/dxn4sxs9' target=\"_blank\">https://wandb.ai/amanjn2003-santa-clara-university/Malaria-Detection-HP-Tune/runs/dxn4sxs9</a><br> View project at: <a href='https://wandb.ai/amanjn2003-santa-clara-university/Malaria-Detection-HP-Tune' target=\"_blank\">https://wandb.ai/amanjn2003-santa-clara-university/Malaria-Detection-HP-Tune</a><br>Synced 5 W&B file(s), 0 media file(s), 20 artifact file(s) and 0 other file(s)"
      ],
      "text/plain": [
       "<IPython.core.display.HTML object>"
      ]
     },
     "metadata": {},
     "output_type": "display_data"
    },
    {
     "data": {
      "text/html": [
       "Find logs at: <code>./wandb/run-20250127_135601-dxn4sxs9/logs</code>"
      ],
      "text/plain": [
       "<IPython.core.display.HTML object>"
      ]
     },
     "metadata": {},
     "output_type": "display_data"
    },
    {
     "name": "stderr",
     "output_type": "stream",
     "text": [
      "\u001b[34m\u001b[1mwandb\u001b[0m: Agent Starting Run: 0nn9hvsk with config:\n",
      "\u001b[34m\u001b[1mwandb\u001b[0m: \tDROPOUT_RATE: 0.11283250660338404\n",
      "\u001b[34m\u001b[1mwandb\u001b[0m: \tLEARNING_RATE: 0.0519058854406982\n",
      "\u001b[34m\u001b[1mwandb\u001b[0m: \tN_DENSE_1: 128\n",
      "\u001b[34m\u001b[1mwandb\u001b[0m: \tN_DENSE_2: 128\n",
      "\u001b[34m\u001b[1mwandb\u001b[0m: \tREGULARIZATION_RATE: 0.023089747116721474\n"
     ]
    },
    {
     "data": {
      "text/html": [
       "Ignoring project 'Malaria-Detection' when running a sweep."
      ],
      "text/plain": [
       "<IPython.core.display.HTML object>"
      ]
     },
     "metadata": {},
     "output_type": "display_data"
    },
    {
     "data": {
      "text/html": [
       "Ignoring entity 'amanjn2003-santa-clara-university' when running a sweep."
      ],
      "text/plain": [
       "<IPython.core.display.HTML object>"
      ]
     },
     "metadata": {},
     "output_type": "display_data"
    },
    {
     "data": {
      "text/html": [
       "Tracking run with wandb version 0.19.4"
      ],
      "text/plain": [
       "<IPython.core.display.HTML object>"
      ]
     },
     "metadata": {},
     "output_type": "display_data"
    },
    {
     "data": {
      "text/html": [
       "Run data is saved locally in <code>/Users/aman/Documents/Work/Machine Learning/Computer-Vision-TensorFlow/Weights&Biases-Integration/wandb/run-20250127_140143-0nn9hvsk</code>"
      ],
      "text/plain": [
       "<IPython.core.display.HTML object>"
      ]
     },
     "metadata": {},
     "output_type": "display_data"
    },
    {
     "data": {
      "text/html": [
       "Syncing run <strong><a href='https://wandb.ai/amanjn2003-santa-clara-university/Malaria-Detection-HP-Tune/runs/0nn9hvsk' target=\"_blank\">Run-HP-Tune</a></strong> to <a href='https://wandb.ai/amanjn2003-santa-clara-university/Malaria-Detection-HP-Tune' target=\"_blank\">Weights & Biases</a> (<a href='https://wandb.me/developer-guide' target=\"_blank\">docs</a>)<br>Sweep page: <a href='https://wandb.ai/amanjn2003-santa-clara-university/Malaria-Detection-HP-Tune/sweeps/sisjf06a' target=\"_blank\">https://wandb.ai/amanjn2003-santa-clara-university/Malaria-Detection-HP-Tune/sweeps/sisjf06a</a>"
      ],
      "text/plain": [
       "<IPython.core.display.HTML object>"
      ]
     },
     "metadata": {},
     "output_type": "display_data"
    },
    {
     "data": {
      "text/html": [
       " View project at <a href='https://wandb.ai/amanjn2003-santa-clara-university/Malaria-Detection-HP-Tune' target=\"_blank\">https://wandb.ai/amanjn2003-santa-clara-university/Malaria-Detection-HP-Tune</a>"
      ],
      "text/plain": [
       "<IPython.core.display.HTML object>"
      ]
     },
     "metadata": {},
     "output_type": "display_data"
    },
    {
     "data": {
      "text/html": [
       " View sweep at <a href='https://wandb.ai/amanjn2003-santa-clara-university/Malaria-Detection-HP-Tune/sweeps/sisjf06a' target=\"_blank\">https://wandb.ai/amanjn2003-santa-clara-university/Malaria-Detection-HP-Tune/sweeps/sisjf06a</a>"
      ],
      "text/plain": [
       "<IPython.core.display.HTML object>"
      ]
     },
     "metadata": {},
     "output_type": "display_data"
    },
    {
     "data": {
      "text/html": [
       " View run at <a href='https://wandb.ai/amanjn2003-santa-clara-university/Malaria-Detection-HP-Tune/runs/0nn9hvsk' target=\"_blank\">https://wandb.ai/amanjn2003-santa-clara-university/Malaria-Detection-HP-Tune/runs/0nn9hvsk</a>"
      ],
      "text/plain": [
       "<IPython.core.display.HTML object>"
      ]
     },
     "metadata": {},
     "output_type": "display_data"
    },
    {
     "name": "stdout",
     "output_type": "stream",
     "text": [
      "Epoch 1/10\n",
      "\u001b[1m689/689\u001b[0m \u001b[32m━━━━━━━━━━━━━━━━━━━━\u001b[0m\u001b[37m\u001b[0m \u001b[1m36s\u001b[0m 49ms/step - auc: 0.5896 - binary_accuracy: 0.5248 - false_negatives: 2669.3376 - false_positives: 3896.7158 - loss: 8.5534 - precision: 0.5223 - recall: 0.6522 - true_negatives: 2984.8420 - true_positives: 4260.0522 - val_auc: 0.6066 - val_binary_accuracy: 0.5619 - val_false_negatives: 338.0000 - val_false_positives: 869.0000 - val_loss: 1.1327 - val_precision: 0.5495 - val_recall: 0.7582 - val_true_negatives: 488.0000 - val_true_positives: 1060.0000\n",
      "Epoch 2/10\n",
      "\u001b[1m689/689\u001b[0m \u001b[32m━━━━━━━━━━━━━━━━━━━━\u001b[0m\u001b[37m\u001b[0m \u001b[1m33s\u001b[0m 48ms/step - auc: 0.5140 - binary_accuracy: 0.5110 - false_negatives: 2742.9246 - false_positives: 2651.6174 - loss: 1.3460 - precision: 0.5143 - recall: 0.5112 - true_negatives: 2867.1233 - true_positives: 2794.2827 - val_auc: 0.5141 - val_binary_accuracy: 0.4933 - val_false_negatives: 1396.0000 - val_false_positives: 0.0000e+00 - val_loss: 1.2507 - val_precision: 0.0000e+00 - val_recall: 0.0000e+00 - val_true_negatives: 1359.0000 - val_true_positives: 0.0000e+00\n",
      "Epoch 3/10\n",
      "\u001b[1m689/689\u001b[0m \u001b[32m━━━━━━━━━━━━━━━━━━━━\u001b[0m\u001b[37m\u001b[0m \u001b[1m34s\u001b[0m 49ms/step - auc: 0.5162 - binary_accuracy: 0.5078 - false_negatives: 2657.8782 - false_positives: 2753.4231 - loss: 1.9172 - precision: 0.5105 - recall: 0.5196 - true_negatives: 2765.2798 - true_positives: 2879.3667 - val_auc: 0.5000 - val_binary_accuracy: 0.4947 - val_false_negatives: 1392.0000 - val_false_positives: 0.0000e+00 - val_loss: 0.7266 - val_precision: 0.0000e+00 - val_recall: 0.0000e+00 - val_true_negatives: 1363.0000 - val_true_positives: 0.0000e+00\n",
      "Epoch 4/10\n",
      "\u001b[1m689/689\u001b[0m \u001b[32m━━━━━━━━━━━━━━━━━━━━\u001b[0m\u001b[37m\u001b[0m \u001b[1m34s\u001b[0m 49ms/step - auc: 0.5016 - binary_accuracy: 0.4987 - false_negatives: 2718.7927 - false_positives: 2820.9595 - loss: 0.7486 - precision: 0.5011 - recall: 0.5153 - true_negatives: 2697.8943 - true_positives: 2818.3015 - val_auc: 0.5000 - val_binary_accuracy: 0.4947 - val_false_negatives: 1392.0000 - val_false_positives: 0.0000e+00 - val_loss: 0.7308 - val_precision: 0.0000e+00 - val_recall: 0.0000e+00 - val_true_negatives: 1363.0000 - val_true_positives: 0.0000e+00\n",
      "Epoch 5/10\n",
      "\u001b[1m689/689\u001b[0m \u001b[32m━━━━━━━━━━━━━━━━━━━━\u001b[0m\u001b[37m\u001b[0m \u001b[1m34s\u001b[0m 49ms/step - auc: 0.5005 - binary_accuracy: 0.4988 - false_negatives: 2919.9102 - false_positives: 2601.2913 - loss: 0.7562 - precision: 0.5016 - recall: 0.4897 - true_negatives: 2917.4204 - true_positives: 2617.3262 - val_auc: 0.5000 - val_binary_accuracy: 0.4966 - val_false_negatives: 1387.0000 - val_false_positives: 0.0000e+00 - val_loss: 0.7553 - val_precision: 0.0000e+00 - val_recall: 0.0000e+00 - val_true_negatives: 1368.0000 - val_true_positives: 0.0000e+00\n",
      "Epoch 6/10\n",
      "\u001b[1m689/689\u001b[0m \u001b[32m━━━━━━━━━━━━━━━━━━━━\u001b[0m\u001b[37m\u001b[0m \u001b[1m34s\u001b[0m 49ms/step - auc: 0.5017 - binary_accuracy: 0.5040 - false_negatives: 2941.6941 - false_positives: 2560.1609 - loss: 0.7920 - precision: 0.5093 - recall: 0.4763 - true_negatives: 2958.5376 - true_positives: 2595.5552 - val_auc: 0.5000 - val_binary_accuracy: 0.4947 - val_false_negatives: 1392.0000 - val_false_positives: 0.0000e+00 - val_loss: 5.5785 - val_precision: 0.0000e+00 - val_recall: 0.0000e+00 - val_true_negatives: 1363.0000 - val_true_positives: 0.0000e+00\n",
      "Epoch 7/10\n",
      "\u001b[1m689/689\u001b[0m \u001b[32m━━━━━━━━━━━━━━━━━━━━\u001b[0m\u001b[37m\u001b[0m \u001b[1m34s\u001b[0m 49ms/step - auc: 0.4957 - binary_accuracy: 0.4979 - false_negatives: 2756.5854 - false_positives: 2787.3811 - loss: 0.8136 - precision: 0.5012 - recall: 0.5186 - true_negatives: 2731.3420 - true_positives: 2780.6392 - val_auc: 0.5000 - val_binary_accuracy: 0.4929 - val_false_negatives: 1397.0000 - val_false_positives: 0.0000e+00 - val_loss: 1.8799 - val_precision: 0.0000e+00 - val_recall: 0.0000e+00 - val_true_negatives: 1358.0000 - val_true_positives: 0.0000e+00\n",
      "Epoch 8/10\n",
      "\u001b[1m689/689\u001b[0m \u001b[32m━━━━━━━━━━━━━━━━━━━━\u001b[0m\u001b[37m\u001b[0m \u001b[1m34s\u001b[0m 49ms/step - auc: 0.5012 - binary_accuracy: 0.5024 - false_negatives: 2622.1724 - false_positives: 2883.5537 - loss: 0.8102 - precision: 0.5050 - recall: 0.5481 - true_negatives: 2635.2202 - true_positives: 2915.0015 - val_auc: 0.5000 - val_binary_accuracy: 0.4947 - val_false_negatives: 1392.0000 - val_false_positives: 0.0000e+00 - val_loss: 1.7032 - val_precision: 0.0000e+00 - val_recall: 0.0000e+00 - val_true_negatives: 1363.0000 - val_true_positives: 0.0000e+00\n",
      "Epoch 9/10\n",
      "\u001b[1m689/689\u001b[0m \u001b[32m━━━━━━━━━━━━━━━━━━━━\u001b[0m\u001b[37m\u001b[0m \u001b[1m34s\u001b[0m 49ms/step - auc: 0.4946 - binary_accuracy: 0.4936 - false_negatives: 2711.6174 - false_positives: 2873.4407 - loss: 0.8135 - precision: 0.4967 - recall: 0.5290 - true_negatives: 2645.3826 - true_positives: 2825.5073 - val_auc: 0.5000 - val_binary_accuracy: 0.5064 - val_false_negatives: 0.0000e+00 - val_false_positives: 1360.0000 - val_loss: 15.6900 - val_precision: 0.5064 - val_recall: 1.0000 - val_true_negatives: 0.0000e+00 - val_true_positives: 1395.0000\n",
      "Epoch 10/10\n",
      "\u001b[1m689/689\u001b[0m \u001b[32m━━━━━━━━━━━━━━━━━━━━\u001b[0m\u001b[37m\u001b[0m \u001b[1m34s\u001b[0m 49ms/step - auc: 0.5045 - binary_accuracy: 0.5054 - false_negatives: 2742.5928 - false_positives: 2754.3943 - loss: 0.8426 - precision: 0.5091 - recall: 0.5166 - true_negatives: 2764.3115 - true_positives: 2794.6492 - val_auc: 0.5000 - val_binary_accuracy: 0.5067 - val_false_negatives: 0.0000e+00 - val_false_positives: 1359.0000 - val_loss: 67.9894 - val_precision: 0.5067 - val_recall: 1.0000 - val_true_negatives: 0.0000e+00 - val_true_positives: 1396.0000\n"
     ]
    },
    {
     "data": {
      "text/html": [],
      "text/plain": [
       "<IPython.core.display.HTML object>"
      ]
     },
     "metadata": {},
     "output_type": "display_data"
    },
    {
     "data": {
      "text/html": [
       "<br>    <style><br>        .wandb-row {<br>            display: flex;<br>            flex-direction: row;<br>            flex-wrap: wrap;<br>            justify-content: flex-start;<br>            width: 100%;<br>        }<br>        .wandb-col {<br>            display: flex;<br>            flex-direction: column;<br>            flex-basis: 100%;<br>            flex: 1;<br>            padding: 10px;<br>        }<br>    </style><br><div class=\"wandb-row\"><div class=\"wandb-col\"><h3>Run history:</h3><br/><table class=\"wandb\"><tr><td>epoch/auc</td><td>█▄▄▂▂▂▂▂▁▂</td></tr><tr><td>epoch/binary_accuracy</td><td>█▅▅▂▂▃▂▂▁▃</td></tr><tr><td>epoch/epoch</td><td>▁▂▃▃▄▅▆▆▇█</td></tr><tr><td>epoch/false_negatives</td><td>▂▃▃▄▇█▅▁▄▅</td></tr><tr><td>epoch/false_positives</td><td>█▂▃▃▁▁▃▄▄▃</td></tr><tr><td>epoch/learning_rate</td><td>▁▁▁▁▁▁▁▁▁▁</td></tr><tr><td>epoch/loss</td><td>█▃▆▁▁▁▁▁▁▁</td></tr><tr><td>epoch/precision</td><td>█▆▅▂▂▃▂▂▁▃</td></tr><tr><td>epoch/recall</td><td>█▄▄▃▁▁▃▅▃▃</td></tr><tr><td>epoch/true_negatives</td><td>▇▆▄▄▇█▅▁▃▅</td></tr><tr><td>epoch/true_positives</td><td>█▃▃▂▁▁▂▃▂▂</td></tr><tr><td>epoch/val_auc</td><td>█▂▁▁▁▁▁▁▁▁</td></tr><tr><td>epoch/val_binary_accuracy</td><td>█▁▁▁▁▁▁▁▂▂</td></tr><tr><td>epoch/val_false_negatives</td><td>▃███████▁▁</td></tr><tr><td>epoch/val_false_positives</td><td>▅▁▁▁▁▁▁▁██</td></tr><tr><td>epoch/val_loss</td><td>▁▁▁▁▁▂▁▁▃█</td></tr><tr><td>epoch/val_precision</td><td>█▁▁▁▁▁▁▁▇▇</td></tr><tr><td>epoch/val_recall</td><td>▆▁▁▁▁▁▁▁██</td></tr><tr><td>epoch/val_true_negatives</td><td>▃███████▁▁</td></tr><tr><td>epoch/val_true_positives</td><td>▆▁▁▁▁▁▁▁██</td></tr><tr><td>val_binary_accuracy</td><td>▁</td></tr></table><br/></div><div class=\"wandb-col\"><h3>Run summary:</h3><br/><table class=\"wandb\"><tr><td>epoch/auc</td><td>0.50126</td></tr><tr><td>epoch/binary_accuracy</td><td>0.50313</td></tr><tr><td>epoch/epoch</td><td>9</td></tr><tr><td>epoch/false_negatives</td><td>5556</td></tr><tr><td>epoch/false_positives</td><td>5398</td></tr><tr><td>epoch/learning_rate</td><td>0.05191</td></tr><tr><td>epoch/loss</td><td>0.83649</td></tr><tr><td>epoch/precision</td><td>0.50327</td></tr><tr><td>epoch/recall</td><td>0.49605</td></tr><tr><td>epoch/true_negatives</td><td>5623</td></tr><tr><td>epoch/true_positives</td><td>5469</td></tr><tr><td>epoch/val_auc</td><td>0.5</td></tr><tr><td>epoch/val_binary_accuracy</td><td>0.50672</td></tr><tr><td>epoch/val_false_negatives</td><td>0</td></tr><tr><td>epoch/val_false_positives</td><td>1359</td></tr><tr><td>epoch/val_loss</td><td>67.98936</td></tr><tr><td>epoch/val_precision</td><td>0.50672</td></tr><tr><td>epoch/val_recall</td><td>1</td></tr><tr><td>epoch/val_true_negatives</td><td>0</td></tr><tr><td>epoch/val_true_positives</td><td>1396</td></tr><tr><td>val_binary_accuracy</td><td>0.50672</td></tr></table><br/></div></div>"
      ],
      "text/plain": [
       "<IPython.core.display.HTML object>"
      ]
     },
     "metadata": {},
     "output_type": "display_data"
    },
    {
     "data": {
      "text/html": [
       " View run <strong style=\"color:#cdcd00\">Run-HP-Tune</strong> at: <a href='https://wandb.ai/amanjn2003-santa-clara-university/Malaria-Detection-HP-Tune/runs/0nn9hvsk' target=\"_blank\">https://wandb.ai/amanjn2003-santa-clara-university/Malaria-Detection-HP-Tune/runs/0nn9hvsk</a><br> View project at: <a href='https://wandb.ai/amanjn2003-santa-clara-university/Malaria-Detection-HP-Tune' target=\"_blank\">https://wandb.ai/amanjn2003-santa-clara-university/Malaria-Detection-HP-Tune</a><br>Synced 5 W&B file(s), 0 media file(s), 20 artifact file(s) and 0 other file(s)"
      ],
      "text/plain": [
       "<IPython.core.display.HTML object>"
      ]
     },
     "metadata": {},
     "output_type": "display_data"
    },
    {
     "data": {
      "text/html": [
       "Find logs at: <code>./wandb/run-20250127_140143-0nn9hvsk/logs</code>"
      ],
      "text/plain": [
       "<IPython.core.display.HTML object>"
      ]
     },
     "metadata": {},
     "output_type": "display_data"
    },
    {
     "name": "stderr",
     "output_type": "stream",
     "text": [
      "\u001b[34m\u001b[1mwandb\u001b[0m: Agent Starting Run: iqdhm2ur with config:\n",
      "\u001b[34m\u001b[1mwandb\u001b[0m: \tDROPOUT_RATE: 0.3343222277420814\n",
      "\u001b[34m\u001b[1mwandb\u001b[0m: \tLEARNING_RATE: 0.007568231140673592\n",
      "\u001b[34m\u001b[1mwandb\u001b[0m: \tN_DENSE_1: 32\n",
      "\u001b[34m\u001b[1mwandb\u001b[0m: \tN_DENSE_2: 128\n",
      "\u001b[34m\u001b[1mwandb\u001b[0m: \tREGULARIZATION_RATE: 0.009880035225435744\n"
     ]
    },
    {
     "data": {
      "text/html": [
       "Ignoring project 'Malaria-Detection' when running a sweep."
      ],
      "text/plain": [
       "<IPython.core.display.HTML object>"
      ]
     },
     "metadata": {},
     "output_type": "display_data"
    },
    {
     "data": {
      "text/html": [
       "Ignoring entity 'amanjn2003-santa-clara-university' when running a sweep."
      ],
      "text/plain": [
       "<IPython.core.display.HTML object>"
      ]
     },
     "metadata": {},
     "output_type": "display_data"
    },
    {
     "data": {
      "text/html": [
       "Tracking run with wandb version 0.19.4"
      ],
      "text/plain": [
       "<IPython.core.display.HTML object>"
      ]
     },
     "metadata": {},
     "output_type": "display_data"
    },
    {
     "data": {
      "text/html": [
       "Run data is saved locally in <code>/Users/aman/Documents/Work/Machine Learning/Computer-Vision-TensorFlow/Weights&Biases-Integration/wandb/run-20250127_140737-iqdhm2ur</code>"
      ],
      "text/plain": [
       "<IPython.core.display.HTML object>"
      ]
     },
     "metadata": {},
     "output_type": "display_data"
    },
    {
     "data": {
      "text/html": [
       "Syncing run <strong><a href='https://wandb.ai/amanjn2003-santa-clara-university/Malaria-Detection-HP-Tune/runs/iqdhm2ur' target=\"_blank\">Run-HP-Tune</a></strong> to <a href='https://wandb.ai/amanjn2003-santa-clara-university/Malaria-Detection-HP-Tune' target=\"_blank\">Weights & Biases</a> (<a href='https://wandb.me/developer-guide' target=\"_blank\">docs</a>)<br>Sweep page: <a href='https://wandb.ai/amanjn2003-santa-clara-university/Malaria-Detection-HP-Tune/sweeps/sisjf06a' target=\"_blank\">https://wandb.ai/amanjn2003-santa-clara-university/Malaria-Detection-HP-Tune/sweeps/sisjf06a</a>"
      ],
      "text/plain": [
       "<IPython.core.display.HTML object>"
      ]
     },
     "metadata": {},
     "output_type": "display_data"
    },
    {
     "data": {
      "text/html": [
       " View project at <a href='https://wandb.ai/amanjn2003-santa-clara-university/Malaria-Detection-HP-Tune' target=\"_blank\">https://wandb.ai/amanjn2003-santa-clara-university/Malaria-Detection-HP-Tune</a>"
      ],
      "text/plain": [
       "<IPython.core.display.HTML object>"
      ]
     },
     "metadata": {},
     "output_type": "display_data"
    },
    {
     "data": {
      "text/html": [
       " View sweep at <a href='https://wandb.ai/amanjn2003-santa-clara-university/Malaria-Detection-HP-Tune/sweeps/sisjf06a' target=\"_blank\">https://wandb.ai/amanjn2003-santa-clara-university/Malaria-Detection-HP-Tune/sweeps/sisjf06a</a>"
      ],
      "text/plain": [
       "<IPython.core.display.HTML object>"
      ]
     },
     "metadata": {},
     "output_type": "display_data"
    },
    {
     "data": {
      "text/html": [
       " View run at <a href='https://wandb.ai/amanjn2003-santa-clara-university/Malaria-Detection-HP-Tune/runs/iqdhm2ur' target=\"_blank\">https://wandb.ai/amanjn2003-santa-clara-university/Malaria-Detection-HP-Tune/runs/iqdhm2ur</a>"
      ],
      "text/plain": [
       "<IPython.core.display.HTML object>"
      ]
     },
     "metadata": {},
     "output_type": "display_data"
    },
    {
     "name": "stdout",
     "output_type": "stream",
     "text": [
      "Epoch 1/10\n",
      "\u001b[1m689/689\u001b[0m \u001b[32m━━━━━━━━━━━━━━━━━━━━\u001b[0m\u001b[37m\u001b[0m \u001b[1m36s\u001b[0m 48ms/step - auc: 0.5855 - binary_accuracy: 0.5823 - false_negatives: 2031.3406 - false_positives: 3623.2463 - loss: 1.3397 - precision: 0.5682 - recall: 0.7335 - true_negatives: 3254.5667 - true_positives: 4901.7944 - val_auc: 0.6669 - val_binary_accuracy: 0.5172 - val_false_negatives: 8.0000 - val_false_positives: 1322.0000 - val_loss: 1.4087 - val_precision: 0.5109 - val_recall: 0.9942 - val_true_negatives: 44.0000 - val_true_positives: 1381.0000\n",
      "Epoch 2/10\n",
      "\u001b[1m689/689\u001b[0m \u001b[32m━━━━━━━━━━━━━━━━━━━━\u001b[0m\u001b[37m\u001b[0m \u001b[1m32s\u001b[0m 47ms/step - auc: 0.6763 - binary_accuracy: 0.6287 - false_negatives: 1836.6754 - false_positives: 2221.6929 - loss: 0.8706 - precision: 0.6252 - recall: 0.6569 - true_negatives: 3297.0103 - true_positives: 3700.5696 - val_auc: 0.5003 - val_binary_accuracy: 0.4936 - val_false_negatives: 1395.0000 - val_false_positives: 0.0000e+00 - val_loss: 5.9048 - val_precision: 0.0000e+00 - val_recall: 0.0000e+00 - val_true_negatives: 1360.0000 - val_true_positives: 0.0000e+00\n",
      "Epoch 3/10\n",
      "\u001b[1m689/689\u001b[0m \u001b[32m━━━━━━━━━━━━━━━━━━━━\u001b[0m\u001b[37m\u001b[0m \u001b[1m32s\u001b[0m 47ms/step - auc: 0.7410 - binary_accuracy: 0.6874 - false_negatives: 814.9014 - false_positives: 2645.1233 - loss: 0.7805 - precision: 0.6422 - recall: 0.8565 - true_negatives: 2873.6797 - true_positives: 4722.2437 - val_auc: 0.6658 - val_binary_accuracy: 0.5064 - val_false_negatives: 0.0000e+00 - val_false_positives: 1360.0000 - val_loss: 0.8964 - val_precision: 0.5064 - val_recall: 1.0000 - val_true_negatives: 0.0000e+00 - val_true_positives: 1395.0000\n",
      "Epoch 4/10\n",
      "\u001b[1m689/689\u001b[0m \u001b[32m━━━━━━━━━━━━━━━━━━━━\u001b[0m\u001b[37m\u001b[0m \u001b[1m32s\u001b[0m 47ms/step - auc: 0.7759 - binary_accuracy: 0.7043 - false_negatives: 623.9464 - false_positives: 2699.2334 - loss: 0.7976 - precision: 0.6508 - recall: 0.8910 - true_negatives: 2819.4102 - true_positives: 4913.3579 - val_auc: 0.5553 - val_binary_accuracy: 0.4933 - val_false_negatives: 1396.0000 - val_false_positives: 0.0000e+00 - val_loss: 3.1111 - val_precision: 0.0000e+00 - val_recall: 0.0000e+00 - val_true_negatives: 1359.0000 - val_true_positives: 0.0000e+00\n",
      "Epoch 5/10\n",
      "\u001b[1m689/689\u001b[0m \u001b[32m━━━━━━━━━━━━━━━━━━━━\u001b[0m\u001b[37m\u001b[0m \u001b[1m32s\u001b[0m 47ms/step - auc: 0.7458 - binary_accuracy: 0.6781 - false_negatives: 622.4957 - false_positives: 2981.9666 - loss: 0.7439 - precision: 0.6270 - recall: 0.8906 - true_negatives: 2536.7769 - true_positives: 4914.7085 - val_auc: 0.8591 - val_binary_accuracy: 0.5118 - val_false_negatives: 3.0000 - val_false_positives: 1342.0000 - val_loss: 0.7931 - val_precision: 0.5079 - val_recall: 0.9978 - val_true_negatives: 25.0000 - val_true_positives: 1385.0000\n",
      "Epoch 6/10\n",
      "\u001b[1m689/689\u001b[0m \u001b[32m━━━━━━━━━━━━━━━━━━━━\u001b[0m\u001b[37m\u001b[0m \u001b[1m32s\u001b[0m 47ms/step - auc: 0.7549 - binary_accuracy: 0.6786 - false_negatives: 693.6246 - false_positives: 2833.8276 - loss: 0.7605 - precision: 0.6297 - recall: 0.8785 - true_negatives: 2684.9927 - true_positives: 4843.5029 - val_auc: 0.8051 - val_binary_accuracy: 0.5103 - val_false_negatives: 0.0000e+00 - val_false_positives: 1349.0000 - val_loss: 0.8221 - val_precision: 0.5087 - val_recall: 1.0000 - val_true_negatives: 9.0000 - val_true_positives: 1397.0000\n",
      "Epoch 7/10\n",
      "\u001b[1m689/689\u001b[0m \u001b[32m━━━━━━━━━━━━━━━━━━━━\u001b[0m\u001b[37m\u001b[0m \u001b[1m32s\u001b[0m 47ms/step - auc: 0.7825 - binary_accuracy: 0.7136 - false_negatives: 588.6406 - false_positives: 2615.9985 - loss: 0.7806 - precision: 0.6579 - recall: 0.8983 - true_negatives: 2902.7319 - true_positives: 4948.5767 - val_auc: 0.5007 - val_binary_accuracy: 0.4929 - val_false_negatives: 1397.0000 - val_false_positives: 0.0000e+00 - val_loss: 5.7758 - val_precision: 0.0000e+00 - val_recall: 0.0000e+00 - val_true_negatives: 1358.0000 - val_true_positives: 0.0000e+00\n",
      "Epoch 8/10\n",
      "\u001b[1m689/689\u001b[0m \u001b[32m━━━━━━━━━━━━━━━━━━━━\u001b[0m\u001b[37m\u001b[0m \u001b[1m32s\u001b[0m 47ms/step - auc: 0.7755 - binary_accuracy: 0.6895 - false_negatives: 605.4768 - false_positives: 2839.7378 - loss: 0.7525 - precision: 0.6369 - recall: 0.8926 - true_negatives: 2678.9753 - true_positives: 4931.7578 - val_auc: 0.8677 - val_binary_accuracy: 0.5074 - val_false_negatives: 0.0000e+00 - val_false_positives: 1357.0000 - val_loss: 0.8254 - val_precision: 0.5073 - val_recall: 1.0000 - val_true_negatives: 1.0000 - val_true_positives: 1397.0000\n",
      "Epoch 9/10\n",
      "\u001b[1m689/689\u001b[0m \u001b[32m━━━━━━━━━━━━━━━━━━━━\u001b[0m\u001b[37m\u001b[0m \u001b[1m32s\u001b[0m 47ms/step - auc: 0.7927 - binary_accuracy: 0.7056 - false_negatives: 560.5493 - false_positives: 2782.7681 - loss: 0.7599 - precision: 0.6488 - recall: 0.9059 - true_negatives: 2735.9507 - true_positives: 4976.6797 - val_auc: 0.8775 - val_binary_accuracy: 0.5318 - val_false_negatives: 47.0000 - val_false_positives: 1243.0000 - val_loss: 0.7817 - val_precision: 0.5188 - val_recall: 0.9661 - val_true_negatives: 125.0000 - val_true_positives: 1340.0000\n",
      "Epoch 10/10\n",
      "\u001b[1m689/689\u001b[0m \u001b[32m━━━━━━━━━━━━━━━━━━━━\u001b[0m\u001b[37m\u001b[0m \u001b[1m32s\u001b[0m 47ms/step - auc: 0.7639 - binary_accuracy: 0.6871 - false_negatives: 666.2304 - false_positives: 2802.4204 - loss: 0.7693 - precision: 0.6362 - recall: 0.8840 - true_negatives: 2716.3115 - true_positives: 4870.9854 - val_auc: 0.7835 - val_binary_accuracy: 0.5147 - val_false_negatives: 7.0000 - val_false_positives: 1330.0000 - val_loss: 0.8324 - val_precision: 0.5107 - val_recall: 0.9950 - val_true_negatives: 30.0000 - val_true_positives: 1388.0000\n"
     ]
    },
    {
     "data": {
      "text/html": [],
      "text/plain": [
       "<IPython.core.display.HTML object>"
      ]
     },
     "metadata": {},
     "output_type": "display_data"
    },
    {
     "data": {
      "text/html": [
       "<br>    <style><br>        .wandb-row {<br>            display: flex;<br>            flex-direction: row;<br>            flex-wrap: wrap;<br>            justify-content: flex-start;<br>            width: 100%;<br>        }<br>        .wandb-col {<br>            display: flex;<br>            flex-direction: column;<br>            flex-basis: 100%;<br>            flex: 1;<br>            padding: 10px;<br>        }<br>    </style><br><div class=\"wandb-row\"><div class=\"wandb-col\"><h3>Run history:</h3><br/><table class=\"wandb\"><tr><td>epoch/auc</td><td>▁▄▆█▇▇███▇</td></tr><tr><td>epoch/binary_accuracy</td><td>▁▄▇█▆▇█▇▇▇</td></tr><tr><td>epoch/epoch</td><td>▁▂▃▃▄▅▆▆▇█</td></tr><tr><td>epoch/false_negatives</td><td>█▆▂▁▁▁▁▁▁▁</td></tr><tr><td>epoch/false_positives</td><td>▇▁▅▅█▆▅▆▆▆</td></tr><tr><td>epoch/learning_rate</td><td>▁▁▁▁▁▁▁▁▁▁</td></tr><tr><td>epoch/loss</td><td>█▄▂▂▁▂▂▁▁▂</td></tr><tr><td>epoch/precision</td><td>▁▆▇▇▅▇█▆▇▆</td></tr><tr><td>epoch/recall</td><td>▁▂▇███████</td></tr><tr><td>epoch/true_negatives</td><td>█▇▄▄▁▃▄▃▃▃</td></tr><tr><td>epoch/true_positives</td><td>▃▁▇██▇████</td></tr><tr><td>epoch/val_auc</td><td>▄▁▄▂█▇▁██▆</td></tr><tr><td>epoch/val_binary_accuracy</td><td>▅▁▃▁▄▄▁▄█▅</td></tr><tr><td>epoch/val_false_negatives</td><td>▁█▁█▁▁█▁▁▁</td></tr><tr><td>epoch/val_false_positives</td><td>█▁█▁██▁█▇█</td></tr><tr><td>epoch/val_loss</td><td>▂█▁▄▁▁█▁▁▁</td></tr><tr><td>epoch/val_precision</td><td>█▁█▁██▁███</td></tr><tr><td>epoch/val_recall</td><td>█▁█▁██▁███</td></tr><tr><td>epoch/val_true_negatives</td><td>▁█▁█▁▁█▁▂▁</td></tr><tr><td>epoch/val_true_positives</td><td>█▁█▁██▁███</td></tr><tr><td>val_binary_accuracy</td><td>▁</td></tr></table><br/></div><div class=\"wandb-col\"><h3>Run summary:</h3><br/><table class=\"wandb\"><tr><td>epoch/auc</td><td>0.75969</td></tr><tr><td>epoch/binary_accuracy</td><td>0.68761</td></tr><tr><td>epoch/epoch</td><td>9</td></tr><tr><td>epoch/false_negatives</td><td>1320</td></tr><tr><td>epoch/false_positives</td><td>5567</td></tr><tr><td>epoch/learning_rate</td><td>0.00757</td></tr><tr><td>epoch/loss</td><td>0.76786</td></tr><tr><td>epoch/precision</td><td>0.63541</td></tr><tr><td>epoch/recall</td><td>0.88024</td></tr><tr><td>epoch/true_negatives</td><td>5457</td></tr><tr><td>epoch/true_positives</td><td>9702</td></tr><tr><td>epoch/val_auc</td><td>0.78348</td></tr><tr><td>epoch/val_binary_accuracy</td><td>0.5147</td></tr><tr><td>epoch/val_false_negatives</td><td>7</td></tr><tr><td>epoch/val_false_positives</td><td>1330</td></tr><tr><td>epoch/val_loss</td><td>0.83237</td></tr><tr><td>epoch/val_precision</td><td>0.51067</td></tr><tr><td>epoch/val_recall</td><td>0.99498</td></tr><tr><td>epoch/val_true_negatives</td><td>30</td></tr><tr><td>epoch/val_true_positives</td><td>1388</td></tr><tr><td>val_binary_accuracy</td><td>0.5147</td></tr></table><br/></div></div>"
      ],
      "text/plain": [
       "<IPython.core.display.HTML object>"
      ]
     },
     "metadata": {},
     "output_type": "display_data"
    },
    {
     "data": {
      "text/html": [
       " View run <strong style=\"color:#cdcd00\">Run-HP-Tune</strong> at: <a href='https://wandb.ai/amanjn2003-santa-clara-university/Malaria-Detection-HP-Tune/runs/iqdhm2ur' target=\"_blank\">https://wandb.ai/amanjn2003-santa-clara-university/Malaria-Detection-HP-Tune/runs/iqdhm2ur</a><br> View project at: <a href='https://wandb.ai/amanjn2003-santa-clara-university/Malaria-Detection-HP-Tune' target=\"_blank\">https://wandb.ai/amanjn2003-santa-clara-university/Malaria-Detection-HP-Tune</a><br>Synced 5 W&B file(s), 0 media file(s), 20 artifact file(s) and 0 other file(s)"
      ],
      "text/plain": [
       "<IPython.core.display.HTML object>"
      ]
     },
     "metadata": {},
     "output_type": "display_data"
    },
    {
     "data": {
      "text/html": [
       "Find logs at: <code>./wandb/run-20250127_140737-iqdhm2ur/logs</code>"
      ],
      "text/plain": [
       "<IPython.core.display.HTML object>"
      ]
     },
     "metadata": {},
     "output_type": "display_data"
    },
    {
     "name": "stderr",
     "output_type": "stream",
     "text": [
      "\u001b[34m\u001b[1mwandb\u001b[0m: Agent Starting Run: wwdbx3tw with config:\n",
      "\u001b[34m\u001b[1mwandb\u001b[0m: \tDROPOUT_RATE: 0.34946628319580914\n",
      "\u001b[34m\u001b[1mwandb\u001b[0m: \tLEARNING_RATE: 0.07315149104906594\n",
      "\u001b[34m\u001b[1mwandb\u001b[0m: \tN_DENSE_1: 16\n",
      "\u001b[34m\u001b[1mwandb\u001b[0m: \tN_DENSE_2: 16\n",
      "\u001b[34m\u001b[1mwandb\u001b[0m: \tREGULARIZATION_RATE: 0.08357004984686964\n"
     ]
    },
    {
     "data": {
      "text/html": [
       "Ignoring project 'Malaria-Detection' when running a sweep."
      ],
      "text/plain": [
       "<IPython.core.display.HTML object>"
      ]
     },
     "metadata": {},
     "output_type": "display_data"
    },
    {
     "data": {
      "text/html": [
       "Ignoring entity 'amanjn2003-santa-clara-university' when running a sweep."
      ],
      "text/plain": [
       "<IPython.core.display.HTML object>"
      ]
     },
     "metadata": {},
     "output_type": "display_data"
    },
    {
     "data": {
      "text/html": [
       "Tracking run with wandb version 0.19.4"
      ],
      "text/plain": [
       "<IPython.core.display.HTML object>"
      ]
     },
     "metadata": {},
     "output_type": "display_data"
    },
    {
     "data": {
      "text/html": [
       "Run data is saved locally in <code>/Users/aman/Documents/Work/Machine Learning/Computer-Vision-TensorFlow/Weights&Biases-Integration/wandb/run-20250127_141313-wwdbx3tw</code>"
      ],
      "text/plain": [
       "<IPython.core.display.HTML object>"
      ]
     },
     "metadata": {},
     "output_type": "display_data"
    },
    {
     "data": {
      "text/html": [
       "Syncing run <strong><a href='https://wandb.ai/amanjn2003-santa-clara-university/Malaria-Detection-HP-Tune/runs/wwdbx3tw' target=\"_blank\">Run-HP-Tune</a></strong> to <a href='https://wandb.ai/amanjn2003-santa-clara-university/Malaria-Detection-HP-Tune' target=\"_blank\">Weights & Biases</a> (<a href='https://wandb.me/developer-guide' target=\"_blank\">docs</a>)<br>Sweep page: <a href='https://wandb.ai/amanjn2003-santa-clara-university/Malaria-Detection-HP-Tune/sweeps/sisjf06a' target=\"_blank\">https://wandb.ai/amanjn2003-santa-clara-university/Malaria-Detection-HP-Tune/sweeps/sisjf06a</a>"
      ],
      "text/plain": [
       "<IPython.core.display.HTML object>"
      ]
     },
     "metadata": {},
     "output_type": "display_data"
    },
    {
     "data": {
      "text/html": [
       " View project at <a href='https://wandb.ai/amanjn2003-santa-clara-university/Malaria-Detection-HP-Tune' target=\"_blank\">https://wandb.ai/amanjn2003-santa-clara-university/Malaria-Detection-HP-Tune</a>"
      ],
      "text/plain": [
       "<IPython.core.display.HTML object>"
      ]
     },
     "metadata": {},
     "output_type": "display_data"
    },
    {
     "data": {
      "text/html": [
       " View sweep at <a href='https://wandb.ai/amanjn2003-santa-clara-university/Malaria-Detection-HP-Tune/sweeps/sisjf06a' target=\"_blank\">https://wandb.ai/amanjn2003-santa-clara-university/Malaria-Detection-HP-Tune/sweeps/sisjf06a</a>"
      ],
      "text/plain": [
       "<IPython.core.display.HTML object>"
      ]
     },
     "metadata": {},
     "output_type": "display_data"
    },
    {
     "data": {
      "text/html": [
       " View run at <a href='https://wandb.ai/amanjn2003-santa-clara-university/Malaria-Detection-HP-Tune/runs/wwdbx3tw' target=\"_blank\">https://wandb.ai/amanjn2003-santa-clara-university/Malaria-Detection-HP-Tune/runs/wwdbx3tw</a>"
      ],
      "text/plain": [
       "<IPython.core.display.HTML object>"
      ]
     },
     "metadata": {},
     "output_type": "display_data"
    },
    {
     "name": "stdout",
     "output_type": "stream",
     "text": [
      "Epoch 1/10\n",
      "\u001b[1m689/689\u001b[0m \u001b[32m━━━━━━━━━━━━━━━━━━━━\u001b[0m\u001b[37m\u001b[0m \u001b[1m35s\u001b[0m 47ms/step - auc: 0.5449 - binary_accuracy: 0.5105 - false_negatives: 2837.0928 - false_positives: 3935.8174 - loss: 5.4552 - precision: 0.5108 - recall: 0.6292 - true_negatives: 2942.9941 - true_positives: 4095.0435 - val_auc: 0.5399 - val_binary_accuracy: 0.5053 - val_false_negatives: 0.0000e+00 - val_false_positives: 1363.0000 - val_loss: 0.9671 - val_precision: 0.5053 - val_recall: 1.0000 - val_true_negatives: 0.0000e+00 - val_true_positives: 1392.0000\n",
      "Epoch 2/10\n",
      "\u001b[1m689/689\u001b[0m \u001b[32m━━━━━━━━━━━━━━━━━━━━\u001b[0m\u001b[37m\u001b[0m \u001b[1m32s\u001b[0m 46ms/step - auc: 0.5001 - binary_accuracy: 0.4992 - false_negatives: 2659.1160 - false_positives: 2875.4565 - loss: 0.8659 - precision: 0.5023 - recall: 0.5277 - true_negatives: 2643.2725 - true_positives: 2878.1028 - val_auc: 0.4208 - val_binary_accuracy: 0.4947 - val_false_negatives: 1392.0000 - val_false_positives: 0.0000e+00 - val_loss: 0.7971 - val_precision: 0.0000e+00 - val_recall: 0.0000e+00 - val_true_negatives: 1363.0000 - val_true_positives: 0.0000e+00\n",
      "Epoch 3/10\n",
      "\u001b[1m689/689\u001b[0m \u001b[32m━━━━━━━━━━━━━━━━━━━━\u001b[0m\u001b[37m\u001b[0m \u001b[1m32s\u001b[0m 46ms/step - auc: 0.5046 - binary_accuracy: 0.5026 - false_negatives: 2718.1985 - false_positives: 2782.0015 - loss: 0.9390 - precision: 0.4998 - recall: 0.5154 - true_negatives: 2736.6885 - true_positives: 2819.0593 - val_auc: 0.5000 - val_binary_accuracy: 0.4936 - val_false_negatives: 1395.0000 - val_false_positives: 0.0000e+00 - val_loss: 0.8027 - val_precision: 0.0000e+00 - val_recall: 0.0000e+00 - val_true_negatives: 1360.0000 - val_true_positives: 0.0000e+00\n",
      "Epoch 4/10\n",
      "\u001b[1m689/689\u001b[0m \u001b[32m━━━━━━━━━━━━━━━━━━━━\u001b[0m\u001b[37m\u001b[0m \u001b[1m32s\u001b[0m 46ms/step - auc: 0.5063 - binary_accuracy: 0.5061 - false_negatives: 2610.4753 - false_positives: 2889.2666 - loss: 0.8728 - precision: 0.5104 - recall: 0.5220 - true_negatives: 2629.5305 - true_positives: 2926.6753 - val_auc: 0.4782 - val_binary_accuracy: 0.5053 - val_false_negatives: 0.0000e+00 - val_false_positives: 1363.0000 - val_loss: 0.8595 - val_precision: 0.5053 - val_recall: 1.0000 - val_true_negatives: 0.0000e+00 - val_true_positives: 1392.0000\n",
      "Epoch 5/10\n",
      "\u001b[1m689/689\u001b[0m \u001b[32m━━━━━━━━━━━━━━━━━━━━\u001b[0m\u001b[37m\u001b[0m \u001b[1m32s\u001b[0m 46ms/step - auc: 0.5089 - binary_accuracy: 0.5066 - false_negatives: 2686.9014 - false_positives: 2791.8303 - loss: 1.0813 - precision: 0.5090 - recall: 0.5326 - true_negatives: 2727.0247 - true_positives: 2850.1914 - val_auc: 0.5000 - val_binary_accuracy: 0.4966 - val_false_negatives: 1387.0000 - val_false_positives: 0.0000e+00 - val_loss: 0.7643 - val_precision: 0.0000e+00 - val_recall: 0.0000e+00 - val_true_negatives: 1368.0000 - val_true_positives: 0.0000e+00\n",
      "Epoch 6/10\n",
      "\u001b[1m689/689\u001b[0m \u001b[32m━━━━━━━━━━━━━━━━━━━━\u001b[0m\u001b[37m\u001b[0m \u001b[1m32s\u001b[0m 46ms/step - auc: 0.4988 - binary_accuracy: 0.5000 - false_negatives: 2908.0652 - false_positives: 2643.3958 - loss: 0.7699 - precision: 0.5012 - recall: 0.4702 - true_negatives: 2875.2363 - true_positives: 2629.2507 - val_auc: 0.5000 - val_binary_accuracy: 0.5053 - val_false_negatives: 0.0000e+00 - val_false_positives: 1363.0000 - val_loss: 3.2081 - val_precision: 0.5053 - val_recall: 1.0000 - val_true_negatives: 0.0000e+00 - val_true_positives: 1392.0000\n",
      "Epoch 7/10\n",
      "\u001b[1m689/689\u001b[0m \u001b[32m━━━━━━━━━━━━━━━━━━━━\u001b[0m\u001b[37m\u001b[0m \u001b[1m32s\u001b[0m 46ms/step - auc: 0.5025 - binary_accuracy: 0.5005 - false_negatives: 2474.7842 - false_positives: 3065.1580 - loss: 1.6784 - precision: 0.5033 - recall: 0.5763 - true_negatives: 2453.6753 - true_positives: 3062.3303 - val_auc: 0.4443 - val_binary_accuracy: 0.4947 - val_false_negatives: 1392.0000 - val_false_positives: 0.0000e+00 - val_loss: 5.9232 - val_precision: 0.0000e+00 - val_recall: 0.0000e+00 - val_true_negatives: 1363.0000 - val_true_positives: 0.0000e+00\n",
      "Epoch 8/10\n",
      "\u001b[1m689/689\u001b[0m \u001b[32m━━━━━━━━━━━━━━━━━━━━\u001b[0m\u001b[37m\u001b[0m \u001b[1m32s\u001b[0m 46ms/step - auc: 0.4966 - binary_accuracy: 0.4994 - false_negatives: 3179.5203 - false_positives: 2360.1450 - loss: 1.2690 - precision: 0.5016 - recall: 0.4311 - true_negatives: 3158.5566 - true_positives: 2357.7261 - val_auc: 0.5000 - val_binary_accuracy: 0.4929 - val_false_negatives: 1397.0000 - val_false_positives: 0.0000e+00 - val_loss: 0.9747 - val_precision: 0.0000e+00 - val_recall: 0.0000e+00 - val_true_negatives: 1358.0000 - val_true_positives: 0.0000e+00\n",
      "Epoch 9/10\n",
      "\u001b[1m689/689\u001b[0m \u001b[32m━━━━━━━━━━━━━━━━━━━━\u001b[0m\u001b[37m\u001b[0m \u001b[1m32s\u001b[0m 46ms/step - auc: 0.4945 - binary_accuracy: 0.4987 - false_negatives: 2791.1318 - false_positives: 2762.3494 - loss: 0.9130 - precision: 0.5048 - recall: 0.4894 - true_negatives: 2756.3450 - true_positives: 2746.1218 - val_auc: 0.5000 - val_binary_accuracy: 0.4929 - val_false_negatives: 1397.0000 - val_false_positives: 0.0000e+00 - val_loss: 0.7298 - val_precision: 0.0000e+00 - val_recall: 0.0000e+00 - val_true_negatives: 1358.0000 - val_true_positives: 0.0000e+00\n",
      "Epoch 10/10\n",
      "\u001b[1m689/689\u001b[0m \u001b[32m━━━━━━━━━━━━━━━━━━━━\u001b[0m\u001b[37m\u001b[0m \u001b[1m32s\u001b[0m 46ms/step - auc: 0.5011 - binary_accuracy: 0.5035 - false_negatives: 2693.5825 - false_positives: 2795.5088 - loss: 0.7586 - precision: 0.5065 - recall: 0.5257 - true_negatives: 2723.2117 - true_positives: 2843.6450 - val_auc: 0.5000 - val_binary_accuracy: 0.4947 - val_false_negatives: 1392.0000 - val_false_positives: 0.0000e+00 - val_loss: 0.7367 - val_precision: 0.0000e+00 - val_recall: 0.0000e+00 - val_true_negatives: 1363.0000 - val_true_positives: 0.0000e+00\n"
     ]
    },
    {
     "data": {
      "text/html": [],
      "text/plain": [
       "<IPython.core.display.HTML object>"
      ]
     },
     "metadata": {},
     "output_type": "display_data"
    },
    {
     "data": {
      "text/html": [
       "<br>    <style><br>        .wandb-row {<br>            display: flex;<br>            flex-direction: row;<br>            flex-wrap: wrap;<br>            justify-content: flex-start;<br>            width: 100%;<br>        }<br>        .wandb-col {<br>            display: flex;<br>            flex-direction: column;<br>            flex-basis: 100%;<br>            flex: 1;<br>            padding: 10px;<br>        }<br>    </style><br><div class=\"wandb-row\"><div class=\"wandb-col\"><h3>Run history:</h3><br/><table class=\"wandb\"><tr><td>epoch/auc</td><td>█▃▃▂▅▂▂▁▁▄</td></tr><tr><td>epoch/binary_accuracy</td><td>█▂▅▄▅▃▂▃▁▆</td></tr><tr><td>epoch/epoch</td><td>▁▂▃▃▄▅▆▆▇█</td></tr><tr><td>epoch/false_negatives</td><td>▅▄▅▁▃▅▂█▅▃</td></tr><tr><td>epoch/false_positives</td><td>█▄▃▅▄▃▅▁▄▃</td></tr><tr><td>epoch/learning_rate</td><td>▁▁▁▁▁▁▁▁▁▁</td></tr><tr><td>epoch/loss</td><td>█▁▂▂▂▁▆▃▁▁</td></tr><tr><td>epoch/precision</td><td>█▂▅▄▅▃▂▃▁▆</td></tr><tr><td>epoch/recall</td><td>█▅▄█▆▄▆▁▄▆</td></tr><tr><td>epoch/true_negatives</td><td>▆▃▅▁▄▅▂█▄▄</td></tr><tr><td>epoch/true_positives</td><td>█▃▃▅▄▃▄▁▃▄</td></tr><tr><td>epoch/val_auc</td><td>█▁▆▄▆▆▂▆▆▆</td></tr><tr><td>epoch/val_binary_accuracy</td><td>█▂▁█▃█▂▁▁▂</td></tr><tr><td>epoch/val_false_negatives</td><td>▁██▁█▁████</td></tr><tr><td>epoch/val_false_positives</td><td>█▁▁█▁█▁▁▁▁</td></tr><tr><td>epoch/val_loss</td><td>▁▁▁▁▁▄█▁▁▁</td></tr><tr><td>epoch/val_precision</td><td>█▁▁█▁█▁▁▁▁</td></tr><tr><td>epoch/val_recall</td><td>█▁▁█▁█▁▁▁▁</td></tr><tr><td>epoch/val_true_negatives</td><td>▁██▁█▁████</td></tr><tr><td>epoch/val_true_positives</td><td>█▁▁█▁█▁▁▁▁</td></tr><tr><td>val_binary_accuracy</td><td>▁</td></tr></table><br/></div><div class=\"wandb-col\"><h3>Run summary:</h3><br/><table class=\"wandb\"><tr><td>epoch/auc</td><td>0.50501</td></tr><tr><td>epoch/binary_accuracy</td><td>0.50621</td></tr><tr><td>epoch/epoch</td><td>9</td></tr><tr><td>epoch/false_negatives</td><td>5314</td></tr><tr><td>epoch/false_positives</td><td>5572</td></tr><tr><td>epoch/learning_rate</td><td>0.07315</td></tr><tr><td>epoch/loss</td><td>0.765</td></tr><tr><td>epoch/precision</td><td>0.50607</td></tr><tr><td>epoch/recall</td><td>0.51792</td></tr><tr><td>epoch/true_negatives</td><td>5451</td></tr><tr><td>epoch/true_positives</td><td>5709</td></tr><tr><td>epoch/val_auc</td><td>0.5</td></tr><tr><td>epoch/val_binary_accuracy</td><td>0.49474</td></tr><tr><td>epoch/val_false_negatives</td><td>1392</td></tr><tr><td>epoch/val_false_positives</td><td>0</td></tr><tr><td>epoch/val_loss</td><td>0.73675</td></tr><tr><td>epoch/val_precision</td><td>0</td></tr><tr><td>epoch/val_recall</td><td>0</td></tr><tr><td>epoch/val_true_negatives</td><td>1363</td></tr><tr><td>epoch/val_true_positives</td><td>0</td></tr><tr><td>val_binary_accuracy</td><td>0.49474</td></tr></table><br/></div></div>"
      ],
      "text/plain": [
       "<IPython.core.display.HTML object>"
      ]
     },
     "metadata": {},
     "output_type": "display_data"
    },
    {
     "data": {
      "text/html": [
       " View run <strong style=\"color:#cdcd00\">Run-HP-Tune</strong> at: <a href='https://wandb.ai/amanjn2003-santa-clara-university/Malaria-Detection-HP-Tune/runs/wwdbx3tw' target=\"_blank\">https://wandb.ai/amanjn2003-santa-clara-university/Malaria-Detection-HP-Tune/runs/wwdbx3tw</a><br> View project at: <a href='https://wandb.ai/amanjn2003-santa-clara-university/Malaria-Detection-HP-Tune' target=\"_blank\">https://wandb.ai/amanjn2003-santa-clara-university/Malaria-Detection-HP-Tune</a><br>Synced 5 W&B file(s), 0 media file(s), 20 artifact file(s) and 0 other file(s)"
      ],
      "text/plain": [
       "<IPython.core.display.HTML object>"
      ]
     },
     "metadata": {},
     "output_type": "display_data"
    },
    {
     "data": {
      "text/html": [
       "Find logs at: <code>./wandb/run-20250127_141313-wwdbx3tw/logs</code>"
      ],
      "text/plain": [
       "<IPython.core.display.HTML object>"
      ]
     },
     "metadata": {},
     "output_type": "display_data"
    },
    {
     "name": "stderr",
     "output_type": "stream",
     "text": [
      "\u001b[34m\u001b[1mwandb\u001b[0m: Agent Starting Run: fb35elyi with config:\n",
      "\u001b[34m\u001b[1mwandb\u001b[0m: \tDROPOUT_RATE: 0.33385333991680033\n",
      "\u001b[34m\u001b[1mwandb\u001b[0m: \tLEARNING_RATE: 0.021302169161304264\n",
      "\u001b[34m\u001b[1mwandb\u001b[0m: \tN_DENSE_1: 16\n",
      "\u001b[34m\u001b[1mwandb\u001b[0m: \tN_DENSE_2: 32\n",
      "\u001b[34m\u001b[1mwandb\u001b[0m: \tREGULARIZATION_RATE: 0.07585449959842655\n"
     ]
    },
    {
     "data": {
      "text/html": [
       "Ignoring project 'Malaria-Detection' when running a sweep."
      ],
      "text/plain": [
       "<IPython.core.display.HTML object>"
      ]
     },
     "metadata": {},
     "output_type": "display_data"
    },
    {
     "data": {
      "text/html": [
       "Ignoring entity 'amanjn2003-santa-clara-university' when running a sweep."
      ],
      "text/plain": [
       "<IPython.core.display.HTML object>"
      ]
     },
     "metadata": {},
     "output_type": "display_data"
    },
    {
     "data": {
      "text/html": [
       "Tracking run with wandb version 0.19.4"
      ],
      "text/plain": [
       "<IPython.core.display.HTML object>"
      ]
     },
     "metadata": {},
     "output_type": "display_data"
    },
    {
     "data": {
      "text/html": [
       "Run data is saved locally in <code>/Users/aman/Documents/Work/Machine Learning/Computer-Vision-TensorFlow/Weights&Biases-Integration/wandb/run-20250127_141839-fb35elyi</code>"
      ],
      "text/plain": [
       "<IPython.core.display.HTML object>"
      ]
     },
     "metadata": {},
     "output_type": "display_data"
    },
    {
     "data": {
      "text/html": [
       "Syncing run <strong><a href='https://wandb.ai/amanjn2003-santa-clara-university/Malaria-Detection-HP-Tune/runs/fb35elyi' target=\"_blank\">Run-HP-Tune</a></strong> to <a href='https://wandb.ai/amanjn2003-santa-clara-university/Malaria-Detection-HP-Tune' target=\"_blank\">Weights & Biases</a> (<a href='https://wandb.me/developer-guide' target=\"_blank\">docs</a>)<br>Sweep page: <a href='https://wandb.ai/amanjn2003-santa-clara-university/Malaria-Detection-HP-Tune/sweeps/sisjf06a' target=\"_blank\">https://wandb.ai/amanjn2003-santa-clara-university/Malaria-Detection-HP-Tune/sweeps/sisjf06a</a>"
      ],
      "text/plain": [
       "<IPython.core.display.HTML object>"
      ]
     },
     "metadata": {},
     "output_type": "display_data"
    },
    {
     "data": {
      "text/html": [
       " View project at <a href='https://wandb.ai/amanjn2003-santa-clara-university/Malaria-Detection-HP-Tune' target=\"_blank\">https://wandb.ai/amanjn2003-santa-clara-university/Malaria-Detection-HP-Tune</a>"
      ],
      "text/plain": [
       "<IPython.core.display.HTML object>"
      ]
     },
     "metadata": {},
     "output_type": "display_data"
    },
    {
     "data": {
      "text/html": [
       " View sweep at <a href='https://wandb.ai/amanjn2003-santa-clara-university/Malaria-Detection-HP-Tune/sweeps/sisjf06a' target=\"_blank\">https://wandb.ai/amanjn2003-santa-clara-university/Malaria-Detection-HP-Tune/sweeps/sisjf06a</a>"
      ],
      "text/plain": [
       "<IPython.core.display.HTML object>"
      ]
     },
     "metadata": {},
     "output_type": "display_data"
    },
    {
     "data": {
      "text/html": [
       " View run at <a href='https://wandb.ai/amanjn2003-santa-clara-university/Malaria-Detection-HP-Tune/runs/fb35elyi' target=\"_blank\">https://wandb.ai/amanjn2003-santa-clara-university/Malaria-Detection-HP-Tune/runs/fb35elyi</a>"
      ],
      "text/plain": [
       "<IPython.core.display.HTML object>"
      ]
     },
     "metadata": {},
     "output_type": "display_data"
    },
    {
     "name": "stdout",
     "output_type": "stream",
     "text": [
      "Epoch 1/10\n",
      "\u001b[1m689/689\u001b[0m \u001b[32m━━━━━━━━━━━━━━━━━━━━\u001b[0m\u001b[37m\u001b[0m \u001b[1m35s\u001b[0m 47ms/step - auc: 0.5427 - binary_accuracy: 0.5255 - false_negatives: 3906.6797 - false_positives: 2614.3333 - loss: 2.1519 - precision: 0.5409 - recall: 0.3992 - true_negatives: 4267.4956 - true_positives: 3022.4392 - val_auc: 0.4419 - val_binary_accuracy: 0.4947 - val_false_negatives: 1392.0000 - val_false_positives: 0.0000e+00 - val_loss: 2.2413 - val_precision: 0.0000e+00 - val_recall: 0.0000e+00 - val_true_negatives: 1363.0000 - val_true_positives: 0.0000e+00\n",
      "Epoch 2/10\n",
      "\u001b[1m689/689\u001b[0m \u001b[32m━━━━━━━━━━━━━━━━━━━━\u001b[0m\u001b[37m\u001b[0m \u001b[1m32s\u001b[0m 46ms/step - auc: 0.5169 - binary_accuracy: 0.5097 - false_negatives: 2786.0291 - false_positives: 2682.7869 - loss: 0.8520 - precision: 0.5115 - recall: 0.5337 - true_negatives: 2835.9319 - true_positives: 2751.2000 - val_auc: 0.5033 - val_binary_accuracy: 0.4962 - val_false_negatives: 1388.0000 - val_false_positives: 0.0000e+00 - val_loss: 0.7488 - val_precision: 0.0000e+00 - val_recall: 0.0000e+00 - val_true_negatives: 1367.0000 - val_true_positives: 0.0000e+00\n",
      "Epoch 3/10\n",
      "\u001b[1m689/689\u001b[0m \u001b[32m━━━━━━━━━━━━━━━━━━━━\u001b[0m\u001b[37m\u001b[0m \u001b[1m32s\u001b[0m 46ms/step - auc: 0.5154 - binary_accuracy: 0.5111 - false_negatives: 2989.5725 - false_positives: 2416.6782 - loss: 0.8072 - precision: 0.5137 - recall: 0.4732 - true_negatives: 3102.1248 - true_positives: 2547.5725 - val_auc: 0.6193 - val_binary_accuracy: 0.4936 - val_false_negatives: 1395.0000 - val_false_positives: 0.0000e+00 - val_loss: 0.8255 - val_precision: 0.0000e+00 - val_recall: 0.0000e+00 - val_true_negatives: 1360.0000 - val_true_positives: 0.0000e+00\n",
      "Epoch 4/10\n",
      "\u001b[1m689/689\u001b[0m \u001b[32m━━━━━━━━━━━━━━━━━━━━\u001b[0m\u001b[37m\u001b[0m \u001b[1m32s\u001b[0m 46ms/step - auc: 0.5156 - binary_accuracy: 0.5135 - false_negatives: 2712.6709 - false_positives: 2681.2087 - loss: 0.8195 - precision: 0.5165 - recall: 0.5380 - true_negatives: 2837.5320 - true_positives: 2824.5361 - val_auc: 0.5000 - val_binary_accuracy: 0.5034 - val_false_negatives: 0.0000e+00 - val_false_positives: 1368.0000 - val_loss: 0.7446 - val_precision: 0.5034 - val_recall: 1.0000 - val_true_negatives: 0.0000e+00 - val_true_positives: 1387.0000\n",
      "Epoch 5/10\n",
      "\u001b[1m689/689\u001b[0m \u001b[32m━━━━━━━━━━━━━━━━━━━━\u001b[0m\u001b[37m\u001b[0m \u001b[1m32s\u001b[0m 46ms/step - auc: 0.5149 - binary_accuracy: 0.5164 - false_negatives: 2491.1826 - false_positives: 2868.4448 - loss: 0.7965 - precision: 0.5161 - recall: 0.6169 - true_negatives: 2650.2666 - true_positives: 3046.0537 - val_auc: 0.5580 - val_binary_accuracy: 0.5187 - val_false_negatives: 173.0000 - val_false_positives: 1153.0000 - val_loss: 0.8715 - val_precision: 0.5139 - val_recall: 0.8757 - val_true_negatives: 210.0000 - val_true_positives: 1219.0000\n",
      "Epoch 6/10\n",
      "\u001b[1m689/689\u001b[0m \u001b[32m━━━━━━━━━━━━━━━━━━━━\u001b[0m\u001b[37m\u001b[0m \u001b[1m32s\u001b[0m 46ms/step - auc: 0.5262 - binary_accuracy: 0.5191 - false_negatives: 2667.8203 - false_positives: 2691.7971 - loss: 0.9114 - precision: 0.5216 - recall: 0.5339 - true_negatives: 2827.0073 - true_positives: 2869.3232 - val_auc: 0.4456 - val_binary_accuracy: 0.5038 - val_false_negatives: 0.0000e+00 - val_false_positives: 1367.0000 - val_loss: 0.8795 - val_precision: 0.5038 - val_recall: 1.0000 - val_true_negatives: 0.0000e+00 - val_true_positives: 1388.0000\n",
      "Epoch 7/10\n",
      "\u001b[1m689/689\u001b[0m \u001b[32m━━━━━━━━━━━━━━━━━━━━\u001b[0m\u001b[37m\u001b[0m \u001b[1m32s\u001b[0m 46ms/step - auc: 0.5098 - binary_accuracy: 0.5056 - false_negatives: 2852.8464 - false_positives: 2648.6233 - loss: 0.8201 - precision: 0.5084 - recall: 0.5129 - true_negatives: 2870.0869 - true_positives: 2684.3914 - val_auc: 0.5173 - val_binary_accuracy: 0.4944 - val_false_negatives: 1377.0000 - val_false_positives: 16.0000 - val_loss: 0.8145 - val_precision: 0.4286 - val_recall: 0.0086 - val_true_negatives: 1350.0000 - val_true_positives: 12.0000\n",
      "Epoch 8/10\n",
      "\u001b[1m689/689\u001b[0m \u001b[32m━━━━━━━━━━━━━━━━━━━━\u001b[0m\u001b[37m\u001b[0m \u001b[1m32s\u001b[0m 47ms/step - auc: 0.5141 - binary_accuracy: 0.5098 - false_negatives: 2989.9912 - false_positives: 2421.6274 - loss: 0.8345 - precision: 0.5141 - recall: 0.4746 - true_negatives: 3097.0710 - true_positives: 2547.2581 - val_auc: 0.5000 - val_binary_accuracy: 0.4947 - val_false_negatives: 1392.0000 - val_false_positives: 0.0000e+00 - val_loss: 0.7039 - val_precision: 0.0000e+00 - val_recall: 0.0000e+00 - val_true_negatives: 1363.0000 - val_true_positives: 0.0000e+00\n",
      "Epoch 9/10\n",
      "\u001b[1m689/689\u001b[0m \u001b[32m━━━━━━━━━━━━━━━━━━━━\u001b[0m\u001b[37m\u001b[0m \u001b[1m32s\u001b[0m 46ms/step - auc: 0.5067 - binary_accuracy: 0.5044 - false_negatives: 2964.8276 - false_positives: 2505.6333 - loss: 0.7607 - precision: 0.5044 - recall: 0.4697 - true_negatives: 3013.2261 - true_positives: 2572.2610 - val_auc: 0.5000 - val_binary_accuracy: 0.4929 - val_false_negatives: 1397.0000 - val_false_positives: 0.0000e+00 - val_loss: 0.8538 - val_precision: 0.0000e+00 - val_recall: 0.0000e+00 - val_true_negatives: 1358.0000 - val_true_positives: 0.0000e+00\n",
      "Epoch 10/10\n",
      "\u001b[1m689/689\u001b[0m \u001b[32m━━━━━━━━━━━━━━━━━━━━\u001b[0m\u001b[37m\u001b[0m \u001b[1m32s\u001b[0m 46ms/step - auc: 0.5076 - binary_accuracy: 0.5052 - false_negatives: 3183.0840 - false_positives: 2295.7390 - loss: 0.8080 - precision: 0.5085 - recall: 0.4531 - true_negatives: 3223.0986 - true_positives: 2354.0261 - val_auc: 0.5000 - val_binary_accuracy: 0.4947 - val_false_negatives: 1392.0000 - val_false_positives: 0.0000e+00 - val_loss: 0.6942 - val_precision: 0.0000e+00 - val_recall: 0.0000e+00 - val_true_negatives: 1363.0000 - val_true_positives: 0.0000e+00\n"
     ]
    },
    {
     "data": {
      "text/html": [],
      "text/plain": [
       "<IPython.core.display.HTML object>"
      ]
     },
     "metadata": {},
     "output_type": "display_data"
    },
    {
     "data": {
      "text/html": [
       "<br>    <style><br>        .wandb-row {<br>            display: flex;<br>            flex-direction: row;<br>            flex-wrap: wrap;<br>            justify-content: flex-start;<br>            width: 100%;<br>        }<br>        .wandb-col {<br>            display: flex;<br>            flex-direction: column;<br>            flex-basis: 100%;<br>            flex: 1;<br>            padding: 10px;<br>        }<br>    </style><br><div class=\"wandb-row\"><div class=\"wandb-col\"><h3>Run history:</h3><br/><table class=\"wandb\"><tr><td>epoch/auc</td><td>█▂▃▃▃▄▂▃▂▁</td></tr><tr><td>epoch/binary_accuracy</td><td>█▁▃▃▄▄▁▃▂▁</td></tr><tr><td>epoch/epoch</td><td>▁▂▃▃▄▅▆▆▇█</td></tr><tr><td>epoch/false_negatives</td><td>█▄▆▃▁▁▆▅▆▇</td></tr><tr><td>epoch/false_positives</td><td>▆▅▁▆██▃▂▁▁</td></tr><tr><td>epoch/learning_rate</td><td>▁▁▁▁▁▁▁▁▁▁</td></tr><tr><td>epoch/loss</td><td>█▁▂▂▂▃▂▂▁▁</td></tr><tr><td>epoch/precision</td><td>█▁▃▃▃▄▁▃▂▂</td></tr><tr><td>epoch/recall</td><td>▅▄▂▆██▂▃▂▁</td></tr><tr><td>epoch/true_negatives</td><td>█▂▄▂▁▁▃▄▄▄</td></tr><tr><td>epoch/true_positives</td><td>█▃▂▅▆▆▂▂▂▁</td></tr><tr><td>epoch/val_auc</td><td>▁▃█▃▆▁▄▃▃▃</td></tr><tr><td>epoch/val_binary_accuracy</td><td>▁▂▁▄█▄▁▁▁▁</td></tr><tr><td>epoch/val_false_negatives</td><td>███▁▂▁████</td></tr><tr><td>epoch/val_false_positives</td><td>▁▁▁█▇█▁▁▁▁</td></tr><tr><td>epoch/val_loss</td><td>█▁▂▁▂▂▂▁▂▁</td></tr><tr><td>epoch/val_precision</td><td>▁▁▁███▇▁▁▁</td></tr><tr><td>epoch/val_recall</td><td>▁▁▁█▇█▁▁▁▁</td></tr><tr><td>epoch/val_true_negatives</td><td>███▁▂▁████</td></tr><tr><td>epoch/val_true_positives</td><td>▁▁▁█▇█▁▁▁▁</td></tr><tr><td>val_binary_accuracy</td><td>▁</td></tr></table><br/></div><div class=\"wandb-col\"><h3>Run summary:</h3><br/><table class=\"wandb\"><tr><td>epoch/auc</td><td>0.50365</td></tr><tr><td>epoch/binary_accuracy</td><td>0.50363</td></tr><tr><td>epoch/epoch</td><td>9</td></tr><tr><td>epoch/false_negatives</td><td>6078</td></tr><tr><td>epoch/false_positives</td><td>4865</td></tr><tr><td>epoch/learning_rate</td><td>0.0213</td></tr><tr><td>epoch/loss</td><td>0.76749</td></tr><tr><td>epoch/precision</td><td>0.50418</td></tr><tr><td>epoch/recall</td><td>0.44871</td></tr><tr><td>epoch/true_negatives</td><td>6156</td></tr><tr><td>epoch/true_positives</td><td>4947</td></tr><tr><td>epoch/val_auc</td><td>0.5</td></tr><tr><td>epoch/val_binary_accuracy</td><td>0.49474</td></tr><tr><td>epoch/val_false_negatives</td><td>1392</td></tr><tr><td>epoch/val_false_positives</td><td>0</td></tr><tr><td>epoch/val_loss</td><td>0.69425</td></tr><tr><td>epoch/val_precision</td><td>0</td></tr><tr><td>epoch/val_recall</td><td>0</td></tr><tr><td>epoch/val_true_negatives</td><td>1363</td></tr><tr><td>epoch/val_true_positives</td><td>0</td></tr><tr><td>val_binary_accuracy</td><td>0.49474</td></tr></table><br/></div></div>"
      ],
      "text/plain": [
       "<IPython.core.display.HTML object>"
      ]
     },
     "metadata": {},
     "output_type": "display_data"
    },
    {
     "data": {
      "text/html": [
       " View run <strong style=\"color:#cdcd00\">Run-HP-Tune</strong> at: <a href='https://wandb.ai/amanjn2003-santa-clara-university/Malaria-Detection-HP-Tune/runs/fb35elyi' target=\"_blank\">https://wandb.ai/amanjn2003-santa-clara-university/Malaria-Detection-HP-Tune/runs/fb35elyi</a><br> View project at: <a href='https://wandb.ai/amanjn2003-santa-clara-university/Malaria-Detection-HP-Tune' target=\"_blank\">https://wandb.ai/amanjn2003-santa-clara-university/Malaria-Detection-HP-Tune</a><br>Synced 5 W&B file(s), 0 media file(s), 20 artifact file(s) and 0 other file(s)"
      ],
      "text/plain": [
       "<IPython.core.display.HTML object>"
      ]
     },
     "metadata": {},
     "output_type": "display_data"
    },
    {
     "data": {
      "text/html": [
       "Find logs at: <code>./wandb/run-20250127_141839-fb35elyi/logs</code>"
      ],
      "text/plain": [
       "<IPython.core.display.HTML object>"
      ]
     },
     "metadata": {},
     "output_type": "display_data"
    },
    {
     "name": "stderr",
     "output_type": "stream",
     "text": [
      "\u001b[34m\u001b[1mwandb\u001b[0m: Agent Starting Run: z7l64xpe with config:\n",
      "\u001b[34m\u001b[1mwandb\u001b[0m: \tDROPOUT_RATE: 0.18588026691179885\n",
      "\u001b[34m\u001b[1mwandb\u001b[0m: \tLEARNING_RATE: 0.019892570627213862\n",
      "\u001b[34m\u001b[1mwandb\u001b[0m: \tN_DENSE_1: 128\n",
      "\u001b[34m\u001b[1mwandb\u001b[0m: \tN_DENSE_2: 128\n",
      "\u001b[34m\u001b[1mwandb\u001b[0m: \tREGULARIZATION_RATE: 0.03688860407345837\n"
     ]
    },
    {
     "data": {
      "text/html": [
       "Ignoring project 'Malaria-Detection' when running a sweep."
      ],
      "text/plain": [
       "<IPython.core.display.HTML object>"
      ]
     },
     "metadata": {},
     "output_type": "display_data"
    },
    {
     "data": {
      "text/html": [
       "Ignoring entity 'amanjn2003-santa-clara-university' when running a sweep."
      ],
      "text/plain": [
       "<IPython.core.display.HTML object>"
      ]
     },
     "metadata": {},
     "output_type": "display_data"
    },
    {
     "data": {
      "text/html": [
       "Tracking run with wandb version 0.19.4"
      ],
      "text/plain": [
       "<IPython.core.display.HTML object>"
      ]
     },
     "metadata": {},
     "output_type": "display_data"
    },
    {
     "data": {
      "text/html": [
       "Run data is saved locally in <code>/Users/aman/Documents/Work/Machine Learning/Computer-Vision-TensorFlow/Weights&Biases-Integration/wandb/run-20250127_142409-z7l64xpe</code>"
      ],
      "text/plain": [
       "<IPython.core.display.HTML object>"
      ]
     },
     "metadata": {},
     "output_type": "display_data"
    },
    {
     "data": {
      "text/html": [
       "Syncing run <strong><a href='https://wandb.ai/amanjn2003-santa-clara-university/Malaria-Detection-HP-Tune/runs/z7l64xpe' target=\"_blank\">Run-HP-Tune</a></strong> to <a href='https://wandb.ai/amanjn2003-santa-clara-university/Malaria-Detection-HP-Tune' target=\"_blank\">Weights & Biases</a> (<a href='https://wandb.me/developer-guide' target=\"_blank\">docs</a>)<br>Sweep page: <a href='https://wandb.ai/amanjn2003-santa-clara-university/Malaria-Detection-HP-Tune/sweeps/sisjf06a' target=\"_blank\">https://wandb.ai/amanjn2003-santa-clara-university/Malaria-Detection-HP-Tune/sweeps/sisjf06a</a>"
      ],
      "text/plain": [
       "<IPython.core.display.HTML object>"
      ]
     },
     "metadata": {},
     "output_type": "display_data"
    },
    {
     "data": {
      "text/html": [
       " View project at <a href='https://wandb.ai/amanjn2003-santa-clara-university/Malaria-Detection-HP-Tune' target=\"_blank\">https://wandb.ai/amanjn2003-santa-clara-university/Malaria-Detection-HP-Tune</a>"
      ],
      "text/plain": [
       "<IPython.core.display.HTML object>"
      ]
     },
     "metadata": {},
     "output_type": "display_data"
    },
    {
     "data": {
      "text/html": [
       " View sweep at <a href='https://wandb.ai/amanjn2003-santa-clara-university/Malaria-Detection-HP-Tune/sweeps/sisjf06a' target=\"_blank\">https://wandb.ai/amanjn2003-santa-clara-university/Malaria-Detection-HP-Tune/sweeps/sisjf06a</a>"
      ],
      "text/plain": [
       "<IPython.core.display.HTML object>"
      ]
     },
     "metadata": {},
     "output_type": "display_data"
    },
    {
     "data": {
      "text/html": [
       " View run at <a href='https://wandb.ai/amanjn2003-santa-clara-university/Malaria-Detection-HP-Tune/runs/z7l64xpe' target=\"_blank\">https://wandb.ai/amanjn2003-santa-clara-university/Malaria-Detection-HP-Tune/runs/z7l64xpe</a>"
      ],
      "text/plain": [
       "<IPython.core.display.HTML object>"
      ]
     },
     "metadata": {},
     "output_type": "display_data"
    },
    {
     "name": "stdout",
     "output_type": "stream",
     "text": [
      "Epoch 1/10\n",
      "\u001b[1m689/689\u001b[0m \u001b[32m━━━━━━━━━━━━━━━━━━━━\u001b[0m\u001b[37m\u001b[0m \u001b[1m37s\u001b[0m 50ms/step - auc: 0.5627 - binary_accuracy: 0.5384 - false_negatives: 3859.0769 - false_positives: 2489.1492 - loss: 4.4199 - precision: 0.5614 - recall: 0.4046 - true_negatives: 4392.5347 - true_positives: 3070.1870 - val_auc: 0.5686 - val_binary_accuracy: 0.5408 - val_false_negatives: 523.0000 - val_false_positives: 742.0000 - val_loss: 1.0823 - val_precision: 0.5397 - val_recall: 0.6246 - val_true_negatives: 620.0000 - val_true_positives: 870.0000\n",
      "Epoch 2/10\n",
      "\u001b[1m689/689\u001b[0m \u001b[32m━━━━━━━━━━━━━━━━━━━━\u001b[0m\u001b[37m\u001b[0m \u001b[1m36s\u001b[0m 52ms/step - auc: 0.5421 - binary_accuracy: 0.5331 - false_negatives: 2496.7507 - false_positives: 2682.7869 - loss: 0.9949 - precision: 0.5335 - recall: 0.5729 - true_negatives: 2836.0305 - true_positives: 3040.3796 - val_auc: 0.5000 - val_binary_accuracy: 0.5042 - val_false_negatives: 0.0000e+00 - val_false_positives: 1366.0000 - val_loss: 0.6975 - val_precision: 0.5042 - val_recall: 1.0000 - val_true_negatives: 0.0000e+00 - val_true_positives: 1389.0000\n",
      "Epoch 3/10\n",
      "\u001b[1m689/689\u001b[0m \u001b[32m━━━━━━━━━━━━━━━━━━━━\u001b[0m\u001b[37m\u001b[0m \u001b[1m34s\u001b[0m 50ms/step - auc: 0.4945 - binary_accuracy: 0.4995 - false_negatives: 2604.5825 - false_positives: 2958.3086 - loss: 0.6964 - precision: 0.5008 - recall: 0.6007 - true_negatives: 2560.4580 - true_positives: 2932.5986 - val_auc: 0.5000 - val_binary_accuracy: 0.5064 - val_false_negatives: 0.0000e+00 - val_false_positives: 1360.0000 - val_loss: 0.6933 - val_precision: 0.5064 - val_recall: 1.0000 - val_true_negatives: 0.0000e+00 - val_true_positives: 1395.0000\n",
      "Epoch 4/10\n",
      "\u001b[1m689/689\u001b[0m \u001b[32m━━━━━━━━━━━━━━━━━━━━\u001b[0m\u001b[37m\u001b[0m \u001b[1m34s\u001b[0m 50ms/step - auc: 0.4913 - binary_accuracy: 0.4941 - false_negatives: 2836.1450 - false_positives: 2770.8347 - loss: 0.6946 - precision: 0.4867 - recall: 0.5256 - true_negatives: 2747.8958 - true_positives: 2701.0725 - val_auc: 0.5000 - val_binary_accuracy: 0.4947 - val_false_negatives: 1392.0000 - val_false_positives: 0.0000e+00 - val_loss: 0.9340 - val_precision: 0.0000e+00 - val_recall: 0.0000e+00 - val_true_negatives: 1363.0000 - val_true_positives: 0.0000e+00\n",
      "Epoch 5/10\n",
      "\u001b[1m689/689\u001b[0m \u001b[32m━━━━━━━━━━━━━━━━━━━━\u001b[0m\u001b[37m\u001b[0m \u001b[1m34s\u001b[0m 50ms/step - auc: 0.5020 - binary_accuracy: 0.5029 - false_negatives: 2731.4985 - false_positives: 2771.1450 - loss: 0.7122 - precision: 0.5071 - recall: 0.5056 - true_negatives: 2747.7173 - true_positives: 2805.5869 - val_auc: 0.5000 - val_binary_accuracy: 0.5042 - val_false_negatives: 0.0000e+00 - val_false_positives: 1366.0000 - val_loss: 0.7043 - val_precision: 0.5042 - val_recall: 1.0000 - val_true_negatives: 0.0000e+00 - val_true_positives: 1389.0000\n",
      "Epoch 6/10\n",
      "\u001b[1m689/689\u001b[0m \u001b[32m━━━━━━━━━━━━━━━━━━━━\u001b[0m\u001b[37m\u001b[0m \u001b[1m34s\u001b[0m 49ms/step - auc: 0.4917 - binary_accuracy: 0.4930 - false_negatives: 3062.8696 - false_positives: 2528.3696 - loss: 0.7116 - precision: 0.4953 - recall: 0.4510 - true_negatives: 2990.4407 - true_positives: 2474.2681 - val_auc: 0.5000 - val_binary_accuracy: 0.4947 - val_false_negatives: 1392.0000 - val_false_positives: 0.0000e+00 - val_loss: 0.7284 - val_precision: 0.0000e+00 - val_recall: 0.0000e+00 - val_true_negatives: 1363.0000 - val_true_positives: 0.0000e+00\n",
      "Epoch 7/10\n",
      "\u001b[1m689/689\u001b[0m \u001b[32m━━━━━━━━━━━━━━━━━━━━\u001b[0m\u001b[37m\u001b[0m \u001b[1m34s\u001b[0m 50ms/step - auc: 0.4954 - binary_accuracy: 0.4982 - false_negatives: 3032.7551 - false_positives: 2549.3145 - loss: 0.7165 - precision: 0.5004 - recall: 0.4838 - true_negatives: 2969.4319 - true_positives: 2504.4463 - val_auc: 0.5000 - val_binary_accuracy: 0.4933 - val_false_negatives: 1396.0000 - val_false_positives: 0.0000e+00 - val_loss: 0.7090 - val_precision: 0.0000e+00 - val_recall: 0.0000e+00 - val_true_negatives: 1359.0000 - val_true_positives: 0.0000e+00\n",
      "Epoch 8/10\n",
      "\u001b[1m689/689\u001b[0m \u001b[32m━━━━━━━━━━━━━━━━━━━━\u001b[0m\u001b[37m\u001b[0m \u001b[1m34s\u001b[0m 49ms/step - auc: 0.4955 - binary_accuracy: 0.5004 - false_negatives: 2853.6450 - false_positives: 2699.4231 - loss: 0.7215 - precision: 0.5030 - recall: 0.5250 - true_negatives: 2819.3726 - true_positives: 2683.5073 - val_auc: 0.5000 - val_binary_accuracy: 0.4947 - val_false_negatives: 1392.0000 - val_false_positives: 0.0000e+00 - val_loss: 0.7219 - val_precision: 0.0000e+00 - val_recall: 0.0000e+00 - val_true_negatives: 1363.0000 - val_true_positives: 0.0000e+00\n",
      "Epoch 9/10\n",
      "\u001b[1m689/689\u001b[0m \u001b[32m━━━━━━━━━━━━━━━━━━━━\u001b[0m\u001b[37m\u001b[0m \u001b[1m34s\u001b[0m 50ms/step - auc: 0.4891 - binary_accuracy: 0.4902 - false_negatives: 3099.8958 - false_positives: 2513.1392 - loss: 0.7210 - precision: 0.4927 - recall: 0.4566 - true_negatives: 3005.6101 - true_positives: 2437.3030 - val_auc: 0.5000 - val_binary_accuracy: 0.5042 - val_false_negatives: 0.0000e+00 - val_false_positives: 1366.0000 - val_loss: 0.7165 - val_precision: 0.5042 - val_recall: 1.0000 - val_true_negatives: 0.0000e+00 - val_true_positives: 1389.0000\n",
      "Epoch 10/10\n",
      "\u001b[1m689/689\u001b[0m \u001b[32m━━━━━━━━━━━━━━━━━━━━\u001b[0m\u001b[37m\u001b[0m \u001b[1m34s\u001b[0m 49ms/step - auc: 0.4953 - binary_accuracy: 0.4977 - false_negatives: 3274.9231 - false_positives: 2289.8015 - loss: 0.7196 - precision: 0.5004 - recall: 0.4297 - true_negatives: 3229.0261 - true_positives: 2262.1970 - val_auc: 0.5000 - val_binary_accuracy: 0.5053 - val_false_negatives: 0.0000e+00 - val_false_positives: 1363.0000 - val_loss: 0.7465 - val_precision: 0.5053 - val_recall: 1.0000 - val_true_negatives: 0.0000e+00 - val_true_positives: 1392.0000\n"
     ]
    },
    {
     "data": {
      "text/html": [],
      "text/plain": [
       "<IPython.core.display.HTML object>"
      ]
     },
     "metadata": {},
     "output_type": "display_data"
    },
    {
     "data": {
      "text/html": [
       "<br>    <style><br>        .wandb-row {<br>            display: flex;<br>            flex-direction: row;<br>            flex-wrap: wrap;<br>            justify-content: flex-start;<br>            width: 100%;<br>        }<br>        .wandb-col {<br>            display: flex;<br>            flex-direction: column;<br>            flex-basis: 100%;<br>            flex: 1;<br>            padding: 10px;<br>        }<br>    </style><br><div class=\"wandb-row\"><div class=\"wandb-col\"><h3>Run history:</h3><br/><table class=\"wandb\"><tr><td>epoch/auc</td><td>█▆▂▁▂▁▁▁▁▂</td></tr><tr><td>epoch/binary_accuracy</td><td>█▆▁▁▂▁▁▁▁▂</td></tr><tr><td>epoch/epoch</td><td>▁▂▃▃▄▅▆▆▇█</td></tr><tr><td>epoch/false_negatives</td><td>▇▁▄▆▄▆▇▆▇█</td></tr><tr><td>epoch/false_positives</td><td>▅██▅█▆▄▅▄▁</td></tr><tr><td>epoch/learning_rate</td><td>▁▁▁▁▁▁▁▁▁▁</td></tr><tr><td>epoch/loss</td><td>█▃▁▁▁▁▁▁▁▁</td></tr><tr><td>epoch/precision</td><td>█▅▁▁▂▁▁▁▁▂</td></tr><tr><td>epoch/recall</td><td>▅█▅▃▅▃▂▃▂▁</td></tr><tr><td>epoch/true_negatives</td><td>█▁▁▂▁▂▃▂▃▅</td></tr><tr><td>epoch/true_positives</td><td>█▇▄▃▅▃▂▃▂▁</td></tr><tr><td>epoch/val_auc</td><td>█▁▁▁▁▁▁▁▁▁</td></tr><tr><td>epoch/val_binary_accuracy</td><td>█▃▃▁▃▁▁▁▃▃</td></tr><tr><td>epoch/val_false_negatives</td><td>▄▁▁█▁███▁▁</td></tr><tr><td>epoch/val_false_positives</td><td>▅██▁█▁▁▁██</td></tr><tr><td>epoch/val_loss</td><td>█▁▁▅▁▂▁▂▁▂</td></tr><tr><td>epoch/val_precision</td><td>███▁█▁▁▁██</td></tr><tr><td>epoch/val_recall</td><td>▅██▁█▁▁▁██</td></tr><tr><td>epoch/val_true_negatives</td><td>▄▁▁█▁███▁▁</td></tr><tr><td>epoch/val_true_positives</td><td>▅██▁█▁▁▁██</td></tr><tr><td>val_binary_accuracy</td><td>▁</td></tr></table><br/></div><div class=\"wandb-col\"><h3>Run summary:</h3><br/><table class=\"wandb\"><tr><td>epoch/auc</td><td>0.49726</td></tr><tr><td>epoch/binary_accuracy</td><td>0.49823</td></tr><tr><td>epoch/epoch</td><td>9</td></tr><tr><td>epoch/false_negatives</td><td>6411</td></tr><tr><td>epoch/false_positives</td><td>4651</td></tr><tr><td>epoch/learning_rate</td><td>0.01989</td></tr><tr><td>epoch/loss</td><td>0.7192</td></tr><tr><td>epoch/precision</td><td>0.498</td></tr><tr><td>epoch/recall</td><td>0.4185</td></tr><tr><td>epoch/true_negatives</td><td>6370</td></tr><tr><td>epoch/true_positives</td><td>4614</td></tr><tr><td>epoch/val_auc</td><td>0.5</td></tr><tr><td>epoch/val_binary_accuracy</td><td>0.50526</td></tr><tr><td>epoch/val_false_negatives</td><td>0</td></tr><tr><td>epoch/val_false_positives</td><td>1363</td></tr><tr><td>epoch/val_loss</td><td>0.7465</td></tr><tr><td>epoch/val_precision</td><td>0.50526</td></tr><tr><td>epoch/val_recall</td><td>1</td></tr><tr><td>epoch/val_true_negatives</td><td>0</td></tr><tr><td>epoch/val_true_positives</td><td>1392</td></tr><tr><td>val_binary_accuracy</td><td>0.50526</td></tr></table><br/></div></div>"
      ],
      "text/plain": [
       "<IPython.core.display.HTML object>"
      ]
     },
     "metadata": {},
     "output_type": "display_data"
    },
    {
     "data": {
      "text/html": [
       " View run <strong style=\"color:#cdcd00\">Run-HP-Tune</strong> at: <a href='https://wandb.ai/amanjn2003-santa-clara-university/Malaria-Detection-HP-Tune/runs/z7l64xpe' target=\"_blank\">https://wandb.ai/amanjn2003-santa-clara-university/Malaria-Detection-HP-Tune/runs/z7l64xpe</a><br> View project at: <a href='https://wandb.ai/amanjn2003-santa-clara-university/Malaria-Detection-HP-Tune' target=\"_blank\">https://wandb.ai/amanjn2003-santa-clara-university/Malaria-Detection-HP-Tune</a><br>Synced 5 W&B file(s), 0 media file(s), 20 artifact file(s) and 0 other file(s)"
      ],
      "text/plain": [
       "<IPython.core.display.HTML object>"
      ]
     },
     "metadata": {},
     "output_type": "display_data"
    },
    {
     "data": {
      "text/html": [
       "Find logs at: <code>./wandb/run-20250127_142409-z7l64xpe/logs</code>"
      ],
      "text/plain": [
       "<IPython.core.display.HTML object>"
      ]
     },
     "metadata": {},
     "output_type": "display_data"
    },
    {
     "name": "stderr",
     "output_type": "stream",
     "text": [
      "\u001b[34m\u001b[1mwandb\u001b[0m: Agent Starting Run: cjfp3rlz with config:\n",
      "\u001b[34m\u001b[1mwandb\u001b[0m: \tDROPOUT_RATE: 0.2904818451464386\n",
      "\u001b[34m\u001b[1mwandb\u001b[0m: \tLEARNING_RATE: 0.05858092491710154\n",
      "\u001b[34m\u001b[1mwandb\u001b[0m: \tN_DENSE_1: 64\n",
      "\u001b[34m\u001b[1mwandb\u001b[0m: \tN_DENSE_2: 32\n",
      "\u001b[34m\u001b[1mwandb\u001b[0m: \tREGULARIZATION_RATE: 0.005097812613272245\n"
     ]
    },
    {
     "data": {
      "text/html": [
       "Ignoring project 'Malaria-Detection' when running a sweep."
      ],
      "text/plain": [
       "<IPython.core.display.HTML object>"
      ]
     },
     "metadata": {},
     "output_type": "display_data"
    },
    {
     "data": {
      "text/html": [
       "Ignoring entity 'amanjn2003-santa-clara-university' when running a sweep."
      ],
      "text/plain": [
       "<IPython.core.display.HTML object>"
      ]
     },
     "metadata": {},
     "output_type": "display_data"
    },
    {
     "data": {
      "text/html": [
       "Tracking run with wandb version 0.19.4"
      ],
      "text/plain": [
       "<IPython.core.display.HTML object>"
      ]
     },
     "metadata": {},
     "output_type": "display_data"
    },
    {
     "data": {
      "text/html": [
       "Run data is saved locally in <code>/Users/aman/Documents/Work/Machine Learning/Computer-Vision-TensorFlow/Weights&Biases-Integration/wandb/run-20250127_143006-cjfp3rlz</code>"
      ],
      "text/plain": [
       "<IPython.core.display.HTML object>"
      ]
     },
     "metadata": {},
     "output_type": "display_data"
    },
    {
     "data": {
      "text/html": [
       "Syncing run <strong><a href='https://wandb.ai/amanjn2003-santa-clara-university/Malaria-Detection-HP-Tune/runs/cjfp3rlz' target=\"_blank\">Run-HP-Tune</a></strong> to <a href='https://wandb.ai/amanjn2003-santa-clara-university/Malaria-Detection-HP-Tune' target=\"_blank\">Weights & Biases</a> (<a href='https://wandb.me/developer-guide' target=\"_blank\">docs</a>)<br>Sweep page: <a href='https://wandb.ai/amanjn2003-santa-clara-university/Malaria-Detection-HP-Tune/sweeps/sisjf06a' target=\"_blank\">https://wandb.ai/amanjn2003-santa-clara-university/Malaria-Detection-HP-Tune/sweeps/sisjf06a</a>"
      ],
      "text/plain": [
       "<IPython.core.display.HTML object>"
      ]
     },
     "metadata": {},
     "output_type": "display_data"
    },
    {
     "data": {
      "text/html": [
       " View project at <a href='https://wandb.ai/amanjn2003-santa-clara-university/Malaria-Detection-HP-Tune' target=\"_blank\">https://wandb.ai/amanjn2003-santa-clara-university/Malaria-Detection-HP-Tune</a>"
      ],
      "text/plain": [
       "<IPython.core.display.HTML object>"
      ]
     },
     "metadata": {},
     "output_type": "display_data"
    },
    {
     "data": {
      "text/html": [
       " View sweep at <a href='https://wandb.ai/amanjn2003-santa-clara-university/Malaria-Detection-HP-Tune/sweeps/sisjf06a' target=\"_blank\">https://wandb.ai/amanjn2003-santa-clara-university/Malaria-Detection-HP-Tune/sweeps/sisjf06a</a>"
      ],
      "text/plain": [
       "<IPython.core.display.HTML object>"
      ]
     },
     "metadata": {},
     "output_type": "display_data"
    },
    {
     "data": {
      "text/html": [
       " View run at <a href='https://wandb.ai/amanjn2003-santa-clara-university/Malaria-Detection-HP-Tune/runs/cjfp3rlz' target=\"_blank\">https://wandb.ai/amanjn2003-santa-clara-university/Malaria-Detection-HP-Tune/runs/cjfp3rlz</a>"
      ],
      "text/plain": [
       "<IPython.core.display.HTML object>"
      ]
     },
     "metadata": {},
     "output_type": "display_data"
    },
    {
     "name": "stdout",
     "output_type": "stream",
     "text": [
      "Epoch 1/10\n",
      "\u001b[1m689/689\u001b[0m \u001b[32m━━━━━━━━━━━━━━━━━━━━\u001b[0m\u001b[37m\u001b[0m \u001b[1m36s\u001b[0m 49ms/step - auc: 0.5526 - binary_accuracy: 0.5419 - false_negatives: 2451.4478 - false_positives: 3851.1580 - loss: 4.7261 - precision: 0.5358 - recall: 0.6833 - true_negatives: 3030.7275 - true_positives: 4477.6143 - val_auc: 0.6235 - val_binary_accuracy: 0.5456 - val_false_negatives: 131.0000 - val_false_positives: 1121.0000 - val_loss: 1.4564 - val_precision: 0.5300 - val_recall: 0.9061 - val_true_negatives: 239.0000 - val_true_positives: 1264.0000\n",
      "Epoch 2/10\n",
      "\u001b[1m689/689\u001b[0m \u001b[32m━━━━━━━━━━━━━━━━━━━━\u001b[0m\u001b[37m\u001b[0m \u001b[1m33s\u001b[0m 47ms/step - auc: 0.5317 - binary_accuracy: 0.5244 - false_negatives: 2735.3262 - false_positives: 2516.3086 - loss: 1.0224 - precision: 0.5282 - recall: 0.5131 - true_negatives: 3002.4985 - true_positives: 2801.8145 - val_auc: 0.5176 - val_binary_accuracy: 0.5089 - val_false_negatives: 789.0000 - val_false_positives: 564.0000 - val_loss: 1.2939 - val_precision: 0.5146 - val_recall: 0.4311 - val_true_negatives: 804.0000 - val_true_positives: 598.0000\n",
      "Epoch 3/10\n",
      "\u001b[1m689/689\u001b[0m \u001b[32m━━━━━━━━━━━━━━━━━━━━\u001b[0m\u001b[37m\u001b[0m \u001b[1m33s\u001b[0m 47ms/step - auc: 0.5270 - binary_accuracy: 0.5147 - false_negatives: 2739.4377 - false_positives: 2611.2231 - loss: 1.0983 - precision: 0.5181 - recall: 0.5151 - true_negatives: 2907.4448 - true_positives: 2797.8420 - val_auc: 0.5875 - val_binary_accuracy: 0.4966 - val_false_negatives: 1387.0000 - val_false_positives: 0.0000e+00 - val_loss: 1.8131 - val_precision: 0.0000e+00 - val_recall: 0.0000e+00 - val_true_negatives: 1368.0000 - val_true_positives: 0.0000e+00\n",
      "Epoch 4/10\n",
      "\u001b[1m689/689\u001b[0m \u001b[32m━━━━━━━━━━━━━━━━━━━━\u001b[0m\u001b[37m\u001b[0m \u001b[1m33s\u001b[0m 47ms/step - auc: 0.5176 - binary_accuracy: 0.5109 - false_negatives: 2854.5623 - false_positives: 2594.2305 - loss: 1.0182 - precision: 0.5156 - recall: 0.4882 - true_negatives: 2924.6594 - true_positives: 2682.4956 - val_auc: 0.5000 - val_binary_accuracy: 0.4962 - val_false_negatives: 1388.0000 - val_false_positives: 0.0000e+00 - val_loss: 0.7283 - val_precision: 0.0000e+00 - val_recall: 0.0000e+00 - val_true_negatives: 1367.0000 - val_true_positives: 0.0000e+00\n",
      "Epoch 5/10\n",
      "\u001b[1m689/689\u001b[0m \u001b[32m━━━━━━━━━━━━━━━━━━━━\u001b[0m\u001b[37m\u001b[0m \u001b[1m33s\u001b[0m 48ms/step - auc: 0.4979 - binary_accuracy: 0.4965 - false_negatives: 2855.3550 - false_positives: 2697.2812 - loss: 0.7232 - precision: 0.4984 - recall: 0.5011 - true_negatives: 2821.4175 - true_positives: 2681.8943 - val_auc: 0.5000 - val_binary_accuracy: 0.4933 - val_false_negatives: 1396.0000 - val_false_positives: 0.0000e+00 - val_loss: 0.7430 - val_precision: 0.0000e+00 - val_recall: 0.0000e+00 - val_true_negatives: 1359.0000 - val_true_positives: 0.0000e+00\n",
      "Epoch 6/10\n",
      "\u001b[1m689/689\u001b[0m \u001b[32m━━━━━━━━━━━━━━━━━━━━\u001b[0m\u001b[37m\u001b[0m \u001b[1m33s\u001b[0m 47ms/step - auc: 0.4914 - binary_accuracy: 0.4899 - false_negatives: 2778.3564 - false_positives: 2835.8203 - loss: 0.7030 - precision: 0.4934 - recall: 0.4987 - true_negatives: 2682.8782 - true_positives: 2758.8928 - val_auc: 0.5000 - val_binary_accuracy: 0.4951 - val_false_negatives: 1391.0000 - val_false_positives: 0.0000e+00 - val_loss: 0.8564 - val_precision: 0.0000e+00 - val_recall: 0.0000e+00 - val_true_negatives: 1364.0000 - val_true_positives: 0.0000e+00\n",
      "Epoch 7/10\n",
      "\u001b[1m689/689\u001b[0m \u001b[32m━━━━━━━━━━━━━━━━━━━━\u001b[0m\u001b[37m\u001b[0m \u001b[1m33s\u001b[0m 47ms/step - auc: 0.4971 - binary_accuracy: 0.4964 - false_negatives: 2634.6042 - false_positives: 2936.9275 - loss: 0.7122 - precision: 0.4997 - recall: 0.5349 - true_negatives: 2581.8450 - true_positives: 2902.5710 - val_auc: 0.5000 - val_binary_accuracy: 0.5042 - val_false_negatives: 0.0000e+00 - val_false_positives: 1366.0000 - val_loss: 0.7007 - val_precision: 0.5042 - val_recall: 1.0000 - val_true_negatives: 0.0000e+00 - val_true_positives: 1389.0000\n",
      "Epoch 8/10\n",
      "\u001b[1m689/689\u001b[0m \u001b[32m━━━━━━━━━━━━━━━━━━━━\u001b[0m\u001b[37m\u001b[0m \u001b[1m33s\u001b[0m 47ms/step - auc: 0.4970 - binary_accuracy: 0.5016 - false_negatives: 2456.6042 - false_positives: 3048.3145 - loss: 0.7095 - precision: 0.5026 - recall: 0.5710 - true_negatives: 2470.5115 - true_positives: 3080.5173 - val_auc: 0.5000 - val_binary_accuracy: 0.4951 - val_false_negatives: 1391.0000 - val_false_positives: 0.0000e+00 - val_loss: 0.7135 - val_precision: 0.0000e+00 - val_recall: 0.0000e+00 - val_true_negatives: 1364.0000 - val_true_positives: 0.0000e+00\n",
      "Epoch 9/10\n",
      "\u001b[1m689/689\u001b[0m \u001b[32m━━━━━━━━━━━━━━━━━━━━\u001b[0m\u001b[37m\u001b[0m \u001b[1m33s\u001b[0m 47ms/step - auc: 0.4940 - binary_accuracy: 0.4992 - false_negatives: 2645.1624 - false_positives: 2885.6304 - loss: 0.7101 - precision: 0.4982 - recall: 0.5389 - true_negatives: 2633.0522 - true_positives: 2892.1028 - val_auc: 0.5000 - val_binary_accuracy: 0.4933 - val_false_negatives: 1396.0000 - val_false_positives: 0.0000e+00 - val_loss: 1.5294 - val_precision: 0.0000e+00 - val_recall: 0.0000e+00 - val_true_negatives: 1359.0000 - val_true_positives: 0.0000e+00\n",
      "Epoch 10/10\n",
      "\u001b[1m689/689\u001b[0m \u001b[32m━━━━━━━━━━━━━━━━━━━━\u001b[0m\u001b[37m\u001b[0m \u001b[1m33s\u001b[0m 47ms/step - auc: 0.4969 - binary_accuracy: 0.5008 - false_negatives: 2646.7883 - false_positives: 2883.0652 - loss: 0.7135 - precision: 0.5033 - recall: 0.5522 - true_negatives: 2635.8232 - true_positives: 2890.2710 - val_auc: 0.5000 - val_binary_accuracy: 0.5053 - val_false_negatives: 0.0000e+00 - val_false_positives: 1363.0000 - val_loss: 10.6823 - val_precision: 0.5053 - val_recall: 1.0000 - val_true_negatives: 0.0000e+00 - val_true_positives: 1392.0000\n"
     ]
    },
    {
     "data": {
      "text/html": [],
      "text/plain": [
       "<IPython.core.display.HTML object>"
      ]
     },
     "metadata": {},
     "output_type": "display_data"
    },
    {
     "data": {
      "text/html": [
       "<br>    <style><br>        .wandb-row {<br>            display: flex;<br>            flex-direction: row;<br>            flex-wrap: wrap;<br>            justify-content: flex-start;<br>            width: 100%;<br>        }<br>        .wandb-col {<br>            display: flex;<br>            flex-direction: column;<br>            flex-basis: 100%;<br>            flex: 1;<br>            padding: 10px;<br>        }<br>    </style><br><div class=\"wandb-row\"><div class=\"wandb-col\"><h3>Run history:</h3><br/><table class=\"wandb\"><tr><td>epoch/auc</td><td>█▅▅▃▂▁▁▂▁▁</td></tr><tr><td>epoch/binary_accuracy</td><td>█▅▅▃▂▁▁▂▂▂</td></tr><tr><td>epoch/epoch</td><td>▁▂▃▃▄▅▆▆▇█</td></tr><tr><td>epoch/false_negatives</td><td>▁▅▅▆█▇▅▃▅▄</td></tr><tr><td>epoch/false_positives</td><td>█▁▂▂▂▃▄▅▄▄</td></tr><tr><td>epoch/learning_rate</td><td>▁▁▁▁▁▁▁▁▁▁</td></tr><tr><td>epoch/loss</td><td>█▃▃▂▁▁▁▁▁▁</td></tr><tr><td>epoch/precision</td><td>█▆▅▃▂▁▁▂▂▂</td></tr><tr><td>epoch/recall</td><td>█▃▃▂▁▂▃▄▃▃</td></tr><tr><td>epoch/true_negatives</td><td>██▆▆▆▄▂▁▃▂</td></tr><tr><td>epoch/true_positives</td><td>█▂▂▂▁▂▂▃▂▃</td></tr><tr><td>epoch/val_auc</td><td>█▂▆▁▁▁▁▁▁▁</td></tr><tr><td>epoch/val_binary_accuracy</td><td>█▃▁▁▁▁▂▁▁▃</td></tr><tr><td>epoch/val_false_negatives</td><td>▂▅████▁██▁</td></tr><tr><td>epoch/val_false_positives</td><td>▇▄▁▁▁▁█▁▁█</td></tr><tr><td>epoch/val_loss</td><td>▂▁▂▁▁▁▁▁▂█</td></tr><tr><td>epoch/val_precision</td><td>██▁▁▁▁█▁▁█</td></tr><tr><td>epoch/val_recall</td><td>▇▄▁▁▁▁█▁▁█</td></tr><tr><td>epoch/val_true_negatives</td><td>▂▅████▁██▁</td></tr><tr><td>epoch/val_true_positives</td><td>▇▄▁▁▁▁█▁▁█</td></tr><tr><td>val_binary_accuracy</td><td>▁</td></tr></table><br/></div><div class=\"wandb-col\"><h3>Run summary:</h3><br/><table class=\"wandb\"><tr><td>epoch/auc</td><td>0.49895</td></tr><tr><td>epoch/binary_accuracy</td><td>0.50091</td></tr><tr><td>epoch/epoch</td><td>9</td></tr><tr><td>epoch/false_negatives</td><td>5265</td></tr><tr><td>epoch/false_positives</td><td>5738</td></tr><tr><td>epoch/learning_rate</td><td>0.05858</td></tr><tr><td>epoch/loss</td><td>0.71432</td></tr><tr><td>epoch/precision</td><td>0.50096</td></tr><tr><td>epoch/recall</td><td>0.52245</td></tr><tr><td>epoch/true_negatives</td><td>5283</td></tr><tr><td>epoch/true_positives</td><td>5760</td></tr><tr><td>epoch/val_auc</td><td>0.5</td></tr><tr><td>epoch/val_binary_accuracy</td><td>0.50526</td></tr><tr><td>epoch/val_false_negatives</td><td>0</td></tr><tr><td>epoch/val_false_positives</td><td>1363</td></tr><tr><td>epoch/val_loss</td><td>10.6823</td></tr><tr><td>epoch/val_precision</td><td>0.50526</td></tr><tr><td>epoch/val_recall</td><td>1</td></tr><tr><td>epoch/val_true_negatives</td><td>0</td></tr><tr><td>epoch/val_true_positives</td><td>1392</td></tr><tr><td>val_binary_accuracy</td><td>0.50526</td></tr></table><br/></div></div>"
      ],
      "text/plain": [
       "<IPython.core.display.HTML object>"
      ]
     },
     "metadata": {},
     "output_type": "display_data"
    },
    {
     "data": {
      "text/html": [
       " View run <strong style=\"color:#cdcd00\">Run-HP-Tune</strong> at: <a href='https://wandb.ai/amanjn2003-santa-clara-university/Malaria-Detection-HP-Tune/runs/cjfp3rlz' target=\"_blank\">https://wandb.ai/amanjn2003-santa-clara-university/Malaria-Detection-HP-Tune/runs/cjfp3rlz</a><br> View project at: <a href='https://wandb.ai/amanjn2003-santa-clara-university/Malaria-Detection-HP-Tune' target=\"_blank\">https://wandb.ai/amanjn2003-santa-clara-university/Malaria-Detection-HP-Tune</a><br>Synced 5 W&B file(s), 0 media file(s), 20 artifact file(s) and 0 other file(s)"
      ],
      "text/plain": [
       "<IPython.core.display.HTML object>"
      ]
     },
     "metadata": {},
     "output_type": "display_data"
    },
    {
     "data": {
      "text/html": [
       "Find logs at: <code>./wandb/run-20250127_143006-cjfp3rlz/logs</code>"
      ],
      "text/plain": [
       "<IPython.core.display.HTML object>"
      ]
     },
     "metadata": {},
     "output_type": "display_data"
    },
    {
     "name": "stderr",
     "output_type": "stream",
     "text": [
      "\u001b[34m\u001b[1mwandb\u001b[0m: Agent Starting Run: t7pi7j38 with config:\n",
      "\u001b[34m\u001b[1mwandb\u001b[0m: \tDROPOUT_RATE: 0.269956800798061\n",
      "\u001b[34m\u001b[1mwandb\u001b[0m: \tLEARNING_RATE: 0.07212367572614767\n",
      "\u001b[34m\u001b[1mwandb\u001b[0m: \tN_DENSE_1: 64\n",
      "\u001b[34m\u001b[1mwandb\u001b[0m: \tN_DENSE_2: 32\n",
      "\u001b[34m\u001b[1mwandb\u001b[0m: \tREGULARIZATION_RATE: 0.08805241100344176\n"
     ]
    },
    {
     "data": {
      "text/html": [
       "Ignoring project 'Malaria-Detection' when running a sweep."
      ],
      "text/plain": [
       "<IPython.core.display.HTML object>"
      ]
     },
     "metadata": {},
     "output_type": "display_data"
    },
    {
     "data": {
      "text/html": [
       "Ignoring entity 'amanjn2003-santa-clara-university' when running a sweep."
      ],
      "text/plain": [
       "<IPython.core.display.HTML object>"
      ]
     },
     "metadata": {},
     "output_type": "display_data"
    },
    {
     "data": {
      "text/html": [
       "Tracking run with wandb version 0.19.4"
      ],
      "text/plain": [
       "<IPython.core.display.HTML object>"
      ]
     },
     "metadata": {},
     "output_type": "display_data"
    },
    {
     "data": {
      "text/html": [
       "Run data is saved locally in <code>/Users/aman/Documents/Work/Machine Learning/Computer-Vision-TensorFlow/Weights&Biases-Integration/wandb/run-20250127_143542-t7pi7j38</code>"
      ],
      "text/plain": [
       "<IPython.core.display.HTML object>"
      ]
     },
     "metadata": {},
     "output_type": "display_data"
    },
    {
     "data": {
      "text/html": [
       "Syncing run <strong><a href='https://wandb.ai/amanjn2003-santa-clara-university/Malaria-Detection-HP-Tune/runs/t7pi7j38' target=\"_blank\">Run-HP-Tune</a></strong> to <a href='https://wandb.ai/amanjn2003-santa-clara-university/Malaria-Detection-HP-Tune' target=\"_blank\">Weights & Biases</a> (<a href='https://wandb.me/developer-guide' target=\"_blank\">docs</a>)<br>Sweep page: <a href='https://wandb.ai/amanjn2003-santa-clara-university/Malaria-Detection-HP-Tune/sweeps/sisjf06a' target=\"_blank\">https://wandb.ai/amanjn2003-santa-clara-university/Malaria-Detection-HP-Tune/sweeps/sisjf06a</a>"
      ],
      "text/plain": [
       "<IPython.core.display.HTML object>"
      ]
     },
     "metadata": {},
     "output_type": "display_data"
    },
    {
     "data": {
      "text/html": [
       " View project at <a href='https://wandb.ai/amanjn2003-santa-clara-university/Malaria-Detection-HP-Tune' target=\"_blank\">https://wandb.ai/amanjn2003-santa-clara-university/Malaria-Detection-HP-Tune</a>"
      ],
      "text/plain": [
       "<IPython.core.display.HTML object>"
      ]
     },
     "metadata": {},
     "output_type": "display_data"
    },
    {
     "data": {
      "text/html": [
       " View sweep at <a href='https://wandb.ai/amanjn2003-santa-clara-university/Malaria-Detection-HP-Tune/sweeps/sisjf06a' target=\"_blank\">https://wandb.ai/amanjn2003-santa-clara-university/Malaria-Detection-HP-Tune/sweeps/sisjf06a</a>"
      ],
      "text/plain": [
       "<IPython.core.display.HTML object>"
      ]
     },
     "metadata": {},
     "output_type": "display_data"
    },
    {
     "data": {
      "text/html": [
       " View run at <a href='https://wandb.ai/amanjn2003-santa-clara-university/Malaria-Detection-HP-Tune/runs/t7pi7j38' target=\"_blank\">https://wandb.ai/amanjn2003-santa-clara-university/Malaria-Detection-HP-Tune/runs/t7pi7j38</a>"
      ],
      "text/plain": [
       "<IPython.core.display.HTML object>"
      ]
     },
     "metadata": {},
     "output_type": "display_data"
    },
    {
     "name": "stdout",
     "output_type": "stream",
     "text": [
      "Epoch 1/10\n",
      "\u001b[1m689/689\u001b[0m \u001b[32m━━━━━━━━━━━━━━━━━━━━\u001b[0m\u001b[37m\u001b[0m \u001b[1m36s\u001b[0m 49ms/step - auc: 0.5184 - binary_accuracy: 0.5202 - false_negatives: 2621.3870 - false_positives: 4010.1218 - loss: 15.6372 - precision: 0.5181 - recall: 0.6588 - true_negatives: 2871.6130 - true_positives: 4307.8262 - val_auc: 0.5086 - val_binary_accuracy: 0.4933 - val_false_negatives: 1396.0000 - val_false_positives: 0.0000e+00 - val_loss: 1.0987 - val_precision: 0.0000e+00 - val_recall: 0.0000e+00 - val_true_negatives: 1359.0000 - val_true_positives: 0.0000e+00\n",
      "Epoch 2/10\n",
      "\u001b[1m689/689\u001b[0m \u001b[32m━━━━━━━━━━━━━━━━━━━━\u001b[0m\u001b[37m\u001b[0m \u001b[1m33s\u001b[0m 48ms/step - auc: 0.5079 - binary_accuracy: 0.5039 - false_negatives: 2841.8086 - false_positives: 2650.0710 - loss: 1.3361 - precision: 0.5076 - recall: 0.4882 - true_negatives: 2868.7014 - true_positives: 2695.3667 - val_auc: 0.5413 - val_binary_accuracy: 0.4947 - val_false_negatives: 1392.0000 - val_false_positives: 0.0000e+00 - val_loss: 1.0671 - val_precision: 0.0000e+00 - val_recall: 0.0000e+00 - val_true_negatives: 1363.0000 - val_true_positives: 0.0000e+00\n",
      "Epoch 3/10\n",
      "\u001b[1m689/689\u001b[0m \u001b[32m━━━━━━━━━━━━━━━━━━━━\u001b[0m\u001b[37m\u001b[0m \u001b[1m33s\u001b[0m 48ms/step - auc: 0.4989 - binary_accuracy: 0.4994 - false_negatives: 2922.7942 - false_positives: 2617.5493 - loss: 1.0104 - precision: 0.5028 - recall: 0.4816 - true_negatives: 2901.3115 - true_positives: 2614.2927 - val_auc: 0.5846 - val_binary_accuracy: 0.5067 - val_false_negatives: 0.0000e+00 - val_false_positives: 1359.0000 - val_loss: 1.4660 - val_precision: 0.5067 - val_recall: 1.0000 - val_true_negatives: 0.0000e+00 - val_true_positives: 1396.0000\n",
      "Epoch 4/10\n",
      "\u001b[1m689/689\u001b[0m \u001b[32m━━━━━━━━━━━━━━━━━━━━\u001b[0m\u001b[37m\u001b[0m \u001b[1m33s\u001b[0m 48ms/step - auc: 0.5005 - binary_accuracy: 0.5035 - false_negatives: 2732.3318 - false_positives: 2758.6899 - loss: 1.6135 - precision: 0.5066 - recall: 0.5067 - true_negatives: 2760.0405 - true_positives: 2804.8855 - val_auc: 0.5000 - val_binary_accuracy: 0.4973 - val_false_negatives: 1385.0000 - val_false_positives: 0.0000e+00 - val_loss: 13.4344 - val_precision: 0.0000e+00 - val_recall: 0.0000e+00 - val_true_negatives: 1370.0000 - val_true_positives: 0.0000e+00\n",
      "Epoch 5/10\n",
      "\u001b[1m689/689\u001b[0m \u001b[32m━━━━━━━━━━━━━━━━━━━━\u001b[0m\u001b[37m\u001b[0m \u001b[1m32s\u001b[0m 47ms/step - auc: 0.5081 - binary_accuracy: 0.5062 - false_negatives: 2570.2087 - false_positives: 2887.9377 - loss: 1.6342 - precision: 0.5086 - recall: 0.5534 - true_negatives: 2630.7073 - true_positives: 2967.0942 - val_auc: 0.5067 - val_binary_accuracy: 0.4947 - val_false_negatives: 1392.0000 - val_false_positives: 0.0000e+00 - val_loss: 1.3480 - val_precision: 0.0000e+00 - val_recall: 0.0000e+00 - val_true_negatives: 1363.0000 - val_true_positives: 0.0000e+00\n",
      "Epoch 6/10\n",
      "\u001b[1m689/689\u001b[0m \u001b[32m━━━━━━━━━━━━━━━━━━━━\u001b[0m\u001b[37m\u001b[0m \u001b[1m32s\u001b[0m 47ms/step - auc: 0.5116 - binary_accuracy: 0.5082 - false_negatives: 2701.1042 - false_positives: 2750.0405 - loss: 2.4745 - precision: 0.5113 - recall: 0.5217 - true_negatives: 2768.8232 - true_positives: 2835.9797 - val_auc: 0.5120 - val_binary_accuracy: 0.4958 - val_false_negatives: 1389.0000 - val_false_positives: 0.0000e+00 - val_loss: 2.4451 - val_precision: 0.0000e+00 - val_recall: 0.0000e+00 - val_true_negatives: 1366.0000 - val_true_positives: 0.0000e+00\n",
      "Epoch 7/10\n",
      "\u001b[1m689/689\u001b[0m \u001b[32m━━━━━━━━━━━━━━━━━━━━\u001b[0m\u001b[37m\u001b[0m \u001b[1m32s\u001b[0m 47ms/step - auc: 0.5054 - binary_accuracy: 0.5018 - false_negatives: 2816.8972 - false_positives: 2688.8914 - loss: 1.7466 - precision: 0.5047 - recall: 0.5029 - true_negatives: 2829.8086 - true_positives: 2720.3508 - val_auc: 0.5000 - val_binary_accuracy: 0.4929 - val_false_negatives: 1397.0000 - val_false_positives: 0.0000e+00 - val_loss: 1.0048 - val_precision: 0.0000e+00 - val_recall: 0.0000e+00 - val_true_negatives: 1358.0000 - val_true_positives: 0.0000e+00\n",
      "Epoch 8/10\n",
      "\u001b[1m689/689\u001b[0m \u001b[32m━━━━━━━━━━━━━━━━━━━━\u001b[0m\u001b[37m\u001b[0m \u001b[1m33s\u001b[0m 47ms/step - auc: 0.4951 - binary_accuracy: 0.4983 - false_negatives: 2966.0334 - false_positives: 2588.3726 - loss: 1.0108 - precision: 0.5022 - recall: 0.4837 - true_negatives: 2930.3376 - true_positives: 2571.2043 - val_auc: 0.5000 - val_binary_accuracy: 0.4947 - val_false_negatives: 1392.0000 - val_false_positives: 0.0000e+00 - val_loss: 1.0409 - val_precision: 0.0000e+00 - val_recall: 0.0000e+00 - val_true_negatives: 1363.0000 - val_true_positives: 0.0000e+00\n",
      "Epoch 9/10\n",
      "\u001b[1m689/689\u001b[0m \u001b[32m━━━━━━━━━━━━━━━━━━━━\u001b[0m\u001b[37m\u001b[0m \u001b[1m32s\u001b[0m 46ms/step - auc: 0.4956 - binary_accuracy: 0.4987 - false_negatives: 2690.2378 - false_positives: 2860.8145 - loss: 1.0297 - precision: 0.5015 - recall: 0.5318 - true_negatives: 2657.9695 - true_positives: 2846.9260 - val_auc: 0.5000 - val_binary_accuracy: 0.4936 - val_false_negatives: 1395.0000 - val_false_positives: 0.0000e+00 - val_loss: 12.0065 - val_precision: 0.0000e+00 - val_recall: 0.0000e+00 - val_true_negatives: 1360.0000 - val_true_positives: 0.0000e+00\n",
      "Epoch 10/10\n",
      "\u001b[1m689/689\u001b[0m \u001b[32m━━━━━━━━━━━━━━━━━━━━\u001b[0m\u001b[37m\u001b[0m \u001b[1m32s\u001b[0m 46ms/step - auc: 0.5051 - binary_accuracy: 0.5041 - false_negatives: 2707.9058 - false_positives: 2762.0754 - loss: 1.0696 - precision: 0.5077 - recall: 0.5054 - true_negatives: 2756.6362 - true_positives: 2829.3303 - val_auc: 0.5000 - val_binary_accuracy: 0.5071 - val_false_negatives: 0.0000e+00 - val_false_positives: 1358.0000 - val_loss: 1.2376 - val_precision: 0.5071 - val_recall: 1.0000 - val_true_negatives: 0.0000e+00 - val_true_positives: 1397.0000\n"
     ]
    },
    {
     "data": {
      "text/html": [],
      "text/plain": [
       "<IPython.core.display.HTML object>"
      ]
     },
     "metadata": {},
     "output_type": "display_data"
    },
    {
     "data": {
      "text/html": [
       "<br>    <style><br>        .wandb-row {<br>            display: flex;<br>            flex-direction: row;<br>            flex-wrap: wrap;<br>            justify-content: flex-start;<br>            width: 100%;<br>        }<br>        .wandb-col {<br>            display: flex;<br>            flex-direction: column;<br>            flex-basis: 100%;<br>            flex: 1;<br>            padding: 10px;<br>        }<br>    </style><br><div class=\"wandb-row\"><div class=\"wandb-col\"><h3>Run history:</h3><br/><table class=\"wandb\"><tr><td>epoch/auc</td><td>█▃▂▃▅▄▃▂▁▃</td></tr><tr><td>epoch/binary_accuracy</td><td>█▃▁▃▄▄▂▁▁▃</td></tr><tr><td>epoch/epoch</td><td>▁▂▃▃▄▅▆▆▇█</td></tr><tr><td>epoch/false_negatives</td><td>▁▅█▃▁▄▄█▄▄</td></tr><tr><td>epoch/false_positives</td><td>█▂▁▃▃▂▃▁▃▃</td></tr><tr><td>epoch/learning_rate</td><td>▁▁▁▁▁▁▁▁▁▁</td></tr><tr><td>epoch/loss</td><td>█▂▁▂▃▃▃▁▁▁</td></tr><tr><td>epoch/precision</td><td>█▄▁▃▄▄▂▁▁▃</td></tr><tr><td>epoch/recall</td><td>█▃▁▄▅▃▃▁▄▃</td></tr><tr><td>epoch/true_negatives</td><td>▅▆█▂▁▅▃█▂▄</td></tr><tr><td>epoch/true_positives</td><td>█▂▁▃▃▂▂▁▃▂</td></tr><tr><td>epoch/val_auc</td><td>▂▄█▁▂▂▁▁▁▁</td></tr><tr><td>epoch/val_binary_accuracy</td><td>▁▂█▃▂▂▁▂▁█</td></tr><tr><td>epoch/val_false_negatives</td><td>██▁██████▁</td></tr><tr><td>epoch/val_false_positives</td><td>▁▁█▁▁▁▁▁▁█</td></tr><tr><td>epoch/val_loss</td><td>▁▁▁█▁▂▁▁▇▁</td></tr><tr><td>epoch/val_precision</td><td>▁▁█▁▁▁▁▁▁█</td></tr><tr><td>epoch/val_recall</td><td>▁▁█▁▁▁▁▁▁█</td></tr><tr><td>epoch/val_true_negatives</td><td>██▁██████▁</td></tr><tr><td>epoch/val_true_positives</td><td>▁▁█▁▁▁▁▁▁█</td></tr><tr><td>val_binary_accuracy</td><td>▁</td></tr></table><br/></div><div class=\"wandb-col\"><h3>Run summary:</h3><br/><table class=\"wandb\"><tr><td>epoch/auc</td><td>0.50314</td></tr><tr><td>epoch/binary_accuracy</td><td>0.50299</td></tr><tr><td>epoch/epoch</td><td>9</td></tr><tr><td>epoch/false_negatives</td><td>5454</td></tr><tr><td>epoch/false_positives</td><td>5503</td></tr><tr><td>epoch/learning_rate</td><td>0.07212</td></tr><tr><td>epoch/loss</td><td>1.07308</td></tr><tr><td>epoch/precision</td><td>0.50307</td></tr><tr><td>epoch/recall</td><td>0.50531</td></tr><tr><td>epoch/true_negatives</td><td>5518</td></tr><tr><td>epoch/true_positives</td><td>5571</td></tr><tr><td>epoch/val_auc</td><td>0.5</td></tr><tr><td>epoch/val_binary_accuracy</td><td>0.50708</td></tr><tr><td>epoch/val_false_negatives</td><td>0</td></tr><tr><td>epoch/val_false_positives</td><td>1358</td></tr><tr><td>epoch/val_loss</td><td>1.23762</td></tr><tr><td>epoch/val_precision</td><td>0.50708</td></tr><tr><td>epoch/val_recall</td><td>1</td></tr><tr><td>epoch/val_true_negatives</td><td>0</td></tr><tr><td>epoch/val_true_positives</td><td>1397</td></tr><tr><td>val_binary_accuracy</td><td>0.50708</td></tr></table><br/></div></div>"
      ],
      "text/plain": [
       "<IPython.core.display.HTML object>"
      ]
     },
     "metadata": {},
     "output_type": "display_data"
    },
    {
     "data": {
      "text/html": [
       " View run <strong style=\"color:#cdcd00\">Run-HP-Tune</strong> at: <a href='https://wandb.ai/amanjn2003-santa-clara-university/Malaria-Detection-HP-Tune/runs/t7pi7j38' target=\"_blank\">https://wandb.ai/amanjn2003-santa-clara-university/Malaria-Detection-HP-Tune/runs/t7pi7j38</a><br> View project at: <a href='https://wandb.ai/amanjn2003-santa-clara-university/Malaria-Detection-HP-Tune' target=\"_blank\">https://wandb.ai/amanjn2003-santa-clara-university/Malaria-Detection-HP-Tune</a><br>Synced 5 W&B file(s), 0 media file(s), 20 artifact file(s) and 0 other file(s)"
      ],
      "text/plain": [
       "<IPython.core.display.HTML object>"
      ]
     },
     "metadata": {},
     "output_type": "display_data"
    },
    {
     "data": {
      "text/html": [
       "Find logs at: <code>./wandb/run-20250127_143542-t7pi7j38/logs</code>"
      ],
      "text/plain": [
       "<IPython.core.display.HTML object>"
      ]
     },
     "metadata": {},
     "output_type": "display_data"
    },
    {
     "name": "stderr",
     "output_type": "stream",
     "text": [
      "\u001b[34m\u001b[1mwandb\u001b[0m: Agent Starting Run: s8jc260c with config:\n",
      "\u001b[34m\u001b[1mwandb\u001b[0m: \tDROPOUT_RATE: 0.10005410558772217\n",
      "\u001b[34m\u001b[1mwandb\u001b[0m: \tLEARNING_RATE: 0.08552085412767303\n",
      "\u001b[34m\u001b[1mwandb\u001b[0m: \tN_DENSE_1: 16\n",
      "\u001b[34m\u001b[1mwandb\u001b[0m: \tN_DENSE_2: 16\n",
      "\u001b[34m\u001b[1mwandb\u001b[0m: \tREGULARIZATION_RATE: 0.06341236207673964\n"
     ]
    },
    {
     "data": {
      "text/html": [
       "Ignoring project 'Malaria-Detection' when running a sweep."
      ],
      "text/plain": [
       "<IPython.core.display.HTML object>"
      ]
     },
     "metadata": {},
     "output_type": "display_data"
    },
    {
     "data": {
      "text/html": [
       "Ignoring entity 'amanjn2003-santa-clara-university' when running a sweep."
      ],
      "text/plain": [
       "<IPython.core.display.HTML object>"
      ]
     },
     "metadata": {},
     "output_type": "display_data"
    },
    {
     "data": {
      "text/html": [
       "Tracking run with wandb version 0.19.4"
      ],
      "text/plain": [
       "<IPython.core.display.HTML object>"
      ]
     },
     "metadata": {},
     "output_type": "display_data"
    },
    {
     "data": {
      "text/html": [
       "Run data is saved locally in <code>/Users/aman/Documents/Work/Machine Learning/Computer-Vision-TensorFlow/Weights&Biases-Integration/wandb/run-20250127_144118-s8jc260c</code>"
      ],
      "text/plain": [
       "<IPython.core.display.HTML object>"
      ]
     },
     "metadata": {},
     "output_type": "display_data"
    },
    {
     "data": {
      "text/html": [
       "Syncing run <strong><a href='https://wandb.ai/amanjn2003-santa-clara-university/Malaria-Detection-HP-Tune/runs/s8jc260c' target=\"_blank\">Run-HP-Tune</a></strong> to <a href='https://wandb.ai/amanjn2003-santa-clara-university/Malaria-Detection-HP-Tune' target=\"_blank\">Weights & Biases</a> (<a href='https://wandb.me/developer-guide' target=\"_blank\">docs</a>)<br>Sweep page: <a href='https://wandb.ai/amanjn2003-santa-clara-university/Malaria-Detection-HP-Tune/sweeps/sisjf06a' target=\"_blank\">https://wandb.ai/amanjn2003-santa-clara-university/Malaria-Detection-HP-Tune/sweeps/sisjf06a</a>"
      ],
      "text/plain": [
       "<IPython.core.display.HTML object>"
      ]
     },
     "metadata": {},
     "output_type": "display_data"
    },
    {
     "data": {
      "text/html": [
       " View project at <a href='https://wandb.ai/amanjn2003-santa-clara-university/Malaria-Detection-HP-Tune' target=\"_blank\">https://wandb.ai/amanjn2003-santa-clara-university/Malaria-Detection-HP-Tune</a>"
      ],
      "text/plain": [
       "<IPython.core.display.HTML object>"
      ]
     },
     "metadata": {},
     "output_type": "display_data"
    },
    {
     "data": {
      "text/html": [
       " View sweep at <a href='https://wandb.ai/amanjn2003-santa-clara-university/Malaria-Detection-HP-Tune/sweeps/sisjf06a' target=\"_blank\">https://wandb.ai/amanjn2003-santa-clara-university/Malaria-Detection-HP-Tune/sweeps/sisjf06a</a>"
      ],
      "text/plain": [
       "<IPython.core.display.HTML object>"
      ]
     },
     "metadata": {},
     "output_type": "display_data"
    },
    {
     "data": {
      "text/html": [
       " View run at <a href='https://wandb.ai/amanjn2003-santa-clara-university/Malaria-Detection-HP-Tune/runs/s8jc260c' target=\"_blank\">https://wandb.ai/amanjn2003-santa-clara-university/Malaria-Detection-HP-Tune/runs/s8jc260c</a>"
      ],
      "text/plain": [
       "<IPython.core.display.HTML object>"
      ]
     },
     "metadata": {},
     "output_type": "display_data"
    },
    {
     "name": "stdout",
     "output_type": "stream",
     "text": [
      "Epoch 1/10\n",
      "\u001b[1m689/689\u001b[0m \u001b[32m━━━━━━━━━━━━━━━━━━━━\u001b[0m\u001b[37m\u001b[0m \u001b[1m35s\u001b[0m 47ms/step - auc: 0.5139 - binary_accuracy: 0.5113 - false_negatives: 2707.6697 - false_positives: 4057.7971 - loss: 5.0036 - precision: 0.5112 - recall: 0.6507 - true_negatives: 2818.8840 - true_positives: 4226.5972 - val_auc: 0.5531 - val_binary_accuracy: 0.4944 - val_false_negatives: 1393.0000 - val_false_positives: 0.0000e+00 - val_loss: 0.8718 - val_precision: 0.0000e+00 - val_recall: 0.0000e+00 - val_true_negatives: 1362.0000 - val_true_positives: 0.0000e+00\n",
      "Epoch 2/10\n",
      "\u001b[1m689/689\u001b[0m \u001b[32m━━━━━━━━━━━━━━━━━━━━\u001b[0m\u001b[37m\u001b[0m \u001b[1m32s\u001b[0m 46ms/step - auc: 0.5111 - binary_accuracy: 0.5056 - false_negatives: 2731.7117 - false_positives: 2706.3943 - loss: 0.9881 - precision: 0.5071 - recall: 0.4999 - true_negatives: 2812.3262 - true_positives: 2805.5159 - val_auc: 0.6236 - val_binary_accuracy: 0.5721 - val_false_negatives: 908.0000 - val_false_positives: 271.0000 - val_loss: 0.9389 - val_precision: 0.6434 - val_recall: 0.3500 - val_true_negatives: 1087.0000 - val_true_positives: 489.0000\n",
      "Epoch 3/10\n",
      "\u001b[1m689/689\u001b[0m \u001b[32m━━━━━━━━━━━━━━━━━━━━\u001b[0m\u001b[37m\u001b[0m \u001b[1m32s\u001b[0m 46ms/step - auc: 0.5153 - binary_accuracy: 0.5065 - false_negatives: 2906.5261 - false_positives: 2593.7305 - loss: 1.1812 - precision: 0.5102 - recall: 0.4962 - true_negatives: 2924.9565 - true_positives: 2630.7349 - val_auc: 0.5000 - val_binary_accuracy: 0.4929 - val_false_negatives: 1397.0000 - val_false_positives: 0.0000e+00 - val_loss: 0.7726 - val_precision: 0.0000e+00 - val_recall: 0.0000e+00 - val_true_negatives: 1358.0000 - val_true_positives: 0.0000e+00\n",
      "Epoch 4/10\n",
      "\u001b[1m689/689\u001b[0m \u001b[32m━━━━━━━━━━━━━━━━━━━━\u001b[0m\u001b[37m\u001b[0m \u001b[1m32s\u001b[0m 46ms/step - auc: 0.5157 - binary_accuracy: 0.5098 - false_negatives: 2678.8928 - false_positives: 2757.9058 - loss: 1.0076 - precision: 0.5080 - recall: 0.5163 - true_negatives: 2760.7957 - true_positives: 2858.3535 - val_auc: 0.5235 - val_binary_accuracy: 0.4962 - val_false_negatives: 1388.0000 - val_false_positives: 0.0000e+00 - val_loss: 1.1807 - val_precision: 0.0000e+00 - val_recall: 0.0000e+00 - val_true_negatives: 1367.0000 - val_true_positives: 0.0000e+00\n",
      "Epoch 5/10\n",
      "\u001b[1m689/689\u001b[0m \u001b[32m━━━━━━━━━━━━━━━━━━━━\u001b[0m\u001b[37m\u001b[0m \u001b[1m32s\u001b[0m 46ms/step - auc: 0.4927 - binary_accuracy: 0.4966 - false_negatives: 2808.4783 - false_positives: 2735.1768 - loss: 0.9209 - precision: 0.4994 - recall: 0.5064 - true_negatives: 2783.6506 - true_positives: 2728.6421 - val_auc: 0.5000 - val_binary_accuracy: 0.5053 - val_false_negatives: 0.0000e+00 - val_false_positives: 1363.0000 - val_loss: 0.9065 - val_precision: 0.5053 - val_recall: 1.0000 - val_true_negatives: 0.0000e+00 - val_true_positives: 1392.0000\n",
      "Epoch 6/10\n",
      "\u001b[1m689/689\u001b[0m \u001b[32m━━━━━━━━━━━━━━━━━━━━\u001b[0m\u001b[37m\u001b[0m \u001b[1m32s\u001b[0m 46ms/step - auc: 0.4973 - binary_accuracy: 0.4975 - false_negatives: 3012.8523 - false_positives: 2535.5754 - loss: 0.9040 - precision: 0.5000 - recall: 0.4644 - true_negatives: 2983.2610 - true_positives: 2524.2595 - val_auc: 0.5032 - val_binary_accuracy: 0.4929 - val_false_negatives: 1397.0000 - val_false_positives: 0.0000e+00 - val_loss: 0.7825 - val_precision: 0.0000e+00 - val_recall: 0.0000e+00 - val_true_negatives: 1358.0000 - val_true_positives: 0.0000e+00\n",
      "Epoch 7/10\n",
      "\u001b[1m689/689\u001b[0m \u001b[32m━━━━━━━━━━━━━━━━━━━━\u001b[0m\u001b[37m\u001b[0m \u001b[1m32s\u001b[0m 46ms/step - auc: 0.5025 - binary_accuracy: 0.5024 - false_negatives: 2798.0725 - false_positives: 2698.0942 - loss: 0.9224 - precision: 0.5032 - recall: 0.5020 - true_negatives: 2820.6956 - true_positives: 2739.0854 - val_auc: 0.5000 - val_binary_accuracy: 0.5071 - val_false_negatives: 0.0000e+00 - val_false_positives: 1358.0000 - val_loss: 0.7296 - val_precision: 0.5071 - val_recall: 1.0000 - val_true_negatives: 0.0000e+00 - val_true_positives: 1397.0000\n",
      "Epoch 8/10\n",
      "\u001b[1m689/689\u001b[0m \u001b[32m━━━━━━━━━━━━━━━━━━━━\u001b[0m\u001b[37m\u001b[0m \u001b[1m32s\u001b[0m 46ms/step - auc: 0.5032 - binary_accuracy: 0.4972 - false_negatives: 2757.3071 - false_positives: 2799.7000 - loss: 0.8959 - precision: 0.5003 - recall: 0.5242 - true_negatives: 2719.0144 - true_positives: 2779.9260 - val_auc: 0.5000 - val_binary_accuracy: 0.5053 - val_false_negatives: 0.0000e+00 - val_false_positives: 1363.0000 - val_loss: 0.7509 - val_precision: 0.5053 - val_recall: 1.0000 - val_true_negatives: 0.0000e+00 - val_true_positives: 1392.0000\n",
      "Epoch 9/10\n",
      "\u001b[1m689/689\u001b[0m \u001b[32m━━━━━━━━━━━━━━━━━━━━\u001b[0m\u001b[37m\u001b[0m \u001b[1m32s\u001b[0m 46ms/step - auc: 0.5004 - binary_accuracy: 0.5017 - false_negatives: 2495.7217 - false_positives: 3011.6885 - loss: 0.8586 - precision: 0.5043 - recall: 0.5657 - true_negatives: 2507.1101 - true_positives: 3041.4275 - val_auc: 0.5000 - val_binary_accuracy: 0.4933 - val_false_negatives: 1396.0000 - val_false_positives: 0.0000e+00 - val_loss: 0.7600 - val_precision: 0.0000e+00 - val_recall: 0.0000e+00 - val_true_negatives: 1359.0000 - val_true_positives: 0.0000e+00\n",
      "Epoch 10/10\n",
      "\u001b[1m689/689\u001b[0m \u001b[32m━━━━━━━━━━━━━━━━━━━━\u001b[0m\u001b[37m\u001b[0m \u001b[1m32s\u001b[0m 46ms/step - auc: 0.4984 - binary_accuracy: 0.4987 - false_negatives: 2551.3232 - false_positives: 2997.4363 - loss: 0.7607 - precision: 0.4985 - recall: 0.5601 - true_negatives: 2521.4160 - true_positives: 2985.7725 - val_auc: 0.5000 - val_binary_accuracy: 0.4947 - val_false_negatives: 1392.0000 - val_false_positives: 0.0000e+00 - val_loss: 16.2486 - val_precision: 0.0000e+00 - val_recall: 0.0000e+00 - val_true_negatives: 1363.0000 - val_true_positives: 0.0000e+00\n"
     ]
    },
    {
     "data": {
      "text/html": [],
      "text/plain": [
       "<IPython.core.display.HTML object>"
      ]
     },
     "metadata": {},
     "output_type": "display_data"
    },
    {
     "data": {
      "text/html": [
       "<br>    <style><br>        .wandb-row {<br>            display: flex;<br>            flex-direction: row;<br>            flex-wrap: wrap;<br>            justify-content: flex-start;<br>            width: 100%;<br>        }<br>        .wandb-col {<br>            display: flex;<br>            flex-direction: column;<br>            flex-basis: 100%;<br>            flex: 1;<br>            padding: 10px;<br>        }<br>    </style><br><div class=\"wandb-row\"><div class=\"wandb-col\"><h3>Run history:</h3><br/><table class=\"wandb\"><tr><td>epoch/auc</td><td>█▆▅▇▃▃▃▃▄▁</td></tr><tr><td>epoch/binary_accuracy</td><td>██▄▇▄▃▄▂▅▁</td></tr><tr><td>epoch/epoch</td><td>▁▂▃▃▄▅▆▆▇█</td></tr><tr><td>epoch/false_negatives</td><td>▂▃▇▃▅█▄▆▁▂</td></tr><tr><td>epoch/false_positives</td><td>█▃▁▃▂▁▃▂▄▄</td></tr><tr><td>epoch/learning_rate</td><td>▁▁▁▁▁▁▁▁▁▁</td></tr><tr><td>epoch/loss</td><td>█▃▃▂▃▂▂▂▂▁</td></tr><tr><td>epoch/precision</td><td>██▄█▄▃▄▂▄▁</td></tr><tr><td>epoch/recall</td><td>█▄▂▅▃▁▃▂▆▅</td></tr><tr><td>epoch/true_negatives</td><td>▄▅█▄▅█▅▆▁▁</td></tr><tr><td>epoch/true_positives</td><td>█▃▁▃▂▁▃▂▄▃</td></tr><tr><td>epoch/val_auc</td><td>▄█▁▂▁▁▁▁▁▁</td></tr><tr><td>epoch/val_binary_accuracy</td><td>▁█▁▁▂▁▂▂▁▁</td></tr><tr><td>epoch/val_false_negatives</td><td>█▆██▁█▁▁██</td></tr><tr><td>epoch/val_false_positives</td><td>▁▂▁▁█▁██▁▁</td></tr><tr><td>epoch/val_loss</td><td>▁▁▁▁▁▁▁▁▁█</td></tr><tr><td>epoch/val_precision</td><td>▁█▁▁▆▁▇▆▁▁</td></tr><tr><td>epoch/val_recall</td><td>▁▃▁▁█▁██▁▁</td></tr><tr><td>epoch/val_true_negatives</td><td>█▇██▁█▁▁██</td></tr><tr><td>epoch/val_true_positives</td><td>▁▃▁▁█▁██▁▁</td></tr><tr><td>val_binary_accuracy</td><td>▁</td></tr></table><br/></div><div class=\"wandb-col\"><h3>Run summary:</h3><br/><table class=\"wandb\"><tr><td>epoch/auc</td><td>0.49617</td></tr><tr><td>epoch/binary_accuracy</td><td>0.49628</td></tr><tr><td>epoch/epoch</td><td>9</td></tr><tr><td>epoch/false_negatives</td><td>5286</td></tr><tr><td>epoch/false_positives</td><td>5819</td></tr><tr><td>epoch/learning_rate</td><td>0.08552</td></tr><tr><td>epoch/loss</td><td>0.76722</td></tr><tr><td>epoch/precision</td><td>0.49654</td></tr><tr><td>epoch/recall</td><td>0.52054</td></tr><tr><td>epoch/true_negatives</td><td>5202</td></tr><tr><td>epoch/true_positives</td><td>5739</td></tr><tr><td>epoch/val_auc</td><td>0.5</td></tr><tr><td>epoch/val_binary_accuracy</td><td>0.49474</td></tr><tr><td>epoch/val_false_negatives</td><td>1392</td></tr><tr><td>epoch/val_false_positives</td><td>0</td></tr><tr><td>epoch/val_loss</td><td>16.24864</td></tr><tr><td>epoch/val_precision</td><td>0</td></tr><tr><td>epoch/val_recall</td><td>0</td></tr><tr><td>epoch/val_true_negatives</td><td>1363</td></tr><tr><td>epoch/val_true_positives</td><td>0</td></tr><tr><td>val_binary_accuracy</td><td>0.49474</td></tr></table><br/></div></div>"
      ],
      "text/plain": [
       "<IPython.core.display.HTML object>"
      ]
     },
     "metadata": {},
     "output_type": "display_data"
    },
    {
     "data": {
      "text/html": [
       " View run <strong style=\"color:#cdcd00\">Run-HP-Tune</strong> at: <a href='https://wandb.ai/amanjn2003-santa-clara-university/Malaria-Detection-HP-Tune/runs/s8jc260c' target=\"_blank\">https://wandb.ai/amanjn2003-santa-clara-university/Malaria-Detection-HP-Tune/runs/s8jc260c</a><br> View project at: <a href='https://wandb.ai/amanjn2003-santa-clara-university/Malaria-Detection-HP-Tune' target=\"_blank\">https://wandb.ai/amanjn2003-santa-clara-university/Malaria-Detection-HP-Tune</a><br>Synced 5 W&B file(s), 0 media file(s), 20 artifact file(s) and 0 other file(s)"
      ],
      "text/plain": [
       "<IPython.core.display.HTML object>"
      ]
     },
     "metadata": {},
     "output_type": "display_data"
    },
    {
     "data": {
      "text/html": [
       "Find logs at: <code>./wandb/run-20250127_144118-s8jc260c/logs</code>"
      ],
      "text/plain": [
       "<IPython.core.display.HTML object>"
      ]
     },
     "metadata": {},
     "output_type": "display_data"
    },
    {
     "name": "stderr",
     "output_type": "stream",
     "text": [
      "\u001b[34m\u001b[1mwandb\u001b[0m: Agent Starting Run: z2r7irmp with config:\n",
      "\u001b[34m\u001b[1mwandb\u001b[0m: \tDROPOUT_RATE: 0.3758099958209702\n",
      "\u001b[34m\u001b[1mwandb\u001b[0m: \tLEARNING_RATE: 0.017858688925930205\n",
      "\u001b[34m\u001b[1mwandb\u001b[0m: \tN_DENSE_1: 32\n",
      "\u001b[34m\u001b[1mwandb\u001b[0m: \tN_DENSE_2: 64\n",
      "\u001b[34m\u001b[1mwandb\u001b[0m: \tREGULARIZATION_RATE: 0.04951271729026421\n"
     ]
    },
    {
     "data": {
      "text/html": [
       "Ignoring project 'Malaria-Detection' when running a sweep."
      ],
      "text/plain": [
       "<IPython.core.display.HTML object>"
      ]
     },
     "metadata": {},
     "output_type": "display_data"
    },
    {
     "data": {
      "text/html": [
       "Ignoring entity 'amanjn2003-santa-clara-university' when running a sweep."
      ],
      "text/plain": [
       "<IPython.core.display.HTML object>"
      ]
     },
     "metadata": {},
     "output_type": "display_data"
    },
    {
     "data": {
      "text/html": [
       "Tracking run with wandb version 0.19.4"
      ],
      "text/plain": [
       "<IPython.core.display.HTML object>"
      ]
     },
     "metadata": {},
     "output_type": "display_data"
    },
    {
     "data": {
      "text/html": [
       "Run data is saved locally in <code>/Users/aman/Documents/Work/Machine Learning/Computer-Vision-TensorFlow/Weights&Biases-Integration/wandb/run-20250127_144643-z2r7irmp</code>"
      ],
      "text/plain": [
       "<IPython.core.display.HTML object>"
      ]
     },
     "metadata": {},
     "output_type": "display_data"
    },
    {
     "data": {
      "text/html": [
       "Syncing run <strong><a href='https://wandb.ai/amanjn2003-santa-clara-university/Malaria-Detection-HP-Tune/runs/z2r7irmp' target=\"_blank\">Run-HP-Tune</a></strong> to <a href='https://wandb.ai/amanjn2003-santa-clara-university/Malaria-Detection-HP-Tune' target=\"_blank\">Weights & Biases</a> (<a href='https://wandb.me/developer-guide' target=\"_blank\">docs</a>)<br>Sweep page: <a href='https://wandb.ai/amanjn2003-santa-clara-university/Malaria-Detection-HP-Tune/sweeps/sisjf06a' target=\"_blank\">https://wandb.ai/amanjn2003-santa-clara-university/Malaria-Detection-HP-Tune/sweeps/sisjf06a</a>"
      ],
      "text/plain": [
       "<IPython.core.display.HTML object>"
      ]
     },
     "metadata": {},
     "output_type": "display_data"
    },
    {
     "data": {
      "text/html": [
       " View project at <a href='https://wandb.ai/amanjn2003-santa-clara-university/Malaria-Detection-HP-Tune' target=\"_blank\">https://wandb.ai/amanjn2003-santa-clara-university/Malaria-Detection-HP-Tune</a>"
      ],
      "text/plain": [
       "<IPython.core.display.HTML object>"
      ]
     },
     "metadata": {},
     "output_type": "display_data"
    },
    {
     "data": {
      "text/html": [
       " View sweep at <a href='https://wandb.ai/amanjn2003-santa-clara-university/Malaria-Detection-HP-Tune/sweeps/sisjf06a' target=\"_blank\">https://wandb.ai/amanjn2003-santa-clara-university/Malaria-Detection-HP-Tune/sweeps/sisjf06a</a>"
      ],
      "text/plain": [
       "<IPython.core.display.HTML object>"
      ]
     },
     "metadata": {},
     "output_type": "display_data"
    },
    {
     "data": {
      "text/html": [
       " View run at <a href='https://wandb.ai/amanjn2003-santa-clara-university/Malaria-Detection-HP-Tune/runs/z2r7irmp' target=\"_blank\">https://wandb.ai/amanjn2003-santa-clara-university/Malaria-Detection-HP-Tune/runs/z2r7irmp</a>"
      ],
      "text/plain": [
       "<IPython.core.display.HTML object>"
      ]
     },
     "metadata": {},
     "output_type": "display_data"
    },
    {
     "name": "stdout",
     "output_type": "stream",
     "text": [
      "Epoch 1/10\n",
      "\u001b[1m689/689\u001b[0m \u001b[32m━━━━━━━━━━━━━━━━━━━━\u001b[0m\u001b[37m\u001b[0m \u001b[1m37s\u001b[0m 48ms/step - auc: 0.5446 - binary_accuracy: 0.5425 - false_negatives: 3816.5840 - false_positives: 2447.3000 - loss: 2.6363 - precision: 0.5626 - recall: 0.4103 - true_negatives: 4434.6118 - true_positives: 3112.4521 - val_auc: 0.6028 - val_binary_accuracy: 0.5034 - val_false_negatives: 0.0000e+00 - val_false_positives: 1368.0000 - val_loss: 1.6395 - val_precision: 0.5034 - val_recall: 1.0000 - val_true_negatives: 0.0000e+00 - val_true_positives: 1387.0000\n",
      "Epoch 2/10\n",
      "\u001b[1m689/689\u001b[0m \u001b[32m━━━━━━━━━━━━━━━━━━━━\u001b[0m\u001b[37m\u001b[0m \u001b[1m32s\u001b[0m 46ms/step - auc: 0.5503 - binary_accuracy: 0.5394 - false_negatives: 2588.4043 - false_positives: 2527.1841 - loss: 0.9863 - precision: 0.5413 - recall: 0.5551 - true_negatives: 2991.6130 - true_positives: 2948.7463 - val_auc: 0.6310 - val_binary_accuracy: 0.5129 - val_false_negatives: 15.0000 - val_false_positives: 1327.0000 - val_loss: 0.9594 - val_precision: 0.5098 - val_recall: 0.9892 - val_true_negatives: 33.0000 - val_true_positives: 1380.0000\n",
      "Epoch 3/10\n",
      "\u001b[1m689/689\u001b[0m \u001b[32m━━━━━━━━━━━━━━━━━━━━\u001b[0m\u001b[37m\u001b[0m \u001b[1m31s\u001b[0m 45ms/step - auc: 0.5351 - binary_accuracy: 0.5214 - false_negatives: 2659.3972 - false_positives: 2609.8044 - loss: 0.9418 - precision: 0.5247 - recall: 0.5274 - true_negatives: 2908.8523 - true_positives: 2877.8943 - val_auc: 0.5707 - val_binary_accuracy: 0.4966 - val_false_negatives: 1387.0000 - val_false_positives: 0.0000e+00 - val_loss: 0.8538 - val_precision: 0.0000e+00 - val_recall: 0.0000e+00 - val_true_negatives: 1368.0000 - val_true_positives: 0.0000e+00\n",
      "Epoch 4/10\n",
      "\u001b[1m689/689\u001b[0m \u001b[32m━━━━━━━━━━━━━━━━━━━━\u001b[0m\u001b[37m\u001b[0m \u001b[1m31s\u001b[0m 45ms/step - auc: 0.5291 - binary_accuracy: 0.5179 - false_negatives: 2597.4216 - false_positives: 2722.4028 - loss: 0.8909 - precision: 0.5199 - recall: 0.5493 - true_negatives: 2796.2305 - true_positives: 2939.8928 - val_auc: 0.5913 - val_binary_accuracy: 0.5038 - val_false_negatives: 0.0000e+00 - val_false_positives: 1367.0000 - val_loss: 2.4773 - val_precision: 0.5038 - val_recall: 1.0000 - val_true_negatives: 0.0000e+00 - val_true_positives: 1388.0000\n",
      "Epoch 5/10\n",
      "\u001b[1m689/689\u001b[0m \u001b[32m━━━━━━━━━━━━━━━━━━━━\u001b[0m\u001b[37m\u001b[0m \u001b[1m32s\u001b[0m 46ms/step - auc: 0.5255 - binary_accuracy: 0.5199 - false_negatives: 2591.9812 - false_positives: 2689.8943 - loss: 0.9191 - precision: 0.5233 - recall: 0.5328 - true_negatives: 2828.8564 - true_positives: 2945.2158 - val_auc: 0.5364 - val_binary_accuracy: 0.4911 - val_false_negatives: 1378.0000 - val_false_positives: 24.0000 - val_loss: 0.8362 - val_precision: 0.4286 - val_recall: 0.0129 - val_true_negatives: 1335.0000 - val_true_positives: 18.0000\n",
      "Epoch 6/10\n",
      "\u001b[1m689/689\u001b[0m \u001b[32m━━━━━━━━━━━━━━━━━━━━\u001b[0m\u001b[37m\u001b[0m \u001b[1m32s\u001b[0m 46ms/step - auc: 0.5311 - binary_accuracy: 0.5225 - false_negatives: 2454.7710 - false_positives: 2818.5305 - loss: 0.9258 - precision: 0.5238 - recall: 0.5703 - true_negatives: 2700.1941 - true_positives: 3082.4521 - val_auc: 0.5691 - val_binary_accuracy: 0.4936 - val_false_negatives: 1395.0000 - val_false_positives: 0.0000e+00 - val_loss: 0.8756 - val_precision: 0.0000e+00 - val_recall: 0.0000e+00 - val_true_negatives: 1360.0000 - val_true_positives: 0.0000e+00\n",
      "Epoch 7/10\n",
      "\u001b[1m689/689\u001b[0m \u001b[32m━━━━━━━━━━━━━━━━━━━━\u001b[0m\u001b[37m\u001b[0m \u001b[1m31s\u001b[0m 45ms/step - auc: 0.5248 - binary_accuracy: 0.5181 - false_negatives: 2376.6667 - false_positives: 2943.6101 - loss: 0.8769 - precision: 0.5193 - recall: 0.5750 - true_negatives: 2575.1841 - true_positives: 3160.4871 - val_auc: 0.4657 - val_binary_accuracy: 0.5042 - val_false_negatives: 0.0000e+00 - val_false_positives: 1366.0000 - val_loss: 2.5930 - val_precision: 0.5042 - val_recall: 1.0000 - val_true_negatives: 0.0000e+00 - val_true_positives: 1389.0000\n",
      "Epoch 8/10\n",
      "\u001b[1m689/689\u001b[0m \u001b[32m━━━━━━━━━━━━━━━━━━━━\u001b[0m\u001b[37m\u001b[0m \u001b[1m32s\u001b[0m 46ms/step - auc: 0.5261 - binary_accuracy: 0.5148 - false_negatives: 2555.1638 - false_positives: 2801.5913 - loss: 0.9889 - precision: 0.5170 - recall: 0.5425 - true_negatives: 2717.1956 - true_positives: 2981.9971 - val_auc: 0.6214 - val_binary_accuracy: 0.4962 - val_false_negatives: 1388.0000 - val_false_positives: 0.0000e+00 - val_loss: 1.0140 - val_precision: 0.0000e+00 - val_recall: 0.0000e+00 - val_true_negatives: 1367.0000 - val_true_positives: 0.0000e+00\n",
      "Epoch 9/10\n",
      "\u001b[1m689/689\u001b[0m \u001b[32m━━━━━━━━━━━━━━━━━━━━\u001b[0m\u001b[37m\u001b[0m \u001b[1m32s\u001b[0m 46ms/step - auc: 0.5150 - binary_accuracy: 0.5083 - false_negatives: 2796.2363 - false_positives: 2644.5608 - loss: 0.9043 - precision: 0.5117 - recall: 0.5096 - true_negatives: 2874.1145 - true_positives: 2741.0361 - val_auc: 0.5894 - val_binary_accuracy: 0.5060 - val_false_negatives: 0.0000e+00 - val_false_positives: 1361.0000 - val_loss: 0.8688 - val_precision: 0.5060 - val_recall: 1.0000 - val_true_negatives: 0.0000e+00 - val_true_positives: 1394.0000\n",
      "Epoch 10/10\n",
      "\u001b[1m689/689\u001b[0m \u001b[32m━━━━━━━━━━━━━━━━━━━━\u001b[0m\u001b[37m\u001b[0m \u001b[1m32s\u001b[0m 46ms/step - auc: 0.5265 - binary_accuracy: 0.5165 - false_negatives: 2780.4624 - false_positives: 2596.6667 - loss: 0.8838 - precision: 0.5206 - recall: 0.5061 - true_negatives: 2922.0898 - true_positives: 2756.7290 - val_auc: 0.5000 - val_binary_accuracy: 0.4933 - val_false_negatives: 1396.0000 - val_false_positives: 0.0000e+00 - val_loss: 0.7998 - val_precision: 0.0000e+00 - val_recall: 0.0000e+00 - val_true_negatives: 1359.0000 - val_true_positives: 0.0000e+00\n"
     ]
    },
    {
     "data": {
      "text/html": [],
      "text/plain": [
       "<IPython.core.display.HTML object>"
      ]
     },
     "metadata": {},
     "output_type": "display_data"
    },
    {
     "data": {
      "text/html": [
       "<br>    <style><br>        .wandb-row {<br>            display: flex;<br>            flex-direction: row;<br>            flex-wrap: wrap;<br>            justify-content: flex-start;<br>            width: 100%;<br>        }<br>        .wandb-col {<br>            display: flex;<br>            flex-direction: column;<br>            flex-basis: 100%;<br>            flex: 1;<br>            padding: 10px;<br>        }<br>    </style><br><div class=\"wandb-row\"><div class=\"wandb-col\"><h3>Run history:</h3><br/><table class=\"wandb\"><tr><td>epoch/auc</td><td>█▆▄▃▃▄▃▂▁▂</td></tr><tr><td>epoch/binary_accuracy</td><td>█▆▃▃▃▃▃▂▁▁</td></tr><tr><td>epoch/epoch</td><td>▁▂▃▃▄▅▆▆▇█</td></tr><tr><td>epoch/false_negatives</td><td>█▃▃▃▂▂▁▄▅▅</td></tr><tr><td>epoch/false_positives</td><td>▁▂▄▄▆▇█▅▂▃</td></tr><tr><td>epoch/learning_rate</td><td>▁▁▁▁▁▁▁▁▁▁</td></tr><tr><td>epoch/loss</td><td>█▂▂▁▁▂▂▂▁▁</td></tr><tr><td>epoch/precision</td><td>█▅▃▂▃▃▂▂▁▁</td></tr><tr><td>epoch/recall</td><td>▂▅▅▄▆▇█▄▁▂</td></tr><tr><td>epoch/true_negatives</td><td>█▃▃▂▂▂▁▂▃▃</td></tr><tr><td>epoch/true_positives</td><td>▇▅▅▄▆▇█▄▁▂</td></tr><tr><td>epoch/val_auc</td><td>▇█▅▆▄▅▁█▆▂</td></tr><tr><td>epoch/val_binary_accuracy</td><td>▅█▃▅▁▂▅▃▆▂</td></tr><tr><td>epoch/val_false_negatives</td><td>▁▁█▁██▁█▁█</td></tr><tr><td>epoch/val_false_positives</td><td>██▁█▁▁█▁█▁</td></tr><tr><td>epoch/val_loss</td><td>▄▂▁█▁▁█▂▁▁</td></tr><tr><td>epoch/val_precision</td><td>██▁█▇▁█▁█▁</td></tr><tr><td>epoch/val_recall</td><td>██▁█▁▁█▁█▁</td></tr><tr><td>epoch/val_true_negatives</td><td>▁▁█▁██▁█▁█</td></tr><tr><td>epoch/val_true_positives</td><td>██▁█▁▁█▁█▁</td></tr><tr><td>val_binary_accuracy</td><td>▁</td></tr></table><br/></div><div class=\"wandb-col\"><h3>Run summary:</h3><br/><table class=\"wandb\"><tr><td>epoch/auc</td><td>0.52175</td></tr><tr><td>epoch/binary_accuracy</td><td>0.51157</td></tr><tr><td>epoch/epoch</td><td>9</td></tr><tr><td>epoch/false_negatives</td><td>5545</td></tr><tr><td>epoch/false_positives</td><td>5223</td></tr><tr><td>epoch/learning_rate</td><td>0.01786</td></tr><tr><td>epoch/loss</td><td>0.89525</td></tr><tr><td>epoch/precision</td><td>0.51191</td></tr><tr><td>epoch/recall</td><td>0.49696</td></tr><tr><td>epoch/true_negatives</td><td>5800</td></tr><tr><td>epoch/true_positives</td><td>5478</td></tr><tr><td>epoch/val_auc</td><td>0.5</td></tr><tr><td>epoch/val_binary_accuracy</td><td>0.49328</td></tr><tr><td>epoch/val_false_negatives</td><td>1396</td></tr><tr><td>epoch/val_false_positives</td><td>0</td></tr><tr><td>epoch/val_loss</td><td>0.79983</td></tr><tr><td>epoch/val_precision</td><td>0</td></tr><tr><td>epoch/val_recall</td><td>0</td></tr><tr><td>epoch/val_true_negatives</td><td>1359</td></tr><tr><td>epoch/val_true_positives</td><td>0</td></tr><tr><td>val_binary_accuracy</td><td>0.49328</td></tr></table><br/></div></div>"
      ],
      "text/plain": [
       "<IPython.core.display.HTML object>"
      ]
     },
     "metadata": {},
     "output_type": "display_data"
    },
    {
     "data": {
      "text/html": [
       " View run <strong style=\"color:#cdcd00\">Run-HP-Tune</strong> at: <a href='https://wandb.ai/amanjn2003-santa-clara-university/Malaria-Detection-HP-Tune/runs/z2r7irmp' target=\"_blank\">https://wandb.ai/amanjn2003-santa-clara-university/Malaria-Detection-HP-Tune/runs/z2r7irmp</a><br> View project at: <a href='https://wandb.ai/amanjn2003-santa-clara-university/Malaria-Detection-HP-Tune' target=\"_blank\">https://wandb.ai/amanjn2003-santa-clara-university/Malaria-Detection-HP-Tune</a><br>Synced 5 W&B file(s), 0 media file(s), 20 artifact file(s) and 0 other file(s)"
      ],
      "text/plain": [
       "<IPython.core.display.HTML object>"
      ]
     },
     "metadata": {},
     "output_type": "display_data"
    },
    {
     "data": {
      "text/html": [
       "Find logs at: <code>./wandb/run-20250127_144643-z2r7irmp/logs</code>"
      ],
      "text/plain": [
       "<IPython.core.display.HTML object>"
      ]
     },
     "metadata": {},
     "output_type": "display_data"
    },
    {
     "name": "stderr",
     "output_type": "stream",
     "text": [
      "\u001b[34m\u001b[1mwandb\u001b[0m: Agent Starting Run: soio9pn0 with config:\n",
      "\u001b[34m\u001b[1mwandb\u001b[0m: \tDROPOUT_RATE: 0.3259139325029973\n",
      "\u001b[34m\u001b[1mwandb\u001b[0m: \tLEARNING_RATE: 0.02262501259040923\n",
      "\u001b[34m\u001b[1mwandb\u001b[0m: \tN_DENSE_1: 32\n",
      "\u001b[34m\u001b[1mwandb\u001b[0m: \tN_DENSE_2: 128\n",
      "\u001b[34m\u001b[1mwandb\u001b[0m: \tREGULARIZATION_RATE: 0.05082762904652086\n"
     ]
    },
    {
     "data": {
      "text/html": [
       "Ignoring project 'Malaria-Detection' when running a sweep."
      ],
      "text/plain": [
       "<IPython.core.display.HTML object>"
      ]
     },
     "metadata": {},
     "output_type": "display_data"
    },
    {
     "data": {
      "text/html": [
       "Ignoring entity 'amanjn2003-santa-clara-university' when running a sweep."
      ],
      "text/plain": [
       "<IPython.core.display.HTML object>"
      ]
     },
     "metadata": {},
     "output_type": "display_data"
    },
    {
     "data": {
      "text/html": [
       "Tracking run with wandb version 0.19.4"
      ],
      "text/plain": [
       "<IPython.core.display.HTML object>"
      ]
     },
     "metadata": {},
     "output_type": "display_data"
    },
    {
     "data": {
      "text/html": [
       "Run data is saved locally in <code>/Users/aman/Documents/Work/Machine Learning/Computer-Vision-TensorFlow/Weights&Biases-Integration/wandb/run-20250127_145215-soio9pn0</code>"
      ],
      "text/plain": [
       "<IPython.core.display.HTML object>"
      ]
     },
     "metadata": {},
     "output_type": "display_data"
    },
    {
     "data": {
      "text/html": [
       "Syncing run <strong><a href='https://wandb.ai/amanjn2003-santa-clara-university/Malaria-Detection-HP-Tune/runs/soio9pn0' target=\"_blank\">Run-HP-Tune</a></strong> to <a href='https://wandb.ai/amanjn2003-santa-clara-university/Malaria-Detection-HP-Tune' target=\"_blank\">Weights & Biases</a> (<a href='https://wandb.me/developer-guide' target=\"_blank\">docs</a>)<br>Sweep page: <a href='https://wandb.ai/amanjn2003-santa-clara-university/Malaria-Detection-HP-Tune/sweeps/sisjf06a' target=\"_blank\">https://wandb.ai/amanjn2003-santa-clara-university/Malaria-Detection-HP-Tune/sweeps/sisjf06a</a>"
      ],
      "text/plain": [
       "<IPython.core.display.HTML object>"
      ]
     },
     "metadata": {},
     "output_type": "display_data"
    },
    {
     "data": {
      "text/html": [
       " View project at <a href='https://wandb.ai/amanjn2003-santa-clara-university/Malaria-Detection-HP-Tune' target=\"_blank\">https://wandb.ai/amanjn2003-santa-clara-university/Malaria-Detection-HP-Tune</a>"
      ],
      "text/plain": [
       "<IPython.core.display.HTML object>"
      ]
     },
     "metadata": {},
     "output_type": "display_data"
    },
    {
     "data": {
      "text/html": [
       " View sweep at <a href='https://wandb.ai/amanjn2003-santa-clara-university/Malaria-Detection-HP-Tune/sweeps/sisjf06a' target=\"_blank\">https://wandb.ai/amanjn2003-santa-clara-university/Malaria-Detection-HP-Tune/sweeps/sisjf06a</a>"
      ],
      "text/plain": [
       "<IPython.core.display.HTML object>"
      ]
     },
     "metadata": {},
     "output_type": "display_data"
    },
    {
     "data": {
      "text/html": [
       " View run at <a href='https://wandb.ai/amanjn2003-santa-clara-university/Malaria-Detection-HP-Tune/runs/soio9pn0' target=\"_blank\">https://wandb.ai/amanjn2003-santa-clara-university/Malaria-Detection-HP-Tune/runs/soio9pn0</a>"
      ],
      "text/plain": [
       "<IPython.core.display.HTML object>"
      ]
     },
     "metadata": {},
     "output_type": "display_data"
    },
    {
     "name": "stdout",
     "output_type": "stream",
     "text": [
      "Epoch 1/10\n",
      "\u001b[1m689/689\u001b[0m \u001b[32m━━━━━━━━━━━━━━━━━━━━\u001b[0m\u001b[37m\u001b[0m \u001b[1m35s\u001b[0m 47ms/step - auc: 0.5191 - binary_accuracy: 0.5094 - false_negatives: 4103.8506 - false_positives: 2709.8174 - loss: 4.0266 - precision: 0.5248 - recall: 0.3752 - true_negatives: 4168.0347 - true_positives: 2829.2449 - val_auc: 0.5000 - val_binary_accuracy: 0.4962 - val_false_negatives: 1388.0000 - val_false_positives: 0.0000e+00 - val_loss: 0.8275 - val_precision: 0.0000e+00 - val_recall: 0.0000e+00 - val_true_negatives: 1367.0000 - val_true_positives: 0.0000e+00\n",
      "Epoch 2/10\n",
      "\u001b[1m689/689\u001b[0m \u001b[32m━━━━━━━━━━━━━━━━━━━━\u001b[0m\u001b[37m\u001b[0m \u001b[1m32s\u001b[0m 46ms/step - auc: 0.4950 - binary_accuracy: 0.4969 - false_negatives: 2689.6841 - false_positives: 2869.6465 - loss: 0.8883 - precision: 0.4948 - recall: 0.5449 - true_negatives: 2649.1160 - true_positives: 2847.5015 - val_auc: 0.5000 - val_binary_accuracy: 0.4947 - val_false_negatives: 1392.0000 - val_false_positives: 0.0000e+00 - val_loss: 0.6945 - val_precision: 0.0000e+00 - val_recall: 0.0000e+00 - val_true_negatives: 1363.0000 - val_true_positives: 0.0000e+00\n",
      "Epoch 3/10\n",
      "\u001b[1m689/689\u001b[0m \u001b[32m━━━━━━━━━━━━━━━━━━━━\u001b[0m\u001b[37m\u001b[0m \u001b[1m31s\u001b[0m 45ms/step - auc: 0.4940 - binary_accuracy: 0.4955 - false_negatives: 2867.8044 - false_positives: 2719.0623 - loss: 0.8346 - precision: 0.4885 - recall: 0.5046 - true_negatives: 2799.7942 - true_positives: 2669.2869 - val_auc: 0.5000 - val_binary_accuracy: 0.5053 - val_false_negatives: 0.0000e+00 - val_false_positives: 1363.0000 - val_loss: 0.9129 - val_precision: 0.5053 - val_recall: 1.0000 - val_true_negatives: 0.0000e+00 - val_true_positives: 1392.0000\n",
      "Epoch 4/10\n",
      "\u001b[1m689/689\u001b[0m \u001b[32m━━━━━━━━━━━━━━━━━━━━\u001b[0m\u001b[37m\u001b[0m \u001b[1m31s\u001b[0m 45ms/step - auc: 0.5033 - binary_accuracy: 0.5069 - false_negatives: 2747.4102 - false_positives: 2743.1709 - loss: 1.2765 - precision: 0.5099 - recall: 0.5179 - true_negatives: 2775.5754 - true_positives: 2789.7913 - val_auc: 0.5000 - val_binary_accuracy: 0.4966 - val_false_negatives: 1387.0000 - val_false_positives: 0.0000e+00 - val_loss: 0.9302 - val_precision: 0.0000e+00 - val_recall: 0.0000e+00 - val_true_negatives: 1368.0000 - val_true_positives: 0.0000e+00\n",
      "Epoch 5/10\n",
      "\u001b[1m689/689\u001b[0m \u001b[32m━━━━━━━━━━━━━━━━━━━━\u001b[0m\u001b[37m\u001b[0m \u001b[1m32s\u001b[0m 46ms/step - auc: 0.4987 - binary_accuracy: 0.4993 - false_negatives: 2976.6985 - false_positives: 2557.4275 - loss: 1.0889 - precision: 0.4999 - recall: 0.4716 - true_negatives: 2961.3682 - true_positives: 2560.4536 - val_auc: 0.5000 - val_binary_accuracy: 0.5042 - val_false_negatives: 0.0000e+00 - val_false_positives: 1366.0000 - val_loss: 0.9789 - val_precision: 0.5042 - val_recall: 1.0000 - val_true_negatives: 0.0000e+00 - val_true_positives: 1389.0000\n",
      "Epoch 6/10\n",
      "\u001b[1m689/689\u001b[0m \u001b[32m━━━━━━━━━━━━━━━━━━━━\u001b[0m\u001b[37m\u001b[0m \u001b[1m32s\u001b[0m 46ms/step - auc: 0.4957 - binary_accuracy: 0.4977 - false_negatives: 2887.6362 - false_positives: 2681.5029 - loss: 0.8297 - precision: 0.5004 - recall: 0.5030 - true_negatives: 2837.3159 - true_positives: 2649.4927 - val_auc: 0.5000 - val_binary_accuracy: 0.4947 - val_false_negatives: 1392.0000 - val_false_positives: 0.0000e+00 - val_loss: 0.7287 - val_precision: 0.0000e+00 - val_recall: 0.0000e+00 - val_true_negatives: 1363.0000 - val_true_positives: 0.0000e+00\n",
      "Epoch 7/10\n",
      "\u001b[1m689/689\u001b[0m \u001b[32m━━━━━━━━━━━━━━━━━━━━\u001b[0m\u001b[37m\u001b[0m \u001b[1m32s\u001b[0m 46ms/step - auc: 0.5013 - binary_accuracy: 0.5018 - false_negatives: 3109.5144 - false_positives: 2397.2231 - loss: 0.7857 - precision: 0.5023 - recall: 0.4464 - true_negatives: 3121.4478 - true_positives: 2427.7622 - val_auc: 0.5000 - val_binary_accuracy: 0.5053 - val_false_negatives: 0.0000e+00 - val_false_positives: 1363.0000 - val_loss: 0.8925 - val_precision: 0.5053 - val_recall: 1.0000 - val_true_negatives: 0.0000e+00 - val_true_positives: 1392.0000\n",
      "Epoch 8/10\n",
      "\u001b[1m689/689\u001b[0m \u001b[32m━━━━━━━━━━━━━━━━━━━━\u001b[0m\u001b[37m\u001b[0m \u001b[1m32s\u001b[0m 46ms/step - auc: 0.4889 - binary_accuracy: 0.4906 - false_negatives: 2843.7854 - false_positives: 2764.9797 - loss: 0.8383 - precision: 0.4934 - recall: 0.4959 - true_negatives: 2753.7869 - true_positives: 2693.3958 - val_auc: 0.5000 - val_binary_accuracy: 0.4936 - val_false_negatives: 1395.0000 - val_false_positives: 0.0000e+00 - val_loss: 0.7276 - val_precision: 0.0000e+00 - val_recall: 0.0000e+00 - val_true_negatives: 1360.0000 - val_true_positives: 0.0000e+00\n",
      "Epoch 9/10\n",
      "\u001b[1m689/689\u001b[0m \u001b[32m━━━━━━━━━━━━━━━━━━━━\u001b[0m\u001b[37m\u001b[0m \u001b[1m32s\u001b[0m 46ms/step - auc: 0.5026 - binary_accuracy: 0.5022 - false_negatives: 2811.3159 - false_positives: 2692.3376 - loss: 1.1822 - precision: 0.5058 - recall: 0.4943 - true_negatives: 2826.4189 - true_positives: 2725.8752 - val_auc: 0.5000 - val_binary_accuracy: 0.4933 - val_false_negatives: 1396.0000 - val_false_positives: 0.0000e+00 - val_loss: 0.7446 - val_precision: 0.0000e+00 - val_recall: 0.0000e+00 - val_true_negatives: 1359.0000 - val_true_positives: 0.0000e+00\n",
      "Epoch 10/10\n",
      "\u001b[1m689/689\u001b[0m \u001b[32m━━━━━━━━━━━━━━━━━━━━\u001b[0m\u001b[37m\u001b[0m \u001b[1m36s\u001b[0m 53ms/step - auc: 0.4975 - binary_accuracy: 0.5022 - false_negatives: 2732.9160 - false_positives: 2808.6260 - loss: 1.0292 - precision: 0.5039 - recall: 0.5473 - true_negatives: 2710.0811 - true_positives: 2804.3247 - val_auc: 0.5000 - val_binary_accuracy: 0.4929 - val_false_negatives: 1397.0000 - val_false_positives: 0.0000e+00 - val_loss: 0.7402 - val_precision: 0.0000e+00 - val_recall: 0.0000e+00 - val_true_negatives: 1358.0000 - val_true_positives: 0.0000e+00\n"
     ]
    },
    {
     "data": {
      "text/html": [],
      "text/plain": [
       "<IPython.core.display.HTML object>"
      ]
     },
     "metadata": {},
     "output_type": "display_data"
    },
    {
     "data": {
      "text/html": [
       "<br>    <style><br>        .wandb-row {<br>            display: flex;<br>            flex-direction: row;<br>            flex-wrap: wrap;<br>            justify-content: flex-start;<br>            width: 100%;<br>        }<br>        .wandb-col {<br>            display: flex;<br>            flex-direction: column;<br>            flex-basis: 100%;<br>            flex: 1;<br>            padding: 10px;<br>        }<br>    </style><br><div class=\"wandb-row\"><div class=\"wandb-col\"><h3>Run history:</h3><br/><table class=\"wandb\"><tr><td>epoch/auc</td><td>█▂▁▂▄▁▅▁▇▅</td></tr><tr><td>epoch/binary_accuracy</td><td>█▃▁▇▅▄█▃█▅</td></tr><tr><td>epoch/epoch</td><td>▁▂▃▃▄▅▆▆▇█</td></tr><tr><td>epoch/false_negatives</td><td>█▁▃▃▄▄▄▃▂▃</td></tr><tr><td>epoch/false_positives</td><td>▆█▄▃▂▂▁▅▄▄</td></tr><tr><td>epoch/learning_rate</td><td>▁▁▁▁▁▁▁▁▁▁</td></tr><tr><td>epoch/loss</td><td>█▁▂▃▂▁▂▁▃▃</td></tr><tr><td>epoch/precision</td><td>█▃▁▆▄▃█▃▇▄</td></tr><tr><td>epoch/recall</td><td>▁█▃▄▂▁▂▅▅▄</td></tr><tr><td>epoch/true_negatives</td><td>█▁▃▃▄▄▄▂▃▃</td></tr><tr><td>epoch/true_positives</td><td>▇█▃▃▂▁▂▄▅▄</td></tr><tr><td>epoch/val_auc</td><td>▁▁▁▁▁▁▁▁▁▁</td></tr><tr><td>epoch/val_binary_accuracy</td><td>▃▂█▃▇▂█▁▁▁</td></tr><tr><td>epoch/val_false_negatives</td><td>██▁█▁█▁███</td></tr><tr><td>epoch/val_false_positives</td><td>▁▁█▁█▁█▁▁▁</td></tr><tr><td>epoch/val_loss</td><td>▄▁▆▇█▂▆▂▂▂</td></tr><tr><td>epoch/val_precision</td><td>▁▁█▁█▁█▁▁▁</td></tr><tr><td>epoch/val_recall</td><td>▁▁█▁█▁█▁▁▁</td></tr><tr><td>epoch/val_true_negatives</td><td>██▁█▁█▁███</td></tr><tr><td>epoch/val_true_positives</td><td>▁▁█▁█▁█▁▁▁</td></tr><tr><td>val_binary_accuracy</td><td>▁</td></tr></table><br/></div><div class=\"wandb-col\"><h3>Run summary:</h3><br/><table class=\"wandb\"><tr><td>epoch/auc</td><td>0.50139</td></tr><tr><td>epoch/binary_accuracy</td><td>0.49896</td></tr><tr><td>epoch/epoch</td><td>9</td></tr><tr><td>epoch/false_negatives</td><td>5700</td></tr><tr><td>epoch/false_positives</td><td>5346</td></tr><tr><td>epoch/learning_rate</td><td>0.02263</td></tr><tr><td>epoch/loss</td><td>1.0859</td></tr><tr><td>epoch/precision</td><td>0.49906</td></tr><tr><td>epoch/recall</td><td>0.48304</td></tr><tr><td>epoch/true_negatives</td><td>5674</td></tr><tr><td>epoch/true_positives</td><td>5326</td></tr><tr><td>epoch/val_auc</td><td>0.5</td></tr><tr><td>epoch/val_binary_accuracy</td><td>0.49292</td></tr><tr><td>epoch/val_false_negatives</td><td>1397</td></tr><tr><td>epoch/val_false_positives</td><td>0</td></tr><tr><td>epoch/val_loss</td><td>0.74024</td></tr><tr><td>epoch/val_precision</td><td>0</td></tr><tr><td>epoch/val_recall</td><td>0</td></tr><tr><td>epoch/val_true_negatives</td><td>1358</td></tr><tr><td>epoch/val_true_positives</td><td>0</td></tr><tr><td>val_binary_accuracy</td><td>0.49292</td></tr></table><br/></div></div>"
      ],
      "text/plain": [
       "<IPython.core.display.HTML object>"
      ]
     },
     "metadata": {},
     "output_type": "display_data"
    },
    {
     "data": {
      "text/html": [
       " View run <strong style=\"color:#cdcd00\">Run-HP-Tune</strong> at: <a href='https://wandb.ai/amanjn2003-santa-clara-university/Malaria-Detection-HP-Tune/runs/soio9pn0' target=\"_blank\">https://wandb.ai/amanjn2003-santa-clara-university/Malaria-Detection-HP-Tune/runs/soio9pn0</a><br> View project at: <a href='https://wandb.ai/amanjn2003-santa-clara-university/Malaria-Detection-HP-Tune' target=\"_blank\">https://wandb.ai/amanjn2003-santa-clara-university/Malaria-Detection-HP-Tune</a><br>Synced 5 W&B file(s), 0 media file(s), 20 artifact file(s) and 0 other file(s)"
      ],
      "text/plain": [
       "<IPython.core.display.HTML object>"
      ]
     },
     "metadata": {},
     "output_type": "display_data"
    },
    {
     "data": {
      "text/html": [
       "Find logs at: <code>./wandb/run-20250127_145215-soio9pn0/logs</code>"
      ],
      "text/plain": [
       "<IPython.core.display.HTML object>"
      ]
     },
     "metadata": {},
     "output_type": "display_data"
    },
    {
     "name": "stderr",
     "output_type": "stream",
     "text": [
      "\u001b[34m\u001b[1mwandb\u001b[0m: Agent Starting Run: 1m07hmhr with config:\n",
      "\u001b[34m\u001b[1mwandb\u001b[0m: \tDROPOUT_RATE: 0.23861733315376943\n",
      "\u001b[34m\u001b[1mwandb\u001b[0m: \tLEARNING_RATE: 0.029036412909476367\n",
      "\u001b[34m\u001b[1mwandb\u001b[0m: \tN_DENSE_1: 64\n",
      "\u001b[34m\u001b[1mwandb\u001b[0m: \tN_DENSE_2: 16\n",
      "\u001b[34m\u001b[1mwandb\u001b[0m: \tREGULARIZATION_RATE: 0.04797711537536202\n"
     ]
    },
    {
     "data": {
      "text/html": [
       "Ignoring project 'Malaria-Detection' when running a sweep."
      ],
      "text/plain": [
       "<IPython.core.display.HTML object>"
      ]
     },
     "metadata": {},
     "output_type": "display_data"
    },
    {
     "data": {
      "text/html": [
       "Ignoring entity 'amanjn2003-santa-clara-university' when running a sweep."
      ],
      "text/plain": [
       "<IPython.core.display.HTML object>"
      ]
     },
     "metadata": {},
     "output_type": "display_data"
    },
    {
     "data": {
      "text/html": [
       "Tracking run with wandb version 0.19.4"
      ],
      "text/plain": [
       "<IPython.core.display.HTML object>"
      ]
     },
     "metadata": {},
     "output_type": "display_data"
    },
    {
     "data": {
      "text/html": [
       "Run data is saved locally in <code>/Users/aman/Documents/Work/Machine Learning/Computer-Vision-TensorFlow/Weights&Biases-Integration/wandb/run-20250127_145745-1m07hmhr</code>"
      ],
      "text/plain": [
       "<IPython.core.display.HTML object>"
      ]
     },
     "metadata": {},
     "output_type": "display_data"
    },
    {
     "data": {
      "text/html": [
       "Syncing run <strong><a href='https://wandb.ai/amanjn2003-santa-clara-university/Malaria-Detection-HP-Tune/runs/1m07hmhr' target=\"_blank\">Run-HP-Tune</a></strong> to <a href='https://wandb.ai/amanjn2003-santa-clara-university/Malaria-Detection-HP-Tune' target=\"_blank\">Weights & Biases</a> (<a href='https://wandb.me/developer-guide' target=\"_blank\">docs</a>)<br>Sweep page: <a href='https://wandb.ai/amanjn2003-santa-clara-university/Malaria-Detection-HP-Tune/sweeps/sisjf06a' target=\"_blank\">https://wandb.ai/amanjn2003-santa-clara-university/Malaria-Detection-HP-Tune/sweeps/sisjf06a</a>"
      ],
      "text/plain": [
       "<IPython.core.display.HTML object>"
      ]
     },
     "metadata": {},
     "output_type": "display_data"
    },
    {
     "data": {
      "text/html": [
       " View project at <a href='https://wandb.ai/amanjn2003-santa-clara-university/Malaria-Detection-HP-Tune' target=\"_blank\">https://wandb.ai/amanjn2003-santa-clara-university/Malaria-Detection-HP-Tune</a>"
      ],
      "text/plain": [
       "<IPython.core.display.HTML object>"
      ]
     },
     "metadata": {},
     "output_type": "display_data"
    },
    {
     "data": {
      "text/html": [
       " View sweep at <a href='https://wandb.ai/amanjn2003-santa-clara-university/Malaria-Detection-HP-Tune/sweeps/sisjf06a' target=\"_blank\">https://wandb.ai/amanjn2003-santa-clara-university/Malaria-Detection-HP-Tune/sweeps/sisjf06a</a>"
      ],
      "text/plain": [
       "<IPython.core.display.HTML object>"
      ]
     },
     "metadata": {},
     "output_type": "display_data"
    },
    {
     "data": {
      "text/html": [
       " View run at <a href='https://wandb.ai/amanjn2003-santa-clara-university/Malaria-Detection-HP-Tune/runs/1m07hmhr' target=\"_blank\">https://wandb.ai/amanjn2003-santa-clara-university/Malaria-Detection-HP-Tune/runs/1m07hmhr</a>"
      ],
      "text/plain": [
       "<IPython.core.display.HTML object>"
      ]
     },
     "metadata": {},
     "output_type": "display_data"
    },
    {
     "name": "stdout",
     "output_type": "stream",
     "text": [
      "Epoch 1/10\n",
      "\u001b[1m689/689\u001b[0m \u001b[32m━━━━━━━━━━━━━━━━━━━━\u001b[0m\u001b[37m\u001b[0m \u001b[1m40s\u001b[0m 54ms/step - auc: 0.5418 - binary_accuracy: 0.5265 - false_negatives: 3915.6709 - false_positives: 2585.5898 - loss: 4.0649 - precision: 0.5410 - recall: 0.4000 - true_negatives: 4291.0869 - true_positives: 3018.6001 - val_auc: 0.4986 - val_binary_accuracy: 0.5074 - val_false_negatives: 24.0000 - val_false_positives: 1333.0000 - val_loss: 0.9029 - val_precision: 0.5057 - val_recall: 0.9827 - val_true_negatives: 34.0000 - val_true_positives: 1364.0000\n",
      "Epoch 2/10\n",
      "\u001b[1m689/689\u001b[0m \u001b[32m━━━━━━━━━━━━━━━━━━━━\u001b[0m\u001b[37m\u001b[0m \u001b[1m35s\u001b[0m 50ms/step - auc: 0.5316 - binary_accuracy: 0.5249 - false_negatives: 2579.1885 - false_positives: 2677.7827 - loss: 0.9884 - precision: 0.5275 - recall: 0.5514 - true_negatives: 2841.0073 - true_positives: 2957.9695 - val_auc: 0.4953 - val_binary_accuracy: 0.5071 - val_false_negatives: 0.0000e+00 - val_false_positives: 1358.0000 - val_loss: 1.2726 - val_precision: 0.5071 - val_recall: 1.0000 - val_true_negatives: 0.0000e+00 - val_true_positives: 1397.0000\n",
      "Epoch 3/10\n",
      "\u001b[1m689/689\u001b[0m \u001b[32m━━━━━━━━━━━━━━━━━━━━\u001b[0m\u001b[37m\u001b[0m \u001b[1m35s\u001b[0m 51ms/step - auc: 0.5047 - binary_accuracy: 0.5061 - false_negatives: 2719.7014 - false_positives: 2714.7290 - loss: 0.8323 - precision: 0.5087 - recall: 0.5269 - true_negatives: 2804.0972 - true_positives: 2817.4204 - val_auc: 0.5000 - val_binary_accuracy: 0.5053 - val_false_negatives: 0.0000e+00 - val_false_positives: 1363.0000 - val_loss: 0.8550 - val_precision: 0.5053 - val_recall: 1.0000 - val_true_negatives: 0.0000e+00 - val_true_positives: 1392.0000\n",
      "Epoch 4/10\n",
      "\u001b[1m689/689\u001b[0m \u001b[32m━━━━━━━━━━━━━━━━━━━━\u001b[0m\u001b[37m\u001b[0m \u001b[1m34s\u001b[0m 50ms/step - auc: 0.5166 - binary_accuracy: 0.5112 - false_negatives: 2695.3333 - false_positives: 2730.0725 - loss: 0.8887 - precision: 0.5141 - recall: 0.5352 - true_negatives: 2788.7131 - true_positives: 2841.8291 - val_auc: 0.6377 - val_binary_accuracy: 0.5042 - val_false_negatives: 0.0000e+00 - val_false_positives: 1366.0000 - val_loss: 0.9012 - val_precision: 0.5042 - val_recall: 1.0000 - val_true_negatives: 0.0000e+00 - val_true_positives: 1389.0000\n",
      "Epoch 5/10\n",
      "\u001b[1m689/689\u001b[0m \u001b[32m━━━━━━━━━━━━━━━━━━━━\u001b[0m\u001b[37m\u001b[0m \u001b[1m34s\u001b[0m 50ms/step - auc: 0.5248 - binary_accuracy: 0.5183 - false_negatives: 2689.0173 - false_positives: 2644.0261 - loss: 1.0216 - precision: 0.5207 - recall: 0.5327 - true_negatives: 2874.7957 - true_positives: 2848.1086 - val_auc: 0.5000 - val_binary_accuracy: 0.4947 - val_false_negatives: 1392.0000 - val_false_positives: 0.0000e+00 - val_loss: 3.9083 - val_precision: 0.0000e+00 - val_recall: 0.0000e+00 - val_true_negatives: 1363.0000 - val_true_positives: 0.0000e+00\n",
      "Epoch 6/10\n",
      "\u001b[1m689/689\u001b[0m \u001b[32m━━━━━━━━━━━━━━━━━━━━\u001b[0m\u001b[37m\u001b[0m \u001b[1m35s\u001b[0m 51ms/step - auc: 0.5214 - binary_accuracy: 0.5164 - false_negatives: 2493.0144 - false_positives: 2869.4941 - loss: 1.0371 - precision: 0.5183 - recall: 0.5585 - true_negatives: 2649.3303 - true_positives: 3044.1086 - val_auc: 0.5229 - val_binary_accuracy: 0.4966 - val_false_negatives: 1387.0000 - val_false_positives: 0.0000e+00 - val_loss: 0.8697 - val_precision: 0.0000e+00 - val_recall: 0.0000e+00 - val_true_negatives: 1368.0000 - val_true_positives: 0.0000e+00\n",
      "Epoch 7/10\n",
      "\u001b[1m689/689\u001b[0m \u001b[32m━━━━━━━━━━━━━━━━━━━━\u001b[0m\u001b[37m\u001b[0m \u001b[1m35s\u001b[0m 51ms/step - auc: 0.5159 - binary_accuracy: 0.5116 - false_negatives: 2892.2913 - false_positives: 2515.0059 - loss: 1.0083 - precision: 0.5158 - recall: 0.5009 - true_negatives: 3003.7478 - true_positives: 2644.9028 - val_auc: 0.5060 - val_binary_accuracy: 0.5038 - val_false_negatives: 0.0000e+00 - val_false_positives: 1367.0000 - val_loss: 1.5605 - val_precision: 0.5038 - val_recall: 1.0000 - val_true_negatives: 0.0000e+00 - val_true_positives: 1388.0000\n",
      "Epoch 8/10\n",
      "\u001b[1m689/689\u001b[0m \u001b[32m━━━━━━━━━━━━━━━━━━━━\u001b[0m\u001b[37m\u001b[0m \u001b[1m35s\u001b[0m 51ms/step - auc: 0.5258 - binary_accuracy: 0.5139 - false_negatives: 3161.1274 - false_positives: 2246.9175 - loss: 1.0841 - precision: 0.5208 - recall: 0.4292 - true_negatives: 3271.8435 - true_positives: 2376.0593 - val_auc: 0.5735 - val_binary_accuracy: 0.5067 - val_false_negatives: 0.0000e+00 - val_false_positives: 1359.0000 - val_loss: 0.8935 - val_precision: 0.5067 - val_recall: 1.0000 - val_true_negatives: 0.0000e+00 - val_true_positives: 1396.0000\n",
      "Epoch 9/10\n",
      "\u001b[1m689/689\u001b[0m \u001b[32m━━━━━━━━━━━━━━━━━━━━\u001b[0m\u001b[37m\u001b[0m \u001b[1m35s\u001b[0m 50ms/step - auc: 0.5256 - binary_accuracy: 0.5131 - false_negatives: 2879.9304 - false_positives: 2484.2769 - loss: 0.9754 - precision: 0.5166 - recall: 0.5029 - true_negatives: 3034.6028 - true_positives: 2657.1377 - val_auc: 0.5565 - val_binary_accuracy: 0.4947 - val_false_negatives: 1392.0000 - val_false_positives: 0.0000e+00 - val_loss: 1.3830 - val_precision: 0.0000e+00 - val_recall: 0.0000e+00 - val_true_negatives: 1363.0000 - val_true_positives: 0.0000e+00\n",
      "Epoch 10/10\n",
      "\u001b[1m689/689\u001b[0m \u001b[32m━━━━━━━━━━━━━━━━━━━━\u001b[0m\u001b[37m\u001b[0m \u001b[1m34s\u001b[0m 50ms/step - auc: 0.5244 - binary_accuracy: 0.5194 - false_negatives: 2777.8652 - false_positives: 2530.9856 - loss: 1.0113 - precision: 0.5230 - recall: 0.5122 - true_negatives: 2987.7913 - true_positives: 2759.3059 - val_auc: 0.5000 - val_binary_accuracy: 0.4966 - val_false_negatives: 1387.0000 - val_false_positives: 0.0000e+00 - val_loss: 4.5900 - val_precision: 0.0000e+00 - val_recall: 0.0000e+00 - val_true_negatives: 1368.0000 - val_true_positives: 0.0000e+00\n"
     ]
    },
    {
     "data": {
      "text/html": [],
      "text/plain": [
       "<IPython.core.display.HTML object>"
      ]
     },
     "metadata": {},
     "output_type": "display_data"
    },
    {
     "data": {
      "text/html": [
       "<br>    <style><br>        .wandb-row {<br>            display: flex;<br>            flex-direction: row;<br>            flex-wrap: wrap;<br>            justify-content: flex-start;<br>            width: 100%;<br>        }<br>        .wandb-col {<br>            display: flex;<br>            flex-direction: column;<br>            flex-basis: 100%;<br>            flex: 1;<br>            padding: 10px;<br>        }<br>    </style><br><div class=\"wandb-row\"><div class=\"wandb-col\"><h3>Run history:</h3><br/><table class=\"wandb\"><tr><td>epoch/auc</td><td>█▅▁▂▅▂▁▂▃▄</td></tr><tr><td>epoch/binary_accuracy</td><td>█▆▁▂▅▃▁▁▃▄</td></tr><tr><td>epoch/epoch</td><td>▁▂▃▃▄▅▆▆▇█</td></tr><tr><td>epoch/false_negatives</td><td>█▃▃▃▄▁▅▆▅▄</td></tr><tr><td>epoch/false_positives</td><td>▄▄▅▅▃█▂▁▂▂</td></tr><tr><td>epoch/learning_rate</td><td>▁▁▁▁▁▁▁▁▁▁</td></tr><tr><td>epoch/loss</td><td>█▃▁▂▂▂▂▂▂▃</td></tr><tr><td>epoch/precision</td><td>█▅▁▂▄▂▂▂▃▄</td></tr><tr><td>epoch/recall</td><td>▂▅▄▅▄█▂▁▃▃</td></tr><tr><td>epoch/true_negatives</td><td>█▃▃▂▃▁▄▄▄▄</td></tr><tr><td>epoch/true_positives</td><td>▇▅▄▅▄█▂▁▃▃</td></tr><tr><td>epoch/val_auc</td><td>▁▁▁█▁▂▂▅▄▁</td></tr><tr><td>epoch/val_binary_accuracy</td><td>██▇▆▁▂▆█▁▂</td></tr><tr><td>epoch/val_false_negatives</td><td>▁▁▁▁██▁▁██</td></tr><tr><td>epoch/val_false_positives</td><td>████▁▁██▁▁</td></tr><tr><td>epoch/val_loss</td><td>▁▂▁▁▇▁▂▁▂█</td></tr><tr><td>epoch/val_precision</td><td>████▁▁██▁▁</td></tr><tr><td>epoch/val_recall</td><td>████▁▁██▁▁</td></tr><tr><td>epoch/val_true_negatives</td><td>▁▁▁▁██▁▁██</td></tr><tr><td>epoch/val_true_positives</td><td>████▁▁██▁▁</td></tr><tr><td>val_binary_accuracy</td><td>▁</td></tr></table><br/></div><div class=\"wandb-col\"><h3>Run summary:</h3><br/><table class=\"wandb\"><tr><td>epoch/auc</td><td>0.52759</td></tr><tr><td>epoch/binary_accuracy</td><td>0.51901</td></tr><tr><td>epoch/epoch</td><td>9</td></tr><tr><td>epoch/false_negatives</td><td>5627</td></tr><tr><td>epoch/false_positives</td><td>4977</td></tr><tr><td>epoch/learning_rate</td><td>0.02904</td></tr><tr><td>epoch/loss</td><td>1.0567</td></tr><tr><td>epoch/precision</td><td>0.52034</td></tr><tr><td>epoch/recall</td><td>0.48966</td></tr><tr><td>epoch/true_negatives</td><td>6043</td></tr><tr><td>epoch/true_positives</td><td>5399</td></tr><tr><td>epoch/val_auc</td><td>0.5</td></tr><tr><td>epoch/val_binary_accuracy</td><td>0.49655</td></tr><tr><td>epoch/val_false_negatives</td><td>1387</td></tr><tr><td>epoch/val_false_positives</td><td>0</td></tr><tr><td>epoch/val_loss</td><td>4.58998</td></tr><tr><td>epoch/val_precision</td><td>0</td></tr><tr><td>epoch/val_recall</td><td>0</td></tr><tr><td>epoch/val_true_negatives</td><td>1368</td></tr><tr><td>epoch/val_true_positives</td><td>0</td></tr><tr><td>val_binary_accuracy</td><td>0.49655</td></tr></table><br/></div></div>"
      ],
      "text/plain": [
       "<IPython.core.display.HTML object>"
      ]
     },
     "metadata": {},
     "output_type": "display_data"
    },
    {
     "data": {
      "text/html": [
       " View run <strong style=\"color:#cdcd00\">Run-HP-Tune</strong> at: <a href='https://wandb.ai/amanjn2003-santa-clara-university/Malaria-Detection-HP-Tune/runs/1m07hmhr' target=\"_blank\">https://wandb.ai/amanjn2003-santa-clara-university/Malaria-Detection-HP-Tune/runs/1m07hmhr</a><br> View project at: <a href='https://wandb.ai/amanjn2003-santa-clara-university/Malaria-Detection-HP-Tune' target=\"_blank\">https://wandb.ai/amanjn2003-santa-clara-university/Malaria-Detection-HP-Tune</a><br>Synced 5 W&B file(s), 0 media file(s), 20 artifact file(s) and 0 other file(s)"
      ],
      "text/plain": [
       "<IPython.core.display.HTML object>"
      ]
     },
     "metadata": {},
     "output_type": "display_data"
    },
    {
     "data": {
      "text/html": [
       "Find logs at: <code>./wandb/run-20250127_145745-1m07hmhr/logs</code>"
      ],
      "text/plain": [
       "<IPython.core.display.HTML object>"
      ]
     },
     "metadata": {},
     "output_type": "display_data"
    },
    {
     "name": "stderr",
     "output_type": "stream",
     "text": [
      "\u001b[34m\u001b[1mwandb\u001b[0m: Agent Starting Run: 4ogypsuy with config:\n",
      "\u001b[34m\u001b[1mwandb\u001b[0m: \tDROPOUT_RATE: 0.12429993697282306\n",
      "\u001b[34m\u001b[1mwandb\u001b[0m: \tLEARNING_RATE: 0.03199381526273406\n",
      "\u001b[34m\u001b[1mwandb\u001b[0m: \tN_DENSE_1: 64\n",
      "\u001b[34m\u001b[1mwandb\u001b[0m: \tN_DENSE_2: 128\n",
      "\u001b[34m\u001b[1mwandb\u001b[0m: \tREGULARIZATION_RATE: 0.0116823239225926\n"
     ]
    },
    {
     "data": {
      "text/html": [
       "Ignoring project 'Malaria-Detection' when running a sweep."
      ],
      "text/plain": [
       "<IPython.core.display.HTML object>"
      ]
     },
     "metadata": {},
     "output_type": "display_data"
    },
    {
     "data": {
      "text/html": [
       "Ignoring entity 'amanjn2003-santa-clara-university' when running a sweep."
      ],
      "text/plain": [
       "<IPython.core.display.HTML object>"
      ]
     },
     "metadata": {},
     "output_type": "display_data"
    },
    {
     "data": {
      "text/html": [
       "Tracking run with wandb version 0.19.4"
      ],
      "text/plain": [
       "<IPython.core.display.HTML object>"
      ]
     },
     "metadata": {},
     "output_type": "display_data"
    },
    {
     "data": {
      "text/html": [
       "Run data is saved locally in <code>/Users/aman/Documents/Work/Machine Learning/Computer-Vision-TensorFlow/Weights&Biases-Integration/wandb/run-20250127_150346-4ogypsuy</code>"
      ],
      "text/plain": [
       "<IPython.core.display.HTML object>"
      ]
     },
     "metadata": {},
     "output_type": "display_data"
    },
    {
     "data": {
      "text/html": [
       "Syncing run <strong><a href='https://wandb.ai/amanjn2003-santa-clara-university/Malaria-Detection-HP-Tune/runs/4ogypsuy' target=\"_blank\">Run-HP-Tune</a></strong> to <a href='https://wandb.ai/amanjn2003-santa-clara-university/Malaria-Detection-HP-Tune' target=\"_blank\">Weights & Biases</a> (<a href='https://wandb.me/developer-guide' target=\"_blank\">docs</a>)<br>Sweep page: <a href='https://wandb.ai/amanjn2003-santa-clara-university/Malaria-Detection-HP-Tune/sweeps/sisjf06a' target=\"_blank\">https://wandb.ai/amanjn2003-santa-clara-university/Malaria-Detection-HP-Tune/sweeps/sisjf06a</a>"
      ],
      "text/plain": [
       "<IPython.core.display.HTML object>"
      ]
     },
     "metadata": {},
     "output_type": "display_data"
    },
    {
     "data": {
      "text/html": [
       " View project at <a href='https://wandb.ai/amanjn2003-santa-clara-university/Malaria-Detection-HP-Tune' target=\"_blank\">https://wandb.ai/amanjn2003-santa-clara-university/Malaria-Detection-HP-Tune</a>"
      ],
      "text/plain": [
       "<IPython.core.display.HTML object>"
      ]
     },
     "metadata": {},
     "output_type": "display_data"
    },
    {
     "data": {
      "text/html": [
       " View sweep at <a href='https://wandb.ai/amanjn2003-santa-clara-university/Malaria-Detection-HP-Tune/sweeps/sisjf06a' target=\"_blank\">https://wandb.ai/amanjn2003-santa-clara-university/Malaria-Detection-HP-Tune/sweeps/sisjf06a</a>"
      ],
      "text/plain": [
       "<IPython.core.display.HTML object>"
      ]
     },
     "metadata": {},
     "output_type": "display_data"
    },
    {
     "data": {
      "text/html": [
       " View run at <a href='https://wandb.ai/amanjn2003-santa-clara-university/Malaria-Detection-HP-Tune/runs/4ogypsuy' target=\"_blank\">https://wandb.ai/amanjn2003-santa-clara-university/Malaria-Detection-HP-Tune/runs/4ogypsuy</a>"
      ],
      "text/plain": [
       "<IPython.core.display.HTML object>"
      ]
     },
     "metadata": {},
     "output_type": "display_data"
    },
    {
     "name": "stdout",
     "output_type": "stream",
     "text": [
      "Epoch 1/10\n",
      "\u001b[1m689/689\u001b[0m \u001b[32m━━━━━━━━━━━━━━━━━━━━\u001b[0m\u001b[37m\u001b[0m \u001b[1m38s\u001b[0m 51ms/step - auc: 0.5510 - binary_accuracy: 0.5465 - false_negatives: 3782.4275 - false_positives: 2415.3232 - loss: 3.5084 - precision: 0.5672 - recall: 0.4131 - true_negatives: 4471.4131 - true_positives: 3141.7842 - val_auc: 0.6236 - val_binary_accuracy: 0.5053 - val_false_negatives: 0.0000e+00 - val_false_positives: 1363.0000 - val_loss: 0.7997 - val_precision: 0.5053 - val_recall: 1.0000 - val_true_negatives: 0.0000e+00 - val_true_positives: 1392.0000\n",
      "Epoch 2/10\n",
      "\u001b[1m689/689\u001b[0m \u001b[32m━━━━━━━━━━━━━━━━━━━━\u001b[0m\u001b[37m\u001b[0m \u001b[1m34s\u001b[0m 50ms/step - auc: 0.5899 - binary_accuracy: 0.5639 - false_negatives: 2419.3101 - false_positives: 2494.0913 - loss: 0.9711 - precision: 0.5654 - recall: 0.5766 - true_negatives: 3024.7290 - true_positives: 3117.8174 - val_auc: 0.5000 - val_binary_accuracy: 0.5053 - val_false_negatives: 0.0000e+00 - val_false_positives: 1363.0000 - val_loss: 0.8072 - val_precision: 0.5053 - val_recall: 1.0000 - val_true_negatives: 0.0000e+00 - val_true_positives: 1392.0000\n",
      "Epoch 3/10\n",
      "\u001b[1m689/689\u001b[0m \u001b[32m━━━━━━━━━━━━━━━━━━━━\u001b[0m\u001b[37m\u001b[0m \u001b[1m33s\u001b[0m 48ms/step - auc: 0.5394 - binary_accuracy: 0.5311 - false_negatives: 2658.4028 - false_positives: 2579.5247 - loss: 0.9553 - precision: 0.5334 - recall: 0.5367 - true_negatives: 2939.1450 - true_positives: 2878.8752 - val_auc: 0.5000 - val_binary_accuracy: 0.4947 - val_false_negatives: 1392.0000 - val_false_positives: 0.0000e+00 - val_loss: 0.7366 - val_precision: 0.0000e+00 - val_recall: 0.0000e+00 - val_true_negatives: 1363.0000 - val_true_positives: 0.0000e+00\n",
      "Epoch 4/10\n",
      "\u001b[1m689/689\u001b[0m \u001b[32m━━━━━━━━━━━━━━━━━━━━\u001b[0m\u001b[37m\u001b[0m \u001b[1m34s\u001b[0m 49ms/step - auc: 0.5078 - binary_accuracy: 0.5010 - false_negatives: 2892.6782 - false_positives: 2638.9885 - loss: 0.7834 - precision: 0.5036 - recall: 0.4886 - true_negatives: 2879.7493 - true_positives: 2644.5320 - val_auc: 0.5000 - val_binary_accuracy: 0.5042 - val_false_negatives: 0.0000e+00 - val_false_positives: 1366.0000 - val_loss: 0.8326 - val_precision: 0.5042 - val_recall: 1.0000 - val_true_negatives: 0.0000e+00 - val_true_positives: 1389.0000\n",
      "Epoch 5/10\n",
      "\u001b[1m689/689\u001b[0m \u001b[32m━━━━━━━━━━━━━━━━━━━━\u001b[0m\u001b[37m\u001b[0m \u001b[1m35s\u001b[0m 51ms/step - auc: 0.4983 - binary_accuracy: 0.4985 - false_negatives: 2720.5493 - false_positives: 2814.9275 - loss: 0.7042 - precision: 0.5012 - recall: 0.5096 - true_negatives: 2703.9827 - true_positives: 2816.4885 - val_auc: 0.5000 - val_binary_accuracy: 0.4966 - val_false_negatives: 1387.0000 - val_false_positives: 0.0000e+00 - val_loss: 0.7099 - val_precision: 0.0000e+00 - val_recall: 0.0000e+00 - val_true_negatives: 1368.0000 - val_true_positives: 0.0000e+00\n",
      "Epoch 6/10\n",
      "\u001b[1m689/689\u001b[0m \u001b[32m━━━━━━━━━━━━━━━━━━━━\u001b[0m\u001b[37m\u001b[0m \u001b[1m36s\u001b[0m 53ms/step - auc: 0.5020 - binary_accuracy: 0.5029 - false_negatives: 2961.1724 - false_positives: 2553.7478 - loss: 0.7086 - precision: 0.5068 - recall: 0.4734 - true_negatives: 2965.0552 - true_positives: 2575.9724 - val_auc: 0.5000 - val_binary_accuracy: 0.4947 - val_false_negatives: 1392.0000 - val_false_positives: 0.0000e+00 - val_loss: 0.7215 - val_precision: 0.0000e+00 - val_recall: 0.0000e+00 - val_true_negatives: 1363.0000 - val_true_positives: 0.0000e+00\n",
      "Epoch 7/10\n",
      "\u001b[1m689/689\u001b[0m \u001b[32m━━━━━━━━━━━━━━━━━━━━\u001b[0m\u001b[37m\u001b[0m \u001b[1m36s\u001b[0m 52ms/step - auc: 0.4996 - binary_accuracy: 0.5003 - false_negatives: 2731.0044 - false_positives: 2794.6421 - loss: 0.7066 - precision: 0.5036 - recall: 0.5205 - true_negatives: 2724.1174 - true_positives: 2806.1841 - val_auc: 0.5000 - val_binary_accuracy: 0.5034 - val_false_negatives: 0.0000e+00 - val_false_positives: 1368.0000 - val_loss: 0.7016 - val_precision: 0.5034 - val_recall: 1.0000 - val_true_negatives: 0.0000e+00 - val_true_positives: 1387.0000\n",
      "Epoch 8/10\n",
      "\u001b[1m689/689\u001b[0m \u001b[32m━━━━━━━━━━━━━━━━━━━━\u001b[0m\u001b[37m\u001b[0m \u001b[1m36s\u001b[0m 52ms/step - auc: 0.5046 - binary_accuracy: 0.5051 - false_negatives: 2711.6274 - false_positives: 2778.0566 - loss: 0.7142 - precision: 0.5051 - recall: 0.5164 - true_negatives: 2740.6248 - true_positives: 2825.6392 - val_auc: 0.5000 - val_binary_accuracy: 0.5064 - val_false_negatives: 0.0000e+00 - val_false_positives: 1360.0000 - val_loss: 0.8206 - val_precision: 0.5064 - val_recall: 1.0000 - val_true_negatives: 0.0000e+00 - val_true_positives: 1395.0000\n",
      "Epoch 9/10\n",
      "\u001b[1m689/689\u001b[0m \u001b[32m━━━━━━━━━━━━━━━━━━━━\u001b[0m\u001b[37m\u001b[0m \u001b[1m35s\u001b[0m 51ms/step - auc: 0.5002 - binary_accuracy: 0.5013 - false_negatives: 2882.5173 - false_positives: 2670.0276 - loss: 0.7108 - precision: 0.5047 - recall: 0.4976 - true_negatives: 2848.7798 - true_positives: 2654.6233 - val_auc: 0.5000 - val_binary_accuracy: 0.4929 - val_false_negatives: 1397.0000 - val_false_positives: 0.0000e+00 - val_loss: 0.7096 - val_precision: 0.0000e+00 - val_recall: 0.0000e+00 - val_true_negatives: 1358.0000 - val_true_positives: 0.0000e+00\n",
      "Epoch 10/10\n",
      "\u001b[1m689/689\u001b[0m \u001b[32m━━━━━━━━━━━━━━━━━━━━\u001b[0m\u001b[37m\u001b[0m \u001b[1m36s\u001b[0m 52ms/step - auc: 0.5021 - binary_accuracy: 0.5006 - false_negatives: 2734.3943 - false_positives: 2823.4102 - loss: 0.7108 - precision: 0.5025 - recall: 0.5305 - true_negatives: 2695.4680 - true_positives: 2802.6753 - val_auc: 0.5000 - val_binary_accuracy: 0.5067 - val_false_negatives: 0.0000e+00 - val_false_positives: 1359.0000 - val_loss: 0.7019 - val_precision: 0.5067 - val_recall: 1.0000 - val_true_negatives: 0.0000e+00 - val_true_positives: 1396.0000\n"
     ]
    },
    {
     "data": {
      "text/html": [],
      "text/plain": [
       "<IPython.core.display.HTML object>"
      ]
     },
     "metadata": {},
     "output_type": "display_data"
    },
    {
     "data": {
      "text/html": [
       "<br>    <style><br>        .wandb-row {<br>            display: flex;<br>            flex-direction: row;<br>            flex-wrap: wrap;<br>            justify-content: flex-start;<br>            width: 100%;<br>        }<br>        .wandb-col {<br>            display: flex;<br>            flex-direction: column;<br>            flex-basis: 100%;<br>            flex: 1;<br>            padding: 10px;<br>        }<br>    </style><br><div class=\"wandb-row\"><div class=\"wandb-col\"><h3>Run history:</h3><br/><table class=\"wandb\"><tr><td>epoch/auc</td><td>██▅▂▁▁▁▂▁▁</td></tr><tr><td>epoch/binary_accuracy</td><td>█▇▅▂▁▂▂▂▁▁</td></tr><tr><td>epoch/epoch</td><td>▁▂▃▃▄▅▆▆▇█</td></tr><tr><td>epoch/false_negatives</td><td>█▁▃▆▅▆▅▄▇▅</td></tr><tr><td>epoch/false_positives</td><td>▁▃▄▄█▄▇█▅█</td></tr><tr><td>epoch/learning_rate</td><td>▁▁▁▁▁▁▁▁▁▁</td></tr><tr><td>epoch/loss</td><td>█▃▄▁▁▁▁▁▁▁</td></tr><tr><td>epoch/precision</td><td>█▆▄▂▁▂▂▂▁▁</td></tr><tr><td>epoch/recall</td><td>▄█▅▁▄▁▃▄▁▃</td></tr><tr><td>epoch/true_negatives</td><td>█▃▂▂▁▂▁▁▂▁</td></tr><tr><td>epoch/true_positives</td><td>█▇▄▁▃▁▃▄▁▃</td></tr><tr><td>epoch/val_auc</td><td>█▁▁▁▁▁▁▁▁▁</td></tr><tr><td>epoch/val_binary_accuracy</td><td>▇▇▂▇▃▂▆█▁█</td></tr><tr><td>epoch/val_false_negatives</td><td>▁▁█▁██▁▁█▁</td></tr><tr><td>epoch/val_false_positives</td><td>██▁█▁▁██▁█</td></tr><tr><td>epoch/val_loss</td><td>▆▇▃█▁▂▁▇▁▁</td></tr><tr><td>epoch/val_precision</td><td>██▁█▁▁██▁█</td></tr><tr><td>epoch/val_recall</td><td>██▁█▁▁██▁█</td></tr><tr><td>epoch/val_true_negatives</td><td>▁▁█▁██▁▁█▁</td></tr><tr><td>epoch/val_true_positives</td><td>██▁█▁▁██▁█</td></tr><tr><td>val_binary_accuracy</td><td>▁</td></tr></table><br/></div><div class=\"wandb-col\"><h3>Run summary:</h3><br/><table class=\"wandb\"><tr><td>epoch/auc</td><td>0.50003</td></tr><tr><td>epoch/binary_accuracy</td><td>0.49687</td></tr><tr><td>epoch/epoch</td><td>9</td></tr><tr><td>epoch/false_negatives</td><td>5507</td></tr><tr><td>epoch/false_positives</td><td>5585</td></tr><tr><td>epoch/learning_rate</td><td>0.03199</td></tr><tr><td>epoch/loss</td><td>0.70934</td></tr><tr><td>epoch/precision</td><td>0.49698</td></tr><tr><td>epoch/recall</td><td>0.5005</td></tr><tr><td>epoch/true_negatives</td><td>5436</td></tr><tr><td>epoch/true_positives</td><td>5518</td></tr><tr><td>epoch/val_auc</td><td>0.5</td></tr><tr><td>epoch/val_binary_accuracy</td><td>0.50672</td></tr><tr><td>epoch/val_false_negatives</td><td>0</td></tr><tr><td>epoch/val_false_positives</td><td>1359</td></tr><tr><td>epoch/val_loss</td><td>0.70187</td></tr><tr><td>epoch/val_precision</td><td>0.50672</td></tr><tr><td>epoch/val_recall</td><td>1</td></tr><tr><td>epoch/val_true_negatives</td><td>0</td></tr><tr><td>epoch/val_true_positives</td><td>1396</td></tr><tr><td>val_binary_accuracy</td><td>0.50672</td></tr></table><br/></div></div>"
      ],
      "text/plain": [
       "<IPython.core.display.HTML object>"
      ]
     },
     "metadata": {},
     "output_type": "display_data"
    },
    {
     "data": {
      "text/html": [
       " View run <strong style=\"color:#cdcd00\">Run-HP-Tune</strong> at: <a href='https://wandb.ai/amanjn2003-santa-clara-university/Malaria-Detection-HP-Tune/runs/4ogypsuy' target=\"_blank\">https://wandb.ai/amanjn2003-santa-clara-university/Malaria-Detection-HP-Tune/runs/4ogypsuy</a><br> View project at: <a href='https://wandb.ai/amanjn2003-santa-clara-university/Malaria-Detection-HP-Tune' target=\"_blank\">https://wandb.ai/amanjn2003-santa-clara-university/Malaria-Detection-HP-Tune</a><br>Synced 5 W&B file(s), 0 media file(s), 20 artifact file(s) and 0 other file(s)"
      ],
      "text/plain": [
       "<IPython.core.display.HTML object>"
      ]
     },
     "metadata": {},
     "output_type": "display_data"
    },
    {
     "data": {
      "text/html": [
       "Find logs at: <code>./wandb/run-20250127_150346-4ogypsuy/logs</code>"
      ],
      "text/plain": [
       "<IPython.core.display.HTML object>"
      ]
     },
     "metadata": {},
     "output_type": "display_data"
    },
    {
     "name": "stderr",
     "output_type": "stream",
     "text": [
      "\u001b[34m\u001b[1mwandb\u001b[0m: Agent Starting Run: dgcsfj3x with config:\n",
      "\u001b[34m\u001b[1mwandb\u001b[0m: \tDROPOUT_RATE: 0.3908311976704627\n",
      "\u001b[34m\u001b[1mwandb\u001b[0m: \tLEARNING_RATE: 0.02403442083969619\n",
      "\u001b[34m\u001b[1mwandb\u001b[0m: \tN_DENSE_1: 64\n",
      "\u001b[34m\u001b[1mwandb\u001b[0m: \tN_DENSE_2: 64\n",
      "\u001b[34m\u001b[1mwandb\u001b[0m: \tREGULARIZATION_RATE: 0.023399418716628866\n"
     ]
    },
    {
     "data": {
      "text/html": [
       "Ignoring project 'Malaria-Detection' when running a sweep."
      ],
      "text/plain": [
       "<IPython.core.display.HTML object>"
      ]
     },
     "metadata": {},
     "output_type": "display_data"
    },
    {
     "data": {
      "text/html": [
       "Ignoring entity 'amanjn2003-santa-clara-university' when running a sweep."
      ],
      "text/plain": [
       "<IPython.core.display.HTML object>"
      ]
     },
     "metadata": {},
     "output_type": "display_data"
    },
    {
     "data": {
      "text/html": [
       "Tracking run with wandb version 0.19.4"
      ],
      "text/plain": [
       "<IPython.core.display.HTML object>"
      ]
     },
     "metadata": {},
     "output_type": "display_data"
    },
    {
     "data": {
      "text/html": [
       "Run data is saved locally in <code>/Users/aman/Documents/Work/Machine Learning/Computer-Vision-TensorFlow/Weights&Biases-Integration/wandb/run-20250127_150947-dgcsfj3x</code>"
      ],
      "text/plain": [
       "<IPython.core.display.HTML object>"
      ]
     },
     "metadata": {},
     "output_type": "display_data"
    },
    {
     "data": {
      "text/html": [
       "Syncing run <strong><a href='https://wandb.ai/amanjn2003-santa-clara-university/Malaria-Detection-HP-Tune/runs/dgcsfj3x' target=\"_blank\">Run-HP-Tune</a></strong> to <a href='https://wandb.ai/amanjn2003-santa-clara-university/Malaria-Detection-HP-Tune' target=\"_blank\">Weights & Biases</a> (<a href='https://wandb.me/developer-guide' target=\"_blank\">docs</a>)<br>Sweep page: <a href='https://wandb.ai/amanjn2003-santa-clara-university/Malaria-Detection-HP-Tune/sweeps/sisjf06a' target=\"_blank\">https://wandb.ai/amanjn2003-santa-clara-university/Malaria-Detection-HP-Tune/sweeps/sisjf06a</a>"
      ],
      "text/plain": [
       "<IPython.core.display.HTML object>"
      ]
     },
     "metadata": {},
     "output_type": "display_data"
    },
    {
     "data": {
      "text/html": [
       " View project at <a href='https://wandb.ai/amanjn2003-santa-clara-university/Malaria-Detection-HP-Tune' target=\"_blank\">https://wandb.ai/amanjn2003-santa-clara-university/Malaria-Detection-HP-Tune</a>"
      ],
      "text/plain": [
       "<IPython.core.display.HTML object>"
      ]
     },
     "metadata": {},
     "output_type": "display_data"
    },
    {
     "data": {
      "text/html": [
       " View sweep at <a href='https://wandb.ai/amanjn2003-santa-clara-university/Malaria-Detection-HP-Tune/sweeps/sisjf06a' target=\"_blank\">https://wandb.ai/amanjn2003-santa-clara-university/Malaria-Detection-HP-Tune/sweeps/sisjf06a</a>"
      ],
      "text/plain": [
       "<IPython.core.display.HTML object>"
      ]
     },
     "metadata": {},
     "output_type": "display_data"
    },
    {
     "data": {
      "text/html": [
       " View run at <a href='https://wandb.ai/amanjn2003-santa-clara-university/Malaria-Detection-HP-Tune/runs/dgcsfj3x' target=\"_blank\">https://wandb.ai/amanjn2003-santa-clara-university/Malaria-Detection-HP-Tune/runs/dgcsfj3x</a>"
      ],
      "text/plain": [
       "<IPython.core.display.HTML object>"
      ]
     },
     "metadata": {},
     "output_type": "display_data"
    },
    {
     "name": "stdout",
     "output_type": "stream",
     "text": [
      "Epoch 1/10\n",
      "\u001b[1m689/689\u001b[0m \u001b[32m━━━━━━━━━━━━━━━━━━━━\u001b[0m\u001b[37m\u001b[0m \u001b[1m39s\u001b[0m 52ms/step - auc: 0.5632 - binary_accuracy: 0.5425 - false_negatives: 2474.7014 - false_positives: 3814.9363 - loss: 3.7622 - precision: 0.5370 - recall: 0.6786 - true_negatives: 3062.8218 - true_positives: 4458.4883 - val_auc: 0.5559 - val_binary_accuracy: 0.5064 - val_false_negatives: 27.0000 - val_false_positives: 1333.0000 - val_loss: 0.8900 - val_precision: 0.5067 - val_recall: 0.9807 - val_true_negatives: 26.0000 - val_true_positives: 1369.0000\n",
      "Epoch 2/10\n",
      "\u001b[1m689/689\u001b[0m \u001b[32m━━━━━━━━━━━━━━━━━━━━\u001b[0m\u001b[37m\u001b[0m \u001b[1m40s\u001b[0m 57ms/step - auc: 0.5390 - binary_accuracy: 0.5296 - false_negatives: 2620.8752 - false_positives: 2616.6506 - loss: 0.9289 - precision: 0.5306 - recall: 0.5581 - true_negatives: 2902.1174 - true_positives: 2916.3044 - val_auc: 0.5069 - val_binary_accuracy: 0.5053 - val_false_negatives: 0.0000e+00 - val_false_positives: 1363.0000 - val_loss: 0.7964 - val_precision: 0.5053 - val_recall: 1.0000 - val_true_negatives: 0.0000e+00 - val_true_positives: 1392.0000\n",
      "Epoch 3/10\n",
      "\u001b[1m187/689\u001b[0m \u001b[32m━━━━━\u001b[0m\u001b[37m━━━━━━━━━━━━━━━\u001b[0m \u001b[1m2:19:27\u001b[0m 17s/step - auc: 0.5028 - binary_accuracy: 0.5075 - false_negatives: 417.7647 - false_positives: 1062.5294 - loss: 0.7840 - precision: 0.5122 - recall: 0.7753 - true_negatives: 416.4652 - true_positives: 1111.2406"
     ]
    }
   ],
   "source": [
    "count = 20 # Number of Runs\n",
    "wandb.agent(sweepID, function=train, count=count)"
   ]
  },
  {
   "cell_type": "code",
   "execution_count": 7,
   "metadata": {},
   "outputs": [],
   "source": [
    "wandb.finish()"
   ]
  }
 ],
 "metadata": {
  "kernelspec": {
   "display_name": "ComputerVision",
   "language": "python",
   "name": "python3"
  },
  "language_info": {
   "codemirror_mode": {
    "name": "ipython",
    "version": 3
   },
   "file_extension": ".py",
   "mimetype": "text/x-python",
   "name": "python",
   "nbconvert_exporter": "python",
   "pygments_lexer": "ipython3",
   "version": "3.11.11"
  }
 },
 "nbformat": 4,
 "nbformat_minor": 2
}
