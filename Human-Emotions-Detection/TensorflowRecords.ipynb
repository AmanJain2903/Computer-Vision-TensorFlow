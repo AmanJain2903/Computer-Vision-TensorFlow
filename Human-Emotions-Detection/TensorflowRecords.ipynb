{
 "cells": [
  {
   "cell_type": "markdown",
   "metadata": {},
   "source": [
    "# USING TENSORFLOW RECORDS"
   ]
  },
  {
   "cell_type": "markdown",
   "metadata": {},
   "source": [
    "## 1. Used to store data more efficiently\n",
    "### -> One single file rather than many small files.\n",
    "## 2. Can carry out pre-processing and store that data which can be loaded easily.\n",
    "## 3. Can store output of a part of the model (Embeddings).\n",
    "## 4. Encourage parallelizing of reading data."
   ]
  },
  {
   "cell_type": "code",
   "execution_count": 1,
   "metadata": {},
   "outputs": [
    {
     "name": "stdout",
     "output_type": "stream",
     "text": [
      "Found 6799 files belonging to 3 classes.\n",
      "Using 5440 files for training.\n",
      "Found 6799 files belonging to 3 classes.\n",
      "Using 1359 files for validation.\n",
      "Found 2278 files belonging to 3 classes.\n"
     ]
    },
    {
     "name": "stderr",
     "output_type": "stream",
     "text": [
      "2025-01-28 16:08:50.171168: I metal_plugin/src/device/metal_device.cc:1154] Metal device set to: Apple M3 Pro\n",
      "2025-01-28 16:08:50.171196: I metal_plugin/src/device/metal_device.cc:296] systemMemory: 18.00 GB\n",
      "2025-01-28 16:08:50.171202: I metal_plugin/src/device/metal_device.cc:313] maxCacheSize: 6.00 GB\n",
      "2025-01-28 16:08:50.171216: I tensorflow/core/common_runtime/pluggable_device/pluggable_device_factory.cc:305] Could not identify NUMA node of platform GPU ID 0, defaulting to 0. Your kernel may not have been built with NUMA support.\n",
      "2025-01-28 16:08:50.171225: I tensorflow/core/common_runtime/pluggable_device/pluggable_device_factory.cc:271] Created TensorFlow device (/job:localhost/replica:0/task:0/device:GPU:0 with 0 MB memory) -> physical PluggableDevice (device: 0, name: METAL, pci bus id: <undefined>)\n"
     ]
    },
    {
     "data": {
      "text/html": [
       "<pre style=\"white-space:pre;overflow-x:auto;line-height:normal;font-family:Menlo,'DejaVu Sans Mono',consolas,'Courier New',monospace\"><span style=\"font-weight: bold\">Model: \"sequential_1\"</span>\n",
       "</pre>\n"
      ],
      "text/plain": [
       "\u001b[1mModel: \"sequential_1\"\u001b[0m\n"
      ]
     },
     "metadata": {},
     "output_type": "display_data"
    },
    {
     "data": {
      "text/html": [
       "<pre style=\"white-space:pre;overflow-x:auto;line-height:normal;font-family:Menlo,'DejaVu Sans Mono',consolas,'Courier New',monospace\">┏━━━━━━━━━━━━━━━━━━━━━━━━━━━━━━━━━┳━━━━━━━━━━━━━━━━━━━━━━━━┳━━━━━━━━━━━━━━━┓\n",
       "┃<span style=\"font-weight: bold\"> Layer (type)                    </span>┃<span style=\"font-weight: bold\"> Output Shape           </span>┃<span style=\"font-weight: bold\">       Param # </span>┃\n",
       "┡━━━━━━━━━━━━━━━━━━━━━━━━━━━━━━━━━╇━━━━━━━━━━━━━━━━━━━━━━━━╇━━━━━━━━━━━━━━━┩\n",
       "│ sequential (<span style=\"color: #0087ff; text-decoration-color: #0087ff\">Sequential</span>)         │ (<span style=\"color: #00d7ff; text-decoration-color: #00d7ff\">None</span>, <span style=\"color: #00af00; text-decoration-color: #00af00\">256</span>, <span style=\"color: #00af00; text-decoration-color: #00af00\">256</span>, <span style=\"color: #00af00; text-decoration-color: #00af00\">3</span>)    │             <span style=\"color: #00af00; text-decoration-color: #00af00\">0</span> │\n",
       "├─────────────────────────────────┼────────────────────────┼───────────────┤\n",
       "│ conv2d (<span style=\"color: #0087ff; text-decoration-color: #0087ff\">Conv2D</span>)                 │ (<span style=\"color: #00d7ff; text-decoration-color: #00d7ff\">None</span>, <span style=\"color: #00af00; text-decoration-color: #00af00\">254</span>, <span style=\"color: #00af00; text-decoration-color: #00af00\">254</span>, <span style=\"color: #00af00; text-decoration-color: #00af00\">6</span>)    │           <span style=\"color: #00af00; text-decoration-color: #00af00\">168</span> │\n",
       "├─────────────────────────────────┼────────────────────────┼───────────────┤\n",
       "│ batch_normalization             │ (<span style=\"color: #00d7ff; text-decoration-color: #00d7ff\">None</span>, <span style=\"color: #00af00; text-decoration-color: #00af00\">254</span>, <span style=\"color: #00af00; text-decoration-color: #00af00\">254</span>, <span style=\"color: #00af00; text-decoration-color: #00af00\">6</span>)    │            <span style=\"color: #00af00; text-decoration-color: #00af00\">24</span> │\n",
       "│ (<span style=\"color: #0087ff; text-decoration-color: #0087ff\">BatchNormalization</span>)            │                        │               │\n",
       "├─────────────────────────────────┼────────────────────────┼───────────────┤\n",
       "│ max_pooling2d (<span style=\"color: #0087ff; text-decoration-color: #0087ff\">MaxPooling2D</span>)    │ (<span style=\"color: #00d7ff; text-decoration-color: #00d7ff\">None</span>, <span style=\"color: #00af00; text-decoration-color: #00af00\">253</span>, <span style=\"color: #00af00; text-decoration-color: #00af00\">253</span>, <span style=\"color: #00af00; text-decoration-color: #00af00\">6</span>)    │             <span style=\"color: #00af00; text-decoration-color: #00af00\">0</span> │\n",
       "├─────────────────────────────────┼────────────────────────┼───────────────┤\n",
       "│ dropout (<span style=\"color: #0087ff; text-decoration-color: #0087ff\">Dropout</span>)               │ (<span style=\"color: #00d7ff; text-decoration-color: #00d7ff\">None</span>, <span style=\"color: #00af00; text-decoration-color: #00af00\">253</span>, <span style=\"color: #00af00; text-decoration-color: #00af00\">253</span>, <span style=\"color: #00af00; text-decoration-color: #00af00\">6</span>)    │             <span style=\"color: #00af00; text-decoration-color: #00af00\">0</span> │\n",
       "├─────────────────────────────────┼────────────────────────┼───────────────┤\n",
       "│ conv2d_1 (<span style=\"color: #0087ff; text-decoration-color: #0087ff\">Conv2D</span>)               │ (<span style=\"color: #00d7ff; text-decoration-color: #00d7ff\">None</span>, <span style=\"color: #00af00; text-decoration-color: #00af00\">251</span>, <span style=\"color: #00af00; text-decoration-color: #00af00\">251</span>, <span style=\"color: #00af00; text-decoration-color: #00af00\">6</span>)    │           <span style=\"color: #00af00; text-decoration-color: #00af00\">330</span> │\n",
       "├─────────────────────────────────┼────────────────────────┼───────────────┤\n",
       "│ batch_normalization_1           │ (<span style=\"color: #00d7ff; text-decoration-color: #00d7ff\">None</span>, <span style=\"color: #00af00; text-decoration-color: #00af00\">251</span>, <span style=\"color: #00af00; text-decoration-color: #00af00\">251</span>, <span style=\"color: #00af00; text-decoration-color: #00af00\">6</span>)    │            <span style=\"color: #00af00; text-decoration-color: #00af00\">24</span> │\n",
       "│ (<span style=\"color: #0087ff; text-decoration-color: #0087ff\">BatchNormalization</span>)            │                        │               │\n",
       "├─────────────────────────────────┼────────────────────────┼───────────────┤\n",
       "│ max_pooling2d_1 (<span style=\"color: #0087ff; text-decoration-color: #0087ff\">MaxPooling2D</span>)  │ (<span style=\"color: #00d7ff; text-decoration-color: #00d7ff\">None</span>, <span style=\"color: #00af00; text-decoration-color: #00af00\">250</span>, <span style=\"color: #00af00; text-decoration-color: #00af00\">250</span>, <span style=\"color: #00af00; text-decoration-color: #00af00\">6</span>)    │             <span style=\"color: #00af00; text-decoration-color: #00af00\">0</span> │\n",
       "├─────────────────────────────────┼────────────────────────┼───────────────┤\n",
       "│ flatten (<span style=\"color: #0087ff; text-decoration-color: #0087ff\">Flatten</span>)               │ (<span style=\"color: #00d7ff; text-decoration-color: #00d7ff\">None</span>, <span style=\"color: #00af00; text-decoration-color: #00af00\">375000</span>)         │             <span style=\"color: #00af00; text-decoration-color: #00af00\">0</span> │\n",
       "├─────────────────────────────────┼────────────────────────┼───────────────┤\n",
       "│ dense (<span style=\"color: #0087ff; text-decoration-color: #0087ff\">Dense</span>)                   │ (<span style=\"color: #00d7ff; text-decoration-color: #00d7ff\">None</span>, <span style=\"color: #00af00; text-decoration-color: #00af00\">100</span>)            │    <span style=\"color: #00af00; text-decoration-color: #00af00\">37,500,100</span> │\n",
       "├─────────────────────────────────┼────────────────────────┼───────────────┤\n",
       "│ batch_normalization_2           │ (<span style=\"color: #00d7ff; text-decoration-color: #00d7ff\">None</span>, <span style=\"color: #00af00; text-decoration-color: #00af00\">100</span>)            │           <span style=\"color: #00af00; text-decoration-color: #00af00\">400</span> │\n",
       "│ (<span style=\"color: #0087ff; text-decoration-color: #0087ff\">BatchNormalization</span>)            │                        │               │\n",
       "├─────────────────────────────────┼────────────────────────┼───────────────┤\n",
       "│ dropout_1 (<span style=\"color: #0087ff; text-decoration-color: #0087ff\">Dropout</span>)             │ (<span style=\"color: #00d7ff; text-decoration-color: #00d7ff\">None</span>, <span style=\"color: #00af00; text-decoration-color: #00af00\">100</span>)            │             <span style=\"color: #00af00; text-decoration-color: #00af00\">0</span> │\n",
       "├─────────────────────────────────┼────────────────────────┼───────────────┤\n",
       "│ dense_1 (<span style=\"color: #0087ff; text-decoration-color: #0087ff\">Dense</span>)                 │ (<span style=\"color: #00d7ff; text-decoration-color: #00d7ff\">None</span>, <span style=\"color: #00af00; text-decoration-color: #00af00\">10</span>)             │         <span style=\"color: #00af00; text-decoration-color: #00af00\">1,010</span> │\n",
       "├─────────────────────────────────┼────────────────────────┼───────────────┤\n",
       "│ batch_normalization_3           │ (<span style=\"color: #00d7ff; text-decoration-color: #00d7ff\">None</span>, <span style=\"color: #00af00; text-decoration-color: #00af00\">10</span>)             │            <span style=\"color: #00af00; text-decoration-color: #00af00\">40</span> │\n",
       "│ (<span style=\"color: #0087ff; text-decoration-color: #0087ff\">BatchNormalization</span>)            │                        │               │\n",
       "├─────────────────────────────────┼────────────────────────┼───────────────┤\n",
       "│ dense_2 (<span style=\"color: #0087ff; text-decoration-color: #0087ff\">Dense</span>)                 │ (<span style=\"color: #00d7ff; text-decoration-color: #00d7ff\">None</span>, <span style=\"color: #00af00; text-decoration-color: #00af00\">3</span>)              │            <span style=\"color: #00af00; text-decoration-color: #00af00\">33</span> │\n",
       "└─────────────────────────────────┴────────────────────────┴───────────────┘\n",
       "</pre>\n"
      ],
      "text/plain": [
       "┏━━━━━━━━━━━━━━━━━━━━━━━━━━━━━━━━━┳━━━━━━━━━━━━━━━━━━━━━━━━┳━━━━━━━━━━━━━━━┓\n",
       "┃\u001b[1m \u001b[0m\u001b[1mLayer (type)                   \u001b[0m\u001b[1m \u001b[0m┃\u001b[1m \u001b[0m\u001b[1mOutput Shape          \u001b[0m\u001b[1m \u001b[0m┃\u001b[1m \u001b[0m\u001b[1m      Param #\u001b[0m\u001b[1m \u001b[0m┃\n",
       "┡━━━━━━━━━━━━━━━━━━━━━━━━━━━━━━━━━╇━━━━━━━━━━━━━━━━━━━━━━━━╇━━━━━━━━━━━━━━━┩\n",
       "│ sequential (\u001b[38;5;33mSequential\u001b[0m)         │ (\u001b[38;5;45mNone\u001b[0m, \u001b[38;5;34m256\u001b[0m, \u001b[38;5;34m256\u001b[0m, \u001b[38;5;34m3\u001b[0m)    │             \u001b[38;5;34m0\u001b[0m │\n",
       "├─────────────────────────────────┼────────────────────────┼───────────────┤\n",
       "│ conv2d (\u001b[38;5;33mConv2D\u001b[0m)                 │ (\u001b[38;5;45mNone\u001b[0m, \u001b[38;5;34m254\u001b[0m, \u001b[38;5;34m254\u001b[0m, \u001b[38;5;34m6\u001b[0m)    │           \u001b[38;5;34m168\u001b[0m │\n",
       "├─────────────────────────────────┼────────────────────────┼───────────────┤\n",
       "│ batch_normalization             │ (\u001b[38;5;45mNone\u001b[0m, \u001b[38;5;34m254\u001b[0m, \u001b[38;5;34m254\u001b[0m, \u001b[38;5;34m6\u001b[0m)    │            \u001b[38;5;34m24\u001b[0m │\n",
       "│ (\u001b[38;5;33mBatchNormalization\u001b[0m)            │                        │               │\n",
       "├─────────────────────────────────┼────────────────────────┼───────────────┤\n",
       "│ max_pooling2d (\u001b[38;5;33mMaxPooling2D\u001b[0m)    │ (\u001b[38;5;45mNone\u001b[0m, \u001b[38;5;34m253\u001b[0m, \u001b[38;5;34m253\u001b[0m, \u001b[38;5;34m6\u001b[0m)    │             \u001b[38;5;34m0\u001b[0m │\n",
       "├─────────────────────────────────┼────────────────────────┼───────────────┤\n",
       "│ dropout (\u001b[38;5;33mDropout\u001b[0m)               │ (\u001b[38;5;45mNone\u001b[0m, \u001b[38;5;34m253\u001b[0m, \u001b[38;5;34m253\u001b[0m, \u001b[38;5;34m6\u001b[0m)    │             \u001b[38;5;34m0\u001b[0m │\n",
       "├─────────────────────────────────┼────────────────────────┼───────────────┤\n",
       "│ conv2d_1 (\u001b[38;5;33mConv2D\u001b[0m)               │ (\u001b[38;5;45mNone\u001b[0m, \u001b[38;5;34m251\u001b[0m, \u001b[38;5;34m251\u001b[0m, \u001b[38;5;34m6\u001b[0m)    │           \u001b[38;5;34m330\u001b[0m │\n",
       "├─────────────────────────────────┼────────────────────────┼───────────────┤\n",
       "│ batch_normalization_1           │ (\u001b[38;5;45mNone\u001b[0m, \u001b[38;5;34m251\u001b[0m, \u001b[38;5;34m251\u001b[0m, \u001b[38;5;34m6\u001b[0m)    │            \u001b[38;5;34m24\u001b[0m │\n",
       "│ (\u001b[38;5;33mBatchNormalization\u001b[0m)            │                        │               │\n",
       "├─────────────────────────────────┼────────────────────────┼───────────────┤\n",
       "│ max_pooling2d_1 (\u001b[38;5;33mMaxPooling2D\u001b[0m)  │ (\u001b[38;5;45mNone\u001b[0m, \u001b[38;5;34m250\u001b[0m, \u001b[38;5;34m250\u001b[0m, \u001b[38;5;34m6\u001b[0m)    │             \u001b[38;5;34m0\u001b[0m │\n",
       "├─────────────────────────────────┼────────────────────────┼───────────────┤\n",
       "│ flatten (\u001b[38;5;33mFlatten\u001b[0m)               │ (\u001b[38;5;45mNone\u001b[0m, \u001b[38;5;34m375000\u001b[0m)         │             \u001b[38;5;34m0\u001b[0m │\n",
       "├─────────────────────────────────┼────────────────────────┼───────────────┤\n",
       "│ dense (\u001b[38;5;33mDense\u001b[0m)                   │ (\u001b[38;5;45mNone\u001b[0m, \u001b[38;5;34m100\u001b[0m)            │    \u001b[38;5;34m37,500,100\u001b[0m │\n",
       "├─────────────────────────────────┼────────────────────────┼───────────────┤\n",
       "│ batch_normalization_2           │ (\u001b[38;5;45mNone\u001b[0m, \u001b[38;5;34m100\u001b[0m)            │           \u001b[38;5;34m400\u001b[0m │\n",
       "│ (\u001b[38;5;33mBatchNormalization\u001b[0m)            │                        │               │\n",
       "├─────────────────────────────────┼────────────────────────┼───────────────┤\n",
       "│ dropout_1 (\u001b[38;5;33mDropout\u001b[0m)             │ (\u001b[38;5;45mNone\u001b[0m, \u001b[38;5;34m100\u001b[0m)            │             \u001b[38;5;34m0\u001b[0m │\n",
       "├─────────────────────────────────┼────────────────────────┼───────────────┤\n",
       "│ dense_1 (\u001b[38;5;33mDense\u001b[0m)                 │ (\u001b[38;5;45mNone\u001b[0m, \u001b[38;5;34m10\u001b[0m)             │         \u001b[38;5;34m1,010\u001b[0m │\n",
       "├─────────────────────────────────┼────────────────────────┼───────────────┤\n",
       "│ batch_normalization_3           │ (\u001b[38;5;45mNone\u001b[0m, \u001b[38;5;34m10\u001b[0m)             │            \u001b[38;5;34m40\u001b[0m │\n",
       "│ (\u001b[38;5;33mBatchNormalization\u001b[0m)            │                        │               │\n",
       "├─────────────────────────────────┼────────────────────────┼───────────────┤\n",
       "│ dense_2 (\u001b[38;5;33mDense\u001b[0m)                 │ (\u001b[38;5;45mNone\u001b[0m, \u001b[38;5;34m3\u001b[0m)              │            \u001b[38;5;34m33\u001b[0m │\n",
       "└─────────────────────────────────┴────────────────────────┴───────────────┘\n"
      ]
     },
     "metadata": {},
     "output_type": "display_data"
    },
    {
     "data": {
      "text/html": [
       "<pre style=\"white-space:pre;overflow-x:auto;line-height:normal;font-family:Menlo,'DejaVu Sans Mono',consolas,'Courier New',monospace\"><span style=\"font-weight: bold\"> Total params: </span><span style=\"color: #00af00; text-decoration-color: #00af00\">37,502,129</span> (143.06 MB)\n",
       "</pre>\n"
      ],
      "text/plain": [
       "\u001b[1m Total params: \u001b[0m\u001b[38;5;34m37,502,129\u001b[0m (143.06 MB)\n"
      ]
     },
     "metadata": {},
     "output_type": "display_data"
    },
    {
     "data": {
      "text/html": [
       "<pre style=\"white-space:pre;overflow-x:auto;line-height:normal;font-family:Menlo,'DejaVu Sans Mono',consolas,'Courier New',monospace\"><span style=\"font-weight: bold\"> Trainable params: </span><span style=\"color: #00af00; text-decoration-color: #00af00\">37,501,885</span> (143.06 MB)\n",
       "</pre>\n"
      ],
      "text/plain": [
       "\u001b[1m Trainable params: \u001b[0m\u001b[38;5;34m37,501,885\u001b[0m (143.06 MB)\n"
      ]
     },
     "metadata": {},
     "output_type": "display_data"
    },
    {
     "data": {
      "text/html": [
       "<pre style=\"white-space:pre;overflow-x:auto;line-height:normal;font-family:Menlo,'DejaVu Sans Mono',consolas,'Courier New',monospace\"><span style=\"font-weight: bold\"> Non-trainable params: </span><span style=\"color: #00af00; text-decoration-color: #00af00\">244</span> (976.00 B)\n",
       "</pre>\n"
      ],
      "text/plain": [
       "\u001b[1m Non-trainable params: \u001b[0m\u001b[38;5;34m244\u001b[0m (976.00 B)\n"
      ]
     },
     "metadata": {},
     "output_type": "display_data"
    }
   ],
   "source": [
    "import os\n",
    "import cv2\n",
    "import numpy as np \n",
    "import pandas as pd \n",
    "import matplotlib.pyplot as plt\n",
    "import seaborn as sns\n",
    "import tensorflow as tf\n",
    "import import_ipynb\n",
    "import DatasetPreparation\n",
    "import Modeling\n",
    "from tensorflow.keras.layers import Input, Normalization, Conv2D, MaxPooling2D, Dense, Flatten, BatchNormalization, Dropout\n",
    "from tensorflow.keras.metrics import BinaryAccuracy, FalsePositives, FalseNegatives, TrueNegatives, TruePositives, Precision, Recall, F1Score, AUC\n",
    "from tensorflow.keras.regularizers import L2\n",
    "import sklearn\n",
    "from tensorflow.train import BytesList, Int64List, FloatList\n",
    "from tensorflow.train import Example, Feature, Features"
   ]
  },
  {
   "cell_type": "code",
   "execution_count": 2,
   "metadata": {},
   "outputs": [],
   "source": [
    "trainDataset, testDataset, valDataset = DatasetPreparation.trainDataset, DatasetPreparation.testDataset, DatasetPreparation.valDataset\n",
    "model = Modeling.model"
   ]
  },
  {
   "cell_type": "code",
   "execution_count": 3,
   "metadata": {},
   "outputs": [
    {
     "data": {
      "text/plain": [
       "{'CLASS_NAMES': ['angry', 'happy', 'sad'],\n",
       " 'BATCH_SIZE': 32,\n",
       " 'IMAGE_SIZE': 256,\n",
       " 'LEARNING_RATE': 0.001,\n",
       " 'N_EPOCHS': 20,\n",
       " 'DROPOUT_RATE': 0.0,\n",
       " 'REGULARIZATION_RATE': 0.0,\n",
       " 'N_FILTERS': 6,\n",
       " 'KERNEL_SIZE': 3,\n",
       " 'N_STRIDES': 1,\n",
       " 'POOL_SIZE': 2,\n",
       " 'N_DENSE_1': 100,\n",
       " 'N_DENSE_2': 10,\n",
       " 'NUM_CLASSES': 3}"
      ]
     },
     "execution_count": 3,
     "metadata": {},
     "output_type": "execute_result"
    }
   ],
   "source": [
    "CONFIGURATION = Modeling.CONFIGURATION\n",
    "CONFIGURATION"
   ]
  },
  {
   "cell_type": "code",
   "execution_count": 4,
   "metadata": {},
   "outputs": [],
   "source": [
    "# Augmentation Method Using Keras Sequential Layer\n",
    "augmentLayers = tf.keras.Sequential([\n",
    "    tf.keras.layers.RandomRotation(\n",
    "        factor=(0.025, 0.025),\n",
    "    ),\n",
    "    tf.keras.layers.RandomFlip(\n",
    "        mode = 'HORIZONTAL',\n",
    "    ),\n",
    "    tf.keras.layers.RandomContrast(\n",
    "        factor=0.1,\n",
    "    ),\n",
    "])\n",
    "\n",
    "def augment(image, label):\n",
    "    return augmentLayers(image, training=True), label\n",
    "\n",
    "trainDataset = trainDataset.map(augment)"
   ]
  },
  {
   "cell_type": "markdown",
   "metadata": {},
   "source": [
    "## TF Records"
   ]
  },
  {
   "cell_type": "code",
   "execution_count": 5,
   "metadata": {},
   "outputs": [],
   "source": [
    "trainDataset = trainDataset.unbatch()\n",
    "valDataset = valDataset.unbatch()\n",
    "testDataset = testDataset.unbatch()"
   ]
  },
  {
   "cell_type": "code",
   "execution_count": 6,
   "metadata": {},
   "outputs": [
    {
     "name": "stdout",
     "output_type": "stream",
     "text": [
      "<_UnbatchDataset element_spec=(TensorSpec(shape=(256, 256, 3), dtype=tf.float32, name=None), TensorSpec(shape=(3,), dtype=tf.float32, name=None))> <_UnbatchDataset element_spec=(TensorSpec(shape=(256, 256, 3), dtype=tf.float32, name=None), TensorSpec(shape=(3,), dtype=tf.float32, name=None))> <_UnbatchDataset element_spec=(TensorSpec(shape=(256, 256, 3), dtype=tf.float32, name=None), TensorSpec(shape=(3,), dtype=tf.float32, name=None))>\n"
     ]
    }
   ],
   "source": [
    "print(trainDataset, testDataset, valDataset)"
   ]
  },
  {
   "cell_type": "markdown",
   "metadata": {},
   "source": [
    "### Encoding Dataset To Bytes"
   ]
  },
  {
   "cell_type": "code",
   "execution_count": 7,
   "metadata": {},
   "outputs": [],
   "source": [
    "def encodeImage(image, label):\n",
    "    image = tf.io.encode_jpeg(tf.image.convert_image_dtype(image, dtype=tf.uint8))\n",
    "    label = tf.argmax(label)\n",
    "    return image, label\n",
    "\n",
    "trainDataset = trainDataset.map(encodeImage)"
   ]
  },
  {
   "cell_type": "markdown",
   "metadata": {},
   "source": [
    "### Create Record Example"
   ]
  },
  {
   "cell_type": "code",
   "execution_count": 8,
   "metadata": {},
   "outputs": [],
   "source": [
    "def createExample(image, label):\n",
    "    images = tf.train.Feature(\n",
    "        bytes_list = BytesList(value=[image])\n",
    "    )\n",
    "    labels = tf.train.Feature(\n",
    "        int64_list = Int64List(value=[label])\n",
    "    )\n",
    "    example = Example(\n",
    "        features = Features(feature={\n",
    "            'images' : images,\n",
    "            'labels' : labels,\n",
    "        })\n",
    "    )\n",
    "    return example.SerializeToString()"
   ]
  },
  {
   "cell_type": "markdown",
   "metadata": {},
   "source": [
    "### Write Records to a File"
   ]
  },
  {
   "cell_type": "code",
   "execution_count": 9,
   "metadata": {},
   "outputs": [],
   "source": [
    "NUM_SHARDS = 10\n",
    "path = 'TFRecords/shard_{:02d}.tfrecord'\n",
    "os.makedirs(\"TFRecords\", exist_ok=True)"
   ]
  },
  {
   "cell_type": "code",
   "execution_count": 10,
   "metadata": {},
   "outputs": [
    {
     "name": "stderr",
     "output_type": "stream",
     "text": [
      "2025-01-28 16:08:50.694525: I tensorflow/core/grappler/optimizers/custom_graph_optimizer_registry.cc:117] Plugin optimizer for device_type GPU is enabled.\n",
      "2025-01-28 16:09:02.001264: W tensorflow/core/framework/local_rendezvous.cc:404] Local rendezvous is aborting with status: OUT_OF_RANGE: End of sequence\n",
      "2025-01-28 16:09:13.641370: W tensorflow/core/framework/local_rendezvous.cc:404] Local rendezvous is aborting with status: OUT_OF_RANGE: End of sequence\n",
      "2025-01-28 16:09:25.186012: W tensorflow/core/framework/local_rendezvous.cc:404] Local rendezvous is aborting with status: OUT_OF_RANGE: End of sequence\n",
      "2025-01-28 16:09:37.019502: W tensorflow/core/framework/local_rendezvous.cc:404] Local rendezvous is aborting with status: OUT_OF_RANGE: End of sequence\n",
      "2025-01-28 16:09:48.595520: W tensorflow/core/framework/local_rendezvous.cc:404] Local rendezvous is aborting with status: OUT_OF_RANGE: End of sequence\n",
      "2025-01-28 16:10:00.498529: W tensorflow/core/framework/local_rendezvous.cc:404] Local rendezvous is aborting with status: OUT_OF_RANGE: End of sequence\n",
      "2025-01-28 16:10:12.282594: W tensorflow/core/framework/local_rendezvous.cc:404] Local rendezvous is aborting with status: OUT_OF_RANGE: End of sequence\n",
      "2025-01-28 16:10:24.040719: W tensorflow/core/framework/local_rendezvous.cc:404] Local rendezvous is aborting with status: OUT_OF_RANGE: End of sequence\n",
      "2025-01-28 16:10:35.817521: W tensorflow/core/framework/local_rendezvous.cc:404] Local rendezvous is aborting with status: OUT_OF_RANGE: End of sequence\n",
      "2025-01-28 16:10:47.651640: W tensorflow/core/framework/local_rendezvous.cc:404] Local rendezvous is aborting with status: OUT_OF_RANGE: End of sequence\n"
     ]
    }
   ],
   "source": [
    "for shardNumber in range(NUM_SHARDS):\n",
    "    shardedDataset = trainDataset.shard(NUM_SHARDS, shardNumber).as_numpy_iterator()\n",
    "    with tf.io.TFRecordWriter(path.format(shardNumber)) as fileWriter:\n",
    "        for image, label in shardedDataset:\n",
    "            fileWriter.write(createExample(image, label))"
   ]
  },
  {
   "cell_type": "markdown",
   "metadata": {},
   "source": [
    "### Using records by converting back to TF Datasets"
   ]
  },
  {
   "cell_type": "code",
   "execution_count": 11,
   "metadata": {},
   "outputs": [],
   "source": [
    "records = [path.format(shardNumber) for shardNumber in range(NUM_SHARDS)]\n",
    "reconstructedDataset = tf.data.TFRecordDataset(filenames=records)"
   ]
  },
  {
   "cell_type": "code",
   "execution_count": 12,
   "metadata": {},
   "outputs": [],
   "source": [
    "def parseRecords(example):\n",
    "    featureDescription = {\n",
    "        'images' : tf.io.FixedLenFeature([], tf.string),\n",
    "        'labels' : tf.io.FixedLenFeature([], tf.int64),\n",
    "    }\n",
    "    example = tf.io.parse_single_example(example, featureDescription)\n",
    "    example['images'] = tf.cast(tf.io.decode_jpeg(example['images'], channels=3), dtype=tf.float32)\n",
    "    return example['images'], example['labels']"
   ]
  },
  {
   "cell_type": "code",
   "execution_count": 13,
   "metadata": {},
   "outputs": [],
   "source": [
    "parsedDataset = reconstructedDataset.map(parseRecords).batch(CONFIGURATION[\"BATCH_SIZE\"]).prefetch(tf.data.AUTOTUNE)"
   ]
  },
  {
   "cell_type": "code",
   "execution_count": 14,
   "metadata": {},
   "outputs": [
    {
     "name": "stdout",
     "output_type": "stream",
     "text": [
      "(<tf.Tensor: shape=(32, 256, 256, 3), dtype=float32, numpy=\n",
      "array([[[[223., 223., 223.],\n",
      "         [157., 157., 157.],\n",
      "         [  0.,   0.,   0.],\n",
      "         ...,\n",
      "         [103., 103., 103.],\n",
      "         [195., 195., 195.],\n",
      "         [100., 100., 100.]],\n",
      "\n",
      "        [[  2.,   2.,   2.],\n",
      "         [160., 160., 160.],\n",
      "         [174., 174., 174.],\n",
      "         ...,\n",
      "         [212., 212., 212.],\n",
      "         [ 48.,  48.,  48.],\n",
      "         [ 91.,  91.,  91.]],\n",
      "\n",
      "        [[ 68.,  68.,  68.],\n",
      "         [  0.,   0.,   0.],\n",
      "         [ 79.,  79.,  79.],\n",
      "         ...,\n",
      "         [ 32.,  32.,  32.],\n",
      "         [155., 155., 155.],\n",
      "         [ 84.,  84.,  84.]],\n",
      "\n",
      "        ...,\n",
      "\n",
      "        [[113., 113., 113.],\n",
      "         [232., 232., 232.],\n",
      "         [145., 145., 145.],\n",
      "         ...,\n",
      "         [110., 110., 110.],\n",
      "         [127., 127., 127.],\n",
      "         [100., 100., 100.]],\n",
      "\n",
      "        [[135., 135., 135.],\n",
      "         [144., 144., 144.],\n",
      "         [136., 136., 136.],\n",
      "         ...,\n",
      "         [213., 213., 213.],\n",
      "         [  9.,   9.,   9.],\n",
      "         [ 12.,  12.,  12.]],\n",
      "\n",
      "        [[ 53.,  53.,  53.],\n",
      "         [135., 135., 135.],\n",
      "         [138., 138., 138.],\n",
      "         ...,\n",
      "         [250., 250., 250.],\n",
      "         [227., 227., 227.],\n",
      "         [236., 236., 236.]]],\n",
      "\n",
      "\n",
      "       [[[106., 106., 106.],\n",
      "         [140., 140., 140.],\n",
      "         [ 73.,  73.,  73.],\n",
      "         ...,\n",
      "         [ 44.,  44.,  44.],\n",
      "         [192., 192., 192.],\n",
      "         [247., 247., 247.]],\n",
      "\n",
      "        [[232., 232., 232.],\n",
      "         [229., 229., 229.],\n",
      "         [199., 199., 199.],\n",
      "         ...,\n",
      "         [151., 151., 151.],\n",
      "         [ 69.,  69.,  69.],\n",
      "         [130., 130., 130.]],\n",
      "\n",
      "        [[165., 165., 165.],\n",
      "         [134., 134., 134.],\n",
      "         [124., 124., 124.],\n",
      "         ...,\n",
      "         [ 18.,  18.,  18.],\n",
      "         [240., 240., 240.],\n",
      "         [  2.,   2.,   2.]],\n",
      "\n",
      "        ...,\n",
      "\n",
      "        [[ 22.,  22.,  22.],\n",
      "         [238., 238., 238.],\n",
      "         [180., 180., 180.],\n",
      "         ...,\n",
      "         [219., 219., 219.],\n",
      "         [147., 147., 147.],\n",
      "         [133., 133., 133.]],\n",
      "\n",
      "        [[ 12.,  12.,  12.],\n",
      "         [213., 213., 213.],\n",
      "         [191., 191., 191.],\n",
      "         ...,\n",
      "         [117., 117., 117.],\n",
      "         [ 62.,  62.,  62.],\n",
      "         [  5.,   5.,   5.]],\n",
      "\n",
      "        [[ 65.,  65.,  65.],\n",
      "         [213., 213., 213.],\n",
      "         [157., 157., 157.],\n",
      "         ...,\n",
      "         [110., 110., 110.],\n",
      "         [108., 108., 108.],\n",
      "         [ 86.,  86.,  86.]]],\n",
      "\n",
      "\n",
      "       [[[205., 205., 205.],\n",
      "         [247., 247., 247.],\n",
      "         [241., 241., 241.],\n",
      "         ...,\n",
      "         [201., 201., 201.],\n",
      "         [229., 229., 229.],\n",
      "         [222., 222., 222.]],\n",
      "\n",
      "        [[ 30.,  30.,  30.],\n",
      "         [214., 214., 214.],\n",
      "         [ 47.,  47.,  47.],\n",
      "         ...,\n",
      "         [148., 148., 148.],\n",
      "         [157., 157., 157.],\n",
      "         [150., 150., 150.]],\n",
      "\n",
      "        [[ 13.,  13.,  13.],\n",
      "         [107., 107., 107.],\n",
      "         [178., 178., 178.],\n",
      "         ...,\n",
      "         [216., 216., 216.],\n",
      "         [ 90.,  90.,  90.],\n",
      "         [  0.,   0.,   0.]],\n",
      "\n",
      "        ...,\n",
      "\n",
      "        [[170., 170., 170.],\n",
      "         [147., 147., 147.],\n",
      "         [ 14.,  14.,  14.],\n",
      "         ...,\n",
      "         [103., 103., 103.],\n",
      "         [215., 215., 215.],\n",
      "         [ 96.,  96.,  96.]],\n",
      "\n",
      "        [[251., 251., 251.],\n",
      "         [ 13.,  13.,  13.],\n",
      "         [198., 198., 198.],\n",
      "         ...,\n",
      "         [242., 242., 242.],\n",
      "         [193., 193., 193.],\n",
      "         [ 60.,  60.,  60.]],\n",
      "\n",
      "        [[207., 207., 207.],\n",
      "         [ 38.,  38.,  38.],\n",
      "         [103., 103., 103.],\n",
      "         ...,\n",
      "         [206., 206., 206.],\n",
      "         [110., 110., 110.],\n",
      "         [162., 162., 162.]]],\n",
      "\n",
      "\n",
      "       ...,\n",
      "\n",
      "\n",
      "       [[[119., 119., 119.],\n",
      "         [ 82.,  82.,  82.],\n",
      "         [ 78.,  78.,  78.],\n",
      "         ...,\n",
      "         [169., 169., 169.],\n",
      "         [191., 191., 191.],\n",
      "         [211., 211., 211.]],\n",
      "\n",
      "        [[246., 246., 246.],\n",
      "         [232., 232., 232.],\n",
      "         [217., 217., 217.],\n",
      "         ...,\n",
      "         [220., 220., 220.],\n",
      "         [ 72.,  72.,  72.],\n",
      "         [235., 235., 235.]],\n",
      "\n",
      "        [[ 67.,  67.,  67.],\n",
      "         [181., 181., 181.],\n",
      "         [104., 104., 104.],\n",
      "         ...,\n",
      "         [ 61.,  61.,  61.],\n",
      "         [ 25.,  25.,  25.],\n",
      "         [247., 247., 247.]],\n",
      "\n",
      "        ...,\n",
      "\n",
      "        [[ 26.,  26.,  26.],\n",
      "         [ 61.,  61.,  61.],\n",
      "         [  9.,   9.,   9.],\n",
      "         ...,\n",
      "         [  0.,   0.,   0.],\n",
      "         [137., 137., 137.],\n",
      "         [200., 200., 200.]],\n",
      "\n",
      "        [[ 27.,  27.,  27.],\n",
      "         [235., 235., 235.],\n",
      "         [200., 200., 200.],\n",
      "         ...,\n",
      "         [  5.,   5.,   5.],\n",
      "         [ 62.,  62.,  62.],\n",
      "         [101., 101., 101.]],\n",
      "\n",
      "        [[ 58.,  58.,  58.],\n",
      "         [102., 102., 102.],\n",
      "         [166., 166., 166.],\n",
      "         ...,\n",
      "         [225., 225., 225.],\n",
      "         [ 96.,  96.,  96.],\n",
      "         [ 77.,  77.,  77.]]],\n",
      "\n",
      "\n",
      "       [[[157., 157., 157.],\n",
      "         [ 28.,  28.,  28.],\n",
      "         [245., 245., 245.],\n",
      "         ...,\n",
      "         [  3.,   3.,   3.],\n",
      "         [164., 164., 164.],\n",
      "         [ 39.,  39.,  39.]],\n",
      "\n",
      "        [[186., 186., 186.],\n",
      "         [141., 141., 141.],\n",
      "         [ 59.,  59.,  59.],\n",
      "         ...,\n",
      "         [131., 131., 131.],\n",
      "         [ 40.,  40.,  40.],\n",
      "         [192., 192., 192.]],\n",
      "\n",
      "        [[ 59.,  59.,  59.],\n",
      "         [222., 222., 222.],\n",
      "         [105., 105., 105.],\n",
      "         ...,\n",
      "         [ 36.,  36.,  36.],\n",
      "         [184., 184., 184.],\n",
      "         [239., 239., 239.]],\n",
      "\n",
      "        ...,\n",
      "\n",
      "        [[134., 134., 134.],\n",
      "         [167., 167., 167.],\n",
      "         [223., 223., 223.],\n",
      "         ...,\n",
      "         [201., 201., 201.],\n",
      "         [118., 118., 118.],\n",
      "         [215., 215., 215.]],\n",
      "\n",
      "        [[145., 145., 145.],\n",
      "         [201., 201., 201.],\n",
      "         [217., 217., 217.],\n",
      "         ...,\n",
      "         [163., 163., 163.],\n",
      "         [ 80.,  80.,  80.],\n",
      "         [  0.,   0.,   0.]],\n",
      "\n",
      "        [[ 97.,  97.,  97.],\n",
      "         [196., 196., 196.],\n",
      "         [251., 251., 251.],\n",
      "         ...,\n",
      "         [156., 156., 156.],\n",
      "         [ 97.,  97.,  97.],\n",
      "         [ 63.,  63.,  63.]]],\n",
      "\n",
      "\n",
      "       [[[ 60.,  60.,  60.],\n",
      "         [ 62.,  62.,  62.],\n",
      "         [102., 102., 102.],\n",
      "         ...,\n",
      "         [ 28.,  28.,  28.],\n",
      "         [ 51.,  51.,  51.],\n",
      "         [178., 178., 178.]],\n",
      "\n",
      "        [[153., 153., 153.],\n",
      "         [ 74.,  74.,  74.],\n",
      "         [ 29.,  29.,  29.],\n",
      "         ...,\n",
      "         [180., 180., 180.],\n",
      "         [  0.,   0.,   0.],\n",
      "         [ 99.,  99.,  99.]],\n",
      "\n",
      "        [[138., 138., 138.],\n",
      "         [196., 196., 196.],\n",
      "         [ 67.,  67.,  67.],\n",
      "         ...,\n",
      "         [166., 166., 166.],\n",
      "         [230., 230., 230.],\n",
      "         [121., 121., 121.]],\n",
      "\n",
      "        ...,\n",
      "\n",
      "        [[ 12.,  12.,  12.],\n",
      "         [185., 185., 185.],\n",
      "         [120., 120., 120.],\n",
      "         ...,\n",
      "         [175., 175., 175.],\n",
      "         [143., 143., 143.],\n",
      "         [ 81.,  81.,  81.]],\n",
      "\n",
      "        [[ 29.,  29.,  29.],\n",
      "         [ 98.,  98.,  98.],\n",
      "         [ 29.,  29.,  29.],\n",
      "         ...,\n",
      "         [122., 122., 122.],\n",
      "         [ 23.,  23.,  23.],\n",
      "         [130., 130., 130.]],\n",
      "\n",
      "        [[ 46.,  46.,  46.],\n",
      "         [101., 101., 101.],\n",
      "         [251., 251., 251.],\n",
      "         ...,\n",
      "         [138., 138., 138.],\n",
      "         [192., 192., 192.],\n",
      "         [231., 231., 231.]]]], dtype=float32)>, <tf.Tensor: shape=(32,), dtype=int64, numpy=\n",
      "array([2, 1, 0, 0, 0, 1, 1, 2, 2, 2, 1, 1, 0, 1, 1, 1, 0, 1, 1, 1, 1, 1,\n",
      "       1, 1, 1, 2, 2, 1, 2, 1, 2, 2])>)\n"
     ]
    },
    {
     "name": "stderr",
     "output_type": "stream",
     "text": [
      "2025-01-28 16:10:47.747564: W tensorflow/core/framework/local_rendezvous.cc:404] Local rendezvous is aborting with status: OUT_OF_RANGE: End of sequence\n"
     ]
    }
   ],
   "source": [
    "for i in parsedDataset.take(1):\n",
    "    print(i)"
   ]
  }
 ],
 "metadata": {
  "kernelspec": {
   "display_name": "ComputerVision",
   "language": "python",
   "name": "python3"
  },
  "language_info": {
   "codemirror_mode": {
    "name": "ipython",
    "version": 3
   },
   "file_extension": ".py",
   "mimetype": "text/x-python",
   "name": "python",
   "nbconvert_exporter": "python",
   "pygments_lexer": "ipython3",
   "version": "3.11.11"
  }
 },
 "nbformat": 4,
 "nbformat_minor": 2
}
