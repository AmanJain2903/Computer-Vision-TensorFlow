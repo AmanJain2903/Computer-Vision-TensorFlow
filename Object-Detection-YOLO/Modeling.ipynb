{
 "cells": [
  {
   "cell_type": "markdown",
   "metadata": {},
   "source": [
    "# MODELING"
   ]
  },
  {
   "cell_type": "code",
   "execution_count": 32,
   "metadata": {},
   "outputs": [],
   "source": [
    "import tensorflow as tf\n",
    "import numpy as np\n",
    "import os"
   ]
  },
  {
   "cell_type": "code",
   "execution_count": 33,
   "metadata": {},
   "outputs": [],
   "source": [
    "B = 2\n",
    "NUM_CLASSES = 20\n",
    "NUM_FILTERS = 512\n",
    "OUTPUT_DIM = NUM_CLASSES + 5*B\n",
    "H, W = 224, 224\n",
    "SPLIT_SIZE = H//32"
   ]
  },
  {
   "cell_type": "code",
   "execution_count": 34,
   "metadata": {},
   "outputs": [
    {
     "name": "stdout",
     "output_type": "stream",
     "text": [
      "Downloading data from https://storage.googleapis.com/keras-applications/efficientnetb1_notop.h5\n",
      "\u001b[1m27018416/27018416\u001b[0m \u001b[32m━━━━━━━━━━━━━━━━━━━━\u001b[0m\u001b[37m\u001b[0m \u001b[1m0s\u001b[0m 0us/step\n"
     ]
    }
   ],
   "source": [
    "baseModel = tf.keras.applications.efficientnet.EfficientNetB1(\n",
    "    include_top=False,\n",
    "    weights='imagenet',\n",
    "    input_shape=(H, W, 3)\n",
    ")\n",
    "baseModel.trainable = False"
   ]
  },
  {
   "cell_type": "code",
   "execution_count": 36,
   "metadata": {},
   "outputs": [],
   "source": [
    "model = tf.keras.Sequential([\n",
    "    baseModel,\n",
    "\n",
    "    tf.keras.layers.Conv2D(NUM_FILTERS, (3, 3), padding='same', kernel_initializer='he_normal'),\n",
    "    tf.keras.layers.BatchNormalization(),\n",
    "    tf.keras.layers.LeakyReLU(alpha=0.1),\n",
    "\n",
    "    tf.keras.layers.Conv2D(NUM_FILTERS, (3, 3), padding='same', kernel_initializer='he_normal'),\n",
    "    tf.keras.layers.BatchNormalization(),\n",
    "    tf.keras.layers.LeakyReLU(alpha=0.1),\n",
    "\n",
    "    tf.keras.layers.Conv2D(NUM_FILTERS, (3, 3), padding='same', kernel_initializer='he_normal'),\n",
    "    tf.keras.layers.BatchNormalization(),\n",
    "    tf.keras.layers.LeakyReLU(alpha=0.1),\n",
    "\n",
    "    tf.keras.layers.Conv2D(NUM_FILTERS, (3, 3), padding='same', kernel_initializer='he_normal'),\n",
    "    tf.keras.layers.LeakyReLU(alpha=0.1),\n",
    "\n",
    "    tf.keras.layers.Flatten(),\n",
    "\n",
    "    tf.keras.layers.Dense(NUM_FILTERS, kernel_initializer='he_normal'),\n",
    "    tf.keras.layers.BatchNormalization(),\n",
    "    tf.keras.layers.LeakyReLU(alpha=0.1),\n",
    "\n",
    "    tf.keras.layers.Dropout(0.5),\n",
    "\n",
    "    tf.keras.layers.Dense(OUTPUT_DIM*SPLIT_SIZE*SPLIT_SIZE, activation='sigmoid'),\n",
    "\n",
    "    tf.keras.layers.Reshape((SPLIT_SIZE, SPLIT_SIZE, OUTPUT_DIM))\n",
    "])"
   ]
  },
  {
   "cell_type": "code",
   "execution_count": 37,
   "metadata": {},
   "outputs": [],
   "source": [
    "model.save('Models/YoloEfficientNetUntrained.keras')"
   ]
  }
 ],
 "metadata": {
  "kernelspec": {
   "display_name": "ComputerVision",
   "language": "python",
   "name": "python3"
  },
  "language_info": {
   "codemirror_mode": {
    "name": "ipython",
    "version": 3
   },
   "file_extension": ".py",
   "mimetype": "text/x-python",
   "name": "python",
   "nbconvert_exporter": "python",
   "pygments_lexer": "ipython3",
   "version": "3.11.11"
  }
 },
 "nbformat": 4,
 "nbformat_minor": 2
}
