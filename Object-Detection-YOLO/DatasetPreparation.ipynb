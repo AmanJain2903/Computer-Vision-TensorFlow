{
 "cells": [
  {
   "cell_type": "markdown",
   "metadata": {},
   "source": [
    "# DATASET PREPARATION"
   ]
  },
  {
   "cell_type": "code",
   "execution_count": 1,
   "metadata": {},
   "outputs": [],
   "source": [
    "import xml.etree.ElementTree as ET\n",
    "import numpy as np\n",
    "import tensorflow as tf\n",
    "import shutil\n",
    "import os\n",
    "import albumentations as A\n",
    "import cv2"
   ]
  },
  {
   "cell_type": "code",
   "execution_count": 3,
   "metadata": {},
   "outputs": [],
   "source": [
    "trainImages = \"Dataset/VOC2012/JPEGImages/\"\n",
    "trainMaps = \"Dataset/VOC2012/Annotations/\"\n",
    "\n",
    "classes = ['aeroplane', 'bicycle', 'bird', 'boat', 'bottle', 'bus', 'car', 'cat', 'chair', 'cow', \n",
    "            'diningtable', 'dog', 'horse', 'motorbike', 'person', 'pottedplant', 'sheep', 'sofa', \n",
    "            'train', 'tvmonitor']\n",
    "\n",
    "B = 1\n",
    "NUM_CLASSES = 20\n",
    "OBJ_IND = NUM_CLASSES + 5*B\n",
    "H, W = 224, 224\n",
    "SPLIT_SIZE = H//32\n",
    "NUM_EPOCHS = 135\n",
    "BATCH_SIZE = 32"
   ]
  },
  {
   "cell_type": "markdown",
   "metadata": {},
   "source": [
    "## Annotation Parsing Function"
   ]
  },
  {
   "cell_type": "code",
   "execution_count": 4,
   "metadata": {},
   "outputs": [],
   "source": [
    "def processXML(filename):\n",
    "    tree = ET.parse(filename)\n",
    "    root = tree.getroot()\n",
    "    height = float(root.find('size').find('height').text)\n",
    "    width = float(root.find('size').find('width').text)\n",
    "\n",
    "    boxes = []\n",
    "    for obj in root.iter('object'):\n",
    "        cls = obj.find('name').text\n",
    "        cls_id = classes.index(cls)\n",
    "        xmlbox = obj.find('bndbox')\n",
    "        xMIN = float(xmlbox.find('xmin').text)\n",
    "        yMIN = float(xmlbox.find('ymin').text)\n",
    "        xMAX = float(xmlbox.find('xmax').text)\n",
    "        yMAX = float(xmlbox.find('ymax').text)\n",
    "        xCentre = (xMIN + xMAX) / (2*width)\n",
    "        yCentre = (yMIN + yMAX) / (2*height)\n",
    "        boxWidth = (xMAX - xMIN) / width\n",
    "        boxHeight = (yMAX - yMIN) / height\n",
    "        b = [xCentre, yCentre, boxWidth, boxHeight]\n",
    "        boxes.append(list(b) + [cls_id])\n",
    "\n",
    "    return tf.convert_to_tensor(boxes)"
   ]
  },
  {
   "cell_type": "code",
   "execution_count": 5,
   "metadata": {},
   "outputs": [
    {
     "name": "stderr",
     "output_type": "stream",
     "text": [
      "2025-02-07 10:53:53.760230: I metal_plugin/src/device/metal_device.cc:1154] Metal device set to: Apple M3 Pro\n",
      "2025-02-07 10:53:53.760402: I metal_plugin/src/device/metal_device.cc:296] systemMemory: 18.00 GB\n",
      "2025-02-07 10:53:53.760410: I metal_plugin/src/device/metal_device.cc:313] maxCacheSize: 6.00 GB\n",
      "2025-02-07 10:53:53.760691: I tensorflow/core/common_runtime/pluggable_device/pluggable_device_factory.cc:305] Could not identify NUMA node of platform GPU ID 0, defaulting to 0. Your kernel may not have been built with NUMA support.\n",
      "2025-02-07 10:53:53.760717: I tensorflow/core/common_runtime/pluggable_device/pluggable_device_factory.cc:271] Created TensorFlow device (/job:localhost/replica:0/task:0/device:GPU:0 with 0 MB memory) -> physical PluggableDevice (device: 0, name: METAL, pci bus id: <undefined>)\n"
     ]
    },
    {
     "data": {
      "text/plain": [
       "<tf.Tensor: shape=(4, 5), dtype=float32, numpy=\n",
       "array([[ 0.479     ,  0.4644128 ,  0.542     ,  0.37366548,  0.        ],\n",
       "       [ 0.33      ,  0.37544483,  0.128     ,  0.12455516,  0.        ],\n",
       "       [ 0.408     ,  0.727758  ,  0.036     ,  0.17437722, 14.        ],\n",
       "       [ 0.07      ,  0.7597865 ,  0.036     ,  0.17437722, 14.        ]],\n",
       "      dtype=float32)>"
      ]
     },
     "execution_count": 5,
     "metadata": {},
     "output_type": "execute_result"
    }
   ],
   "source": [
    "processXML(\"Dataset/VOC2012/Annotations/2007_000032.xml\")"
   ]
  },
  {
   "cell_type": "markdown",
   "metadata": {},
   "source": [
    "## Processing Bounding Boxes To Generate Required Output"
   ]
  },
  {
   "cell_type": "code",
   "execution_count": 6,
   "metadata": {},
   "outputs": [],
   "source": [
    "def generateOutput(boundingBoxes):\n",
    "    outputLabel = np.zeros((SPLIT_SIZE, SPLIT_SIZE, OBJ_IND))\n",
    "    for b in range(boundingBoxes.shape[0]):\n",
    "        xCentre, yCentre, boxWidth, boxHeight, cls_id = boundingBoxes[b]\n",
    "        gridX = SPLIT_SIZE * xCentre\n",
    "        gridY = SPLIT_SIZE * yCentre\n",
    "        i = int(gridX)\n",
    "        j = int(gridY)\n",
    "        if outputLabel[i, j, 0] == 0:\n",
    "            outputLabel[i, j, 0:5] = [1., gridX%1, gridY%1, boxWidth, boxHeight]\n",
    "            outputLabel[i, j, 5 + int(cls_id)] = 1\n",
    "    return tf.convert_to_tensor(outputLabel, dtype=tf.float32)"
   ]
  },
  {
   "cell_type": "code",
   "execution_count": 7,
   "metadata": {},
   "outputs": [
    {
     "name": "stdout",
     "output_type": "stream",
     "text": [
      "tf.Tensor(\n",
      "[1.         0.49       0.3185053  0.036      0.17437722 0.\n",
      " 0.         0.         0.         0.         0.         0.\n",
      " 0.         0.         0.         0.         0.         0.\n",
      " 0.         1.         0.         0.         0.         0.\n",
      " 0.        ], shape=(25,), dtype=float32)\n"
     ]
    }
   ],
   "source": [
    "boundingBoxes = processXML(\"Dataset/VOC2012/Annotations/2007_000032.xml\")\n",
    "outputLabel = generateOutput(boundingBoxes)\n",
    "print(outputLabel[0][5])"
   ]
  },
  {
   "cell_type": "code",
   "execution_count": 8,
   "metadata": {},
   "outputs": [],
   "source": [
    "val_list=['2007_000027.jpg','2007_000032.jpg','2007_000033.jpg','2007_000039.jpg','2007_000042.jpg','2007_000061.jpg',\n",
    "          '2007_000063.jpg','2007_000068.jpg','2007_000121.jpg','2007_000123.jpg','2007_000129.jpg','2007_000170.jpg',\n",
    "          '2007_000175.jpg','2007_000187.jpg','2007_000241.jpg','2007_000243.jpg','2007_000250.jpg','2007_000256.jpg',\n",
    "          '2007_000272.jpg','2007_000323.jpg','2007_000332.jpg','2007_000333.jpg','2007_000346.jpg','2007_000363.jpg',\n",
    "          '2007_000364.jpg','2007_000392.jpg','2007_000423.jpg','2007_000452.jpg','2007_000464.jpg','2007_000480.jpg',\n",
    "          '2007_000491.jpg','2007_000504.jpg','2007_000515.jpg','2007_000528.jpg','2007_000529.jpg','2007_000549.jpg',\n",
    "          '2007_000559.jpg','2007_000572.jpg','2007_000584.jpg','2007_000629.jpg','2007_000636.jpg','2007_000645.jpg',\n",
    "          '2007_000648.jpg','2007_000661.jpg','2007_000663.jpg','2007_000664.jpg','2007_000676.jpg','2007_000713.jpg',\n",
    "          '2007_000720.jpg','2007_000727.jpg','2007_000733.jpg','2007_000738.jpg','2007_000762.jpg','2007_000768.jpg',\n",
    "          '2007_000783.jpg','2007_000793.jpg','2007_000799.jpg','2007_000804.jpg','2007_000807.jpg','2007_000822.jpg',\n",
    "          '2007_001299.jpg','2007_001311.jpg','2007_001321.jpg','2007_001340.jpg']"
   ]
  },
  {
   "cell_type": "code",
   "execution_count": 9,
   "metadata": {},
   "outputs": [],
   "source": [
    "!mkdir Dataset/VOC2012/ValJPEGImages/\n",
    "!mkdir Dataset/VOC2012/ValAnnotations/"
   ]
  },
  {
   "cell_type": "code",
   "execution_count": 10,
   "metadata": {},
   "outputs": [],
   "source": [
    "valImages = \"Dataset/VOC2012/ValJPEGImages/\"\n",
    "valMaps = \"Dataset/VOC2012/ValAnnotations/\""
   ]
  },
  {
   "cell_type": "code",
   "execution_count": 11,
   "metadata": {},
   "outputs": [],
   "source": [
    "for name in val_list:\n",
    "    shutil.move(trainMaps+name[:-3]+\"xml\", valMaps+name[:-3]+\"xml\")\n",
    "for name in val_list:\n",
    "    shutil.move(trainImages+name, valImages+name)"
   ]
  },
  {
   "cell_type": "code",
   "execution_count": 12,
   "metadata": {},
   "outputs": [
    {
     "name": "stdout",
     "output_type": "stream",
     "text": [
      "17061 17061\n",
      "64 64\n"
     ]
    }
   ],
   "source": [
    "imPaths = []\n",
    "xmlPaths = []\n",
    "valImPaths = []\n",
    "valXmlPaths = []\n",
    "\n",
    "for i in os.listdir(trainMaps):\n",
    "    imPaths.append(trainImages+i[:-3]+\"jpg\")\n",
    "    xmlPaths.append(trainMaps+i)\n",
    "\n",
    "for i in os.listdir(valMaps):\n",
    "    valImPaths.append(valImages+i[:-3]+\"jpg\")\n",
    "    valXmlPaths.append(valMaps+i)\n",
    "\n",
    "print(len(imPaths), len(xmlPaths))\n",
    "print(len(valImPaths), len(valXmlPaths))"
   ]
  },
  {
   "cell_type": "code",
   "execution_count": 13,
   "metadata": {},
   "outputs": [],
   "source": [
    "trainDataset = tf.data.Dataset.from_tensor_slices((imPaths, xmlPaths))\n",
    "valDataset = tf.data.Dataset.from_tensor_slices((valImPaths, valXmlPaths))"
   ]
  },
  {
   "cell_type": "code",
   "execution_count": 14,
   "metadata": {},
   "outputs": [
    {
     "name": "stdout",
     "output_type": "stream",
     "text": [
      "(<tf.Tensor: shape=(), dtype=string, numpy=b'Dataset/VOC2012/JPEGImages/2011_006135.jpg'>, <tf.Tensor: shape=(), dtype=string, numpy=b'Dataset/VOC2012/Annotations/2011_006135.xml'>)\n"
     ]
    },
    {
     "name": "stderr",
     "output_type": "stream",
     "text": [
      "2025-02-07 10:53:58.275031: W tensorflow/core/framework/local_rendezvous.cc:404] Local rendezvous is aborting with status: OUT_OF_RANGE: End of sequence\n"
     ]
    }
   ],
   "source": [
    "for i in trainDataset.take(1):\n",
    "    print(i)"
   ]
  },
  {
   "cell_type": "code",
   "execution_count": 15,
   "metadata": {},
   "outputs": [],
   "source": [
    "def getImageBBoxes(imPath, xmlPath):\n",
    "    image = tf.io.decode_jpeg(tf.io.read_file(imPath))\n",
    "    image = tf.cast(tf.image.resize(image, [H, W]), tf.float32)\n",
    "\n",
    "    bBoxes = tf.numpy_function(processXML, [xmlPath], tf.float32)\n",
    "    return image, bBoxes  "
   ]
  },
  {
   "cell_type": "code",
   "execution_count": 16,
   "metadata": {},
   "outputs": [],
   "source": [
    "trainDataset = trainDataset.map(getImageBBoxes)\n",
    "valDataset = valDataset.map(getImageBBoxes)"
   ]
  },
  {
   "cell_type": "code",
   "execution_count": 17,
   "metadata": {},
   "outputs": [
    {
     "name": "stdout",
     "output_type": "stream",
     "text": [
      "(224, 224, 3)\n",
      "tf.Tensor([[0.488      0.5693333  0.396      0.81333333 2.        ]], shape=(1, 5), dtype=float32)\n"
     ]
    }
   ],
   "source": [
    "for i, j in trainDataset.skip(10):\n",
    "    print(i.shape)\n",
    "    print(j)\n",
    "    break"
   ]
  },
  {
   "cell_type": "markdown",
   "metadata": {},
   "source": [
    "## Data Augmentation"
   ]
  },
  {
   "cell_type": "code",
   "execution_count": 18,
   "metadata": {},
   "outputs": [],
   "source": [
    "transforms = A.Compose([\n",
    "    A.Resize(H,W),\n",
    "    A.RandomCrop(\n",
    "         width=np.random.randint(int(0.9*W),W),\n",
    "         height=np.random.randint(int(0.9*H),H), p=0.5),\n",
    "    A.RandomScale(scale_limit=0.1, interpolation=cv2.INTER_LANCZOS4,p=0.5),\n",
    "    A.HorizontalFlip(p=0.5,),\n",
    "    A.Resize(H,W),\n",
    "\n",
    "], bbox_params=A.BboxParams(format='yolo', ))"
   ]
  },
  {
   "cell_type": "code",
   "execution_count": 19,
   "metadata": {},
   "outputs": [],
   "source": [
    "def augAlbumentations(image, bBoxes):\n",
    "    transformed = transforms(image=image, bboxes=bBoxes)\n",
    "    image = transformed['image']\n",
    "    bBoxes = transformed['bboxes']\n",
    "    return [tf.convert_to_tensor(image, dtype=tf.float32), tf.convert_to_tensor(bBoxes, dtype=tf.float32)]"
   ]
  },
  {
   "cell_type": "code",
   "execution_count": 20,
   "metadata": {},
   "outputs": [],
   "source": [
    "def processTrainData(image, bBoxes):\n",
    "    # Albumentations\n",
    "    aug = tf.numpy_function(augAlbumentations, [image, bBoxes], [tf.float32, tf.float32])\n",
    "    image = aug[0]\n",
    "    bBoxes = aug[1]\n",
    "    # Tensorflow Augmentation\n",
    "    image = tf.image.random_brightness(image, max_delta=50.)\n",
    "    image = tf.image.random_saturation(image, lower=0.5, upper=1.5)\n",
    "    image = tf.image.random_contrast(image, lower=0.5, upper=1.5)\n",
    "    # image = tf.image.random_hue(image, max_delta=0.5)\n",
    "    image = tf.clip_by_value(image, 0., 255.)\n",
    "    outputLabel = tf.numpy_function(generateOutput, [bBoxes], tf.float32)\n",
    "    return image, outputLabel"
   ]
  },
  {
   "cell_type": "code",
   "execution_count": 21,
   "metadata": {},
   "outputs": [],
   "source": [
    "def processValData(image, bBoxes):\n",
    "    outputLabel = tf.numpy_function(generateOutput, [bBoxes], tf.float32)\n",
    "    return image, outputLabel"
   ]
  },
  {
   "cell_type": "code",
   "execution_count": 22,
   "metadata": {},
   "outputs": [],
   "source": [
    "trainDataset = trainDataset.map(processTrainData)\n",
    "valDataset = valDataset.map(processValData)"
   ]
  },
  {
   "cell_type": "code",
   "execution_count": 28,
   "metadata": {},
   "outputs": [
    {
     "name": "stdout",
     "output_type": "stream",
     "text": [
      "<dtype: 'float32'> (224, 224, 3)\n",
      "<dtype: 'float32'> (7, 7, 25)\n"
     ]
    }
   ],
   "source": [
    "for i, j in trainDataset.take(1):\n",
    "    print(i.dtype, i.shape)\n",
    "    print(j.dtype, j.shape)\n",
    "    break"
   ]
  },
  {
   "cell_type": "code",
   "execution_count": 29,
   "metadata": {},
   "outputs": [
    {
     "name": "stdout",
     "output_type": "stream",
     "text": [
      "<dtype: 'float32'> (224, 224, 3)\n",
      "<dtype: 'float32'> (7, 7, 25)\n"
     ]
    }
   ],
   "source": [
    "for i, j in valDataset.take(1):\n",
    "    print(i.dtype, i.shape)\n",
    "    print(j.dtype, j.shape)\n",
    "    break"
   ]
  },
  {
   "cell_type": "code",
   "execution_count": 30,
   "metadata": {},
   "outputs": [],
   "source": [
    "trainDataset.save(\"SavedDataset/trainDataset\")\n",
    "valDataset.save(\"SavedDataset/valDataset\")"
   ]
  },
  {
   "cell_type": "code",
   "execution_count": 32,
   "metadata": {},
   "outputs": [
    {
     "name": "stdout",
     "output_type": "stream",
     "text": [
      "Train Dataset Size: 9877.66 MB\n",
      "Validation Dataset Size: 37.05 MB\n"
     ]
    }
   ],
   "source": [
    "def getFolderSize(folderPath):\n",
    "    totalSize = 0\n",
    "    for dirpath, dirnames, filenames in os.walk(folderPath):\n",
    "        for filename in filenames:\n",
    "            filePath = os.path.join(dirpath, filename)\n",
    "            totalSize += os.path.getsize(filePath)\n",
    "    return totalSize  # Size in bytes\n",
    "trainSizeInBytes = getFolderSize(\"SavedDataset/trainDataset\")\n",
    "valSizeInBytes = getFolderSize(\"SavedDataset/valDataset\")\n",
    "print(f\"Train Dataset Size: {trainSizeInBytes / (1024 * 1024):.2f} MB\")\n",
    "print(f\"Validation Dataset Size: {valSizeInBytes / (1024 * 1024):.2f} MB\")"
   ]
  }
 ],
 "metadata": {
  "kernelspec": {
   "display_name": "ComputerVision",
   "language": "python",
   "name": "python3"
  },
  "language_info": {
   "codemirror_mode": {
    "name": "ipython",
    "version": 3
   },
   "file_extension": ".py",
   "mimetype": "text/x-python",
   "name": "python",
   "nbconvert_exporter": "python",
   "pygments_lexer": "ipython3",
   "version": "3.11.11"
  }
 },
 "nbformat": 4,
 "nbformat_minor": 2
}
