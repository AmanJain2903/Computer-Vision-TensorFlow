{
 "cells": [
  {
   "cell_type": "code",
   "execution_count": 2,
   "metadata": {},
   "outputs": [],
   "source": [
    "# Import Dependencies\n",
    "import tensorflow as tf"
   ]
  },
  {
   "cell_type": "code",
   "execution_count": null,
   "metadata": {},
   "outputs": [
    {
     "name": "stdout",
     "output_type": "stream",
     "text": [
      "tf.Tensor(2, shape=(), dtype=int32)\n",
      "tf.Tensor(0, shape=(), dtype=int32)\n",
      "tf.Tensor(7, shape=(), dtype=int32)\n"
     ]
    }
   ],
   "source": [
    "# Tensor Indexing -> Access Each Element Of Tensor\n",
    "tensorIndexed = tf.constant([2, 4, 9, 0, 4, 5, 6, 7])\n",
    "print(tensorIndexed[0])\n",
    "print(tensorIndexed[3])\n",
    "print(tensorIndexed[-1])"
   ]
  },
  {
   "cell_type": "code",
   "execution_count": 16,
   "metadata": {},
   "outputs": [
    {
     "name": "stdout",
     "output_type": "stream",
     "text": [
      "tf.Tensor([4 9 0 4 5], shape=(5,), dtype=int32)\n",
      "tf.Tensor([2 4 9 0 4 5], shape=(6,), dtype=int32)\n",
      "tf.Tensor([0 4 5 6 7], shape=(5,), dtype=int32)\n",
      "tf.Tensor([0 4 5 6], shape=(4,), dtype=int32)\n",
      "tf.Tensor([7 6 5 4 0 9 4 2], shape=(8,), dtype=int32)\n",
      "tf.Tensor([4 0 5], shape=(3,), dtype=int32)\n"
     ]
    }
   ],
   "source": [
    "# Tensor Slicing -> Pick A Range From Tensor With/Without Steps [start : end : step]\n",
    "print(tensorIndexed[1:6])\n",
    "print(tensorIndexed[:6])\n",
    "print(tensorIndexed[3:])\n",
    "print(tensorIndexed[3:-1])\n",
    "print(tensorIndexed[::-1])\n",
    "print(tensorIndexed[1:7:2])"
   ]
  },
  {
   "cell_type": "code",
   "execution_count": 30,
   "metadata": {},
   "outputs": [
    {
     "name": "stdout",
     "output_type": "stream",
     "text": [
      "tf.Tensor(3, shape=(), dtype=int32)\n",
      "tf.Tensor(3, shape=(), dtype=int32)\n",
      "tf.Tensor(6, shape=(), dtype=int32)\n",
      "tf.Tensor(7, shape=(), dtype=int32)\n",
      "\n",
      "\n",
      "tf.Tensor([1 3], shape=(2,), dtype=int32)\n",
      "tf.Tensor([3 4], shape=(2,), dtype=int32)\n",
      "tf.Tensor([2 3 4 5 6], shape=(5,), dtype=int32)\n",
      "tf.Tensor([[2 3 4 5 6]], shape=(1, 5), dtype=int32)\n"
     ]
    }
   ],
   "source": [
    "# Indexing & Slicing On Multi-Dimensional Tensors\n",
    "tensorIndexed2D = tf.constant([\n",
    "    [2, 3, 4, 5, 6],\n",
    "    [3, 4, 1, 3, 6],\n",
    "    [2, 4, 5, 6, 7]\n",
    "])\n",
    "print(tensorIndexed2D[1][0])\n",
    "print(tensorIndexed2D[1, 0])\n",
    "print(tensorIndexed2D[1, -1])\n",
    "print(tensorIndexed2D[-1, -1])\n",
    "print(\"\\n\")\n",
    "print(tensorIndexed2D[1, 2:4])\n",
    "print(tensorIndexed2D[0:2, 1])\n",
    "print(tensorIndexed2D[0, ...]) # Shape (5, )\n",
    "print(tensorIndexed2D[0:1, ...]) # Shape (1, 5)"
   ]
  },
  {
   "cell_type": "code",
   "execution_count": null,
   "metadata": {},
   "outputs": [],
   "source": []
  }
 ],
 "metadata": {
  "kernelspec": {
   "display_name": "ComputerVision",
   "language": "python",
   "name": "python3"
  },
  "language_info": {
   "codemirror_mode": {
    "name": "ipython",
    "version": 3
   },
   "file_extension": ".py",
   "mimetype": "text/x-python",
   "name": "python",
   "nbconvert_exporter": "python",
   "pygments_lexer": "ipython3",
   "version": "3.11.11"
  }
 },
 "nbformat": 4,
 "nbformat_minor": 2
}
