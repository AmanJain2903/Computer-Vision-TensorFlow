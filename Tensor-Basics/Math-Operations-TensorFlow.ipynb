{
 "cells": [
  {
   "cell_type": "code",
   "execution_count": 1,
   "metadata": {},
   "outputs": [],
   "source": [
    "# Import Dependencies\n",
    "import tensorflow as tf"
   ]
  },
  {
   "cell_type": "code",
   "execution_count": 7,
   "metadata": {},
   "outputs": [
    {
     "name": "stdout",
     "output_type": "stream",
     "text": [
      "tf.Tensor(0.2, shape=(), dtype=float32)\n",
      "tf.Tensor([0 1 2 3 4], shape=(5,), dtype=int32)\n",
      "tf.Tensor(3.605551275463989, shape=(), dtype=float64)\n"
     ]
    },
    {
     "data": {
      "text/plain": [
       "<tf.Tensor: shape=(), dtype=float32, numpy=3.6055512>"
      ]
     },
     "execution_count": 7,
     "metadata": {},
     "output_type": "execute_result"
    }
   ],
   "source": [
    "# Absolute Function\n",
    "x = tf.constant(-0.2)\n",
    "x2D = tf.constant([0, 1, 2, -3, -4])\n",
    "xComplex = tf.constant(2+3j)\n",
    "print(tf.abs(x))\n",
    "print(tf.abs(x2D))\n",
    "print(tf.abs(xComplex))\n",
    "tf.sqrt(2.0**2 + 3.0**2)"
   ]
  },
  {
   "cell_type": "code",
   "execution_count": 17,
   "metadata": {},
   "outputs": [
    {
     "name": "stdout",
     "output_type": "stream",
     "text": [
      "tf.Tensor([ 9 10  7  8], shape=(4,), dtype=int32)\n",
      "tf.Tensor([3 4 6 8], shape=(4,), dtype=int32)\n",
      "tf.Tensor([-5 -4  3  6], shape=(4,), dtype=int32)\n",
      "tf.Tensor([14 21 10  7], shape=(4,), dtype=int32)\n",
      "tf.Tensor([0.28571429 0.42857143 2.5        7.        ], shape=(4,), dtype=float64)\n",
      "tf.Tensor([inf inf inf inf], shape=(4,), dtype=float64)\n",
      "tf.Tensor([0. 0. 0. 0.], shape=(4,), dtype=float64)\n"
     ]
    }
   ],
   "source": [
    "# Element-Wise Addition/Subtraction/Multiply/Divide Method\n",
    "x = tf.constant([2, 3, 5, 7])\n",
    "y = tf.constant([7, 7, 2, 1])\n",
    "scalar = tf.constant(1)\n",
    "zeroScalar = tf.constant(0)\n",
    "print(tf.add(x, y))\n",
    "print(tf.add(x, scalar))\n",
    "print(tf.subtract(x, y))\n",
    "print(tf.multiply(x, y))\n",
    "print(tf.divide(x, y))\n",
    "print(tf.divide(x, zeroScalar))\n",
    "print(tf.math.divide_no_nan(x, zeroScalar))"
   ]
  },
  {
   "cell_type": "code",
   "execution_count": 32,
   "metadata": {},
   "outputs": [
    {
     "name": "stdout",
     "output_type": "stream",
     "text": [
      "tf.Tensor(\n",
      "[[ 2  3  4  5]\n",
      " [ 6  9 12 15]], shape=(2, 4), dtype=int32)\n"
     ]
    }
   ],
   "source": [
    "# Shape Broadcasting For Element-Wise Operations\n",
    "x = tf.constant([2, 3, 4, 5])\n",
    "y = tf.constant([\n",
    "    [1],\n",
    "    [3]\n",
    "])\n",
    "print(tf.math.multiply(x, y))"
   ]
  },
  {
   "cell_type": "code",
   "execution_count": 20,
   "metadata": {},
   "outputs": [
    {
     "name": "stdout",
     "output_type": "stream",
     "text": [
      "tf.Tensor([1 2 3 5], shape=(4,), dtype=int32)\n",
      "tf.Tensor([ 0 -2  3  4], shape=(4,), dtype=int32)\n"
     ]
    }
   ],
   "source": [
    "# Maximum/Minimum Function\n",
    "x = tf.constant([1, 2, 3, 4])\n",
    "y = tf.constant([0, -2, 3, 5])\n",
    "print(tf.maximum(x, y))\n",
    "print(tf.minimum(x, y))"
   ]
  },
  {
   "cell_type": "code",
   "execution_count": 31,
   "metadata": {},
   "outputs": [
    {
     "name": "stdout",
     "output_type": "stream",
     "text": [
      "tf.Tensor(2, shape=(), dtype=int64)\n",
      "tf.Tensor(0, shape=(), dtype=int64)\n",
      "tf.Tensor([3 2 0 3 0], shape=(5,), dtype=int64)\n",
      "tf.Tensor([2 2 1 3], shape=(4,), dtype=int64)\n"
     ]
    }
   ],
   "source": [
    "# Argmax/Argmin Method -> Index of Maximum/Minimum Value\n",
    "A = tf.constant([2, 20, 30, 3, 6])\n",
    "print(tf.argmax(A))\n",
    "print(tf.argmin(A))\n",
    "\n",
    "A2D = tf.constant([\n",
    "    [3, 1, 9, 6, 5],\n",
    "    [0, 1, 7, 3, 2],\n",
    "    [1, 5, 1, 2, 0],\n",
    "    [7, 3, 0, 9, 0]\n",
    "])\n",
    "print(tf.math.argmax(A2D, axis=0)) # axis 0/1 => accross rows/columns . Defaults to axis=0\n",
    "print(tf.math.argmax(A2D, axis=1)) "
   ]
  },
  {
   "cell_type": "code",
   "execution_count": 33,
   "metadata": {},
   "outputs": [
    {
     "name": "stdout",
     "output_type": "stream",
     "text": [
      "tf.Tensor([ True False False  True], shape=(4,), dtype=bool)\n"
     ]
    }
   ],
   "source": [
    "# Equal Method -> True/False on Element-Wise Comparison\n",
    "x = tf.constant([1, 2, 3, 4])\n",
    "y = tf.constant([1, 3, 4, 4])\n",
    "print(tf.equal(x, y))"
   ]
  },
  {
   "cell_type": "code",
   "execution_count": 34,
   "metadata": {},
   "outputs": [
    {
     "name": "stdout",
     "output_type": "stream",
     "text": [
      "tf.Tensor(\n",
      "[[ 1  2]\n",
      " [ 9 27]], shape=(2, 2), dtype=int32)\n"
     ]
    }
   ],
   "source": [
    "# Power Method\n",
    "x = tf.constant([\n",
    "    [2, 2],\n",
    "    [3, 3]\n",
    "])\n",
    "y = tf.constant([\n",
    "    [0, 1],\n",
    "    [2, 3]\n",
    "])\n",
    "print(tf.pow(x, y))"
   ]
  },
  {
   "cell_type": "code",
   "execution_count": 47,
   "metadata": {},
   "outputs": [
    {
     "name": "stdout",
     "output_type": "stream",
     "text": [
      "tf.Tensor(5, shape=(), dtype=int32)\n",
      "tf.Tensor(12, shape=(), dtype=int32)\n",
      "tf.Tensor([5], shape=(1,), dtype=int32)\n",
      "tf.Tensor([12], shape=(1,), dtype=int32)\n",
      "\n",
      "\n",
      "tf.Tensor(78, shape=(), dtype=int32)\n",
      "tf.Tensor([[78]], shape=(1, 1), dtype=int32)\n",
      "tf.Tensor([15 18 21 24], shape=(4,), dtype=int32)\n",
      "tf.Tensor([10 26 42], shape=(3,), dtype=int32)\n",
      "tf.Tensor(\n",
      "[[10]\n",
      " [26]\n",
      " [42]], shape=(3, 1), dtype=int32)\n"
     ]
    }
   ],
   "source": [
    "# Reduce Methods\n",
    "x = tf.constant([5, 1, 2, 4])\n",
    "print(tf.math.reduce_max(x, axis=None, keepdims=False, name=None))\n",
    "print(tf.math.reduce_sum(x, axis=None, keepdims=False, name=None))\n",
    "print(tf.math.reduce_max(x, axis=None, keepdims=True, name=None))\n",
    "print(tf.math.reduce_sum(x, axis=None, keepdims=True, name=None))\n",
    "\n",
    "print(\"\\n\")\n",
    "\n",
    "x2D = tf.constant([\n",
    "    [1, 2, 3, 4],\n",
    "    [5, 6, 7, 8],\n",
    "    [9, 10, 11, 12]\n",
    "])\n",
    "print(tf.math.reduce_sum(x2D, axis=None, keepdims=False, name=None))\n",
    "print(tf.math.reduce_sum(x2D, axis=None, keepdims=True, name=None))\n",
    "print(tf.math.reduce_sum(x2D, axis=0, keepdims=False, name=None))\n",
    "print(tf.math.reduce_sum(x2D, axis=1, keepdims=False, name=None))\n",
    "print(tf.math.reduce_sum(x2D, axis=1, keepdims=True, name=None))"
   ]
  },
  {
   "cell_type": "code",
   "execution_count": 52,
   "metadata": {},
   "outputs": [
    {
     "name": "stdout",
     "output_type": "stream",
     "text": [
      "TopKV2(values=<tf.Tensor: shape=(5,), dtype=int32, numpy=array([100,  99,  98,   5,   4], dtype=int32)>, indices=<tf.Tensor: shape=(5,), dtype=int32, numpy=array([4, 3, 2, 8, 7], dtype=int32)>)\n"
     ]
    }
   ],
   "source": [
    "# Top-K Methods\n",
    "x = tf.constant([1, 2, 98, 99, 100, 3, 1, 4, 5])\n",
    "print(tf.math.top_k(x, k=5))"
   ]
  },
  {
   "cell_type": "code",
   "execution_count": 60,
   "metadata": {},
   "outputs": [
    {
     "name": "stdout",
     "output_type": "stream",
     "text": [
      "tf.Tensor([0.7310586  0.880797   0.95257413 0.98201376 0.9933072 ], shape=(5,), dtype=float32)\n"
     ]
    }
   ],
   "source": [
    "# Sigmoid Function -> Sigmoid(x) = 1/(1+exp(-x)) -> Range(0, 1)\n",
    "x = tf.constant([1, 2, 3, 4, 5], dtype=tf.float32)\n",
    "print(tf.math.sigmoid(x))"
   ]
  }
 ],
 "metadata": {
  "kernelspec": {
   "display_name": "ComputerVision",
   "language": "python",
   "name": "python3"
  },
  "language_info": {
   "codemirror_mode": {
    "name": "ipython",
    "version": 3
   },
   "file_extension": ".py",
   "mimetype": "text/x-python",
   "name": "python",
   "nbconvert_exporter": "python",
   "pygments_lexer": "ipython3",
   "version": "3.11.11"
  }
 },
 "nbformat": 4,
 "nbformat_minor": 2
}
