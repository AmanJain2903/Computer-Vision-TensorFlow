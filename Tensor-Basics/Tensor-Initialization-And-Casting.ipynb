{
 "cells": [
  {
   "cell_type": "code",
   "execution_count": 38,
   "metadata": {},
   "outputs": [],
   "source": [
    "# Import Dependencies\n",
    "import tensorflow as tf\n",
    "import numpy as np"
   ]
  },
  {
   "cell_type": "code",
   "execution_count": null,
   "metadata": {},
   "outputs": [
    {
     "data": {
      "text/plain": [
       "<tf.Tensor: shape=(), dtype=int32, numpy=4>"
      ]
     },
     "execution_count": 39,
     "metadata": {},
     "output_type": "execute_result"
    }
   ],
   "source": [
    "# 0-Dimensional Tensor\n",
    "tensorZeroD = tf.constant(4)\n",
    "tensorZeroD"
   ]
  },
  {
   "cell_type": "code",
   "execution_count": 40,
   "metadata": {},
   "outputs": [
    {
     "data": {
      "text/plain": [
       "<tf.Tensor: shape=(3,), dtype=float32, numpy=array([ 2. ,  0. , -3.3], dtype=float32)>"
      ]
     },
     "execution_count": 40,
     "metadata": {},
     "output_type": "execute_result"
    }
   ],
   "source": [
    "# 1-Dimensional Tensor\n",
    "tensorOneD = tf.constant([2, 0, -3.3], dtype=tf.float32)\n",
    "tensorOneD"
   ]
  },
  {
   "cell_type": "code",
   "execution_count": 41,
   "metadata": {},
   "outputs": [
    {
     "data": {
      "text/plain": [
       "<tf.Tensor: shape=(4, 3), dtype=int32, numpy=\n",
       "array([[ 1,  2,  0],\n",
       "       [ 3,  5, -1],\n",
       "       [ 1,  5,  6],\n",
       "       [ 2,  3,  8]], dtype=int32)>"
      ]
     },
     "execution_count": 41,
     "metadata": {},
     "output_type": "execute_result"
    }
   ],
   "source": [
    "# 2-Dimensional Tensor\n",
    "tensorTwoD = tf.constant([\n",
    "    [1, 2, 0],\n",
    "    [3, 5, -1],\n",
    "    [1, 5, 6],\n",
    "    [2, 3, 8]\n",
    "])\n",
    "tensorTwoD"
   ]
  },
  {
   "cell_type": "code",
   "execution_count": 42,
   "metadata": {},
   "outputs": [
    {
     "data": {
      "text/plain": [
       "<tf.Tensor: shape=(4, 2, 3), dtype=int32, numpy=\n",
       "array([[[1, 2, 3],\n",
       "        [3, 4, 5]],\n",
       "\n",
       "       [[4, 5, 6],\n",
       "        [3, 7, 4]],\n",
       "\n",
       "       [[2, 8, 5],\n",
       "        [1, 6, 5]],\n",
       "\n",
       "       [[2, 6, 5],\n",
       "        [2, 7, 4]]], dtype=int32)>"
      ]
     },
     "execution_count": 42,
     "metadata": {},
     "output_type": "execute_result"
    }
   ],
   "source": [
    "# 3-Dimensional Tensor\n",
    "tensorThreeD = tf.constant([\n",
    "    [\n",
    "        [1, 2, 3],\n",
    "        [3, 4, 5]\n",
    "    ],\n",
    "    [\n",
    "        [4, 5, 6],\n",
    "        [3, 7, 4]\n",
    "    ],\n",
    "    [\n",
    "        [2, 8, 5],\n",
    "        [1, 6, 5]\n",
    "    ],\n",
    "    [\n",
    "        [2, 6, 5],\n",
    "        [2, 7, 4]\n",
    "    ]\n",
    "\n",
    "])\n",
    "tensorThreeD"
   ]
  },
  {
   "cell_type": "code",
   "execution_count": null,
   "metadata": {},
   "outputs": [
    {
     "data": {
      "text/plain": [
       "TensorShape([4, 2, 3])"
      ]
     },
     "execution_count": 43,
     "metadata": {},
     "output_type": "execute_result"
    }
   ],
   "source": [
    "# Tensor Shape Method\n",
    "tensorThreeD.shape"
   ]
  },
  {
   "cell_type": "code",
   "execution_count": 20,
   "metadata": {},
   "outputs": [
    {
     "name": "stdout",
     "output_type": "stream",
     "text": [
      "tf.Tensor([1.2 0.  4.8 5.1], shape=(4,), dtype=float32)\n",
      "tf.Tensor([1 0 4 5], shape=(4,), dtype=int16)\n",
      "tf.Tensor([ True False  True  True], shape=(4,), dtype=bool)\n"
     ]
    }
   ],
   "source": [
    "# Tensor Casting\n",
    "floatTensor = tf.constant([1.2, 0.0, 4.8, 5.1], dtype=tf.float32)\n",
    "intTensor = tf.cast(floatTensor, dtype=tf.int16)\n",
    "boolTensor = tf.cast(floatTensor, dtype=tf.bool)\n",
    "print(floatTensor)\n",
    "print(intTensor)\n",
    "print(boolTensor)"
   ]
  },
  {
   "cell_type": "code",
   "execution_count": 25,
   "metadata": {},
   "outputs": [
    {
     "name": "stdout",
     "output_type": "stream",
     "text": [
      "[1 2 3 4]\n"
     ]
    },
    {
     "data": {
      "text/plain": [
       "<tf.Tensor: shape=(4,), dtype=int64, numpy=array([1, 2, 3, 4])>"
      ]
     },
     "execution_count": 25,
     "metadata": {},
     "output_type": "execute_result"
    }
   ],
   "source": [
    "# Numpy Array To Tensor\n",
    "npArray = np.array([1, 2, 3, 4])\n",
    "print(npArray)\n",
    "\n",
    "convertedTensor = tf.convert_to_tensor(npArray)\n",
    "convertedTensor"
   ]
  },
  {
   "cell_type": "code",
   "execution_count": 30,
   "metadata": {},
   "outputs": [
    {
     "name": "stdout",
     "output_type": "stream",
     "text": [
      "tf.Tensor(\n",
      "[[1. 0. 0.]\n",
      " [0. 1. 0.]\n",
      " [0. 0. 1.]], shape=(3, 3), dtype=float32)\n",
      "\n",
      "\n",
      "tf.Tensor(\n",
      "[[3. 0. 0.]\n",
      " [0. 3. 0.]\n",
      " [0. 0. 3.]], shape=(3, 3), dtype=float32)\n"
     ]
    }
   ],
   "source": [
    "# Eye Method -> Identity Matrix\n",
    "eyeTensor = tf.eye(\n",
    "    num_rows=3,\n",
    "    num_columns=None,\n",
    "    batch_shape=None,\n",
    "    dtype=tf.dtypes.float32,\n",
    "    name=None\n",
    ")\n",
    "print(eyeTensor)\n",
    "print(\"\\n\")\n",
    "print(3*eyeTensor)"
   ]
  },
  {
   "cell_type": "code",
   "execution_count": 33,
   "metadata": {},
   "outputs": [
    {
     "data": {
      "text/plain": [
       "<tf.Tensor: shape=(5, 3), dtype=float32, numpy=\n",
       "array([[1., 0., 0.],\n",
       "       [0., 1., 0.],\n",
       "       [0., 0., 1.],\n",
       "       [0., 0., 0.],\n",
       "       [0., 0., 0.]], dtype=float32)>"
      ]
     },
     "execution_count": 33,
     "metadata": {},
     "output_type": "execute_result"
    }
   ],
   "source": [
    "# Rectangle Eye Tensor\n",
    "rectangleEyeTensor = tf.eye(\n",
    "    num_rows=5,\n",
    "    num_columns=3,\n",
    "    batch_shape=None,\n",
    "    dtype=tf.dtypes.float32,\n",
    "    name=None\n",
    ")\n",
    "rectangleEyeTensor"
   ]
  },
  {
   "cell_type": "code",
   "execution_count": 37,
   "metadata": {},
   "outputs": [
    {
     "name": "stdout",
     "output_type": "stream",
     "text": [
      "tf.Tensor(\n",
      "[[[1. 0. 0. 0. 0.]\n",
      "  [0. 1. 0. 0. 0.]\n",
      "  [0. 0. 1. 0. 0.]\n",
      "  [0. 0. 0. 1. 0.]\n",
      "  [0. 0. 0. 0. 1.]]\n",
      "\n",
      " [[1. 0. 0. 0. 0.]\n",
      "  [0. 1. 0. 0. 0.]\n",
      "  [0. 0. 1. 0. 0.]\n",
      "  [0. 0. 0. 1. 0.]\n",
      "  [0. 0. 0. 0. 1.]]], shape=(2, 5, 5), dtype=float32)\n",
      "\n",
      "\n",
      "tf.Tensor(\n",
      "[[[[1. 0. 0. 0. 0.]\n",
      "   [0. 1. 0. 0. 0.]\n",
      "   [0. 0. 1. 0. 0.]\n",
      "   [0. 0. 0. 1. 0.]\n",
      "   [0. 0. 0. 0. 1.]]\n",
      "\n",
      "  [[1. 0. 0. 0. 0.]\n",
      "   [0. 1. 0. 0. 0.]\n",
      "   [0. 0. 1. 0. 0.]\n",
      "   [0. 0. 0. 1. 0.]\n",
      "   [0. 0. 0. 0. 1.]]\n",
      "\n",
      "  [[1. 0. 0. 0. 0.]\n",
      "   [0. 1. 0. 0. 0.]\n",
      "   [0. 0. 1. 0. 0.]\n",
      "   [0. 0. 0. 1. 0.]\n",
      "   [0. 0. 0. 0. 1.]]\n",
      "\n",
      "  [[1. 0. 0. 0. 0.]\n",
      "   [0. 1. 0. 0. 0.]\n",
      "   [0. 0. 1. 0. 0.]\n",
      "   [0. 0. 0. 1. 0.]\n",
      "   [0. 0. 0. 0. 1.]]]\n",
      "\n",
      "\n",
      " [[[1. 0. 0. 0. 0.]\n",
      "   [0. 1. 0. 0. 0.]\n",
      "   [0. 0. 1. 0. 0.]\n",
      "   [0. 0. 0. 1. 0.]\n",
      "   [0. 0. 0. 0. 1.]]\n",
      "\n",
      "  [[1. 0. 0. 0. 0.]\n",
      "   [0. 1. 0. 0. 0.]\n",
      "   [0. 0. 1. 0. 0.]\n",
      "   [0. 0. 0. 1. 0.]\n",
      "   [0. 0. 0. 0. 1.]]\n",
      "\n",
      "  [[1. 0. 0. 0. 0.]\n",
      "   [0. 1. 0. 0. 0.]\n",
      "   [0. 0. 1. 0. 0.]\n",
      "   [0. 0. 0. 1. 0.]\n",
      "   [0. 0. 0. 0. 1.]]\n",
      "\n",
      "  [[1. 0. 0. 0. 0.]\n",
      "   [0. 1. 0. 0. 0.]\n",
      "   [0. 0. 1. 0. 0.]\n",
      "   [0. 0. 0. 1. 0.]\n",
      "   [0. 0. 0. 0. 1.]]]], shape=(2, 4, 5, 5), dtype=float32)\n"
     ]
    }
   ],
   "source": [
    "# Batch Shape In Eye Method\n",
    "batchEyeTensor1 = tf.eye(\n",
    "    num_rows=5,\n",
    "    num_columns=None,\n",
    "    batch_shape=[2, ],\n",
    "    dtype=tf.dtypes.float32,\n",
    "    name=None\n",
    ")\n",
    "\n",
    "batchEyeTensor2 = tf.eye(\n",
    "    num_rows=5,\n",
    "    num_columns=None,\n",
    "    batch_shape=[2, 4],\n",
    "    dtype=tf.dtypes.float32,\n",
    "    name=None\n",
    ")\n",
    "print(batchEyeTensor1)\n",
    "print(\"\\n\")\n",
    "print(batchEyeTensor2)"
   ]
  },
  {
   "cell_type": "code",
   "execution_count": 44,
   "metadata": {},
   "outputs": [
    {
     "data": {
      "text/plain": [
       "<tf.Tensor: shape=(3, 4), dtype=int32, numpy=\n",
       "array([[5, 5, 5, 5],\n",
       "       [5, 5, 5, 5],\n",
       "       [5, 5, 5, 5]], dtype=int32)>"
      ]
     },
     "execution_count": 44,
     "metadata": {},
     "output_type": "execute_result"
    }
   ],
   "source": [
    "# Fill Method\n",
    "fillTensor = tf.fill(\n",
    "    [3, 4], 5, name=None\n",
    ")\n",
    "fillTensor"
   ]
  },
  {
   "cell_type": "code",
   "execution_count": 48,
   "metadata": {},
   "outputs": [
    {
     "data": {
      "text/plain": [
       "<tf.Tensor: shape=(3, 4), dtype=float32, numpy=\n",
       "array([[1., 1., 1., 1.],\n",
       "       [1., 1., 1., 1.],\n",
       "       [1., 1., 1., 1.]], dtype=float32)>"
      ]
     },
     "execution_count": 48,
     "metadata": {},
     "output_type": "execute_result"
    }
   ],
   "source": [
    "# Ones Method\n",
    "onesTensor = tf.ones(\n",
    "    [3, 4],\n",
    "    dtype=tf.dtypes.float32,\n",
    "    name=None\n",
    ")\n",
    "onesTensor"
   ]
  },
  {
   "cell_type": "code",
   "execution_count": 49,
   "metadata": {},
   "outputs": [
    {
     "name": "stdout",
     "output_type": "stream",
     "text": [
      "tf.Tensor(\n",
      "[[1 2 3]\n",
      " [4 5 6]], shape=(2, 3), dtype=int32)\n"
     ]
    },
    {
     "data": {
      "text/plain": [
       "<tf.Tensor: shape=(2, 3), dtype=int32, numpy=\n",
       "array([[1, 1, 1],\n",
       "       [1, 1, 1]], dtype=int32)>"
      ]
     },
     "execution_count": 49,
     "metadata": {},
     "output_type": "execute_result"
    }
   ],
   "source": [
    "# Ones-Like Method\n",
    "inputTensor = tf.constant([\n",
    "    [1, 2, 3],\n",
    "    [4, 5, 6]\n",
    "])\n",
    "onesLikeTensor = tf.ones_like(inputTensor)\n",
    "print(inputTensor)\n",
    "onesLikeTensor"
   ]
  },
  {
   "cell_type": "code",
   "execution_count": 50,
   "metadata": {},
   "outputs": [
    {
     "data": {
      "text/plain": [
       "<tf.Tensor: shape=(3, 4), dtype=int16, numpy=\n",
       "array([[0, 0, 0, 0],\n",
       "       [0, 0, 0, 0],\n",
       "       [0, 0, 0, 0]], dtype=int16)>"
      ]
     },
     "execution_count": 50,
     "metadata": {},
     "output_type": "execute_result"
    }
   ],
   "source": [
    "# Zeroes Method\n",
    "zeroesTensor = tf.zeros(\n",
    "    [3, 4],\n",
    "    dtype=tf.dtypes.int16,\n",
    "    name=None\n",
    ")\n",
    "zeroesTensor"
   ]
  },
  {
   "cell_type": "code",
   "execution_count": 51,
   "metadata": {},
   "outputs": [
    {
     "name": "stdout",
     "output_type": "stream",
     "text": [
      "tf.Tensor(\n",
      "[[1 2 3]\n",
      " [4 5 6]], shape=(2, 3), dtype=int32)\n"
     ]
    },
    {
     "data": {
      "text/plain": [
       "<tf.Tensor: shape=(2, 3), dtype=int32, numpy=\n",
       "array([[0, 0, 0],\n",
       "       [0, 0, 0]], dtype=int32)>"
      ]
     },
     "execution_count": 51,
     "metadata": {},
     "output_type": "execute_result"
    }
   ],
   "source": [
    "# Zeroes-Like Method\n",
    "inputTensor = tf.constant([\n",
    "    [1, 2, 3],\n",
    "    [4, 5, 6]\n",
    "])\n",
    "zeroesLikeTensor = tf.zeros_like(inputTensor)\n",
    "print(inputTensor)\n",
    "zeroesLikeTensor"
   ]
  },
  {
   "cell_type": "code",
   "execution_count": 52,
   "metadata": {},
   "outputs": [
    {
     "data": {
      "text/plain": [
       "<tf.Tensor: shape=(), dtype=int32, numpy=3>"
      ]
     },
     "execution_count": 52,
     "metadata": {},
     "output_type": "execute_result"
    }
   ],
   "source": [
    "# Rank Method\n",
    "inputTensor = tf.constant([\n",
    "    [\n",
    "        [1, 2, 3],\n",
    "        [3, 4, 5]\n",
    "    ],\n",
    "    [\n",
    "        [4, 5, 6],\n",
    "        [3, 7, 4]\n",
    "    ],\n",
    "    [\n",
    "        [2, 8, 5],\n",
    "        [1, 6, 5]\n",
    "    ],\n",
    "    [\n",
    "        [2, 6, 5],\n",
    "        [2, 7, 4]\n",
    "    ]\n",
    "\n",
    "])\n",
    "tf.rank(inputTensor)"
   ]
  },
  {
   "cell_type": "code",
   "execution_count": 54,
   "metadata": {},
   "outputs": [
    {
     "data": {
      "text/plain": [
       "<tf.Tensor: shape=(), dtype=float32, numpy=24.0>"
      ]
     },
     "execution_count": 54,
     "metadata": {},
     "output_type": "execute_result"
    }
   ],
   "source": [
    "# Size Method\n",
    "inputTensor = tf.constant([\n",
    "    [\n",
    "        [1, 2, 3],\n",
    "        [3, 4, 5]\n",
    "    ],\n",
    "    [\n",
    "        [4, 5, 6],\n",
    "        [3, 7, 4]\n",
    "    ],\n",
    "    [\n",
    "        [2, 8, 5],\n",
    "        [1, 6, 5]\n",
    "    ],\n",
    "    [\n",
    "        [2, 6, 5],\n",
    "        [2, 7, 4]\n",
    "    ]\n",
    "\n",
    "])\n",
    "tf.size(inputTensor, out_type=tf.float32)"
   ]
  },
  {
   "cell_type": "code",
   "execution_count": 68,
   "metadata": {},
   "outputs": [
    {
     "data": {
      "text/plain": [
       "<tf.Tensor: shape=(3, 2), dtype=float32, numpy=\n",
       "array([[ 8.645584, 10.704549],\n",
       "       [10.036662, 10.869188],\n",
       "       [10.438423,  9.465602]], dtype=float32)>"
      ]
     },
     "execution_count": 68,
     "metadata": {},
     "output_type": "execute_result"
    }
   ],
   "source": [
    "# Random Normal Method -> Random Values Generated From A Normal Distribution Around Given Mean\n",
    "normalTensor = tf.random.normal(\n",
    "    [3, 2],\n",
    "    mean=10.0,\n",
    "    stddev=1.0,\n",
    "    dtype=tf.dtypes.float32,\n",
    "    seed=None,\n",
    "    name=None\n",
    ")\n",
    "normalTensor"
   ]
  },
  {
   "cell_type": "code",
   "execution_count": 81,
   "metadata": {},
   "outputs": [
    {
     "data": {
      "text/plain": [
       "<tf.Tensor: shape=(5, 2), dtype=float32, numpy=\n",
       "array([[2.4943438 , 6.61073   ],\n",
       "       [5.4795647 , 0.05367279],\n",
       "       [6.299961  , 3.1252089 ],\n",
       "       [2.3410444 , 7.937354  ],\n",
       "       [7.664834  , 4.4498653 ]], dtype=float32)>"
      ]
     },
     "execution_count": 81,
     "metadata": {},
     "output_type": "execute_result"
    }
   ],
   "source": [
    "# Random Uniform Method\n",
    "uniformTensor = tf.random.uniform(\n",
    "    [5, 2],\n",
    "    minval=0,\n",
    "    maxval=8, # Defaults to 1\n",
    "    dtype=tf.dtypes.float32,\n",
    "    seed=None,\n",
    "    name=None\n",
    ")\n",
    "uniformTensor"
   ]
  },
  {
   "cell_type": "code",
   "execution_count": 94,
   "metadata": {},
   "outputs": [
    {
     "name": "stdout",
     "output_type": "stream",
     "text": [
      "tf.Tensor(\n",
      "[[9 3 6]\n",
      " [3 5 6]], shape=(2, 3), dtype=int32)\n",
      "tf.Tensor(\n",
      "[[1 1 1]\n",
      " [1 9 4]], shape=(2, 3), dtype=int32)\n",
      "tf.Tensor(\n",
      "[[9 7 2]\n",
      " [7 0 8]], shape=(2, 3), dtype=int32)\n",
      "tf.Tensor(\n",
      "[[4 6 0]\n",
      " [7 5 1]], shape=(2, 3), dtype=int32)\n",
      "\n",
      "\n",
      "tf.Tensor(\n",
      "[[9 3 6]\n",
      " [3 5 6]], shape=(2, 3), dtype=int32)\n",
      "tf.Tensor(\n",
      "[[1 1 1]\n",
      " [1 9 4]], shape=(2, 3), dtype=int32)\n",
      "tf.Tensor(\n",
      "[[9 7 2]\n",
      " [7 0 8]], shape=(2, 3), dtype=int32)\n",
      "tf.Tensor(\n",
      "[[4 6 0]\n",
      " [7 5 1]], shape=(2, 3), dtype=int32)\n"
     ]
    }
   ],
   "source": [
    "# Set Seed Method -> Reproducable Results\n",
    "tf.random.set_seed(5)\n",
    "print(tf.random.uniform([2, 3], minval=0, maxval=10, dtype=tf.int32, seed=10))\n",
    "print(tf.random.uniform([2, 3], minval=0, maxval=10, dtype=tf.int32, seed=10))\n",
    "print(tf.random.uniform([2, 3], minval=0, maxval=10, dtype=tf.int32, seed=10))\n",
    "print(tf.random.uniform([2, 3], minval=0, maxval=10, dtype=tf.int32, seed=10))\n",
    "\n",
    "print(\"\\n\")\n",
    "\n",
    "tf.random.set_seed(5)\n",
    "print(tf.random.uniform([2, 3], minval=0, maxval=10, dtype=tf.int32, seed=10))\n",
    "print(tf.random.uniform([2, 3], minval=0, maxval=10, dtype=tf.int32, seed=10))\n",
    "print(tf.random.uniform([2, 3], minval=0, maxval=10, dtype=tf.int32, seed=10))\n",
    "print(tf.random.uniform([2, 3], minval=0, maxval=10, dtype=tf.int32, seed=10))"
   ]
  }
 ],
 "metadata": {
  "kernelspec": {
   "display_name": "ComputerVision",
   "language": "python",
   "name": "python3"
  },
  "language_info": {
   "codemirror_mode": {
    "name": "ipython",
    "version": 3
   },
   "file_extension": ".py",
   "mimetype": "text/x-python",
   "name": "python",
   "nbconvert_exporter": "python",
   "pygments_lexer": "ipython3",
   "version": "3.11.11"
  }
 },
 "nbformat": 4,
 "nbformat_minor": 2
}
