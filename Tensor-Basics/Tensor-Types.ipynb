{
 "cells": [
  {
   "cell_type": "code",
   "execution_count": 1,
   "metadata": {},
   "outputs": [],
   "source": [
    "# Import Dependencies\n",
    "import tensorflow as tf"
   ]
  },
  {
   "cell_type": "markdown",
   "metadata": {},
   "source": [
    "# Ragged Tensors"
   ]
  },
  {
   "cell_type": "code",
   "execution_count": 7,
   "metadata": {},
   "outputs": [
    {
     "name": "stdout",
     "output_type": "stream",
     "text": [
      "tf.Tensor(\n",
      "[[1 2 3]\n",
      " [4 5 6]\n",
      " [7 8 9]], shape=(3, 3), dtype=int32) \n",
      "\n",
      "<tf.RaggedTensor [[1, 2], [4, 5, 6], [7]]>\n"
     ]
    }
   ],
   "source": [
    "# Ragged Tensors\n",
    "a = tf.constant([\n",
    "    [1, 2, 3],\n",
    "    [4, 5, 6],\n",
    "    [7, 8, 9]\n",
    "])\n",
    "print(a, \"\\n\")\n",
    "\n",
    "# But code below will give error\n",
    "    # a = tf.constant([\n",
    "    #     [1, 2],\n",
    "    #     [4, 5, 6],\n",
    "    #     [7]\n",
    "    # ])\n",
    "    # print(a)\n",
    "\n",
    "# But in some cases you need such type of data with inconsistent shapes across an axis -> Use Ragged Tensors\n",
    "\n",
    "raggedA = tf.ragged.constant([\n",
    "    [1, 2],\n",
    "    [4, 5, 6],\n",
    "    [7]\n",
    "])\n",
    "print(raggedA)"
   ]
  },
  {
   "cell_type": "markdown",
   "metadata": {},
   "source": [
    "# Ragged Tensor Methods"
   ]
  },
  {
   "cell_type": "code",
   "execution_count": 20,
   "metadata": {},
   "outputs": [
    {
     "name": "stdout",
     "output_type": "stream",
     "text": [
      "<tf.RaggedTensor [[2], [5, 6], [7]]>\n"
     ]
    }
   ],
   "source": [
    "# Boolean Mask -> Masks a ragged tensor\n",
    "raggedAConstant = tf.ragged.constant([\n",
    "    [1, 2],\n",
    "    [4, 5, 6],\n",
    "    [7]\n",
    "])\n",
    "raggedABooleanMask = tf.ragged.boolean_mask(\n",
    "    raggedAConstant,\n",
    "    tf.ragged.constant([[False, True], [False, True, True], [True]])\n",
    ")\n",
    "print(raggedABooleanMask)"
   ]
  },
  {
   "cell_type": "code",
   "execution_count": 26,
   "metadata": {},
   "outputs": [
    {
     "name": "stdout",
     "output_type": "stream",
     "text": [
      "<tf.RaggedTensor [[3, 1, 4, 1], [], [5, 9, 2], [6], []]>\n",
      "<tf.RaggedTensor [[3, 1, 4, 1], [], [5, 9, 2], [6], []]>\n",
      "<tf.RaggedTensor [[3, 1, 4, 1], [], [5, 9, 2], [6]]>\n",
      "<tf.RaggedTensor [[3, 1, 4, 1], [], [5, 9, 2], [6], []]>\n",
      "<tf.RaggedTensor [[3, 1, 4, 1], [], [5, 9, 2], [6], []]>\n",
      "<tf.RaggedTensor [[3, 1],\n",
      " [4, 1],\n",
      " [5, 9],\n",
      " [2, 6]]>\n"
     ]
    }
   ],
   "source": [
    "# RaggedTensor.rowMethods\n",
    "\n",
    "# Row-Splits -> [0, 4, 4, 7, 8, 8] => [[0:4], [4:4], [4:7], [7:8], [8:8]]\n",
    "values = [3, 1, 4, 1, 5, 9, 2, 6]\n",
    "print(tf.RaggedTensor.from_row_splits(values, row_splits=[0, 4, 4, 7, 8, 8]))\n",
    "\n",
    "# Row-Lengths -> [4, 0, 3, 1, 0] => First 4, then, next 0, then, next 3, and so on ....\n",
    "values = [3, 1, 4, 1, 5, 9, 2, 6]\n",
    "print(tf.RaggedTensor.from_row_lengths(values, row_lengths=[4, 0, 3, 1, 0]))\n",
    "\n",
    "# Value-RowIDS -> [0, 0, 0, 0, 2, 2, 2, 3] => Value-RowIDS[i] => Element value[i] is part of this row value-RowIDS[i]\n",
    "values = [3, 1, 4, 1, 5, 9, 2, 6]\n",
    "print(tf.RaggedTensor.from_value_rowids(values, value_rowids=[0, 0, 0, 0, 2, 2, 2, 3]))\n",
    "\n",
    "# Row-Starts -> [0, 4, 4, 7, 8] => Row starts from rowStarts[i]\n",
    "values = [3, 1, 4, 1, 5, 9, 2, 6]\n",
    "print(tf.RaggedTensor.from_row_starts(values, row_starts=[0, 4, 4, 7, 8]))\n",
    "\n",
    "# Row-Limits -> [4, 4, 7, 8, 8] => Row ends at rowLimits[i]\n",
    "values = [3, 1, 4, 1, 5, 9, 2, 6]\n",
    "print(tf.RaggedTensor.from_row_limits(values, row_limits=[4, 4, 7, 8, 8]))\n",
    "\n",
    "# Uniform-Row-Length => Make rows of uniform lengths\n",
    "values = [3, 1, 4, 1, 5, 9, 2, 6]\n",
    "print(tf.RaggedTensor.from_uniform_row_length(values, uniform_row_length=2))"
   ]
  },
  {
   "cell_type": "markdown",
   "metadata": {},
   "source": [
    "# Sparse Tensors"
   ]
  },
  {
   "cell_type": "code",
   "execution_count": 32,
   "metadata": {},
   "outputs": [
    {
     "name": "stdout",
     "output_type": "stream",
     "text": [
      "SparseTensor(indices=tf.Tensor(\n",
      "[[0 0]\n",
      " [2 5]], shape=(2, 2), dtype=int64), values=tf.Tensor([1 9], shape=(2,), dtype=int32), dense_shape=tf.Tensor([5 6], shape=(2,), dtype=int64))\n"
     ]
    },
    {
     "data": {
      "text/plain": [
       "<tf.Tensor: shape=(5, 6), dtype=int32, numpy=\n",
       "array([[1, 0, 0, 0, 0, 0],\n",
       "       [0, 0, 0, 0, 0, 0],\n",
       "       [0, 0, 0, 0, 0, 9],\n",
       "       [0, 0, 0, 0, 0, 0],\n",
       "       [0, 0, 0, 0, 0, 0]], dtype=int32)>"
      ]
     },
     "execution_count": 32,
     "metadata": {},
     "output_type": "execute_result"
    }
   ],
   "source": [
    "# Sparse Tensor -> Many zeroes as compared to non-zeroes\n",
    "sparseTensor = tf.sparse.SparseTensor(\n",
    "    indices=[[0, 0],\n",
    "             [2, 5]], # On which indexes we have values\n",
    "    values=[1, 9],  # What are those values\n",
    "    dense_shape=[5, 6] # Dense Tensor Shape\n",
    ")\n",
    "print(sparseTensor)\n",
    "tf.sparse.to_dense(sparseTensor) # Convert sparse tensor => dense tensor"
   ]
  },
  {
   "cell_type": "markdown",
   "metadata": {},
   "source": [
    "# String Tensors"
   ]
  },
  {
   "cell_type": "code",
   "execution_count": null,
   "metadata": {},
   "outputs": [
    {
     "name": "stdout",
     "output_type": "stream",
     "text": [
      "tf.Tensor([b'i am ' b'a ' b'string'], shape=(3,), dtype=string)\n"
     ]
    }
   ],
   "source": [
    "# String Tensor\n",
    "stringTensor = tf.constant([\"i am \", \"a \", \"string\"])\n",
    "print(stringTensor)"
   ]
  },
  {
   "cell_type": "code",
   "execution_count": 36,
   "metadata": {},
   "outputs": [
    {
     "name": "stdout",
     "output_type": "stream",
     "text": [
      "tf.Tensor(b'i am +a +string', shape=(), dtype=string)\n",
      "tf.Tensor([b'i am +i am ' b'a +also a  ' b'string+new string'], shape=(3,), dtype=string)\n"
     ]
    }
   ],
   "source": [
    "# String Tensor Join Method -> Element-Wise concatenation of a list of string tensors\n",
    "stringTensorA = tf.constant([\"i am \", \"a \", \"string\"])\n",
    "stringTensorB = tf.constant([\"i am \", \"also a  \", \"new string\"])\n",
    "print(tf.strings.join(stringTensorA, separator=\"+\"))\n",
    "print(tf.strings.join([stringTensorA, stringTensorB], separator=\"+\"))"
   ]
  },
  {
   "cell_type": "markdown",
   "metadata": {},
   "source": [
    "# TennsorFlow Variables"
   ]
  },
  {
   "cell_type": "code",
   "execution_count": 43,
   "metadata": {},
   "outputs": [
    {
     "name": "stdout",
     "output_type": "stream",
     "text": [
      "tf.Tensor([1 2 3 4 5], shape=(5,), dtype=int32)\n",
      "<tf.Variable 'Variable:0' shape=(5,) dtype=int32, numpy=array([1, 2, 3, 4, 5], dtype=int32)>\n"
     ]
    }
   ],
   "source": [
    "# tf-variable\n",
    "x = tf.constant([1, 2, 3, 4, 5])\n",
    "xVar = tf.Variable(x)\n",
    "print(x)\n",
    "print(xVar)"
   ]
  },
  {
   "cell_type": "code",
   "execution_count": 47,
   "metadata": {},
   "outputs": [
    {
     "name": "stdout",
     "output_type": "stream",
     "text": [
      "<tf.Variable 'UnreadVariable' shape=(5,) dtype=int32, numpy=array([ 8,  9, 10, 11, 12], dtype=int32)>\n",
      "<tf.Variable 'UnreadVariable' shape=(5,) dtype=int32, numpy=array([5, 6, 7, 8, 9], dtype=int32)>\n",
      "<tf.Variable 'UnreadVariable' shape=(5,) dtype=int32, numpy=array([5, 5, 5, 5, 5], dtype=int32)>\n"
     ]
    }
   ],
   "source": [
    "# Modify variable\n",
    "print(xVar.assign_add([5, 5, 5, 5, 5]))\n",
    "print(xVar.assign_sub([3, 3, 3, 3, 3]))\n",
    "print(xVar.assign([5, 5, 5, 5, 5]))"
   ]
  }
 ],
 "metadata": {
  "kernelspec": {
   "display_name": "ComputerVision",
   "language": "python",
   "name": "python3"
  },
  "language_info": {
   "codemirror_mode": {
    "name": "ipython",
    "version": 3
   },
   "file_extension": ".py",
   "mimetype": "text/x-python",
   "name": "python",
   "nbconvert_exporter": "python",
   "pygments_lexer": "ipython3",
   "version": "3.11.11"
  }
 },
 "nbformat": 4,
 "nbformat_minor": 2
}
