{
 "cells": [
  {
   "cell_type": "code",
   "execution_count": 1,
   "metadata": {},
   "outputs": [],
   "source": [
    "# Import Dependencies\n",
    "import tensorflow as tf"
   ]
  },
  {
   "cell_type": "code",
   "execution_count": 7,
   "metadata": {},
   "outputs": [
    {
     "name": "stdout",
     "output_type": "stream",
     "text": [
      "(4, 4) (4, 4)\n",
      "tf.Tensor(\n",
      "[[ 38  48  58  68]\n",
      " [ 50  64  78  92]\n",
      " [ 62  80  98 116]\n",
      " [ 98 128 158 188]], shape=(4, 4), dtype=int32)\n",
      "tf.Tensor(\n",
      "[[ 38  48  58  68]\n",
      " [ 50  64  78  92]\n",
      " [ 62  80  98 116]\n",
      " [ 98 128 158 188]], shape=(4, 4), dtype=int32)\n"
     ]
    }
   ],
   "source": [
    "# Matrix Multiplication Method\n",
    "a = tf.constant([\n",
    "    [1, 2, 3, 4],\n",
    "    [2, 3, 4, 5],\n",
    "    [3, 4, 5, 6],\n",
    "    [6, 7, 8, 9]\n",
    "])\n",
    "b = tf.constant([\n",
    "    [1, 2, 3, 4],\n",
    "    [2, 3, 4, 5],\n",
    "    [3, 4, 5, 6],\n",
    "    [6, 7, 8, 9]\n",
    "])\n",
    "print(a.shape, b.shape)\n",
    "print(tf.linalg.matmul(a, b))\n",
    "print(a@b) # Another Sytax For Mat Mul"
   ]
  },
  {
   "cell_type": "code",
   "execution_count": 17,
   "metadata": {},
   "outputs": [
    {
     "name": "stdout",
     "output_type": "stream",
     "text": [
      "(4, 4) (2, 4)\n",
      "tf.Tensor(\n",
      "[[1 2 3 6]\n",
      " [2 3 4 7]\n",
      " [3 4 5 8]\n",
      " [4 5 6 9]], shape=(4, 4), dtype=int32)\n",
      "tf.Tensor(\n",
      "[[1 2]\n",
      " [2 3]\n",
      " [3 4]\n",
      " [4 5]], shape=(4, 2), dtype=int32)\n"
     ]
    }
   ],
   "source": [
    "# Transpose Method -> Rows <=> Columns\n",
    "a = tf.constant([\n",
    "    [1, 2, 3, 4],\n",
    "    [2, 3, 4, 5],\n",
    "    [3, 4, 5, 6],\n",
    "    [6, 7, 8, 9]\n",
    "])\n",
    "b = tf.constant([\n",
    "    [1, 2, 3, 4],\n",
    "    [2, 3, 4, 5]\n",
    "])\n",
    "print(a.shape, b.shape)\n",
    "print(tf.transpose(a)) # or print(tf.linalg.matrix_transpose(a))\n",
    "print(tf.transpose(b))"
   ]
  },
  {
   "cell_type": "code",
   "execution_count": 18,
   "metadata": {},
   "outputs": [
    {
     "name": "stdout",
     "output_type": "stream",
     "text": [
      "tf.Tensor(\n",
      "[[ 30  40]\n",
      " [ 40  54]\n",
      " [ 50  68]\n",
      " [ 80 110]], shape=(4, 2), dtype=int32)\n"
     ]
    }
   ],
   "source": [
    "# Some Arguments Of MatMul Method\n",
    "a = tf.constant([\n",
    "    [1, 2, 3, 4],\n",
    "    [2, 3, 4, 5],\n",
    "    [3, 4, 5, 6],\n",
    "    [6, 7, 8, 9]\n",
    "])\n",
    "b = tf.constant([\n",
    "    [1, 2, 3, 4],\n",
    "    [2, 3, 4, 5]\n",
    "])\n",
    "a@tf.transpose(b)\n",
    "# Can Also Be Written As\n",
    "print(tf.linalg.matmul(a, b, transpose_a=False, transpose_b=True))"
   ]
  },
  {
   "cell_type": "code",
   "execution_count": 23,
   "metadata": {},
   "outputs": [
    {
     "name": "stdout",
     "output_type": "stream",
     "text": [
      "(4, 2, 2) (4, 2, 3)\n",
      "tf.Tensor(\n",
      "[[[ 7 10 13]\n",
      "  [15 22 29]]\n",
      "\n",
      " [[31 55 44]\n",
      "  [33 64 46]]\n",
      "\n",
      " [[12 64 50]\n",
      "  [ 8 44 35]]\n",
      "\n",
      " [[16 54 34]\n",
      "  [18 61 38]]], shape=(4, 2, 3), dtype=int32)\n"
     ]
    },
    {
     "data": {
      "text/plain": [
       "<tf.Tensor: shape=(2, 3), dtype=int32, numpy=\n",
       "array([[ 7, 10, 13],\n",
       "       [15, 22, 29]], dtype=int32)>"
      ]
     },
     "execution_count": 23,
     "metadata": {},
     "output_type": "execute_result"
    }
   ],
   "source": [
    "# 3-Dimensional Tensor Matrix Multiplication\n",
    "a = tf.constant([\n",
    "    [\n",
    "        [1, 2],\n",
    "        [3, 4]\n",
    "    ],\n",
    "    [\n",
    "        [4, 5],\n",
    "        [3, 7]\n",
    "    ],\n",
    "    [\n",
    "        [2, 8],\n",
    "        [1, 6]\n",
    "    ],\n",
    "    [\n",
    "        [2, 6],\n",
    "        [2, 7]\n",
    "    ]\n",
    "\n",
    "])\n",
    "b = tf.constant([\n",
    "    [\n",
    "        [1, 2, 3],\n",
    "        [3, 4, 5]\n",
    "    ],\n",
    "    [\n",
    "        [4, 5, 6],\n",
    "        [3, 7, 4]\n",
    "    ],\n",
    "    [\n",
    "        [2, 8, 5],\n",
    "        [1, 6, 5]\n",
    "    ],\n",
    "    [\n",
    "        [2, 6, 5],\n",
    "        [2, 7, 4]\n",
    "    ]\n",
    "\n",
    "])\n",
    "print(a.shape, b.shape)\n",
    "print(tf.linalg.matmul(a, b)) # Block Wise MatMul -> 4 * ((2, 2)*(2*3))\n",
    "\n",
    "# To Verify\n",
    "a[0]@b[0]\n"
   ]
  },
  {
   "cell_type": "code",
   "execution_count": 31,
   "metadata": {},
   "outputs": [
    {
     "name": "stdout",
     "output_type": "stream",
     "text": [
      "tf.Tensor(\n",
      "[[1 2 0]\n",
      " [2 3 4]\n",
      " [0 4 5]], shape=(3, 3), dtype=int32)\n"
     ]
    }
   ],
   "source": [
    "# Band Part Method -> Copy A Tensor Setting Everything Outside A Central Band In Each Innermost Matrix To Zero\n",
    "a = tf.constant([\n",
    "    [1, 2, 3],\n",
    "    [2, 3, 4],\n",
    "    [3, 4, 5]\n",
    "])\n",
    "print(tf.linalg.band_part(a, num_lower=1, num_upper=1))\n",
    "\n",
    "# m, n are element positions\n",
    "# if (num_lower<0 or (m-n)<=num_lower) and (num_upper<0 or (n-m)<=num_upper): Value Maintained \n",
    "# else: Zero"
   ]
  },
  {
   "cell_type": "code",
   "execution_count": 33,
   "metadata": {},
   "outputs": [
    {
     "name": "stdout",
     "output_type": "stream",
     "text": [
      "tf.Tensor(\n",
      "[[1 0 0]\n",
      " [0 3 0]\n",
      " [0 0 5]], shape=(3, 3), dtype=int32)\n",
      "tf.Tensor(\n",
      "[[1 2 3]\n",
      " [0 3 4]\n",
      " [0 0 5]], shape=(3, 3), dtype=int32)\n",
      "tf.Tensor(\n",
      "[[1 0 0]\n",
      " [2 3 0]\n",
      " [3 4 5]], shape=(3, 3), dtype=int32)\n"
     ]
    }
   ],
   "source": [
    "# Special Cases of Band Part\n",
    "print(tf.linalg.band_part(a, num_lower=0, num_upper=0)) # Diagonal Part\n",
    "print(tf.linalg.band_part(a, num_lower=0, num_upper=-1)) # Upper Triangular Part\n",
    "print(tf.linalg.band_part(a, num_lower=-1, num_upper=0)) # Lower Triangular Part"
   ]
  },
  {
   "cell_type": "code",
   "execution_count": 37,
   "metadata": {},
   "outputs": [
    {
     "data": {
      "text/plain": [
       "<tf.Tensor: shape=(), dtype=float32, numpy=1.0>"
      ]
     },
     "execution_count": 37,
     "metadata": {},
     "output_type": "execute_result"
    }
   ],
   "source": [
    "# Determinant Method -> Of Square Matrix Only\n",
    "a = tf.constant([\n",
    "    [1, 2],\n",
    "    [2, 5],\n",
    "], dtype=tf.float32)\n",
    "tf.linalg.det(a)"
   ]
  },
  {
   "cell_type": "code",
   "execution_count": 41,
   "metadata": {},
   "outputs": [
    {
     "data": {
      "text/plain": [
       "<tf.Tensor: shape=(3, 3), dtype=float32, numpy=\n",
       "array([[-1.1250002 , -0.25      ,  0.8750001 ],\n",
       "       [-0.24999997,  0.5       , -0.25000003],\n",
       "       [ 0.87500006, -0.25      , -0.12500003]], dtype=float32)>"
      ]
     },
     "execution_count": 41,
     "metadata": {},
     "output_type": "execute_result"
    }
   ],
   "source": [
    "# Inverse Method -> Only On Full-Rank Matrix\n",
    "# A*A^-1 = I\n",
    "a = tf.constant([\n",
    "    [1, 2, 3],\n",
    "    [2, 5, 4],\n",
    "    [3, 4, 5]\n",
    "], dtype=tf.float32)\n",
    "tf.linalg.inv(a)"
   ]
  },
  {
   "cell_type": "code",
   "execution_count": 77,
   "metadata": {},
   "outputs": [
    {
     "name": "stdout",
     "output_type": "stream",
     "text": [
      "(4, 3) (3, 4)\n",
      "(4, 4)\n"
     ]
    },
    {
     "data": {
      "text/plain": [
       "<tf.Tensor: shape=(4, 4), dtype=int32, numpy=\n",
       "array([[11, 26, 23, 29],\n",
       "       [16, 37, 34, 43],\n",
       "       [21, 48, 45, 57],\n",
       "       [36, 81, 78, 99]], dtype=int32)>"
      ]
     },
     "execution_count": 77,
     "metadata": {},
     "output_type": "execute_result"
    }
   ],
   "source": [
    "# Mat Mul Using Einsum Method -> Sperate Tensor Shapes by , and Seperate Output by ->\n",
    "a = tf.constant([\n",
    "    [1, 2, 3],\n",
    "    [2, 3, 4],\n",
    "    [3, 4, 5],\n",
    "    [6, 7, 8]\n",
    "])\n",
    "b = tf.constant([\n",
    "    [1, 2, 3, 4],\n",
    "    [2, 3, 4, 5],\n",
    "    [2, 6, 4, 5]\n",
    "])\n",
    "print(a.shape, b.shape)\n",
    "print((a@b).shape) # (i, j) * (j, k) => (i, k)\n",
    "tf.einsum(\"ij, jk->ik\", a, b)"
   ]
  },
  {
   "cell_type": "code",
   "execution_count": 56,
   "metadata": {},
   "outputs": [
    {
     "name": "stdout",
     "output_type": "stream",
     "text": [
      "tf.Tensor(25, shape=(), dtype=int32)\n"
     ]
    },
    {
     "data": {
      "text/plain": [
       "<tf.Tensor: shape=(4,), dtype=int32, numpy=array([ 0,  6, 15,  4], dtype=int32)>"
      ]
     },
     "execution_count": 56,
     "metadata": {},
     "output_type": "execute_result"
    }
   ],
   "source": [
    "# Inner Product Using Einsum Method\n",
    "a = tf.constant([2, 6, 5, 2])\n",
    "b = tf.constant([0, 1, 3, 2])\n",
    "print(tf.einsum(\"i,i->\", a, b))\n",
    "tf.einsum(\"i,i->i\", a, b)"
   ]
  },
  {
   "cell_type": "code",
   "execution_count": 65,
   "metadata": {},
   "outputs": [
    {
     "name": "stdout",
     "output_type": "stream",
     "text": [
      "tf.Tensor(\n",
      "[[ 0  2  6  4  8 10]\n",
      " [ 0  6 18 12 24 30]\n",
      " [ 0  5 15 10 20 25]\n",
      " [ 0  2  6  4  8 10]], shape=(4, 6), dtype=int32)\n",
      "tf.Tensor(225, shape=(), dtype=int32)\n",
      "tf.Tensor(225, shape=(), dtype=int32)\n"
     ]
    }
   ],
   "source": [
    "# Outer Product Using Einsum Method -> transpose(a)*b\n",
    "a = tf.constant([2, 6, 5, 2])\n",
    "b = tf.constant([0, 1, 3, 2, 4, 5])\n",
    "print(tf.einsum(\"i,j->ij\", a, b))\n",
    "print(tf.einsum(\"i,j->\", a, b))\n",
    "print(tf.reduce_sum(tf.einsum(\"i,j->ij\", a, b)))"
   ]
  },
  {
   "cell_type": "code",
   "execution_count": 71,
   "metadata": {},
   "outputs": [
    {
     "data": {
      "text/plain": [
       "<tf.Tensor: shape=(4, 3), dtype=int32, numpy=\n",
       "array([[1, 2, 2],\n",
       "       [2, 3, 6],\n",
       "       [3, 4, 4],\n",
       "       [4, 5, 5]], dtype=int32)>"
      ]
     },
     "execution_count": 71,
     "metadata": {},
     "output_type": "execute_result"
    }
   ],
   "source": [
    "# Transpose Using Einsum Method\n",
    "b = tf.constant([\n",
    "    [1, 2, 3, 4],\n",
    "    [2, 3, 4, 5],\n",
    "    [2, 6, 4, 5]\n",
    "])\n",
    "tf.einsum(\"ij->ji\", b)"
   ]
  },
  {
   "cell_type": "code",
   "execution_count": 73,
   "metadata": {},
   "outputs": [
    {
     "data": {
      "text/plain": [
       "<tf.Tensor: shape=(3, 3), dtype=int32, numpy=\n",
       "array([[ 1,  4,  9],\n",
       "       [ 4,  9, 16],\n",
       "       [ 6, 24, 20]], dtype=int32)>"
      ]
     },
     "execution_count": 73,
     "metadata": {},
     "output_type": "execute_result"
    }
   ],
   "source": [
    "# Element-Wise Multiplication Using Einsum Method\n",
    "a = tf.constant([\n",
    "    [1, 2, 3],\n",
    "    [2, 3, 4],\n",
    "    [3, 4, 5]\n",
    "])\n",
    "b = tf.constant([\n",
    "    [1, 2, 3],\n",
    "    [2, 3, 4],\n",
    "    [2, 6, 4]\n",
    "])\n",
    "tf.einsum(\"ij,ij->ij\", a, b)"
   ]
  },
  {
   "cell_type": "code",
   "execution_count": 78,
   "metadata": {},
   "outputs": [
    {
     "name": "stdout",
     "output_type": "stream",
     "text": [
      "(4, 2, 2) (4, 2, 2)\n",
      "tf.Tensor(\n",
      "[[[ 7 10]\n",
      "  [15 22]]\n",
      "\n",
      " [[31 55]\n",
      "  [33 64]]\n",
      "\n",
      " [[12 64]\n",
      "  [ 8 44]]\n",
      "\n",
      " [[16 54]\n",
      "  [18 61]]], shape=(4, 2, 2), dtype=int32)\n"
     ]
    }
   ],
   "source": [
    "# Using Einsum Method on 3-D Tensors\n",
    "a = tf.constant([\n",
    "    [\n",
    "        [1, 2],\n",
    "        [3, 4]\n",
    "    ],\n",
    "    [\n",
    "        [4, 5],\n",
    "        [3, 7]\n",
    "    ],\n",
    "    [\n",
    "        [2, 8],\n",
    "        [1, 6]\n",
    "    ],\n",
    "    [\n",
    "        [2, 6],\n",
    "        [2, 7]\n",
    "    ]\n",
    "\n",
    "])\n",
    "b = tf.constant([\n",
    "    [\n",
    "        [1, 2],\n",
    "        [3, 4]\n",
    "    ],\n",
    "    [\n",
    "        [4, 5],\n",
    "        [3, 7]\n",
    "    ],\n",
    "    [\n",
    "        [2, 8],\n",
    "        [1, 6]\n",
    "    ],\n",
    "    [\n",
    "        [2, 6],\n",
    "        [2, 7]\n",
    "    ]\n",
    "\n",
    "])\n",
    "print(a.shape, b.shape)\n",
    "print(tf.einsum(\"bij,bjk->bik\", a, b))"
   ]
  },
  {
   "cell_type": "code",
   "execution_count": 87,
   "metadata": {},
   "outputs": [
    {
     "data": {
      "text/plain": [
       "<tf.Tensor: shape=(4, 2, 2), dtype=int32, numpy=\n",
       "array([[[ 5, 11],\n",
       "        [11, 25]],\n",
       "\n",
       "       [[41, 47],\n",
       "        [47, 58]],\n",
       "\n",
       "       [[68, 50],\n",
       "        [50, 37]],\n",
       "\n",
       "       [[40, 46],\n",
       "        [46, 53]]], dtype=int32)>"
      ]
     },
     "execution_count": 87,
     "metadata": {},
     "output_type": "execute_result"
    }
   ],
   "source": [
    "# A*Transpose(A) using Einsum Method\n",
    "a = tf.constant([\n",
    "    [\n",
    "        [1, 2],\n",
    "        [3, 4]\n",
    "    ],\n",
    "    [\n",
    "        [4, 5],\n",
    "        [3, 7]\n",
    "    ],\n",
    "    [\n",
    "        [2, 8],\n",
    "        [1, 6]\n",
    "    ],\n",
    "    [\n",
    "        [2, 6],\n",
    "        [2, 7]\n",
    "    ]\n",
    "\n",
    "])\n",
    "tf.einsum(\"bij,bkj->bik\", a, a)"
   ]
  },
  {
   "cell_type": "code",
   "execution_count": null,
   "metadata": {},
   "outputs": [],
   "source": []
  }
 ],
 "metadata": {
  "kernelspec": {
   "display_name": "ComputerVision",
   "language": "python",
   "name": "python3"
  },
  "language_info": {
   "codemirror_mode": {
    "name": "ipython",
    "version": 3
   },
   "file_extension": ".py",
   "mimetype": "text/x-python",
   "name": "python",
   "nbconvert_exporter": "python",
   "pygments_lexer": "ipython3",
   "version": "3.11.11"
  }
 },
 "nbformat": 4,
 "nbformat_minor": 2
}
