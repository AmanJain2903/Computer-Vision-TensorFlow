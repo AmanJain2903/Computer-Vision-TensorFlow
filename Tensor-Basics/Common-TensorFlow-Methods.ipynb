{
 "cells": [
  {
   "cell_type": "code",
   "execution_count": 1,
   "metadata": {},
   "outputs": [],
   "source": [
    "# Import Dependencies\n",
    "import tensorflow as tf"
   ]
  },
  {
   "cell_type": "code",
   "execution_count": 5,
   "metadata": {},
   "outputs": [
    {
     "name": "stdout",
     "output_type": "stream",
     "text": [
      "(5,)\n",
      "tf.Tensor([[1 2 3 4 5]], shape=(1, 5), dtype=int32)\n",
      "tf.Tensor(\n",
      "[[1]\n",
      " [2]\n",
      " [3]\n",
      " [4]\n",
      " [5]], shape=(5, 1), dtype=int32)\n"
     ]
    }
   ],
   "source": [
    "# Expand Dims Method\n",
    "a = tf.constant([1, 2, 3, 4, 5])\n",
    "print(a.shape)\n",
    "print(tf.expand_dims(a, axis=0))\n",
    "print(tf.expand_dims(a, axis=1))"
   ]
  },
  {
   "cell_type": "code",
   "execution_count": 12,
   "metadata": {},
   "outputs": [
    {
     "name": "stdout",
     "output_type": "stream",
     "text": [
      "(4, 4)\n",
      "tf.Tensor(\n",
      "[[[1 2 3 4]\n",
      "  [2 3 4 5]\n",
      "  [3 4 5 6]\n",
      "  [6 7 8 9]]], shape=(1, 4, 4), dtype=int32)\n",
      "tf.Tensor(\n",
      "[[[1 2 3 4]]\n",
      "\n",
      " [[2 3 4 5]]\n",
      "\n",
      " [[3 4 5 6]]\n",
      "\n",
      " [[6 7 8 9]]], shape=(4, 1, 4), dtype=int32)\n",
      "tf.Tensor(\n",
      "[[[1]\n",
      "  [2]\n",
      "  [3]\n",
      "  [4]]\n",
      "\n",
      " [[2]\n",
      "  [3]\n",
      "  [4]\n",
      "  [5]]\n",
      "\n",
      " [[3]\n",
      "  [4]\n",
      "  [5]\n",
      "  [6]]\n",
      "\n",
      " [[6]\n",
      "  [7]\n",
      "  [8]\n",
      "  [9]]], shape=(4, 4, 1), dtype=int32)\n",
      "tf.Tensor(\n",
      "[[[1]\n",
      "  [2]\n",
      "  [3]\n",
      "  [4]]\n",
      "\n",
      " [[2]\n",
      "  [3]\n",
      "  [4]\n",
      "  [5]]\n",
      "\n",
      " [[3]\n",
      "  [4]\n",
      "  [5]\n",
      "  [6]]\n",
      "\n",
      " [[6]\n",
      "  [7]\n",
      "  [8]\n",
      "  [9]]], shape=(4, 4, 1), dtype=int32)\n"
     ]
    }
   ],
   "source": [
    "# Expand Dims On Multi-Dimensional Inputs\n",
    "a = tf.constant([\n",
    "    [1, 2, 3, 4],\n",
    "    [2, 3, 4, 5],\n",
    "    [3, 4, 5, 6],\n",
    "    [6, 7, 8, 9]\n",
    "])\n",
    "print(a.shape)\n",
    "print(tf.expand_dims(a, axis=0))\n",
    "print(tf.expand_dims(a, axis=1))\n",
    "print(tf.expand_dims(a, axis=2))\n",
    "print(tf.expand_dims(a, axis=-1))"
   ]
  },
  {
   "cell_type": "code",
   "execution_count": 38,
   "metadata": {},
   "outputs": [
    {
     "name": "stdout",
     "output_type": "stream",
     "text": [
      "(1, 4, 4)\n",
      "tf.Tensor(\n",
      "[[1 2 3 4]\n",
      " [2 3 4 5]\n",
      " [3 4 5 6]\n",
      " [6 7 8 9]], shape=(4, 4), dtype=int32)\n",
      "tf.Tensor(\n",
      "[[1 2 3 4]\n",
      " [2 3 4 5]\n",
      " [3 4 5 6]\n",
      " [6 7 8 9]], shape=(4, 4), dtype=int32)\n"
     ]
    }
   ],
   "source": [
    "# Squeeze Method\n",
    "a = tf.constant([\n",
    "    [1, 2, 3, 4],\n",
    "    [2, 3, 4, 5],\n",
    "    [3, 4, 5, 6],\n",
    "    [6, 7, 8, 9]\n",
    "])\n",
    "c = tf.expand_dims(a, axis=0)\n",
    "print(c.shape)\n",
    "print(tf.squeeze(c, axis=None))\n",
    "print(tf.squeeze(c, axis=0))"
   ]
  },
  {
   "cell_type": "code",
   "execution_count": 24,
   "metadata": {},
   "outputs": [
    {
     "name": "stdout",
     "output_type": "stream",
     "text": [
      "tf.Tensor(\n",
      "[[1 2 3]\n",
      " [4 5 6]\n",
      " [7 8 9]], shape=(3, 3), dtype=int32)\n",
      "tf.Tensor(\n",
      "[[[1]\n",
      "  [2]\n",
      "  [3]]\n",
      "\n",
      " [[4]\n",
      "  [5]\n",
      "  [6]]\n",
      "\n",
      " [[7]\n",
      "  [8]\n",
      "  [9]]], shape=(3, 3, 1), dtype=int32)\n",
      "tf.Tensor(\n",
      "[[1 2 3]\n",
      " [4 5 6]\n",
      " [7 8 9]], shape=(3, 3), dtype=int32)\n"
     ]
    }
   ],
   "source": [
    "# Reshape Method\n",
    "a = tf.constant([1, 2, 3, 4, 5, 6, 7, 8, 9])\n",
    "print(tf.reshape(a, [3, 3]))\n",
    "print(tf.reshape(a, [3, 3, 1]))\n",
    "# print(tf.reshape(a, [3, 2, 1])) -> Error : Number of Elements Remain Same\n",
    "print(tf.reshape(a, [3, -1])) # -> Put -1 on the axis you don't know about and tf will figure it out automatically"
   ]
  },
  {
   "cell_type": "code",
   "execution_count": 27,
   "metadata": {},
   "outputs": [
    {
     "name": "stdout",
     "output_type": "stream",
     "text": [
      "tf.Tensor(\n",
      "[[1 2]\n",
      " [3 4]\n",
      " [2 3]\n",
      " [4 5]\n",
      " [3 4]\n",
      " [5 6]\n",
      " [6 7]\n",
      " [8 9]], shape=(8, 2), dtype=int32)\n"
     ]
    }
   ],
   "source": [
    "# Reshape On Multi-Dimensional Inputs\n",
    "a = tf.constant([\n",
    "    [1, 2, 3, 4],\n",
    "    [2, 3, 4, 5],\n",
    "    [3, 4, 5, 6],\n",
    "    [6, 7, 8, 9]\n",
    "])\n",
    "print(tf.reshape(a, [8, 2]))"
   ]
  },
  {
   "cell_type": "code",
   "execution_count": 37,
   "metadata": {},
   "outputs": [
    {
     "name": "stdout",
     "output_type": "stream",
     "text": [
      "(4, 4) (2, 4)\n",
      "tf.Tensor(\n",
      "[[1 2 3 4]\n",
      " [2 3 4 5]\n",
      " [3 4 5 6]\n",
      " [6 7 8 9]\n",
      " [1 2 3 4]\n",
      " [2 3 4 5]], shape=(6, 4), dtype=int32)\n",
      "(4, 4) (4, 2)\n",
      "tf.Tensor(\n",
      "[[1 2 3 4 1 2]\n",
      " [2 3 4 5 2 3]\n",
      " [3 4 5 6 3 4]\n",
      " [6 7 8 9 4 5]], shape=(4, 6), dtype=int32)\n",
      "tf.Tensor(\n",
      "[[1 2 3 4 1 2]\n",
      " [2 3 4 5 2 3]\n",
      " [3 4 5 6 3 4]\n",
      " [6 7 8 9 4 5]], shape=(4, 6), dtype=int32)\n"
     ]
    }
   ],
   "source": [
    "# Concat Method\n",
    "a = tf.constant([\n",
    "    [1, 2, 3, 4],\n",
    "    [2, 3, 4, 5],\n",
    "    [3, 4, 5, 6],\n",
    "    [6, 7, 8, 9]\n",
    "])\n",
    "b = tf.constant([\n",
    "    [1, 2, 3, 4],\n",
    "    [2, 3, 4, 5]\n",
    "])\n",
    "print(a.shape, b.shape)\n",
    "print(tf.concat([a, b], axis=0)) # -> Here axis 1 has 4 in both tensors, so concat successfull\n",
    "# print(tf.concat([a, b], axis=1)) -> Error : The other axes must be of same shape\n",
    "print(a.shape, tf.transpose(b).shape)\n",
    "print(tf.concat([a, tf.linalg.matrix_transpose(b)], axis=1))\n",
    "print(tf.concat([a, tf.linalg.matrix_transpose(b)], axis=-1))"
   ]
  },
  {
   "cell_type": "code",
   "execution_count": 45,
   "metadata": {},
   "outputs": [
    {
     "name": "stdout",
     "output_type": "stream",
     "text": [
      "(4, 4) (4, 4)\n",
      "tf.Tensor(\n",
      "[[[1 2 3 4]\n",
      "  [2 3 4 5]\n",
      "  [3 4 5 6]\n",
      "  [6 7 8 9]]\n",
      "\n",
      " [[1 2 3 4]\n",
      "  [2 3 4 5]\n",
      "  [3 4 5 6]\n",
      "  [6 7 8 9]]], shape=(2, 4, 4), dtype=int32)\n",
      "tf.Tensor(\n",
      "[[[1 2 3 4]\n",
      "  [1 2 3 4]]\n",
      "\n",
      " [[2 3 4 5]\n",
      "  [2 3 4 5]]\n",
      "\n",
      " [[3 4 5 6]\n",
      "  [3 4 5 6]]\n",
      "\n",
      " [[6 7 8 9]\n",
      "  [6 7 8 9]]], shape=(4, 2, 4), dtype=int32)\n",
      "tf.Tensor(\n",
      "[[[1 1]\n",
      "  [2 2]\n",
      "  [3 3]\n",
      "  [4 4]]\n",
      "\n",
      " [[2 2]\n",
      "  [3 3]\n",
      "  [4 4]\n",
      "  [5 5]]\n",
      "\n",
      " [[3 3]\n",
      "  [4 4]\n",
      "  [5 5]\n",
      "  [6 6]]\n",
      "\n",
      " [[6 6]\n",
      "  [7 7]\n",
      "  [8 8]\n",
      "  [9 9]]], shape=(4, 4, 2), dtype=int32)\n"
     ]
    }
   ],
   "source": [
    "# Stack Method -> Stacks a list of rank-R Tensors into one rank-(R+1) Tensor\n",
    "a = tf.constant([\n",
    "    [1, 2, 3, 4],\n",
    "    [2, 3, 4, 5],\n",
    "    [3, 4, 5, 6],\n",
    "    [6, 7, 8, 9]\n",
    "])\n",
    "b = tf.constant([\n",
    "    [1, 2, 3, 4],\n",
    "    [2, 3, 4, 5],\n",
    "    [3, 4, 5, 6],\n",
    "    [6, 7, 8, 9]\n",
    "])\n",
    "print(a.shape, b.shape) # -> Shapes of both tensors must be same\n",
    "print(tf.stack([a, b], axis=0)) # -> Similar to Concat Method but adds an extra dimension\n",
    "print(tf.stack([a, b], axis=1))\n",
    "print(tf.stack([a, b], axis=-1))"
   ]
  },
  {
   "cell_type": "code",
   "execution_count": 54,
   "metadata": {},
   "outputs": [
    {
     "name": "stdout",
     "output_type": "stream",
     "text": [
      "tf.Tensor(\n",
      "[[20 20 20 20 20 20 20 20 20]\n",
      " [20 20  1  2  3  4 20 20 20]\n",
      " [20 20  2  3  4  5 20 20 20]\n",
      " [20 20  3  4  5  6 20 20 20]\n",
      " [20 20  6  7  8  9 20 20 20]\n",
      " [20 20 20 20 20 20 20 20 20]\n",
      " [20 20 20 20 20 20 20 20 20]], shape=(7, 9), dtype=int32)\n",
      "tf.Tensor(\n",
      "[[4 3 2 3 4 5 4 3 2]\n",
      " [3 2 1 2 3 4 3 2 1]\n",
      " [4 3 2 3 4 5 4 3 2]\n",
      " [5 4 3 4 5 6 5 4 3]\n",
      " [8 7 6 7 8 9 8 7 6]\n",
      " [5 4 3 4 5 6 5 4 3]\n",
      " [4 3 2 3 4 5 4 3 2]], shape=(7, 9), dtype=int32)\n",
      "tf.Tensor(\n",
      "[[2 1 1 2 3 4 4 3 2]\n",
      " [2 1 1 2 3 4 4 3 2]\n",
      " [3 2 2 3 4 5 5 4 3]\n",
      " [4 3 3 4 5 6 6 5 4]\n",
      " [7 6 6 7 8 9 9 8 7]\n",
      " [7 6 6 7 8 9 9 8 7]\n",
      " [4 3 3 4 5 6 6 5 4]], shape=(7, 9), dtype=int32)\n"
     ]
    }
   ],
   "source": [
    "# Pad Method -> Pads a tensor with a given value\n",
    "a = tf.constant([\n",
    "    [1, 2, 3, 4],\n",
    "    [2, 3, 4, 5],\n",
    "    [3, 4, 5, 6],\n",
    "    [6, 7, 8, 9]\n",
    "])\n",
    "paddings = tf.constant([\n",
    "    [1, 2], # [PaddingLayersTop, PaddingLayersBottom]\n",
    "    [2, 3] # [PaddingLayersLeft, PaddingLayersRight]\n",
    "])\n",
    "# Padding Modes : CONSTANT -> Constant Value, REFLECT -> Values From The Tensor, SYMMETRIC -> Values From The Tensor\n",
    "print(tf.pad(a, paddings, \"CONSTANT\", constant_values=20)) # constant_values defaults to 0\n",
    "print(tf.pad(a, paddings, \"REFLECT\"))\n",
    "print(tf.pad(a, paddings, \"SYMMETRIC\"))"
   ]
  },
  {
   "cell_type": "code",
   "execution_count": 67,
   "metadata": {},
   "outputs": [
    {
     "name": "stdout",
     "output_type": "stream",
     "text": [
      "(4, 4)\n",
      "tf.Tensor(\n",
      "[[3 4 5 6]\n",
      " [2 3 4 5]], shape=(2, 4), dtype=int32)\n",
      "tf.Tensor(\n",
      "[[3 2]\n",
      " [4 3]\n",
      " [5 4]\n",
      " [8 7]], shape=(4, 2), dtype=int32)\n",
      "tf.Tensor(\n",
      "[[[2 3 4 5]\n",
      "  [3 4 5 6]]\n",
      "\n",
      " [[1 2 3 4]\n",
      "  [6 7 8 9]]], shape=(2, 2, 4), dtype=int32)\n"
     ]
    }
   ],
   "source": [
    "# Gather Method\n",
    "a = tf.constant([\n",
    "    [1, 2, 3, 4],\n",
    "    [2, 3, 4, 5],\n",
    "    [3, 4, 5, 6],\n",
    "    [6, 7, 8, 9]\n",
    "])\n",
    "print(a.shape)\n",
    "print(tf.gather(a, [2, 1], axis=0)) # -> Gather Elements Based On Order Specified\n",
    "print(tf.gather(a, [2, 1], axis=1))\n",
    "print(tf.gather(a, [[1, 2], [0, 3]], axis=0))"
   ]
  },
  {
   "cell_type": "code",
   "execution_count": 72,
   "metadata": {},
   "outputs": [
    {
     "name": "stdout",
     "output_type": "stream",
     "text": [
      "tf.Tensor([4 2], shape=(2,), dtype=int32)\n",
      "\n",
      "\n",
      "tf.Tensor(\n",
      "[[[2 3 4 5]\n",
      "  [3 4 5 6]]\n",
      "\n",
      " [[1 2 3 4]\n",
      "  [2 3 4 5]]], shape=(2, 2, 4), dtype=int32)\n",
      "tf.Tensor([4 2], shape=(2,), dtype=int32)\n"
     ]
    }
   ],
   "source": [
    "# Gather ND Method -> Gather Accross Multiple Axes At Once\n",
    "a = tf.constant([\n",
    "    [1, 2, 3, 4],\n",
    "    [2, 3, 4, 5],\n",
    "    [3, 4, 5, 6],\n",
    "    [6, 7, 8, 9]\n",
    "])\n",
    "print(tf.gather_nd(a, [[1, 2], [0, 1]]))\n",
    "print(\"\\n\")\n",
    "# See The Difference\n",
    "print(tf.gather(a, [[1, 2], [0, 1]], axis=0))\n",
    "print(tf.gather_nd(a, [[1, 2], [0, 1]]))"
   ]
  }
 ],
 "metadata": {
  "kernelspec": {
   "display_name": "ComputerVision",
   "language": "python",
   "name": "python3"
  },
  "language_info": {
   "codemirror_mode": {
    "name": "ipython",
    "version": 3
   },
   "file_extension": ".py",
   "mimetype": "text/x-python",
   "name": "python",
   "nbconvert_exporter": "python",
   "pygments_lexer": "ipython3",
   "version": "3.11.11"
  }
 },
 "nbformat": 4,
 "nbformat_minor": 2
}
