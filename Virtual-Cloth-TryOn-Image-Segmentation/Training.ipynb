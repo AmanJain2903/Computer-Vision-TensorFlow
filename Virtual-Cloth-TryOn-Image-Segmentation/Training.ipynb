{
 "cells": [
  {
   "cell_type": "markdown",
   "metadata": {},
   "source": [
    "# SEGFORMER MODELING & TRAINING"
   ]
  },
  {
   "cell_type": "code",
   "execution_count": 1,
   "metadata": {},
   "outputs": [
    {
     "name": "stderr",
     "output_type": "stream",
     "text": [
      "/opt/homebrew/Caskroom/miniforge/base/envs/ComputerVision/lib/python3.11/site-packages/tqdm/auto.py:21: TqdmWarning: IProgress not found. Please update jupyter and ipywidgets. See https://ipywidgets.readthedocs.io/en/stable/user_install.html\n",
      "  from .autonotebook import tqdm as notebook_tqdm\n"
     ]
    }
   ],
   "source": [
    "import tensorflow as tf\n",
    "import numpy as np\n",
    "import pandas as pd\n",
    "import os\n",
    "import evaluate\n",
    "from transformers import AutoImageProcessor, TFSegformerForSemanticSegmentation, create_optimizer\n",
    "from transformers.keras_callbacks import KerasMetricCallback"
   ]
  },
  {
   "cell_type": "code",
   "execution_count": 3,
   "metadata": {},
   "outputs": [
    {
     "data": {
      "text/html": [
       "<div>\n",
       "<style scoped>\n",
       "    .dataframe tbody tr th:only-of-type {\n",
       "        vertical-align: middle;\n",
       "    }\n",
       "\n",
       "    .dataframe tbody tr th {\n",
       "        vertical-align: top;\n",
       "    }\n",
       "\n",
       "    .dataframe thead th {\n",
       "        text-align: right;\n",
       "    }\n",
       "</style>\n",
       "<table border=\"1\" class=\"dataframe\">\n",
       "  <thead>\n",
       "    <tr style=\"text-align: right;\">\n",
       "      <th></th>\n",
       "      <th>Unnamed: 0</th>\n",
       "      <th>label_list</th>\n",
       "    </tr>\n",
       "  </thead>\n",
       "  <tbody>\n",
       "    <tr>\n",
       "      <th>0</th>\n",
       "      <td>0</td>\n",
       "      <td>NaN</td>\n",
       "    </tr>\n",
       "    <tr>\n",
       "      <th>1</th>\n",
       "      <td>1</td>\n",
       "      <td>accessories</td>\n",
       "    </tr>\n",
       "    <tr>\n",
       "      <th>2</th>\n",
       "      <td>2</td>\n",
       "      <td>bag</td>\n",
       "    </tr>\n",
       "    <tr>\n",
       "      <th>3</th>\n",
       "      <td>3</td>\n",
       "      <td>belt</td>\n",
       "    </tr>\n",
       "    <tr>\n",
       "      <th>4</th>\n",
       "      <td>4</td>\n",
       "      <td>blazer</td>\n",
       "    </tr>\n",
       "  </tbody>\n",
       "</table>\n",
       "</div>"
      ],
      "text/plain": [
       "   Unnamed: 0   label_list\n",
       "0           0          NaN\n",
       "1           1  accessories\n",
       "2           2          bag\n",
       "3           3         belt\n",
       "4           4       blazer"
      ]
     },
     "execution_count": 3,
     "metadata": {},
     "output_type": "execute_result"
    }
   ],
   "source": [
    "dataFrame = pd.read_csv('Dataset/labels.csv')\n",
    "dataFrame.head()"
   ]
  },
  {
   "cell_type": "code",
   "execution_count": 4,
   "metadata": {},
   "outputs": [
    {
     "data": {
      "text/plain": [
       "{0: 'nan',\n",
       " 1: 'accessories',\n",
       " 2: 'bag',\n",
       " 3: 'belt',\n",
       " 4: 'blazer',\n",
       " 5: 'blouse',\n",
       " 6: 'bodysuit',\n",
       " 7: 'boots',\n",
       " 8: 'bra',\n",
       " 9: 'bracelet',\n",
       " 10: 'cape',\n",
       " 11: 'cardigan',\n",
       " 12: 'clogs',\n",
       " 13: 'coat',\n",
       " 14: 'dress',\n",
       " 15: 'earrings',\n",
       " 16: 'flats',\n",
       " 17: 'glasses',\n",
       " 18: 'gloves',\n",
       " 19: 'hair',\n",
       " 20: 'hat',\n",
       " 21: 'heels',\n",
       " 22: 'hoodie',\n",
       " 23: 'intimate',\n",
       " 24: 'jacket',\n",
       " 25: 'jeans',\n",
       " 26: 'jumper',\n",
       " 27: 'leggings',\n",
       " 28: 'loafers',\n",
       " 29: 'necklace',\n",
       " 30: 'panties',\n",
       " 31: 'pants',\n",
       " 32: 'pumps',\n",
       " 33: 'purse',\n",
       " 34: 'ring',\n",
       " 35: 'romper',\n",
       " 36: 'sandals',\n",
       " 37: 'scarf',\n",
       " 38: 'shirt',\n",
       " 39: 'shoes',\n",
       " 40: 'shorts',\n",
       " 41: 'skin',\n",
       " 42: 'skirt',\n",
       " 43: 'sneakers',\n",
       " 44: 'socks',\n",
       " 45: 'stockings',\n",
       " 46: 'suit',\n",
       " 47: 'sunglasses',\n",
       " 48: 'sweater',\n",
       " 49: 'sweatshirt',\n",
       " 50: 'swimwear',\n",
       " 51: 't-shirt',\n",
       " 52: 'tie',\n",
       " 53: 'tights',\n",
       " 54: 'top',\n",
       " 55: 'vest',\n",
       " 56: 'wallet',\n",
       " 57: 'watch',\n",
       " 58: 'wedges'}"
      ]
     },
     "execution_count": 4,
     "metadata": {},
     "output_type": "execute_result"
    }
   ],
   "source": [
    "ID2LABEL = {}\n",
    "for i, j in dataFrame.iterrows():\n",
    "    if i==0:\n",
    "        ID2LABEL[i] = 'nan'\n",
    "    else:\n",
    "        ID2LABEL[i] = j['label_list']\n",
    "ID2LABEL"
   ]
  },
  {
   "cell_type": "code",
   "execution_count": 5,
   "metadata": {},
   "outputs": [
    {
     "data": {
      "text/plain": [
       "{'nan': 0,\n",
       " 'accessories': 1,\n",
       " 'bag': 2,\n",
       " 'belt': 3,\n",
       " 'blazer': 4,\n",
       " 'blouse': 5,\n",
       " 'bodysuit': 6,\n",
       " 'boots': 7,\n",
       " 'bra': 8,\n",
       " 'bracelet': 9,\n",
       " 'cape': 10,\n",
       " 'cardigan': 11,\n",
       " 'clogs': 12,\n",
       " 'coat': 13,\n",
       " 'dress': 14,\n",
       " 'earrings': 15,\n",
       " 'flats': 16,\n",
       " 'glasses': 17,\n",
       " 'gloves': 18,\n",
       " 'hair': 19,\n",
       " 'hat': 20,\n",
       " 'heels': 21,\n",
       " 'hoodie': 22,\n",
       " 'intimate': 23,\n",
       " 'jacket': 24,\n",
       " 'jeans': 25,\n",
       " 'jumper': 26,\n",
       " 'leggings': 27,\n",
       " 'loafers': 28,\n",
       " 'necklace': 29,\n",
       " 'panties': 30,\n",
       " 'pants': 31,\n",
       " 'pumps': 32,\n",
       " 'purse': 33,\n",
       " 'ring': 34,\n",
       " 'romper': 35,\n",
       " 'sandals': 36,\n",
       " 'scarf': 37,\n",
       " 'shirt': 38,\n",
       " 'shoes': 39,\n",
       " 'shorts': 40,\n",
       " 'skin': 41,\n",
       " 'skirt': 42,\n",
       " 'sneakers': 43,\n",
       " 'socks': 44,\n",
       " 'stockings': 45,\n",
       " 'suit': 46,\n",
       " 'sunglasses': 47,\n",
       " 'sweater': 48,\n",
       " 'sweatshirt': 49,\n",
       " 'swimwear': 50,\n",
       " 't-shirt': 51,\n",
       " 'tie': 52,\n",
       " 'tights': 53,\n",
       " 'top': 54,\n",
       " 'vest': 55,\n",
       " 'wallet': 56,\n",
       " 'watch': 57,\n",
       " 'wedges': 58}"
      ]
     },
     "execution_count": 5,
     "metadata": {},
     "output_type": "execute_result"
    }
   ],
   "source": [
    "LABEL2ID = {v: k for k, v in ID2LABEL.items()}\n",
    "LABEL2ID"
   ]
  },
  {
   "cell_type": "code",
   "execution_count": 6,
   "metadata": {},
   "outputs": [
    {
     "data": {
      "text/plain": [
       "59"
      ]
     },
     "execution_count": 6,
     "metadata": {},
     "output_type": "execute_result"
    }
   ],
   "source": [
    "NUM_CLASSES = len(ID2LABEL)\n",
    "NUM_CLASSES"
   ]
  },
  {
   "cell_type": "code",
   "execution_count": 7,
   "metadata": {},
   "outputs": [],
   "source": [
    "H,W = 512,512"
   ]
  },
  {
   "cell_type": "code",
   "execution_count": 8,
   "metadata": {},
   "outputs": [
    {
     "name": "stderr",
     "output_type": "stream",
     "text": [
      "2025-02-08 16:20:35.423373: I metal_plugin/src/device/metal_device.cc:1154] Metal device set to: Apple M3 Pro\n",
      "2025-02-08 16:20:35.423431: I metal_plugin/src/device/metal_device.cc:296] systemMemory: 18.00 GB\n",
      "2025-02-08 16:20:35.423438: I metal_plugin/src/device/metal_device.cc:313] maxCacheSize: 6.00 GB\n",
      "WARNING: All log messages before absl::InitializeLog() is called are written to STDERR\n",
      "I0000 00:00:1739060435.423463 10057117 pluggable_device_factory.cc:305] Could not identify NUMA node of platform GPU ID 0, defaulting to 0. Your kernel may not have been built with NUMA support.\n",
      "I0000 00:00:1739060435.423505 10057117 pluggable_device_factory.cc:271] Created TensorFlow device (/job:localhost/replica:0/task:0/device:GPU:0 with 0 MB memory) -> physical PluggableDevice (device: 0, name: METAL, pci bus id: <undefined>)\n",
      "All model checkpoint layers were used when initializing TFSegformerForSemanticSegmentation.\n",
      "\n",
      "All the layers of TFSegformerForSemanticSegmentation were initialized from the model checkpoint at nvidia/segformer-b5-finetuned-ade-640-640.\n",
      "If your task is similar to the task the model of the checkpoint was trained on, you can already use TFSegformerForSemanticSegmentation for predictions without further training.\n"
     ]
    },
    {
     "name": "stdout",
     "output_type": "stream",
     "text": [
      "Model: \"tf_segformer_for_semantic_segmentation\"\n",
      "_________________________________________________________________\n",
      " Layer (type)                Output Shape              Param #   \n",
      "=================================================================\n",
      " segformer (TFSegformerMain  multiple                  81443008  \n",
      " Layer)                                                          \n",
      "                                                                 \n",
      " decode_head (TFSegformerDe  multiple                  3267222   \n",
      " codeHead)                                                       \n",
      "                                                                 \n",
      "=================================================================\n",
      "Total params: 84710230 (323.14 MB)\n",
      "Trainable params: 84708694 (323.14 MB)\n",
      "Non-trainable params: 1536 (6.00 KB)\n",
      "_________________________________________________________________\n"
     ]
    }
   ],
   "source": [
    "modelID = \"nvidia/segformer-b5-finetuned-ade-640-640\"\n",
    "model = TFSegformerForSemanticSegmentation.from_pretrained(modelID)\n",
    "model.summary()"
   ]
  },
  {
   "cell_type": "code",
   "execution_count": 9,
   "metadata": {},
   "outputs": [],
   "source": [
    "trainDataset = tf.data.Dataset.load('SavedDataset/trainDataset')\n",
    "valDataset = tf.data.Dataset.load('SavedDataset/valDataset')"
   ]
  },
  {
   "cell_type": "code",
   "execution_count": 10,
   "metadata": {},
   "outputs": [],
   "source": [
    "BATCH_SIZE = 2\n",
    "NUM_EPOCHS = 15\n",
    "NUM_TRAIN_STEPS = len(trainDataset)*NUM_EPOCHS\n",
    "LEARNING_RATE = 6e-5\n",
    "WEIGHT_DECAY = 0.01\n",
    "\n",
    "optimizer, LR_Schedule = create_optimizer(\n",
    "    init_lr=LEARNING_RATE,\n",
    "    num_train_steps=NUM_TRAIN_STEPS,\n",
    "    weight_decay_rate=WEIGHT_DECAY,\n",
    "    num_warmup_steps=0,\n",
    ")"
   ]
  },
  {
   "cell_type": "code",
   "execution_count": 11,
   "metadata": {},
   "outputs": [],
   "source": [
    "metrics = evaluate.load(\"mean_iou\")"
   ]
  },
  {
   "cell_type": "code",
   "execution_count": 12,
   "metadata": {},
   "outputs": [],
   "source": [
    "def computeMetrics(pred):\n",
    "    logits, labels = pred\n",
    "    logtis = tf.transpose(logits, (0, 2, 3, 1))\n",
    "    logits = tf.image.resize(logtis, tf.shape(labels)[1:], method='bilinear')\n",
    "    predLabels = tf.argmax(logits, axis=-1)\n",
    "\n",
    "    metrics = metrics.compute(predictions=predLabels, references=labels, num_classes=NUM_CLASSES, ignore_index=-1)\n",
    "\n",
    "    perCategoryAccuracy = metrics.pop('per_category_accuracy').toList()\n",
    "    perCatehgoryIOU = metrics.pop('per_category_iou').toList()\n",
    "    metrics.update({f'accuracy_{ID2LABEL[i]}': v for i, v in enumerate(perCategoryAccuracy)})\n",
    "    metrics.update({f'iou_{ID2LABEL[i]}': v for i, v in enumerate(perCatehgoryIOU)})\n",
    "\n",
    "    return {'val_' + k: v for k, v in metrics.items()}\n"
   ]
  },
  {
   "cell_type": "code",
   "execution_count": 13,
   "metadata": {},
   "outputs": [],
   "source": [
    "metricsCallback = KerasMetricCallback(\n",
    "    metric_fn=computeMetrics,\n",
    "    eval_dataset=valDataset,\n",
    "    batch_size=BATCH_SIZE,\n",
    "    label_cols=['labels'],\n",
    ")\n",
    "callbacks = [metricsCallback]"
   ]
  },
  {
   "cell_type": "code",
   "execution_count": 14,
   "metadata": {},
   "outputs": [],
   "source": [
    "model.compile(optimizer=optimizer)"
   ]
  },
  {
   "cell_type": "code",
   "execution_count": null,
   "metadata": {},
   "outputs": [
    {
     "name": "stdout",
     "output_type": "stream",
     "text": [
      "Epoch 1/15\n"
     ]
    },
    {
     "name": "stderr",
     "output_type": "stream",
     "text": [
      "2025-02-08 16:21:03.368312: I tensorflow/core/grappler/optimizers/custom_graph_optimizer_registry.cc:117] Plugin optimizer for device_type GPU is enabled.\n",
      "WARNING: All log messages before absl::InitializeLog() is called are written to STDERR\n",
      "I0000 00:00:1739060472.324206 10057252 service.cc:148] XLA service 0x421c56550 initialized for platform Host (this does not guarantee that XLA will be used). Devices:\n",
      "I0000 00:00:1739060472.324329 10057252 service.cc:156]   StreamExecutor device (0): Host, Default Version\n",
      "I0000 00:00:1739060472.355907 10057252 device_compiler.h:188] Compiled cluster using XLA!  This line is logged at most once for the lifetime of the process.\n"
     ]
    },
    {
     "name": "stdout",
     "output_type": "stream",
     "text": [
      "186/462 [===========>..................] - ETA: 1:04:35 - loss: 0.2750"
     ]
    }
   ],
   "source": [
    "with tf.device('/CPU:0'):\n",
    "    model.fit(trainDataset, validation_data=valDataset, epochs=NUM_EPOCHS, callbacks=callbacks)"
   ]
  },
  {
   "cell_type": "code",
   "execution_count": null,
   "metadata": {},
   "outputs": [],
   "source": [
    "model.save('Models/Segformer.keras')"
   ]
  },
  {
   "cell_type": "code",
   "execution_count": null,
   "metadata": {},
   "outputs": [],
   "source": []
  }
 ],
 "metadata": {
  "kernelspec": {
   "display_name": "ComputerVision",
   "language": "python",
   "name": "python3"
  },
  "language_info": {
   "codemirror_mode": {
    "name": "ipython",
    "version": 3
   },
   "file_extension": ".py",
   "mimetype": "text/x-python",
   "name": "python",
   "nbconvert_exporter": "python",
   "pygments_lexer": "ipython3",
   "version": "3.11.11"
  }
 },
 "nbformat": 4,
 "nbformat_minor": 2
}
