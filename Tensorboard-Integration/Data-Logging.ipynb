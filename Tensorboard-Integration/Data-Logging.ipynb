{
 "cells": [
  {
   "cell_type": "markdown",
   "metadata": {},
   "source": [
    "# DATA LOGGING USING TENSORBOARD"
   ]
  },
  {
   "cell_type": "code",
   "execution_count": 1,
   "metadata": {},
   "outputs": [
    {
     "name": "stderr",
     "output_type": "stream",
     "text": [
      "2025-01-25 21:36:04.210378: I metal_plugin/src/device/metal_device.cc:1154] Metal device set to: Apple M3 Pro\n",
      "2025-01-25 21:36:04.210407: I metal_plugin/src/device/metal_device.cc:296] systemMemory: 18.00 GB\n",
      "2025-01-25 21:36:04.210410: I metal_plugin/src/device/metal_device.cc:313] maxCacheSize: 6.00 GB\n",
      "2025-01-25 21:36:04.210425: I tensorflow/core/common_runtime/pluggable_device/pluggable_device_factory.cc:305] Could not identify NUMA node of platform GPU ID 0, defaulting to 0. Your kernel may not have been built with NUMA support.\n",
      "2025-01-25 21:36:04.210436: I tensorflow/core/common_runtime/pluggable_device/pluggable_device_factory.cc:271] Created TensorFlow device (/job:localhost/replica:0/task:0/device:GPU:0 with 0 MB memory) -> physical PluggableDevice (device: 0, name: METAL, pci bus id: <undefined>)\n"
     ]
    },
    {
     "data": {
      "text/html": [
       "<pre style=\"white-space:pre;overflow-x:auto;line-height:normal;font-family:Menlo,'DejaVu Sans Mono',consolas,'Courier New',monospace\"><span style=\"font-weight: bold\">Model: \"sequential\"</span>\n",
       "</pre>\n"
      ],
      "text/plain": [
       "\u001b[1mModel: \"sequential\"\u001b[0m\n"
      ]
     },
     "metadata": {},
     "output_type": "display_data"
    },
    {
     "data": {
      "text/html": [
       "<pre style=\"white-space:pre;overflow-x:auto;line-height:normal;font-family:Menlo,'DejaVu Sans Mono',consolas,'Courier New',monospace\">┏━━━━━━━━━━━━━━━━━━━━━━━━━━━━━━━━━┳━━━━━━━━━━━━━━━━━━━━━━━━┳━━━━━━━━━━━━━━━┓\n",
       "┃<span style=\"font-weight: bold\"> Layer (type)                    </span>┃<span style=\"font-weight: bold\"> Output Shape           </span>┃<span style=\"font-weight: bold\">       Param # </span>┃\n",
       "┡━━━━━━━━━━━━━━━━━━━━━━━━━━━━━━━━━╇━━━━━━━━━━━━━━━━━━━━━━━━╇━━━━━━━━━━━━━━━┩\n",
       "│ conv2d (<span style=\"color: #0087ff; text-decoration-color: #0087ff\">Conv2D</span>)                 │ (<span style=\"color: #00d7ff; text-decoration-color: #00d7ff\">None</span>, <span style=\"color: #00af00; text-decoration-color: #00af00\">222</span>, <span style=\"color: #00af00; text-decoration-color: #00af00\">222</span>, <span style=\"color: #00af00; text-decoration-color: #00af00\">6</span>)    │           <span style=\"color: #00af00; text-decoration-color: #00af00\">168</span> │\n",
       "├─────────────────────────────────┼────────────────────────┼───────────────┤\n",
       "│ batch_normalization             │ (<span style=\"color: #00d7ff; text-decoration-color: #00d7ff\">None</span>, <span style=\"color: #00af00; text-decoration-color: #00af00\">222</span>, <span style=\"color: #00af00; text-decoration-color: #00af00\">222</span>, <span style=\"color: #00af00; text-decoration-color: #00af00\">6</span>)    │            <span style=\"color: #00af00; text-decoration-color: #00af00\">24</span> │\n",
       "│ (<span style=\"color: #0087ff; text-decoration-color: #0087ff\">BatchNormalization</span>)            │                        │               │\n",
       "├─────────────────────────────────┼────────────────────────┼───────────────┤\n",
       "│ max_pooling2d (<span style=\"color: #0087ff; text-decoration-color: #0087ff\">MaxPooling2D</span>)    │ (<span style=\"color: #00d7ff; text-decoration-color: #00d7ff\">None</span>, <span style=\"color: #00af00; text-decoration-color: #00af00\">111</span>, <span style=\"color: #00af00; text-decoration-color: #00af00\">111</span>, <span style=\"color: #00af00; text-decoration-color: #00af00\">6</span>)    │             <span style=\"color: #00af00; text-decoration-color: #00af00\">0</span> │\n",
       "├─────────────────────────────────┼────────────────────────┼───────────────┤\n",
       "│ conv2d_1 (<span style=\"color: #0087ff; text-decoration-color: #0087ff\">Conv2D</span>)               │ (<span style=\"color: #00d7ff; text-decoration-color: #00d7ff\">None</span>, <span style=\"color: #00af00; text-decoration-color: #00af00\">109</span>, <span style=\"color: #00af00; text-decoration-color: #00af00\">109</span>, <span style=\"color: #00af00; text-decoration-color: #00af00\">16</span>)   │           <span style=\"color: #00af00; text-decoration-color: #00af00\">880</span> │\n",
       "├─────────────────────────────────┼────────────────────────┼───────────────┤\n",
       "│ batch_normalization_1           │ (<span style=\"color: #00d7ff; text-decoration-color: #00d7ff\">None</span>, <span style=\"color: #00af00; text-decoration-color: #00af00\">109</span>, <span style=\"color: #00af00; text-decoration-color: #00af00\">109</span>, <span style=\"color: #00af00; text-decoration-color: #00af00\">16</span>)   │            <span style=\"color: #00af00; text-decoration-color: #00af00\">64</span> │\n",
       "│ (<span style=\"color: #0087ff; text-decoration-color: #0087ff\">BatchNormalization</span>)            │                        │               │\n",
       "├─────────────────────────────────┼────────────────────────┼───────────────┤\n",
       "│ max_pooling2d_1 (<span style=\"color: #0087ff; text-decoration-color: #0087ff\">MaxPooling2D</span>)  │ (<span style=\"color: #00d7ff; text-decoration-color: #00d7ff\">None</span>, <span style=\"color: #00af00; text-decoration-color: #00af00\">54</span>, <span style=\"color: #00af00; text-decoration-color: #00af00\">54</span>, <span style=\"color: #00af00; text-decoration-color: #00af00\">16</span>)     │             <span style=\"color: #00af00; text-decoration-color: #00af00\">0</span> │\n",
       "├─────────────────────────────────┼────────────────────────┼───────────────┤\n",
       "│ flatten (<span style=\"color: #0087ff; text-decoration-color: #0087ff\">Flatten</span>)               │ (<span style=\"color: #00d7ff; text-decoration-color: #00d7ff\">None</span>, <span style=\"color: #00af00; text-decoration-color: #00af00\">46656</span>)          │             <span style=\"color: #00af00; text-decoration-color: #00af00\">0</span> │\n",
       "├─────────────────────────────────┼────────────────────────┼───────────────┤\n",
       "│ dense (<span style=\"color: #0087ff; text-decoration-color: #0087ff\">Dense</span>)                   │ (<span style=\"color: #00d7ff; text-decoration-color: #00d7ff\">None</span>, <span style=\"color: #00af00; text-decoration-color: #00af00\">100</span>)            │     <span style=\"color: #00af00; text-decoration-color: #00af00\">4,665,700</span> │\n",
       "├─────────────────────────────────┼────────────────────────┼───────────────┤\n",
       "│ batch_normalization_2           │ (<span style=\"color: #00d7ff; text-decoration-color: #00d7ff\">None</span>, <span style=\"color: #00af00; text-decoration-color: #00af00\">100</span>)            │           <span style=\"color: #00af00; text-decoration-color: #00af00\">400</span> │\n",
       "│ (<span style=\"color: #0087ff; text-decoration-color: #0087ff\">BatchNormalization</span>)            │                        │               │\n",
       "├─────────────────────────────────┼────────────────────────┼───────────────┤\n",
       "│ dense_1 (<span style=\"color: #0087ff; text-decoration-color: #0087ff\">Dense</span>)                 │ (<span style=\"color: #00d7ff; text-decoration-color: #00d7ff\">None</span>, <span style=\"color: #00af00; text-decoration-color: #00af00\">10</span>)             │         <span style=\"color: #00af00; text-decoration-color: #00af00\">1,010</span> │\n",
       "├─────────────────────────────────┼────────────────────────┼───────────────┤\n",
       "│ batch_normalization_3           │ (<span style=\"color: #00d7ff; text-decoration-color: #00d7ff\">None</span>, <span style=\"color: #00af00; text-decoration-color: #00af00\">10</span>)             │            <span style=\"color: #00af00; text-decoration-color: #00af00\">40</span> │\n",
       "│ (<span style=\"color: #0087ff; text-decoration-color: #0087ff\">BatchNormalization</span>)            │                        │               │\n",
       "├─────────────────────────────────┼────────────────────────┼───────────────┤\n",
       "│ dense_2 (<span style=\"color: #0087ff; text-decoration-color: #0087ff\">Dense</span>)                 │ (<span style=\"color: #00d7ff; text-decoration-color: #00d7ff\">None</span>, <span style=\"color: #00af00; text-decoration-color: #00af00\">1</span>)              │            <span style=\"color: #00af00; text-decoration-color: #00af00\">11</span> │\n",
       "└─────────────────────────────────┴────────────────────────┴───────────────┘\n",
       "</pre>\n"
      ],
      "text/plain": [
       "┏━━━━━━━━━━━━━━━━━━━━━━━━━━━━━━━━━┳━━━━━━━━━━━━━━━━━━━━━━━━┳━━━━━━━━━━━━━━━┓\n",
       "┃\u001b[1m \u001b[0m\u001b[1mLayer (type)                   \u001b[0m\u001b[1m \u001b[0m┃\u001b[1m \u001b[0m\u001b[1mOutput Shape          \u001b[0m\u001b[1m \u001b[0m┃\u001b[1m \u001b[0m\u001b[1m      Param #\u001b[0m\u001b[1m \u001b[0m┃\n",
       "┡━━━━━━━━━━━━━━━━━━━━━━━━━━━━━━━━━╇━━━━━━━━━━━━━━━━━━━━━━━━╇━━━━━━━━━━━━━━━┩\n",
       "│ conv2d (\u001b[38;5;33mConv2D\u001b[0m)                 │ (\u001b[38;5;45mNone\u001b[0m, \u001b[38;5;34m222\u001b[0m, \u001b[38;5;34m222\u001b[0m, \u001b[38;5;34m6\u001b[0m)    │           \u001b[38;5;34m168\u001b[0m │\n",
       "├─────────────────────────────────┼────────────────────────┼───────────────┤\n",
       "│ batch_normalization             │ (\u001b[38;5;45mNone\u001b[0m, \u001b[38;5;34m222\u001b[0m, \u001b[38;5;34m222\u001b[0m, \u001b[38;5;34m6\u001b[0m)    │            \u001b[38;5;34m24\u001b[0m │\n",
       "│ (\u001b[38;5;33mBatchNormalization\u001b[0m)            │                        │               │\n",
       "├─────────────────────────────────┼────────────────────────┼───────────────┤\n",
       "│ max_pooling2d (\u001b[38;5;33mMaxPooling2D\u001b[0m)    │ (\u001b[38;5;45mNone\u001b[0m, \u001b[38;5;34m111\u001b[0m, \u001b[38;5;34m111\u001b[0m, \u001b[38;5;34m6\u001b[0m)    │             \u001b[38;5;34m0\u001b[0m │\n",
       "├─────────────────────────────────┼────────────────────────┼───────────────┤\n",
       "│ conv2d_1 (\u001b[38;5;33mConv2D\u001b[0m)               │ (\u001b[38;5;45mNone\u001b[0m, \u001b[38;5;34m109\u001b[0m, \u001b[38;5;34m109\u001b[0m, \u001b[38;5;34m16\u001b[0m)   │           \u001b[38;5;34m880\u001b[0m │\n",
       "├─────────────────────────────────┼────────────────────────┼───────────────┤\n",
       "│ batch_normalization_1           │ (\u001b[38;5;45mNone\u001b[0m, \u001b[38;5;34m109\u001b[0m, \u001b[38;5;34m109\u001b[0m, \u001b[38;5;34m16\u001b[0m)   │            \u001b[38;5;34m64\u001b[0m │\n",
       "│ (\u001b[38;5;33mBatchNormalization\u001b[0m)            │                        │               │\n",
       "├─────────────────────────────────┼────────────────────────┼───────────────┤\n",
       "│ max_pooling2d_1 (\u001b[38;5;33mMaxPooling2D\u001b[0m)  │ (\u001b[38;5;45mNone\u001b[0m, \u001b[38;5;34m54\u001b[0m, \u001b[38;5;34m54\u001b[0m, \u001b[38;5;34m16\u001b[0m)     │             \u001b[38;5;34m0\u001b[0m │\n",
       "├─────────────────────────────────┼────────────────────────┼───────────────┤\n",
       "│ flatten (\u001b[38;5;33mFlatten\u001b[0m)               │ (\u001b[38;5;45mNone\u001b[0m, \u001b[38;5;34m46656\u001b[0m)          │             \u001b[38;5;34m0\u001b[0m │\n",
       "├─────────────────────────────────┼────────────────────────┼───────────────┤\n",
       "│ dense (\u001b[38;5;33mDense\u001b[0m)                   │ (\u001b[38;5;45mNone\u001b[0m, \u001b[38;5;34m100\u001b[0m)            │     \u001b[38;5;34m4,665,700\u001b[0m │\n",
       "├─────────────────────────────────┼────────────────────────┼───────────────┤\n",
       "│ batch_normalization_2           │ (\u001b[38;5;45mNone\u001b[0m, \u001b[38;5;34m100\u001b[0m)            │           \u001b[38;5;34m400\u001b[0m │\n",
       "│ (\u001b[38;5;33mBatchNormalization\u001b[0m)            │                        │               │\n",
       "├─────────────────────────────────┼────────────────────────┼───────────────┤\n",
       "│ dense_1 (\u001b[38;5;33mDense\u001b[0m)                 │ (\u001b[38;5;45mNone\u001b[0m, \u001b[38;5;34m10\u001b[0m)             │         \u001b[38;5;34m1,010\u001b[0m │\n",
       "├─────────────────────────────────┼────────────────────────┼───────────────┤\n",
       "│ batch_normalization_3           │ (\u001b[38;5;45mNone\u001b[0m, \u001b[38;5;34m10\u001b[0m)             │            \u001b[38;5;34m40\u001b[0m │\n",
       "│ (\u001b[38;5;33mBatchNormalization\u001b[0m)            │                        │               │\n",
       "├─────────────────────────────────┼────────────────────────┼───────────────┤\n",
       "│ dense_2 (\u001b[38;5;33mDense\u001b[0m)                 │ (\u001b[38;5;45mNone\u001b[0m, \u001b[38;5;34m1\u001b[0m)              │            \u001b[38;5;34m11\u001b[0m │\n",
       "└─────────────────────────────────┴────────────────────────┴───────────────┘\n"
      ]
     },
     "metadata": {},
     "output_type": "display_data"
    },
    {
     "data": {
      "text/html": [
       "<pre style=\"white-space:pre;overflow-x:auto;line-height:normal;font-family:Menlo,'DejaVu Sans Mono',consolas,'Courier New',monospace\"><span style=\"font-weight: bold\"> Total params: </span><span style=\"color: #00af00; text-decoration-color: #00af00\">4,668,297</span> (17.81 MB)\n",
       "</pre>\n"
      ],
      "text/plain": [
       "\u001b[1m Total params: \u001b[0m\u001b[38;5;34m4,668,297\u001b[0m (17.81 MB)\n"
      ]
     },
     "metadata": {},
     "output_type": "display_data"
    },
    {
     "data": {
      "text/html": [
       "<pre style=\"white-space:pre;overflow-x:auto;line-height:normal;font-family:Menlo,'DejaVu Sans Mono',consolas,'Courier New',monospace\"><span style=\"font-weight: bold\"> Trainable params: </span><span style=\"color: #00af00; text-decoration-color: #00af00\">4,668,033</span> (17.81 MB)\n",
       "</pre>\n"
      ],
      "text/plain": [
       "\u001b[1m Trainable params: \u001b[0m\u001b[38;5;34m4,668,033\u001b[0m (17.81 MB)\n"
      ]
     },
     "metadata": {},
     "output_type": "display_data"
    },
    {
     "data": {
      "text/html": [
       "<pre style=\"white-space:pre;overflow-x:auto;line-height:normal;font-family:Menlo,'DejaVu Sans Mono',consolas,'Courier New',monospace\"><span style=\"font-weight: bold\"> Non-trainable params: </span><span style=\"color: #00af00; text-decoration-color: #00af00\">264</span> (1.03 KB)\n",
       "</pre>\n"
      ],
      "text/plain": [
       "\u001b[1m Non-trainable params: \u001b[0m\u001b[38;5;34m264\u001b[0m (1.03 KB)\n"
      ]
     },
     "metadata": {},
     "output_type": "display_data"
    }
   ],
   "source": [
    "# Import Depedencies\n",
    "import tensorflow as tf\n",
    "import numpy as np\n",
    "import matplotlib.pyplot as plt\n",
    "import cv2\n",
    "import import_ipynb\n",
    "import Utils\n",
    "from tensorboard import notebook\n",
    "import datetime"
   ]
  },
  {
   "cell_type": "code",
   "execution_count": 2,
   "metadata": {},
   "outputs": [],
   "source": [
    "# Tensorboard Callback\n",
    "CURRENT_TIME = datetime.datetime.now().strftime('%d%m%y - %h%m%s')\n",
    "LOG_DIR = \"./logs/\" + CURRENT_TIME\n",
    "METRICS_DIR = LOG_DIR + \"/metrics\"\n",
    "tensorboardCallback = tf.keras.callbacks.TensorBoard(log_dir=LOG_DIR)\n",
    "\n",
    "# Writer to log Extra Things\n",
    "trainWriter = tf.summary.create_file_writer(METRICS_DIR)"
   ]
  },
  {
   "cell_type": "code",
   "execution_count": 21,
   "metadata": {},
   "outputs": [],
   "source": [
    "# Defining Scheduler for the Callback\n",
    "def scheduler(epoch, lr):\n",
    "    if epoch<3:\n",
    "        learningRate = lr\n",
    "    else:\n",
    "        learningRate = float(lr * tf.math.exp(-0.1))\n",
    "    with trainWriter.as_default():\n",
    "        tf.summary.scalar('Learning Rate', data=learningRate, step=epoch)\n",
    "    return learningRate\n",
    "\n",
    "learningrateSchedulerCallback = tf.keras.callbacks.LearningRateScheduler(scheduler, verbose=1)"
   ]
  },
  {
   "cell_type": "code",
   "execution_count": 22,
   "metadata": {},
   "outputs": [
    {
     "name": "stdout",
     "output_type": "stream",
     "text": [
      "\n",
      "Epoch 1: LearningRateScheduler setting learning rate to 0.00670319888740778.\n",
      "Epoch 1/5\n",
      "\u001b[1m689/689\u001b[0m \u001b[32m━━━━━━━━━━━━━━━━━━━━\u001b[0m\u001b[37m\u001b[0m \u001b[1m51s\u001b[0m 74ms/step - auc: 0.9637 - binary_accuracy: 0.9177 - false_negatives: 311.3217 - false_positives: 616.5435 - loss: 0.2672 - precision: 0.8974 - recall: 0.9444 - true_negatives: 4902.3071 - true_positives: 5225.7754 - val_auc: 0.9547 - val_binary_accuracy: 0.9299 - val_false_negatives: 113.0000 - val_false_positives: 80.0000 - val_loss: 0.4098 - val_precision: 0.9410 - val_recall: 0.9186 - val_true_negatives: 1287.0000 - val_true_positives: 1275.0000 - learning_rate: 0.0067\n",
      "\n",
      "Epoch 2: LearningRateScheduler setting learning rate to 0.00670319888740778.\n",
      "Epoch 2/5\n",
      "\u001b[1m689/689\u001b[0m \u001b[32m━━━━━━━━━━━━━━━━━━━━\u001b[0m\u001b[37m\u001b[0m \u001b[1m52s\u001b[0m 75ms/step - auc: 0.9656 - binary_accuracy: 0.9178 - false_negatives: 315.8986 - false_positives: 592.0073 - loss: 0.2558 - precision: 0.8984 - recall: 0.9434 - true_negatives: 4926.7915 - true_positives: 5221.2505 - val_auc: 0.9312 - val_binary_accuracy: 0.9053 - val_false_negatives: 152.0000 - val_false_positives: 109.0000 - val_loss: 0.6331 - val_precision: 0.9190 - val_recall: 0.8906 - val_true_negatives: 1257.0000 - val_true_positives: 1237.0000 - learning_rate: 0.0067\n",
      "\n",
      "Epoch 3: LearningRateScheduler setting learning rate to 0.00670319888740778.\n",
      "Epoch 3/5\n",
      "\u001b[1m689/689\u001b[0m \u001b[32m━━━━━━━━━━━━━━━━━━━━\u001b[0m\u001b[37m\u001b[0m \u001b[1m51s\u001b[0m 75ms/step - auc: 0.9640 - binary_accuracy: 0.9175 - false_negatives: 316.0464 - false_positives: 604.3623 - loss: 0.2607 - precision: 0.8980 - recall: 0.9433 - true_negatives: 4914.3857 - true_positives: 5221.1538 - val_auc: 0.9312 - val_binary_accuracy: 0.8944 - val_false_negatives: 135.0000 - val_false_positives: 156.0000 - val_loss: 0.5913 - val_precision: 0.8892 - val_recall: 0.9027 - val_true_negatives: 1212.0000 - val_true_positives: 1252.0000 - learning_rate: 0.0067\n",
      "\n",
      "Epoch 4: LearningRateScheduler setting learning rate to 0.006065304856747389.\n",
      "Epoch 4/5\n",
      "\u001b[1m689/689\u001b[0m \u001b[32m━━━━━━━━━━━━━━━━━━━━\u001b[0m\u001b[37m\u001b[0m \u001b[1m55s\u001b[0m 79ms/step - auc: 0.9666 - binary_accuracy: 0.9228 - false_negatives: 288.4247 - false_positives: 581.0956 - loss: 0.2524 - precision: 0.9015 - recall: 0.9506 - true_negatives: 4937.6592 - true_positives: 5248.7681 - val_auc: 0.9567 - val_binary_accuracy: 0.9143 - val_false_negatives: 79.0000 - val_false_positives: 157.0000 - val_loss: 0.3711 - val_precision: 0.8932 - val_recall: 0.9432 - val_true_negatives: 1206.0000 - val_true_positives: 1313.0000 - learning_rate: 0.0061\n",
      "\n",
      "Epoch 5: LearningRateScheduler setting learning rate to 0.005488114431500435.\n",
      "Epoch 5/5\n",
      "\u001b[1m689/689\u001b[0m \u001b[32m━━━━━━━━━━━━━━━━━━━━\u001b[0m\u001b[37m\u001b[0m \u001b[1m55s\u001b[0m 79ms/step - auc: 0.9673 - binary_accuracy: 0.9195 - false_negatives: 315.0609 - false_positives: 594.1102 - loss: 0.2517 - precision: 0.9004 - recall: 0.9445 - true_negatives: 4924.6582 - true_positives: 5222.1187 - val_auc: 0.9594 - val_binary_accuracy: 0.9296 - val_false_negatives: 82.0000 - val_false_positives: 112.0000 - val_loss: 0.3233 - val_precision: 0.9215 - val_recall: 0.9413 - val_true_negatives: 1246.0000 - val_true_positives: 1315.0000 - learning_rate: 0.0055\n"
     ]
    },
    {
     "data": {
      "text/plain": [
       "<keras.src.callbacks.history.History at 0x3e236b890>"
      ]
     },
     "execution_count": 22,
     "metadata": {},
     "output_type": "execute_result"
    }
   ],
   "source": [
    "Utils.model.fit(Utils.trainDataset, validation_data=Utils.valDataset, epochs=5, verbose=1, callbacks=[learningrateSchedulerCallback, tensorboardCallback])"
   ]
  },
  {
   "cell_type": "code",
   "execution_count": 23,
   "metadata": {},
   "outputs": [
    {
     "data": {
      "text/plain": [
       "Reusing TensorBoard on port 6007 (pid 38203), started 0:56:12 ago. (Use '!kill 38203' to kill it.)"
      ]
     },
     "metadata": {},
     "output_type": "display_data"
    },
    {
     "data": {
      "text/html": [
       "\n",
       "      <iframe id=\"tensorboard-frame-c335b492288333b7\" width=\"100%\" height=\"800\" frameborder=\"0\">\n",
       "      </iframe>\n",
       "      <script>\n",
       "        (function() {\n",
       "          const frame = document.getElementById(\"tensorboard-frame-c335b492288333b7\");\n",
       "          const url = new URL(\"http://localhost\");\n",
       "          const port = 6007;\n",
       "          if (port) {\n",
       "            url.port = port;\n",
       "          }\n",
       "          frame.src = url;\n",
       "        })();\n",
       "      </script>\n",
       "    "
      ],
      "text/plain": [
       "<IPython.core.display.HTML object>"
      ]
     },
     "metadata": {},
     "output_type": "display_data"
    }
   ],
   "source": [
    "notebook.start(\"--logdir logs\")"
   ]
  },
  {
   "cell_type": "markdown",
   "metadata": {},
   "source": [
    "## Data Logging With Custom Training Loop"
   ]
  },
  {
   "cell_type": "code",
   "execution_count": 24,
   "metadata": {},
   "outputs": [],
   "source": [
    "# Custom Binary Cross-Entropy Loss\n",
    "def customBCE(yTrue, yPred):\n",
    "    bce = tf.keras.losses.BinaryCrossentropy()\n",
    "    return bce(yTrue, yPred)"
   ]
  },
  {
   "cell_type": "code",
   "execution_count": 25,
   "metadata": {},
   "outputs": [],
   "source": [
    "OPTIMIZER = tf.keras.optimizers.Adam(learning_rate=0.01)\n",
    "METRIC = tf.keras.metrics.BinaryAccuracy()\n",
    "METRIC_VAL = tf.keras.metrics.BinaryAccuracy()\n",
    "EPOCHS = 3\n",
    "\n",
    "@tf.function # Converts to graph mode -> faster\n",
    "def trainingBlock(xBatch, yBatch):\n",
    "    with tf.GradientTape() as recorder: # Record Gradients\n",
    "        yPred = Utils.model(xBatch, training=True)\n",
    "        loss = customBCE(yBatch, yPred)\n",
    "    partialDerivatives = recorder.gradient(loss, Utils.model.trainable_weights)\n",
    "    OPTIMIZER.apply_gradients(zip(partialDerivatives, Utils.model.trainable_weights))\n",
    "    METRIC.update_state(yBatch, yPred)\n",
    "\n",
    "    return loss\n",
    "\n",
    "@tf.function\n",
    "def valBlock(xBatchVal, yBatchVal):\n",
    "    yPredVal = Utils.model(xBatchVal, training=False)\n",
    "    lossVal = customBCE(yBatchVal, yPredVal)\n",
    "    METRIC_VAL.update_state(yBatchVal, yPredVal)\n",
    "\n",
    "    return lossVal\n"
   ]
  },
  {
   "cell_type": "code",
   "execution_count": 30,
   "metadata": {},
   "outputs": [],
   "source": [
    "CURRENT_TIME = datetime.datetime.now().strftime('%d%m%y - %h%m%s')\n",
    "LOG_DIR = \"./logs/\" + CURRENT_TIME\n",
    "CUSTOM_TRAIN_DIR = LOG_DIR + \"/custom/train\"\n",
    "CUSTOM_VAL_DIR = LOG_DIR + \"/custom/val\"\n",
    "customTrainWriter = tf.summary.create_file_writer(CUSTOM_TRAIN_DIR)\n",
    "customValWriter = tf.summary.create_file_writer(CUSTOM_VAL_DIR)"
   ]
  },
  {
   "cell_type": "code",
   "execution_count": 31,
   "metadata": {},
   "outputs": [],
   "source": [
    "def trainModel(model, lossFunction, metric, valMetric, optimizer, trainDataset, valDataset, epochs=EPOCHS):\n",
    "    for epoch in range(epochs):\n",
    "        print(\"Training For Epoch : \", epoch+1)\n",
    "        print(\"\\n\")\n",
    "        for step, (xBatch, yBatch) in enumerate(trainDataset):\n",
    "            loss = trainingBlock(xBatch, yBatch)\n",
    "        print(\"Training Loss : \", loss)\n",
    "        print(\"The Accuracy is : \", METRIC.result())\n",
    "        print(\"\\n\")\n",
    "        with customTrainWriter.as_default():\n",
    "            tf.summary.scalar('Training Loss', data=loss, step=epoch)\n",
    "            tf.summary.scalar('Training Accuracy', data=METRIC.result(), step=epoch)\n",
    "        METRIC.reset_state()\n",
    "        for (xBatchVal, yBatchVal) in valDataset:\n",
    "            lossVal = valBlock(xBatchVal, yBatchVal)\n",
    "        print(\"Validation Loss : \", lossVal)\n",
    "        print(\"The Validation Accuracy is : \", METRIC_VAL.result())\n",
    "        print(\"\\n\")\n",
    "        with customValWriter.as_default():\n",
    "            tf.summary.scalar('Validation Loss', data=lossVal, step=epoch)\n",
    "            tf.summary.scalar('Validation Accuracy', data=METRIC_VAL.result(), step=epoch)\n",
    "        METRIC_VAL.reset_state()\n",
    "    print(\"TRAINING COMPLETE !!\")"
   ]
  },
  {
   "cell_type": "code",
   "execution_count": 32,
   "metadata": {},
   "outputs": [
    {
     "name": "stdout",
     "output_type": "stream",
     "text": [
      "Training For Epoch :  1\n",
      "\n",
      "\n"
     ]
    },
    {
     "name": "stderr",
     "output_type": "stream",
     "text": [
      "2025-01-25 21:19:59.153780: W tensorflow/core/framework/local_rendezvous.cc:404] Local rendezvous is aborting with status: OUT_OF_RANGE: End of sequence\n"
     ]
    },
    {
     "name": "stdout",
     "output_type": "stream",
     "text": [
      "Training Loss :  tf.Tensor(0.31580058, shape=(), dtype=float32)\n",
      "The Accuracy is :  tf.Tensor(0.9155313, shape=(), dtype=float32)\n",
      "\n",
      "\n"
     ]
    },
    {
     "name": "stderr",
     "output_type": "stream",
     "text": [
      "2025-01-25 21:20:01.772875: W tensorflow/core/framework/local_rendezvous.cc:404] Local rendezvous is aborting with status: OUT_OF_RANGE: End of sequence\n"
     ]
    },
    {
     "name": "stdout",
     "output_type": "stream",
     "text": [
      "Validation Loss :  tf.Tensor(0.18390785, shape=(), dtype=float32)\n",
      "The Validation Accuracy is :  tf.Tensor(0.9139746, shape=(), dtype=float32)\n",
      "\n",
      "\n",
      "Training For Epoch :  2\n",
      "\n",
      "\n"
     ]
    },
    {
     "name": "stderr",
     "output_type": "stream",
     "text": [
      "2025-01-25 21:20:34.603423: W tensorflow/core/framework/local_rendezvous.cc:404] Local rendezvous is aborting with status: OUT_OF_RANGE: End of sequence\n"
     ]
    },
    {
     "name": "stdout",
     "output_type": "stream",
     "text": [
      "Training Loss :  tf.Tensor(0.19698392, shape=(), dtype=float32)\n",
      "The Accuracy is :  tf.Tensor(0.91045994, shape=(), dtype=float32)\n",
      "\n",
      "\n"
     ]
    },
    {
     "name": "stderr",
     "output_type": "stream",
     "text": [
      "2025-01-25 21:20:36.748834: W tensorflow/core/framework/local_rendezvous.cc:404] Local rendezvous is aborting with status: OUT_OF_RANGE: End of sequence\n"
     ]
    },
    {
     "name": "stdout",
     "output_type": "stream",
     "text": [
      "Validation Loss :  tf.Tensor(0.08545255, shape=(), dtype=float32)\n",
      "The Validation Accuracy is :  tf.Tensor(0.9288566, shape=(), dtype=float32)\n",
      "\n",
      "\n",
      "Training For Epoch :  3\n",
      "\n",
      "\n"
     ]
    },
    {
     "name": "stderr",
     "output_type": "stream",
     "text": [
      "2025-01-25 21:21:09.469306: W tensorflow/core/framework/local_rendezvous.cc:404] Local rendezvous is aborting with status: OUT_OF_RANGE: End of sequence\n"
     ]
    },
    {
     "name": "stdout",
     "output_type": "stream",
     "text": [
      "Training Loss :  tf.Tensor(0.27662182, shape=(), dtype=float32)\n",
      "The Accuracy is :  tf.Tensor(0.9160845, shape=(), dtype=float32)\n",
      "\n",
      "\n",
      "Validation Loss :  tf.Tensor(1.3841553, shape=(), dtype=float32)\n",
      "The Validation Accuracy is :  tf.Tensor(0.92704177, shape=(), dtype=float32)\n",
      "\n",
      "\n",
      "TRAINING COMPLETE !!\n"
     ]
    },
    {
     "name": "stderr",
     "output_type": "stream",
     "text": [
      "2025-01-25 21:21:11.729319: W tensorflow/core/framework/local_rendezvous.cc:404] Local rendezvous is aborting with status: OUT_OF_RANGE: End of sequence\n"
     ]
    }
   ],
   "source": [
    "trainModel(Utils.model, customBCE, METRIC, METRIC_VAL, OPTIMIZER, Utils.trainDataset, Utils.valDataset, 3)"
   ]
  },
  {
   "cell_type": "code",
   "execution_count": 33,
   "metadata": {},
   "outputs": [
    {
     "data": {
      "text/plain": [
       "Reusing TensorBoard on port 6007 (pid 38203), started 1:24:35 ago. (Use '!kill 38203' to kill it.)"
      ]
     },
     "metadata": {},
     "output_type": "display_data"
    },
    {
     "data": {
      "text/html": [
       "\n",
       "      <iframe id=\"tensorboard-frame-7971e9353305ebc\" width=\"100%\" height=\"800\" frameborder=\"0\">\n",
       "      </iframe>\n",
       "      <script>\n",
       "        (function() {\n",
       "          const frame = document.getElementById(\"tensorboard-frame-7971e9353305ebc\");\n",
       "          const url = new URL(\"http://localhost\");\n",
       "          const port = 6007;\n",
       "          if (port) {\n",
       "            url.port = port;\n",
       "          }\n",
       "          frame.src = url;\n",
       "        })();\n",
       "      </script>\n",
       "    "
      ],
      "text/plain": [
       "<IPython.core.display.HTML object>"
      ]
     },
     "metadata": {},
     "output_type": "display_data"
    }
   ],
   "source": [
    "notebook.start(\"--logdir logs\")"
   ]
  },
  {
   "cell_type": "markdown",
   "metadata": {},
   "source": [
    "## Display Image Data Like Confusion Matrix After Each Epoch Using Tensorboard"
   ]
  },
  {
   "cell_type": "code",
   "execution_count": 3,
   "metadata": {},
   "outputs": [],
   "source": [
    "from sklearn.metrics import confusion_matrix\n",
    "import seaborn as sns\n",
    "import io"
   ]
  },
  {
   "cell_type": "code",
   "execution_count": 6,
   "metadata": {},
   "outputs": [],
   "source": [
    "IMAGE_DIR = LOG_DIR + \"/images\"\n",
    "\n",
    "class LogImageCallback(tf.keras.callbacks.Callback):\n",
    "    def on_epoch_end(self, epoch, logs):\n",
    "        labels = []\n",
    "        inputs = []\n",
    "        for x, y in Utils.testDataset.as_numpy_iterator():\n",
    "            for i in range(len(y)):\n",
    "                labels.append(y[i])\n",
    "                inputs.append(x[i])\n",
    "        labels = np.array(labels)\n",
    "        inputs = np.array(inputs)\n",
    "        predicted = Utils.model.predict(inputs)\n",
    "        predicted = predicted[:, 0]\n",
    "        threshold = 0.5 # Default Value\n",
    "        cm = confusion_matrix(labels, predicted>threshold)\n",
    "        # Plotting the Confusion Matrix\n",
    "        plt.figure(figsize=(4, 4))\n",
    "        sns.heatmap(cm, annot=True)\n",
    "        plt.title(\"Confusion Matrix - {}\".format(threshold))\n",
    "        plt.ylabel('Actual')\n",
    "        plt.xlabel('Predicted')\n",
    "        buffer = io.BytesIO()\n",
    "        plt.savefig(buffer, format='png')\n",
    "        image = tf.image.decode_png(buffer.getvalue(), channels=3)\n",
    "        image = tf.expand_dims(image, axis=0)\n",
    "\n",
    "        imageWriter = tf.summary.create_file_writer(IMAGE_DIR)\n",
    "\n",
    "        with imageWriter.as_default():\n",
    "            tf.summary.image(\"Training Data\", data=image, step=epoch)"
   ]
  },
  {
   "cell_type": "code",
   "execution_count": 7,
   "metadata": {},
   "outputs": [
    {
     "name": "stdout",
     "output_type": "stream",
     "text": [
      "Epoch 1/5\n",
      "\u001b[1m689/689\u001b[0m \u001b[32m━━━━━━━━━━━━━━━━━━━━\u001b[0m\u001b[37m\u001b[0m \u001b[1m0s\u001b[0m 70ms/step - auc: 0.8619 - binary_accuracy: 0.7897 - false_negatives: 715.6647 - false_positives: 1297.0566 - loss: 0.4718 - precision: 0.7650 - recall: 0.8412 - true_negatives: 4213.8940 - true_positives: 4813.3818"
     ]
    },
    {
     "name": "stderr",
     "output_type": "stream",
     "text": [
      "2025-01-25 21:39:32.017293: W tensorflow/core/framework/local_rendezvous.cc:404] Local rendezvous is aborting with status: OUT_OF_RANGE: End of sequence\n"
     ]
    },
    {
     "name": "stdout",
     "output_type": "stream",
     "text": [
      "\u001b[1m87/87\u001b[0m \u001b[32m━━━━━━━━━━━━━━━━━━━━\u001b[0m\u001b[37m\u001b[0m \u001b[1m1s\u001b[0m 9ms/step\n",
      "\u001b[1m689/689\u001b[0m \u001b[32m━━━━━━━━━━━━━━━━━━━━\u001b[0m\u001b[37m\u001b[0m \u001b[1m57s\u001b[0m 82ms/step - auc: 0.8620 - binary_accuracy: 0.7898 - false_negatives: 716.2377 - false_positives: 1298.4956 - loss: 0.4717 - precision: 0.7651 - recall: 0.8413 - true_negatives: 4220.4390 - true_positives: 4820.7754 - val_auc: 0.9530 - val_binary_accuracy: 0.9307 - val_false_negatives: 59.0000 - val_false_positives: 132.0000 - val_loss: 0.3495 - val_precision: 0.9102 - val_recall: 0.9578 - val_true_negatives: 1226.0000 - val_true_positives: 1338.0000\n",
      "Epoch 2/5\n",
      "\u001b[1m689/689\u001b[0m \u001b[32m━━━━━━━━━━━━━━━━━━━━\u001b[0m\u001b[37m\u001b[0m \u001b[1m0s\u001b[0m 70ms/step - auc: 0.9414 - binary_accuracy: 0.8989 - false_negatives: 303.4151 - false_positives: 840.8229 - loss: 0.3283 - precision: 0.8647 - recall: 0.9474 - true_negatives: 4669.9683 - true_positives: 5225.7910"
     ]
    },
    {
     "name": "stderr",
     "output_type": "stream",
     "text": [
      "2025-01-25 21:40:28.543864: W tensorflow/core/framework/local_rendezvous.cc:404] Local rendezvous is aborting with status: OUT_OF_RANGE: End of sequence\n"
     ]
    },
    {
     "name": "stdout",
     "output_type": "stream",
     "text": [
      "\u001b[1m87/87\u001b[0m \u001b[32m━━━━━━━━━━━━━━━━━━━━\u001b[0m\u001b[37m\u001b[0m \u001b[1m1s\u001b[0m 9ms/step\n",
      "\u001b[1m689/689\u001b[0m \u001b[32m━━━━━━━━━━━━━━━━━━━━\u001b[0m\u001b[37m\u001b[0m \u001b[1m56s\u001b[0m 81ms/step - auc: 0.9414 - binary_accuracy: 0.8989 - false_negatives: 303.8449 - false_positives: 842.0421 - loss: 0.3283 - precision: 0.8647 - recall: 0.9474 - true_negatives: 4676.7349 - true_positives: 5233.3262 - val_auc: 0.9550 - val_binary_accuracy: 0.9274 - val_false_negatives: 67.0000 - val_false_positives: 133.0000 - val_loss: 0.4442 - val_precision: 0.9085 - val_recall: 0.9517 - val_true_negatives: 1234.0000 - val_true_positives: 1321.0000\n",
      "Epoch 3/5\n",
      "\u001b[1m689/689\u001b[0m \u001b[32m━━━━━━━━━━━━━━━━━━━━\u001b[0m\u001b[37m\u001b[0m \u001b[1m0s\u001b[0m 71ms/step - auc: 0.9446 - binary_accuracy: 0.9021 - false_negatives: 302.3614 - false_positives: 800.7315 - loss: 0.3234 - precision: 0.8707 - recall: 0.9460 - true_negatives: 4710.1333 - true_positives: 5226.7705"
     ]
    },
    {
     "name": "stderr",
     "output_type": "stream",
     "text": [
      "2025-01-25 21:41:25.144559: W tensorflow/core/framework/local_rendezvous.cc:404] Local rendezvous is aborting with status: OUT_OF_RANGE: End of sequence\n"
     ]
    },
    {
     "name": "stdout",
     "output_type": "stream",
     "text": [
      "\u001b[1m87/87\u001b[0m \u001b[32m━━━━━━━━━━━━━━━━━━━━\u001b[0m\u001b[37m\u001b[0m \u001b[1m1s\u001b[0m 8ms/step\n",
      "\u001b[1m689/689\u001b[0m \u001b[32m━━━━━━━━━━━━━━━━━━━━\u001b[0m\u001b[37m\u001b[0m \u001b[1m57s\u001b[0m 83ms/step - auc: 0.9446 - binary_accuracy: 0.9021 - false_negatives: 302.8044 - false_positives: 801.9521 - loss: 0.3234 - precision: 0.8706 - recall: 0.9460 - true_negatives: 4716.8984 - true_positives: 5234.2930 - val_auc: 0.9223 - val_binary_accuracy: 0.8962 - val_false_negatives: 58.0000 - val_false_positives: 228.0000 - val_loss: 0.4632 - val_precision: 0.8544 - val_recall: 0.9585 - val_true_negatives: 1131.0000 - val_true_positives: 1338.0000\n",
      "Epoch 4/5\n",
      "\u001b[1m689/689\u001b[0m \u001b[32m━━━━━━━━━━━━━━━━━━━━\u001b[0m\u001b[37m\u001b[0m \u001b[1m0s\u001b[0m 69ms/step - auc: 0.9425 - binary_accuracy: 0.8983 - false_negatives: 310.4978 - false_positives: 855.4557 - loss: 0.3286 - precision: 0.8643 - recall: 0.9465 - true_negatives: 4655.3105 - true_positives: 5218.7329"
     ]
    },
    {
     "name": "stderr",
     "output_type": "stream",
     "text": [
      "2025-01-25 21:42:19.940485: W tensorflow/core/framework/local_rendezvous.cc:404] Local rendezvous is aborting with status: OUT_OF_RANGE: End of sequence\n"
     ]
    },
    {
     "name": "stdout",
     "output_type": "stream",
     "text": [
      "\u001b[1m87/87\u001b[0m \u001b[32m━━━━━━━━━━━━━━━━━━━━\u001b[0m\u001b[37m\u001b[0m \u001b[1m1s\u001b[0m 8ms/step\n",
      "\u001b[1m689/689\u001b[0m \u001b[32m━━━━━━━━━━━━━━━━━━━━\u001b[0m\u001b[37m\u001b[0m \u001b[1m55s\u001b[0m 79ms/step - auc: 0.9425 - binary_accuracy: 0.8983 - false_negatives: 310.9391 - false_positives: 856.7304 - loss: 0.3287 - precision: 0.8643 - recall: 0.9465 - true_negatives: 4662.0220 - true_positives: 5226.2563 - val_auc: 0.9522 - val_binary_accuracy: 0.9107 - val_false_negatives: 69.0000 - val_false_positives: 177.0000 - val_loss: 0.4834 - val_precision: 0.8820 - val_recall: 0.9504 - val_true_negatives: 1186.0000 - val_true_positives: 1323.0000\n",
      "Epoch 5/5\n",
      "\u001b[1m689/689\u001b[0m \u001b[32m━━━━━━━━━━━━━━━━━━━━\u001b[0m\u001b[37m\u001b[0m \u001b[1m0s\u001b[0m 62ms/step - auc: 0.9407 - binary_accuracy: 0.8947 - false_negatives: 307.4035 - false_positives: 877.0435 - loss: 0.3457 - precision: 0.8599 - recall: 0.9448 - true_negatives: 4633.6880 - true_positives: 5221.8623"
     ]
    },
    {
     "name": "stderr",
     "output_type": "stream",
     "text": [
      "2025-01-25 21:43:10.100328: W tensorflow/core/framework/local_rendezvous.cc:404] Local rendezvous is aborting with status: OUT_OF_RANGE: End of sequence\n"
     ]
    },
    {
     "name": "stdout",
     "output_type": "stream",
     "text": [
      "\u001b[1m87/87\u001b[0m \u001b[32m━━━━━━━━━━━━━━━━━━━━\u001b[0m\u001b[37m\u001b[0m \u001b[1m1s\u001b[0m 8ms/step\n",
      "\u001b[1m689/689\u001b[0m \u001b[32m━━━━━━━━━━━━━━━━━━━━\u001b[0m\u001b[37m\u001b[0m \u001b[1m50s\u001b[0m 72ms/step - auc: 0.9407 - binary_accuracy: 0.8947 - false_negatives: 307.8478 - false_positives: 878.3435 - loss: 0.3457 - precision: 0.8599 - recall: 0.9448 - true_negatives: 4640.3740 - true_positives: 5229.3828 - val_auc: 0.9499 - val_binary_accuracy: 0.9034 - val_false_negatives: 56.0000 - val_false_positives: 210.0000 - val_loss: 0.4271 - val_precision: 0.8639 - val_recall: 0.9597 - val_true_negatives: 1156.0000 - val_true_positives: 1333.0000\n"
     ]
    },
    {
     "data": {
      "text/plain": [
       "<keras.src.callbacks.history.History at 0x35ed1ba10>"
      ]
     },
     "execution_count": 7,
     "metadata": {},
     "output_type": "execute_result"
    },
    {
     "data": {
      "image/png": "[encoded data removed]",
      "text/plain": [
       "<Figure size 400x400 with 2 Axes>"
      ]
     },
     "metadata": {},
     "output_type": "display_data"
    },
    {
     "data": {
      "image/png": "[encoded data removed]",
      "text/plain": [
       "<Figure size 400x400 with 2 Axes>"
      ]
     },
     "metadata": {},
     "output_type": "display_data"
    },
    {
     "data": {
      "image/png": "[encoded data removed]",
      "text/plain": [
       "<Figure size 400x400 with 2 Axes>"
      ]
     },
     "metadata": {},
     "output_type": "display_data"
    },
    {
     "data": {
      "image/png": "[encoded data removed]",
      "text/plain": [
       "<Figure size 400x400 with 2 Axes>"
      ]
     },
     "metadata": {},
     "output_type": "display_data"
    },
    {
     "data": {
      "image/png": "[encoded data removed]",
      "text/plain": [
       "<Figure size 400x400 with 2 Axes>"
      ]
     },
     "metadata": {},
     "output_type": "display_data"
    }
   ],
   "source": [
    "Utils.model.fit(Utils.trainDataset, validation_data=Utils.valDataset, epochs=5, verbose=1, callbacks=[LogImageCallback(), tensorboardCallback])"
   ]
  },
  {
   "cell_type": "code",
   "execution_count": 8,
   "metadata": {},
   "outputs": [
    {
     "data": {
      "text/plain": [
       "Reusing TensorBoard on port 6007 (pid 38203), started 1:46:23 ago. (Use '!kill 38203' to kill it.)"
      ]
     },
     "metadata": {},
     "output_type": "display_data"
    },
    {
     "data": {
      "text/html": [
       "\n",
       "      <iframe id=\"tensorboard-frame-dfe4fc0ed76d1a63\" width=\"100%\" height=\"800\" frameborder=\"0\">\n",
       "      </iframe>\n",
       "      <script>\n",
       "        (function() {\n",
       "          const frame = document.getElementById(\"tensorboard-frame-dfe4fc0ed76d1a63\");\n",
       "          const url = new URL(\"http://localhost\");\n",
       "          const port = 6007;\n",
       "          if (port) {\n",
       "            url.port = port;\n",
       "          }\n",
       "          frame.src = url;\n",
       "        })();\n",
       "      </script>\n",
       "    "
      ],
      "text/plain": [
       "<IPython.core.display.HTML object>"
      ]
     },
     "metadata": {},
     "output_type": "display_data"
    }
   ],
   "source": [
    "notebook.start(\"--logdir logs\")"
   ]
  },
  {
   "cell_type": "markdown",
   "metadata": {},
   "source": [
    "## Viewing Model's Graphs"
   ]
  },
  {
   "cell_type": "code",
   "execution_count": 9,
   "metadata": {},
   "outputs": [],
   "source": [
    "!rm -rf ./logs/"
   ]
  },
  {
   "cell_type": "code",
   "execution_count": 10,
   "metadata": {},
   "outputs": [],
   "source": [
    "# Tensorboard Callback\n",
    "CURRENT_TIME = datetime.datetime.now().strftime('%d%m%y - %h%m%s')\n",
    "LOG_DIR = \"./logs/\" + CURRENT_TIME\n",
    "METRICS_DIR = LOG_DIR + \"/metrics\"\n",
    "tensorboardCallback = tf.keras.callbacks.TensorBoard(log_dir=LOG_DIR)\n",
    "\n",
    "# Writer to log Extra Things\n",
    "trainWriter = tf.summary.create_file_writer(METRICS_DIR)"
   ]
  },
  {
   "cell_type": "code",
   "execution_count": 11,
   "metadata": {},
   "outputs": [
    {
     "name": "stdout",
     "output_type": "stream",
     "text": [
      "Epoch 1/5\n",
      "\u001b[1m689/689\u001b[0m \u001b[32m━━━━━━━━━━━━━━━━━━━━\u001b[0m\u001b[37m\u001b[0m \u001b[1m50s\u001b[0m 73ms/step - auc: 0.9359 - binary_accuracy: 0.8926 - false_negatives: 323.0217 - false_positives: 886.0145 - loss: 0.3621 - precision: 0.8576 - recall: 0.9432 - true_negatives: 4632.8418 - true_positives: 5214.0693 - val_auc: 0.9474 - val_binary_accuracy: 0.9042 - val_false_negatives: 62.0000 - val_false_positives: 202.0000 - val_loss: 0.4137 - val_precision: 0.8681 - val_recall: 0.9555 - val_true_negatives: 1161.0000 - val_true_positives: 1330.0000\n",
      "Epoch 2/5\n",
      "\u001b[1m689/689\u001b[0m \u001b[32m━━━━━━━━━━━━━━━━━━━━\u001b[0m\u001b[37m\u001b[0m \u001b[1m50s\u001b[0m 73ms/step - auc: 0.9399 - binary_accuracy: 0.8947 - false_negatives: 333.2551 - false_positives: 863.2696 - loss: 0.3614 - precision: 0.8627 - recall: 0.9406 - true_negatives: 4655.5000 - true_positives: 5203.9233 - val_auc: 0.9548 - val_binary_accuracy: 0.8907 - val_false_negatives: 50.0000 - val_false_positives: 251.0000 - val_loss: 0.3784 - val_precision: 0.8429 - val_recall: 0.9642 - val_true_negatives: 1107.0000 - val_true_positives: 1347.0000\n",
      "Epoch 3/5\n",
      "\u001b[1m689/689\u001b[0m \u001b[32m━━━━━━━━━━━━━━━━━━━━\u001b[0m\u001b[37m\u001b[0m \u001b[1m51s\u001b[0m 74ms/step - auc: 0.9394 - binary_accuracy: 0.8948 - false_negatives: 328.6116 - false_positives: 867.1638 - loss: 0.3616 - precision: 0.8617 - recall: 0.9424 - true_negatives: 4651.6157 - true_positives: 5208.5566 - val_auc: 0.9551 - val_binary_accuracy: 0.9220 - val_false_negatives: 78.0000 - val_false_positives: 137.0000 - val_loss: 0.4031 - val_precision: 0.9056 - val_recall: 0.9440 - val_true_negatives: 1225.0000 - val_true_positives: 1315.0000\n",
      "Epoch 4/5\n",
      "\u001b[1m689/689\u001b[0m \u001b[32m━━━━━━━━━━━━━━━━━━━━\u001b[0m\u001b[37m\u001b[0m \u001b[1m49s\u001b[0m 72ms/step - auc: 0.9420 - binary_accuracy: 0.8946 - false_negatives: 330.6058 - false_positives: 863.6681 - loss: 0.3601 - precision: 0.8613 - recall: 0.9424 - true_negatives: 4655.1768 - true_positives: 5206.4971 - val_auc: 0.9523 - val_binary_accuracy: 0.9053 - val_false_negatives: 199.0000 - val_false_positives: 62.0000 - val_loss: 0.4645 - val_precision: 0.9504 - val_recall: 0.8565 - val_true_negatives: 1306.0000 - val_true_positives: 1188.0000\n",
      "Epoch 5/5\n",
      "\u001b[1m689/689\u001b[0m \u001b[32m━━━━━━━━━━━━━━━━━━━━\u001b[0m\u001b[37m\u001b[0m \u001b[1m52s\u001b[0m 76ms/step - auc: 0.9399 - binary_accuracy: 0.8952 - false_negatives: 341.7275 - false_positives: 840.2594 - loss: 0.3658 - precision: 0.8639 - recall: 0.9398 - true_negatives: 4678.4551 - true_positives: 5195.5059 - val_auc: 0.9566 - val_binary_accuracy: 0.9031 - val_false_negatives: 55.0000 - val_false_positives: 212.0000 - val_loss: 0.3905 - val_precision: 0.8630 - val_recall: 0.9604 - val_true_negatives: 1153.0000 - val_true_positives: 1335.0000\n"
     ]
    },
    {
     "data": {
      "text/plain": [
       "<keras.src.callbacks.history.History at 0x37e26fe50>"
      ]
     },
     "execution_count": 11,
     "metadata": {},
     "output_type": "execute_result"
    }
   ],
   "source": [
    "Utils.model.fit(Utils.trainDataset, validation_data=Utils.valDataset, epochs=5, verbose=1, callbacks=[tensorboardCallback])"
   ]
  },
  {
   "cell_type": "code",
   "execution_count": 12,
   "metadata": {},
   "outputs": [
    {
     "data": {
      "text/plain": [
       "Reusing TensorBoard on port 6007 (pid 38203), started 1:54:33 ago. (Use '!kill 38203' to kill it.)"
      ]
     },
     "metadata": {},
     "output_type": "display_data"
    },
    {
     "data": {
      "text/html": [
       "\n",
       "      <iframe id=\"tensorboard-frame-6763b001379d369f\" width=\"100%\" height=\"800\" frameborder=\"0\">\n",
       "      </iframe>\n",
       "      <script>\n",
       "        (function() {\n",
       "          const frame = document.getElementById(\"tensorboard-frame-6763b001379d369f\");\n",
       "          const url = new URL(\"http://localhost\");\n",
       "          const port = 6007;\n",
       "          if (port) {\n",
       "            url.port = port;\n",
       "          }\n",
       "          frame.src = url;\n",
       "        })();\n",
       "      </script>\n",
       "    "
      ],
      "text/plain": [
       "<IPython.core.display.HTML object>"
      ]
     },
     "metadata": {},
     "output_type": "display_data"
    }
   ],
   "source": [
    "notebook.start(\"--logdir logs\")"
   ]
  }
 ],
 "metadata": {
  "kernelspec": {
   "display_name": "ComputerVision",
   "language": "python",
   "name": "python3"
  },
  "language_info": {
   "codemirror_mode": {
    "name": "ipython",
    "version": 3
   },
   "file_extension": ".py",
   "mimetype": "text/x-python",
   "name": "python",
   "nbconvert_exporter": "python",
   "pygments_lexer": "ipython3",
   "version": "3.11.11"
  }
 },
 "nbformat": 4,
 "nbformat_minor": 2
}
